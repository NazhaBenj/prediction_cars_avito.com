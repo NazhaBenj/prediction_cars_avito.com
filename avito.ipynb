{
 "cells": [
  {
   "cell_type": "markdown",
   "id": "e75cfed6",
   "metadata": {},
   "source": [
    "## Import libraries"
   ]
  },
  {
   "cell_type": "code",
   "execution_count": 3,
   "id": "2736fdc4",
   "metadata": {
    "slideshow": {
     "slide_type": "subslide"
    }
   },
   "outputs": [],
   "source": [
    "from selenium import webdriver\n",
    "from selenium.webdriver.chrome.service import Service\n",
    "from selenium.webdriver.common.by import By\n",
    "from webdriver_manager.chrome import ChromeDriverManager\n",
    "import time\n",
    "from selenium.common.exceptions import NoSuchElementException\n"
   ]
  },
  {
   "cell_type": "markdown",
   "id": "93e20e6b",
   "metadata": {},
   "source": [
    "### Define a Edge Webdriver"
   ]
  },
  {
   "cell_type": "code",
   "execution_count": 17,
   "id": "a10b1586",
   "metadata": {},
   "outputs": [
    {
     "name": "stdout",
     "output_type": "stream",
     "text": [
      "Requirement already satisfied: webdriver-manager in c:\\users\\admin\\anaconda3\\lib\\site-packages (4.0.2)\n",
      "Requirement already satisfied: requests in c:\\users\\admin\\anaconda3\\lib\\site-packages (from webdriver-manager) (2.31.0)\n",
      "Requirement already satisfied: python-dotenv in c:\\users\\admin\\anaconda3\\lib\\site-packages (from webdriver-manager) (1.1.0)\n",
      "Requirement already satisfied: packaging in c:\\users\\admin\\anaconda3\\lib\\site-packages (from webdriver-manager) (23.0)\n",
      "Requirement already satisfied: charset-normalizer<4,>=2 in c:\\users\\admin\\anaconda3\\lib\\site-packages (from requests->webdriver-manager) (2.0.4)\n",
      "Requirement already satisfied: idna<4,>=2.5 in c:\\users\\admin\\anaconda3\\lib\\site-packages (from requests->webdriver-manager) (3.4)\n",
      "Requirement already satisfied: urllib3<3,>=1.21.1 in c:\\users\\admin\\anaconda3\\lib\\site-packages (from requests->webdriver-manager) (1.26.16)\n",
      "Requirement already satisfied: certifi>=2017.4.17 in c:\\users\\admin\\anaconda3\\lib\\site-packages (from requests->webdriver-manager) (2023.7.22)\n",
      "Note: you may need to restart the kernel to use updated packages.\n"
     ]
    }
   ],
   "source": [
    "pip install webdriver-manager"
   ]
  },
  {
   "cell_type": "code",
   "execution_count": 150,
   "id": "799a7743",
   "metadata": {},
   "outputs": [],
   "source": [
    "from selenium import webdriver\n",
    "from selenium.webdriver.chrome.service import Service\n",
    "from webdriver_manager.chrome import ChromeDriverManager\n",
    "\n",
    "driver = webdriver.Chrome(service=Service(ChromeDriverManager().install()))"
   ]
  },
  {
   "cell_type": "markdown",
   "id": "fb3d167c",
   "metadata": {},
   "source": [
    "### Opening url page"
   ]
  },
  {
   "cell_type": "code",
   "execution_count": 151,
   "id": "0d55c4be",
   "metadata": {},
   "outputs": [],
   "source": [
    "driver.get(\"https://www.avito.ma\")"
   ]
  },
  {
   "cell_type": "code",
   "execution_count": 6,
   "id": "bf5fff76",
   "metadata": {},
   "outputs": [],
   "source": [
    "all_hrefs = []\n",
    "\n",
    "for i in range(1, 50): # Boucle de page 1 à 50 \n",
    "    current_url = 'https://www.avito.ma/fr/maroc/voitures-%C3%A0_vendre?o={}'.format(i) \n",
    "    driver.get(current_url)\n",
    "    time.sleep(2) \n",
    "\n",
    "    links = driver.find_elements(By.XPATH, \"//div[@class='sc-1nre5ec-1 crKvIr listing']//a\") \n",
    "    hrefs = [link.get_attribute(\"href\") for link in links]\n",
    "    all_hrefs.extend(hrefs)"
   ]
  },
  {
   "cell_type": "markdown",
   "id": "e16d5ea2",
   "metadata": {},
   "source": [
    "### How much url i have"
   ]
  },
  {
   "cell_type": "code",
   "execution_count": 28,
   "id": "640454ef",
   "metadata": {},
   "outputs": [
    {
     "data": {
      "text/plain": [
       "1715"
      ]
     },
     "execution_count": 28,
     "metadata": {},
     "output_type": "execute_result"
    }
   ],
   "source": [
    "len(all_hrefs)"
   ]
  },
  {
   "cell_type": "code",
   "execution_count": 22,
   "id": "e57a34b6",
   "metadata": {},
   "outputs": [
    {
     "data": {
      "text/plain": [
       "[\"https://www.avito.ma/fr/anfa/voitures_d'occasion/Kia_Sorento_Design_Plus_Diesel_Automatique_2021_55770041.htm\",\n",
       " \"https://www.avito.ma/fr/route_de_casablanca/voitures_d'occasion/Audi_Q8_S_Line_Plus_Exclusive_Diesel__51364379.htm\",\n",
       " \"https://www.avito.ma/fr/anfa/voitures_d'occasion/Jeep_Renegade_Longitude__56293205.htm\",\n",
       " \"https://www.avito.ma/fr/hay_riad/voitures_d'occasion/Mercedes_Benz_Classe_E_Diesel_Automatique_2020_56215956.htm\",\n",
       " \"https://www.avito.ma/fr/lissasfa/voitures_d'occasion/BMW_S%C3%A9rie_3_Diesel_Automatique_2022_%C3%A0_Casablanca_56288710.htm\",\n",
       " \"https://www.avito.ma/fr/wilaya/voitures_d'occasion/Audi_Q7_Diesel_Automatique_2016_%C3%A0_T%C3%A9touan_56253309.htm\",\n",
       " \"https://www.avito.ma/fr/anfa/voitures_d'occasion/MERCEDES_GLE_COUP%C3%89_400CDI_56048201.htm\",\n",
       " \"https://www.avito.ma/fr/fes_jdid/voitures_d'occasion/Peugeot_3008_2_0_Allure_56105067.htm\",\n",
       " \"https://www.avito.ma/fr/haut_agdal/voitures_d'occasion/Golf_8_Gtd_emporte_neuf__55991437.htm\",\n",
       " \"https://www.avito.ma/fr/quartier_de_l'oc%C3%A9an/voitures_d'occasion/toyota_cross_56316426.htm\"]"
      ]
     },
     "execution_count": 22,
     "metadata": {},
     "output_type": "execute_result"
    }
   ],
   "source": [
    "all_hrefs[:10]"
   ]
  },
  {
   "cell_type": "markdown",
   "id": "f3c065af",
   "metadata": {},
   "source": [
    "## 1- Retrieving the infos of the offers"
   ]
  },
  {
   "cell_type": "code",
   "execution_count": 8,
   "id": "5c3c7fcf",
   "metadata": {},
   "outputs": [],
   "source": [
    "L = []\n",
    "\n",
    "for i in range(1, 100):\n",
    "    link = all_hrefs[i]\n",
    "    driver.get(link)\n",
    "    Type = driver.find_elements(By.XPATH, '//*[@id=\"__next\"]/div/main/div/div[3]/div[1]/div[2]/div[1]/div[1]/div[2]/div[5]')\n",
    "    \n",
    "    for element in Type:\n",
    "        data = element.text.split('\\n')\n",
    "        structured = []\n",
    "        for i in range(0, len(data)-1, 2):\n",
    "            value = data[i]\n",
    "            key = data[i+1]\n",
    "            structured.append([key, value])\n",
    "        L.append(structured)"
   ]
  },
  {
   "cell_type": "code",
   "execution_count": 9,
   "id": "e25713ae",
   "metadata": {},
   "outputs": [
    {
     "data": {
      "text/plain": [
       "99"
      ]
     },
     "execution_count": 9,
     "metadata": {},
     "output_type": "execute_result"
    }
   ],
   "source": [
    "len(L)"
   ]
  },
  {
   "cell_type": "code",
   "execution_count": 10,
   "id": "794a61c4",
   "metadata": {},
   "outputs": [],
   "source": [
    "for i in range(101, 300):\n",
    "    link = all_hrefs[i]\n",
    "    driver.get(link)\n",
    "    Type = driver.find_elements(By.XPATH, '//*[@id=\"__next\"]/div/main/div/div[3]/div[1]/div[2]/div[1]/div[1]/div[2]/div[5]')\n",
    "    \n",
    "    for element in Type:\n",
    "        data = element.text.split('\\n')\n",
    "        structured = []\n",
    "        for i in range(0, len(data)-1, 2):\n",
    "            value = data[i]\n",
    "            key = data[i+1]\n",
    "            structured.append([key, value])\n",
    "        L.append(structured)"
   ]
  },
  {
   "cell_type": "code",
   "execution_count": 11,
   "id": "5f0855a5",
   "metadata": {},
   "outputs": [
    {
     "data": {
      "text/plain": [
       "298"
      ]
     },
     "execution_count": 11,
     "metadata": {},
     "output_type": "execute_result"
    }
   ],
   "source": [
    "len(L)"
   ]
  },
  {
   "cell_type": "code",
   "execution_count": 12,
   "id": "942e78a0",
   "metadata": {},
   "outputs": [],
   "source": [
    "for i in range(301, 500):\n",
    "    link = all_hrefs[i]\n",
    "    driver.get(link)\n",
    "    Type = driver.find_elements(By.XPATH, '//*[@id=\"__next\"]/div/main/div/div[3]/div[1]/div[2]/div[1]/div[1]/div[2]/div[5]')\n",
    "    \n",
    "    for element in Type:\n",
    "        data = element.text.split('\\n')\n",
    "        structured = []\n",
    "        for i in range(0, len(data)-1, 2):\n",
    "            value = data[i]\n",
    "            key = data[i+1]\n",
    "            structured.append([key, value])\n",
    "        L.append(structured)"
   ]
  },
  {
   "cell_type": "code",
   "execution_count": 13,
   "id": "fb4e207c",
   "metadata": {},
   "outputs": [
    {
     "data": {
      "text/plain": [
       "495"
      ]
     },
     "execution_count": 13,
     "metadata": {},
     "output_type": "execute_result"
    }
   ],
   "source": [
    "len(L)"
   ]
  },
  {
   "cell_type": "code",
   "execution_count": 14,
   "id": "a06eca5d",
   "metadata": {},
   "outputs": [],
   "source": [
    "for i in range(501, 1000):\n",
    "    link = all_hrefs[i]\n",
    "    driver.get(link)\n",
    "    Type = driver.find_elements(By.XPATH, '//*[@id=\"__next\"]/div/main/div/div[3]/div[1]/div[2]/div[1]/div[1]/div[2]/div[5]')\n",
    "    \n",
    "    for element in Type:\n",
    "        data = element.text.split('\\n')\n",
    "        structured = []\n",
    "        for i in range(0, len(data)-1, 2):\n",
    "            value = data[i]\n",
    "            key = data[i+1]\n",
    "            structured.append([key, value])\n",
    "        L.append(structured)"
   ]
  },
  {
   "cell_type": "code",
   "execution_count": 16,
   "id": "85897a96",
   "metadata": {},
   "outputs": [],
   "source": [
    "for i in range(1000, 1200):\n",
    "    link = all_hrefs[i]\n",
    "    driver.get(link)\n",
    "    Type = driver.find_elements(By.XPATH, '//*[@id=\"__next\"]/div/main/div/div[3]/div[1]/div[2]/div[1]/div[1]/div[2]/div[5]')\n",
    "    \n",
    "    for element in Type:\n",
    "        data = element.text.split('\\n')\n",
    "        structured = []\n",
    "        for i in range(0, len(data)-1, 2):\n",
    "            value = data[i]\n",
    "            key = data[i+1]\n",
    "            structured.append([key, value])\n",
    "        L.append(structured)"
   ]
  },
  {
   "cell_type": "code",
   "execution_count": 19,
   "id": "e6be1fbf",
   "metadata": {},
   "outputs": [
    {
     "data": {
      "text/plain": [
       "1287"
      ]
     },
     "execution_count": 19,
     "metadata": {},
     "output_type": "execute_result"
    }
   ],
   "source": [
    "len(L)"
   ]
  },
  {
   "cell_type": "code",
   "execution_count": 111,
   "id": "0d027b7a",
   "metadata": {},
   "outputs": [
    {
     "data": {
      "text/plain": [
       "[['Année-Modèle', '2022'],\n",
       " ['Boite de vitesses', 'Manuelle'],\n",
       " ['Type de carburant', 'Diesel'],\n",
       " ['Kilométrage', '60 000 - 64 999'],\n",
       " ['Marque', 'Dacia'],\n",
       " ['Modèle', 'Duster'],\n",
       " ['Nombre de portes', '5'],\n",
       " ['Origine', 'WW au Maroc'],\n",
       " ['Première main', 'Oui'],\n",
       " ['Puissance fiscale', '6 CV'],\n",
       " ['État', 'Neuf']]"
      ]
     },
     "execution_count": 111,
     "metadata": {},
     "output_type": "execute_result"
    }
   ],
   "source": [
    "L[10]"
   ]
  },
  {
   "cell_type": "code",
   "execution_count": 168,
   "id": "79cf31cb",
   "metadata": {},
   "outputs": [],
   "source": [
    "# Initialisation des listes qui vont contenir le type, le modèle, la marque,l'intervalle de kilométrage, l'etat, l'année du modèle\n",
    "# est ce qu'elle est première main pi non?, nombre des portes, l'origine .\n",
    "Type=[None for i in range(len(L))]\n",
    "Model=[None for i in range(len(L))]\n",
    "Marque=[None for i in range(len(L))]\n",
    "Kilometrage=[None for i in range(len(L))]\n",
    "Etat=[None for i in range(len(L))]\n",
    "Annee_Modele=[None for i in range(len(L))]\n",
    "Premiere_main=[None for i in range(len(L))]\n",
    "Nombre_de_portes=[None for i in range(len(L))]\n",
    "Origine=[None for i in range(len(L))]\n",
    "Type_de_Carburant=[None for i in range(len(L))]\n",
    "boite_de_vitesse= [None for i in range(len(L))]"
   ]
  },
  {
   "cell_type": "code",
   "execution_count": 169,
   "id": "188d34af",
   "metadata": {},
   "outputs": [],
   "source": [
    "# Liste des Marque\n",
    "for i in range(len(L)):\n",
    "    for e in L[i]:\n",
    "        if e[0]==\"Marque\":\n",
    "            Marque[i]=e[1]\n",
    "        else:\n",
    "            continue"
   ]
  },
  {
   "cell_type": "code",
   "execution_count": 170,
   "id": "ee4b228b",
   "metadata": {},
   "outputs": [
    {
     "data": {
      "text/plain": [
       "1243"
      ]
     },
     "execution_count": 170,
     "metadata": {},
     "output_type": "execute_result"
    }
   ],
   "source": [
    "len(Marque)"
   ]
  },
  {
   "cell_type": "code",
   "execution_count": 171,
   "id": "11d5f13d",
   "metadata": {},
   "outputs": [
    {
     "data": {
      "text/plain": [
       "['Ford',\n",
       " 'Mercedes-Benz',\n",
       " 'Kia',\n",
       " 'Citroen',\n",
       " 'Fiat',\n",
       " 'Audi',\n",
       " 'Maserati',\n",
       " 'Renault',\n",
       " 'Kia',\n",
       " 'Renault']"
      ]
     },
     "execution_count": 171,
     "metadata": {},
     "output_type": "execute_result"
    }
   ],
   "source": [
    "Marque[:10]"
   ]
  },
  {
   "cell_type": "code",
   "execution_count": 172,
   "id": "fb34b3bb",
   "metadata": {},
   "outputs": [],
   "source": [
    "#Liste des Modéle\n",
    "for i in range(len(L)):\n",
    "    for e in L[i]:\n",
    "        if e[0]==\"Modèle\":\n",
    "            Model[i]=e[1]\n",
    "        else:\n",
    "            continue\n",
    "        "
   ]
  },
  {
   "cell_type": "code",
   "execution_count": 173,
   "id": "53c4c45d",
   "metadata": {},
   "outputs": [
    {
     "data": {
      "text/plain": [
       "1243"
      ]
     },
     "execution_count": 173,
     "metadata": {},
     "output_type": "execute_result"
    }
   ],
   "source": [
    "len(Model)"
   ]
  },
  {
   "cell_type": "code",
   "execution_count": 174,
   "id": "8af6862f",
   "metadata": {},
   "outputs": [
    {
     "data": {
      "text/plain": [
       "['Kuga',\n",
       " 'Classe GLC',\n",
       " 'Picanto',\n",
       " '2 CV',\n",
       " 'Fiorino',\n",
       " 'A3',\n",
       " 'Levante',\n",
       " 'Megane',\n",
       " 'Niro',\n",
       " 'Arkana']"
      ]
     },
     "execution_count": 174,
     "metadata": {},
     "output_type": "execute_result"
    }
   ],
   "source": [
    "Model[:10]"
   ]
  },
  {
   "cell_type": "code",
   "execution_count": 175,
   "id": "2a622cb0",
   "metadata": {},
   "outputs": [],
   "source": [
    "#liste des années \n",
    "for i in range(len(L)):\n",
    "    for e in L[i]:\n",
    "        if e[0]==\"Année-Modèle\":\n",
    "            Annee_Modele[i]=e[1]\n",
    "        else:\n",
    "            continue"
   ]
  },
  {
   "cell_type": "code",
   "execution_count": 176,
   "id": "a561e488",
   "metadata": {},
   "outputs": [
    {
     "data": {
      "text/plain": [
       "1243"
      ]
     },
     "execution_count": 176,
     "metadata": {},
     "output_type": "execute_result"
    }
   ],
   "source": [
    "len(Annee_Modele)"
   ]
  },
  {
   "cell_type": "code",
   "execution_count": 177,
   "id": "7941e120",
   "metadata": {},
   "outputs": [
    {
     "data": {
      "text/plain": [
       "['2022',\n",
       " '2025',\n",
       " '2024',\n",
       " '1980 ou plus ancien',\n",
       " '2024',\n",
       " '2024',\n",
       " '2018',\n",
       " '2019',\n",
       " '2022',\n",
       " '2023']"
      ]
     },
     "execution_count": 177,
     "metadata": {},
     "output_type": "execute_result"
    }
   ],
   "source": [
    "Annee_Modele[:10]"
   ]
  },
  {
   "cell_type": "code",
   "execution_count": 178,
   "id": "1c285f02",
   "metadata": {},
   "outputs": [],
   "source": [
    "for i in range(len(L)):\n",
    "    for e in L[i]:\n",
    "        if e[0]==\"Kilométrage\":\n",
    "            Kilometrage[i]=e[1]\n",
    "        else:\n",
    "            continue"
   ]
  },
  {
   "cell_type": "code",
   "execution_count": 179,
   "id": "a954c603",
   "metadata": {},
   "outputs": [
    {
     "name": "stdout",
     "output_type": "stream",
     "text": [
      "1243\n"
     ]
    }
   ],
   "source": [
    "print(len(Kilometrage))"
   ]
  },
  {
   "cell_type": "code",
   "execution_count": 180,
   "id": "0cdb3a64",
   "metadata": {},
   "outputs": [
    {
     "data": {
      "text/plain": [
       "['35 000 - 39 999',\n",
       " '5 000 - 9 999',\n",
       " '25 000 - 29 999',\n",
       " '90 000 - 94 999',\n",
       " '10 000 - 14 999',\n",
       " '0 - 4 999',\n",
       " '120 000 - 129 999',\n",
       " '110 000 - 119 999',\n",
       " '80 000 - 84 999',\n",
       " '0 - 4 999']"
      ]
     },
     "execution_count": 180,
     "metadata": {},
     "output_type": "execute_result"
    }
   ],
   "source": [
    "Kilometrage[:10]"
   ]
  },
  {
   "cell_type": "code",
   "execution_count": 181,
   "id": "042baf2b",
   "metadata": {},
   "outputs": [],
   "source": [
    "for i in range(len(L)):\n",
    "    for e in L[i]:\n",
    "        if e[0]==\"État\":\n",
    "            Etat[i]=e[1]\n",
    "        else:\n",
    "            continue"
   ]
  },
  {
   "cell_type": "code",
   "execution_count": 182,
   "id": "d771d16a",
   "metadata": {},
   "outputs": [
    {
     "data": {
      "text/plain": [
       "1243"
      ]
     },
     "execution_count": 182,
     "metadata": {},
     "output_type": "execute_result"
    }
   ],
   "source": [
    "len(Etat)\n"
   ]
  },
  {
   "cell_type": "code",
   "execution_count": 183,
   "id": "a1510057",
   "metadata": {},
   "outputs": [],
   "source": [
    "for i in range(len(L)):\n",
    "    for e in L[i]:\n",
    "        if e[0]==\"Nombre de portes\":\n",
    "            Nombre_de_portes[i]=e[1]\n",
    "        else:\n",
    "            continue"
   ]
  },
  {
   "cell_type": "code",
   "execution_count": 184,
   "id": "41668b10",
   "metadata": {},
   "outputs": [
    {
     "data": {
      "text/plain": [
       "1243"
      ]
     },
     "execution_count": 184,
     "metadata": {},
     "output_type": "execute_result"
    }
   ],
   "source": [
    "len(Nombre_de_portes)"
   ]
  },
  {
   "cell_type": "code",
   "execution_count": 185,
   "id": "3fdddf5f",
   "metadata": {},
   "outputs": [],
   "source": [
    "for i in range(len(L)):\n",
    "    for e in L[i]:\n",
    "        if e[0]==\"Première main\":\n",
    "            Premiere_main[i]=e[1]\n",
    "        else:\n",
    "            continue"
   ]
  },
  {
   "cell_type": "code",
   "execution_count": 186,
   "id": "8c3a1a38",
   "metadata": {},
   "outputs": [
    {
     "data": {
      "text/plain": [
       "1243"
      ]
     },
     "execution_count": 186,
     "metadata": {},
     "output_type": "execute_result"
    }
   ],
   "source": [
    "len(Premiere_main)"
   ]
  },
  {
   "cell_type": "code",
   "execution_count": 187,
   "id": "aae1ae49",
   "metadata": {},
   "outputs": [],
   "source": [
    "for i in range(len(L)):\n",
    "    for e in L[i]:\n",
    "        if e[0]==\"Type de carburant\":\n",
    "            Type_de_Carburant[i]=e[1]\n",
    "        else:\n",
    "            continue"
   ]
  },
  {
   "cell_type": "code",
   "execution_count": 188,
   "id": "1272eaf0",
   "metadata": {},
   "outputs": [
    {
     "data": {
      "text/plain": [
       "1243"
      ]
     },
     "execution_count": 188,
     "metadata": {},
     "output_type": "execute_result"
    }
   ],
   "source": [
    "len(Type_de_Carburant)"
   ]
  },
  {
   "cell_type": "code",
   "execution_count": 189,
   "id": "7871cfe6",
   "metadata": {},
   "outputs": [],
   "source": [
    "for i in range(len(L)):\n",
    "    for e in L[i]:\n",
    "        if e[0]==\"Origine\":\n",
    "            Origine[i]=e[1]\n",
    "        else:\n",
    "            continue"
   ]
  },
  {
   "cell_type": "code",
   "execution_count": 190,
   "id": "09e76ebe",
   "metadata": {},
   "outputs": [
    {
     "data": {
      "text/plain": [
       "1243"
      ]
     },
     "execution_count": 190,
     "metadata": {},
     "output_type": "execute_result"
    }
   ],
   "source": [
    "len(Origine)"
   ]
  },
  {
   "cell_type": "code",
   "execution_count": 191,
   "id": "32a286d7",
   "metadata": {},
   "outputs": [],
   "source": [
    "for i in range(len(L)):\n",
    "    for e in L[i]:\n",
    "        if e[0]==\"Boite de vitesses\":\n",
    "            boite_de_vitesse[i]=e[1]\n",
    "        else:\n",
    "            continue"
   ]
  },
  {
   "cell_type": "code",
   "execution_count": 192,
   "id": "11574276",
   "metadata": {},
   "outputs": [
    {
     "data": {
      "text/plain": [
       "1243"
      ]
     },
     "execution_count": 192,
     "metadata": {},
     "output_type": "execute_result"
    }
   ],
   "source": [
    "len(boite_de_vitesse)"
   ]
  },
  {
   "cell_type": "code",
   "execution_count": 152,
   "id": "6be8fd4e",
   "metadata": {},
   "outputs": [],
   "source": [
    "Prices=[]\n",
    "title=[]\n",
    "location=[]\n",
    "Type=[]"
   ]
  },
  {
   "cell_type": "code",
   "execution_count": 153,
   "id": "fdabf42a",
   "metadata": {},
   "outputs": [],
   "source": [
    "for i in range(1,700):\n",
    "    try:\n",
    "        link = all_hrefs[i]\n",
    "        driver.get(link)\n",
    "        Prices.append(driver.find_element(By.XPATH, '//*[@id=\"__next\"]/div/main/div/div[3]/div[1]/div[2]/div[1]/div[1]/div[2]/div[1]/div/div[2]/div/p').text)\n",
    "        title.append(driver.find_element(By.XPATH, '//*[@id=\"__next\"]/div/main/div/div[3]/div[1]/div[2]/div[1]/div[1]/div[2]/div[1]/div/div[1]/div/h1').text)\n",
    "        location.append(driver.find_element(By.XPATH, '//*[@id=\"__next\"]/div/main/div/div[3]/div[1]/div[2]/div[1]/div[1]/div[2]/div[1]/div/div[1]/div/div/span[1]').text)\n",
    "        Type.append(driver.find_element(By.XPATH, '//*[@id=\"__next\"]/div/main/div/div[3]/div[1]/div[2]/div[1]/div[1]/div[2]/div[4]/div[1]/span[2]').text)\n",
    "    except NoSuchElementException:\n",
    "        continue"
   ]
  },
  {
   "cell_type": "code",
   "execution_count": 155,
   "id": "8e42d3a4",
   "metadata": {},
   "outputs": [],
   "source": [
    "for i in range(701,1000):\n",
    "    try:\n",
    "        link = all_hrefs[i]\n",
    "        driver.get(link)\n",
    "        Prices.append(driver.find_element(By.XPATH, '//*[@id=\"__next\"]/div/main/div/div[3]/div[1]/div[2]/div[1]/div[1]/div[2]/div[1]/div/div[2]/div/p').text)\n",
    "        title.append(driver.find_element(By.XPATH, '//*[@id=\"__next\"]/div/main/div/div[3]/div[1]/div[2]/div[1]/div[1]/div[2]/div[1]/div/div[1]/div/h1').text)\n",
    "        location.append(driver.find_element(By.XPATH, '//*[@id=\"__next\"]/div/main/div/div[3]/div[1]/div[2]/div[1]/div[1]/div[2]/div[1]/div/div[1]/div/div/span[1]').text)\n",
    "        Type.append(driver.find_element(By.XPATH, '//*[@id=\"__next\"]/div/main/div/div[3]/div[1]/div[2]/div[1]/div[1]/div[2]/div[4]/div[1]/span[2]').text)\n",
    "    except NoSuchElementException:\n",
    "        continue"
   ]
  },
  {
   "cell_type": "code",
   "execution_count": 156,
   "id": "080c7381",
   "metadata": {},
   "outputs": [
    {
     "data": {
      "text/plain": [
       "975"
      ]
     },
     "execution_count": 156,
     "metadata": {},
     "output_type": "execute_result"
    }
   ],
   "source": [
    "len(Prices)"
   ]
  },
  {
   "cell_type": "code",
   "execution_count": 242,
   "id": "3edf9f40",
   "metadata": {},
   "outputs": [],
   "source": [
    "Prices = Prices[:800]"
   ]
  },
  {
   "cell_type": "code",
   "execution_count": 243,
   "id": "490345e7",
   "metadata": {},
   "outputs": [],
   "source": [
    "title = title[:800]"
   ]
  },
  {
   "cell_type": "code",
   "execution_count": 244,
   "id": "3ec7de47",
   "metadata": {},
   "outputs": [],
   "source": [
    "Type = Type[:800]"
   ]
  },
  {
   "cell_type": "code",
   "execution_count": 245,
   "id": "280fbe0a",
   "metadata": {},
   "outputs": [],
   "source": [
    "Marque = Marque[:800]"
   ]
  },
  {
   "cell_type": "code",
   "execution_count": 246,
   "id": "a20fd418",
   "metadata": {},
   "outputs": [],
   "source": [
    "Model = Model[:800]"
   ]
  },
  {
   "cell_type": "code",
   "execution_count": 247,
   "id": "77597f4d",
   "metadata": {},
   "outputs": [],
   "source": [
    "Kilometrage = Kilometrage[:800]"
   ]
  },
  {
   "cell_type": "code",
   "execution_count": 248,
   "id": "8c4616f3",
   "metadata": {},
   "outputs": [],
   "source": [
    "Etat = Etat[:800]"
   ]
  },
  {
   "cell_type": "code",
   "execution_count": 249,
   "id": "6f7a6db3",
   "metadata": {},
   "outputs": [],
   "source": [
    "Premiere_main = Premiere_main[:800]"
   ]
  },
  {
   "cell_type": "code",
   "execution_count": 250,
   "id": "2bf68310",
   "metadata": {},
   "outputs": [],
   "source": [
    "Nombre_de_portes = Nombre_de_portes[:800]"
   ]
  },
  {
   "cell_type": "code",
   "execution_count": 251,
   "id": "55b43da5",
   "metadata": {},
   "outputs": [],
   "source": [
    "Origine = Origine[:800]"
   ]
  },
  {
   "cell_type": "code",
   "execution_count": 252,
   "id": "df89a5a2",
   "metadata": {},
   "outputs": [],
   "source": [
    "Type_de_Carburant = Type_de_Carburant[:800]"
   ]
  },
  {
   "cell_type": "code",
   "execution_count": 253,
   "id": "638df5bf",
   "metadata": {},
   "outputs": [],
   "source": [
    "boite_de_vitesse = boite_de_vitesse[:800]"
   ]
  },
  {
   "cell_type": "code",
   "execution_count": 254,
   "id": "69509f12",
   "metadata": {},
   "outputs": [],
   "source": [
    "location = location[:800]"
   ]
  },
  {
   "cell_type": "code",
   "execution_count": 256,
   "id": "3c413cbe",
   "metadata": {},
   "outputs": [],
   "source": [
    "Annee_Modele = Annee_Modele[:800]"
   ]
  },
  {
   "cell_type": "markdown",
   "id": "76c79d25",
   "metadata": {},
   "source": [
    "## DataFrame"
   ]
  },
  {
   "cell_type": "code",
   "execution_count": 330,
   "id": "748f1575",
   "metadata": {},
   "outputs": [
    {
     "data": {
      "text/html": [
       "<div>\n",
       "<style scoped>\n",
       "    .dataframe tbody tr th:only-of-type {\n",
       "        vertical-align: middle;\n",
       "    }\n",
       "\n",
       "    .dataframe tbody tr th {\n",
       "        vertical-align: top;\n",
       "    }\n",
       "\n",
       "    .dataframe thead th {\n",
       "        text-align: right;\n",
       "    }\n",
       "</style>\n",
       "<table border=\"1\" class=\"dataframe\">\n",
       "  <thead>\n",
       "    <tr style=\"text-align: right;\">\n",
       "      <th></th>\n",
       "      <th>Prices</th>\n",
       "      <th>title</th>\n",
       "      <th>location</th>\n",
       "      <th>Model</th>\n",
       "      <th>Marque</th>\n",
       "      <th>Kilometrage</th>\n",
       "      <th>Etat</th>\n",
       "      <th>Annee_Modele</th>\n",
       "      <th>Premiere_main</th>\n",
       "      <th>Nombre_de_portes</th>\n",
       "      <th>Origine</th>\n",
       "      <th>Type_de_Carburant</th>\n",
       "      <th>boite_de_vitesse</th>\n",
       "    </tr>\n",
       "  </thead>\n",
       "  <tbody>\n",
       "    <tr>\n",
       "      <th>0</th>\n",
       "      <td>NaN</td>\n",
       "      <td>Ford kuga 2022</td>\n",
       "      <td>Autre secteur, Fès</td>\n",
       "      <td>Kuga</td>\n",
       "      <td>Ford</td>\n",
       "      <td>35 000 - 39 999</td>\n",
       "      <td>Neuf</td>\n",
       "      <td>2022</td>\n",
       "      <td>Oui</td>\n",
       "      <td>5.0</td>\n",
       "      <td>WW au Maroc</td>\n",
       "      <td>Diesel</td>\n",
       "      <td>Manuelle</td>\n",
       "    </tr>\n",
       "    <tr>\n",
       "      <th>1</th>\n",
       "      <td>NaN</td>\n",
       "      <td>Glc 63s essence hybride 2025</td>\n",
       "      <td>Aïn Chock, Casablanca</td>\n",
       "      <td>Classe GLC</td>\n",
       "      <td>Mercedes-Benz</td>\n",
       "      <td>5 000 - 9 999</td>\n",
       "      <td>Neuf</td>\n",
       "      <td>2025</td>\n",
       "      <td>NaN</td>\n",
       "      <td>5.0</td>\n",
       "      <td>Importée neuve</td>\n",
       "      <td>Essence</td>\n",
       "      <td>Automatique</td>\n",
       "    </tr>\n",
       "    <tr>\n",
       "      <th>2</th>\n",
       "      <td>122 000 DH</td>\n",
       "      <td>Kia Picanto</td>\n",
       "      <td>Safir, Tétouan</td>\n",
       "      <td>Picanto</td>\n",
       "      <td>Kia</td>\n",
       "      <td>25 000 - 29 999</td>\n",
       "      <td>Excellent</td>\n",
       "      <td>2024</td>\n",
       "      <td>Oui</td>\n",
       "      <td>5.0</td>\n",
       "      <td>WW au Maroc</td>\n",
       "      <td>Essence</td>\n",
       "      <td>Manuelle</td>\n",
       "    </tr>\n",
       "    <tr>\n",
       "      <th>3</th>\n",
       "      <td>75 000 DH</td>\n",
       "      <td>Citroën 2 cv</td>\n",
       "      <td>Sidi Ghanem, Marrakech</td>\n",
       "      <td>2 CV</td>\n",
       "      <td>Citroen</td>\n",
       "      <td>90 000 - 94 999</td>\n",
       "      <td>Très bon</td>\n",
       "      <td>1980 ou plus ancien</td>\n",
       "      <td>Non</td>\n",
       "      <td>5.0</td>\n",
       "      <td>WW au Maroc</td>\n",
       "      <td>Essence</td>\n",
       "      <td>Manuelle</td>\n",
       "    </tr>\n",
       "    <tr>\n",
       "      <th>4</th>\n",
       "      <td>138 000 DH</td>\n",
       "      <td>Fiat Fiorino model 2024</td>\n",
       "      <td>Hay Massira, Marrakech</td>\n",
       "      <td>Fiorino</td>\n",
       "      <td>Fiat</td>\n",
       "      <td>10 000 - 14 999</td>\n",
       "      <td>Excellent</td>\n",
       "      <td>2024</td>\n",
       "      <td>Oui</td>\n",
       "      <td>5.0</td>\n",
       "      <td>WW au Maroc</td>\n",
       "      <td>Diesel</td>\n",
       "      <td>Manuelle</td>\n",
       "    </tr>\n",
       "    <tr>\n",
       "      <th>...</th>\n",
       "      <td>...</td>\n",
       "      <td>...</td>\n",
       "      <td>...</td>\n",
       "      <td>...</td>\n",
       "      <td>...</td>\n",
       "      <td>...</td>\n",
       "      <td>...</td>\n",
       "      <td>...</td>\n",
       "      <td>...</td>\n",
       "      <td>...</td>\n",
       "      <td>...</td>\n",
       "      <td>...</td>\n",
       "      <td>...</td>\n",
       "    </tr>\n",
       "    <tr>\n",
       "      <th>795</th>\n",
       "      <td>NaN</td>\n",
       "      <td>JEEP Grand Cherokee 3.0 V6 4WD Overland</td>\n",
       "      <td>Hay Riad, Rabat</td>\n",
       "      <td>Grand Cherokee</td>\n",
       "      <td>Jeep</td>\n",
       "      <td>70 000 - 74 999</td>\n",
       "      <td>Excellent</td>\n",
       "      <td>2022</td>\n",
       "      <td>Oui</td>\n",
       "      <td>3.0</td>\n",
       "      <td>Dédouanée</td>\n",
       "      <td>Diesel</td>\n",
       "      <td>Automatique</td>\n",
       "    </tr>\n",
       "    <tr>\n",
       "      <th>796</th>\n",
       "      <td>143 000 DH</td>\n",
       "      <td>Dokker2021 6portes</td>\n",
       "      <td>El Houda, Agadir</td>\n",
       "      <td>Express</td>\n",
       "      <td>Renault</td>\n",
       "      <td>120 000 - 129 999</td>\n",
       "      <td>Excellent</td>\n",
       "      <td>2019</td>\n",
       "      <td>Oui</td>\n",
       "      <td>5.0</td>\n",
       "      <td>WW au Maroc</td>\n",
       "      <td>Diesel</td>\n",
       "      <td>Manuelle</td>\n",
       "    </tr>\n",
       "    <tr>\n",
       "      <th>797</th>\n",
       "      <td>NaN</td>\n",
       "      <td>BMW X5 2.5d Exclusive à Casablanca</td>\n",
       "      <td>Oasis, Casablanca</td>\n",
       "      <td>Clio</td>\n",
       "      <td>Renault</td>\n",
       "      <td>90 000 - 94 999</td>\n",
       "      <td>Excellent</td>\n",
       "      <td>2021</td>\n",
       "      <td>Non</td>\n",
       "      <td>5.0</td>\n",
       "      <td>WW au Maroc</td>\n",
       "      <td>Diesel</td>\n",
       "      <td>Manuelle</td>\n",
       "    </tr>\n",
       "    <tr>\n",
       "      <th>798</th>\n",
       "      <td>249 000 DH</td>\n",
       "      <td>Geely COOLRAY Essence Automatique 2023</td>\n",
       "      <td>Sidi Bernoussi, Casablanca</td>\n",
       "      <td>Q8</td>\n",
       "      <td>Audi</td>\n",
       "      <td>0 - 4 999</td>\n",
       "      <td>Neuf</td>\n",
       "      <td>2025</td>\n",
       "      <td>Oui</td>\n",
       "      <td>5.0</td>\n",
       "      <td>Importée neuve</td>\n",
       "      <td>Diesel</td>\n",
       "      <td>Automatique</td>\n",
       "    </tr>\n",
       "    <tr>\n",
       "      <th>799</th>\n",
       "      <td>197 000 DH</td>\n",
       "      <td>Toyota C-HR Essence Automatique 2019 à Casablanca</td>\n",
       "      <td>Anfa, الدار البيضاء</td>\n",
       "      <td>Classe E</td>\n",
       "      <td>Mercedes-Benz</td>\n",
       "      <td>110 000 - 119 999</td>\n",
       "      <td>Excellent</td>\n",
       "      <td>2017</td>\n",
       "      <td>Non</td>\n",
       "      <td>5.0</td>\n",
       "      <td>WW au Maroc</td>\n",
       "      <td>Diesel</td>\n",
       "      <td>Automatique</td>\n",
       "    </tr>\n",
       "  </tbody>\n",
       "</table>\n",
       "<p>800 rows × 13 columns</p>\n",
       "</div>"
      ],
      "text/plain": [
       "         Prices                                              title  \\\n",
       "0           NaN                                     Ford kuga 2022   \n",
       "1           NaN                       Glc 63s essence hybride 2025   \n",
       "2    122 000 DH                                        Kia Picanto   \n",
       "3     75 000 DH                                       Citroën 2 cv   \n",
       "4    138 000 DH                            Fiat Fiorino model 2024   \n",
       "..          ...                                                ...   \n",
       "795         NaN            JEEP Grand Cherokee 3.0 V6 4WD Overland   \n",
       "796  143 000 DH                                 Dokker2021 6portes   \n",
       "797         NaN                 BMW X5 2.5d Exclusive à Casablanca   \n",
       "798  249 000 DH             Geely COOLRAY Essence Automatique 2023   \n",
       "799  197 000 DH  Toyota C-HR Essence Automatique 2019 à Casablanca   \n",
       "\n",
       "                       location           Model         Marque  \\\n",
       "0            Autre secteur, Fès            Kuga           Ford   \n",
       "1         Aïn Chock, Casablanca      Classe GLC  Mercedes-Benz   \n",
       "2                Safir, Tétouan         Picanto            Kia   \n",
       "3        Sidi Ghanem, Marrakech            2 CV        Citroen   \n",
       "4        Hay Massira, Marrakech         Fiorino           Fiat   \n",
       "..                          ...             ...            ...   \n",
       "795             Hay Riad, Rabat  Grand Cherokee           Jeep   \n",
       "796            El Houda, Agadir         Express        Renault   \n",
       "797           Oasis, Casablanca            Clio        Renault   \n",
       "798  Sidi Bernoussi, Casablanca              Q8           Audi   \n",
       "799         Anfa, الدار البيضاء        Classe E  Mercedes-Benz   \n",
       "\n",
       "           Kilometrage       Etat         Annee_Modele Premiere_main  \\\n",
       "0      35 000 - 39 999       Neuf                 2022           Oui   \n",
       "1        5 000 - 9 999       Neuf                 2025           NaN   \n",
       "2      25 000 - 29 999  Excellent                 2024           Oui   \n",
       "3      90 000 - 94 999   Très bon  1980 ou plus ancien           Non   \n",
       "4      10 000 - 14 999  Excellent                 2024           Oui   \n",
       "..                 ...        ...                  ...           ...   \n",
       "795    70 000 - 74 999  Excellent                 2022           Oui   \n",
       "796  120 000 - 129 999  Excellent                 2019           Oui   \n",
       "797    90 000 - 94 999  Excellent                 2021           Non   \n",
       "798          0 - 4 999       Neuf                 2025           Oui   \n",
       "799  110 000 - 119 999  Excellent                 2017           Non   \n",
       "\n",
       "     Nombre_de_portes         Origine Type_de_Carburant boite_de_vitesse  \n",
       "0                 5.0     WW au Maroc            Diesel         Manuelle  \n",
       "1                 5.0  Importée neuve           Essence      Automatique  \n",
       "2                 5.0     WW au Maroc           Essence         Manuelle  \n",
       "3                 5.0     WW au Maroc           Essence         Manuelle  \n",
       "4                 5.0     WW au Maroc            Diesel         Manuelle  \n",
       "..                ...             ...               ...              ...  \n",
       "795               3.0       Dédouanée            Diesel      Automatique  \n",
       "796               5.0     WW au Maroc            Diesel         Manuelle  \n",
       "797               5.0     WW au Maroc            Diesel         Manuelle  \n",
       "798               5.0  Importée neuve            Diesel      Automatique  \n",
       "799               5.0     WW au Maroc            Diesel      Automatique  \n",
       "\n",
       "[800 rows x 13 columns]"
      ]
     },
     "execution_count": 330,
     "metadata": {},
     "output_type": "execute_result"
    }
   ],
   "source": [
    "import pandas as pd\n",
    "d={\"Prices\":Prices,\"title\":title,\"location\":location,\"Model\":Model,\"Marque\":Marque,\"Kilometrage\":Kilometrage,\n",
    "   \"Etat\":Etat,\"Annee_Modele\":Annee_Modele,\"Premiere_main\":Premiere_main,\"Nombre_de_portes\":Nombre_de_portes,\"Origine\":Origine,\n",
    "   \"Type_de_Carburant\":Type_de_Carburant,\"boite_de_vitesse\":boite_de_vitesse}\n",
    "data=pd.DataFrame(d)\n",
    "data"
   ]
  },
  {
   "cell_type": "code",
   "execution_count": 264,
   "id": "dddf2f05",
   "metadata": {},
   "outputs": [],
   "source": [
    "data.to_csv(r\"C:\\Users\\Admin\\Desktop\\avito\\cars_avito.csv\")"
   ]
  },
  {
   "cell_type": "code",
   "execution_count": 265,
   "id": "33c9b59b",
   "metadata": {},
   "outputs": [
    {
     "name": "stdout",
     "output_type": "stream",
     "text": [
      "<class 'pandas.core.frame.DataFrame'>\n",
      "RangeIndex: 800 entries, 0 to 799\n",
      "Data columns (total 13 columns):\n",
      " #   Column             Non-Null Count  Dtype \n",
      "---  ------             --------------  ----- \n",
      " 0   Prices             800 non-null    object\n",
      " 1   title              800 non-null    object\n",
      " 2   location           800 non-null    object\n",
      " 3   Model              800 non-null    object\n",
      " 4   Marque             800 non-null    object\n",
      " 5   Kilometrage        800 non-null    object\n",
      " 6   Etat               786 non-null    object\n",
      " 7   Annee_Modele       800 non-null    object\n",
      " 8   Premiere_main      694 non-null    object\n",
      " 9   Nombre_de_portes   739 non-null    object\n",
      " 10  Origine            767 non-null    object\n",
      " 11  Type_de_Carburant  800 non-null    object\n",
      " 12  boite_de_vitesse   800 non-null    object\n",
      "dtypes: object(13)\n",
      "memory usage: 81.4+ KB\n"
     ]
    }
   ],
   "source": [
    "data.info()"
   ]
  },
  {
   "cell_type": "code",
   "execution_count": 266,
   "id": "19485d7f",
   "metadata": {},
   "outputs": [
    {
     "data": {
      "text/plain": [
       "(800, 13)"
      ]
     },
     "execution_count": 266,
     "metadata": {},
     "output_type": "execute_result"
    }
   ],
   "source": [
    "data.shape"
   ]
  },
  {
   "cell_type": "markdown",
   "id": "c5536389",
   "metadata": {},
   "source": [
    "## Data Cleaning"
   ]
  },
  {
   "cell_type": "markdown",
   "id": "1a6c31ee",
   "metadata": {},
   "source": [
    "### Nettoyage des colonnes title , marque , model , location"
   ]
  },
  {
   "cell_type": "code",
   "execution_count": 269,
   "id": "823049d2",
   "metadata": {},
   "outputs": [],
   "source": [
    "# Convertir les colonnes de type 'object' en 'string'\n",
    "data['title'] = data['title'].astype('string')\n",
    "data['Model'] = data['Model'].astype('string')\n",
    "data['Marque'] = data['Marque'].astype('string')\n",
    "data['location'] = data['location'].astype('string')"
   ]
  },
  {
   "cell_type": "code",
   "execution_count": 270,
   "id": "a41f65dc",
   "metadata": {},
   "outputs": [],
   "source": [
    "data['title'] = data['title'].str.strip()  "
   ]
  },
  {
   "cell_type": "code",
   "execution_count": 293,
   "id": "2471c1fb",
   "metadata": {},
   "outputs": [
    {
     "data": {
      "text/plain": [
       "Land Rover Range Rover Sport Diesel Automatique      6\n",
       "BMW Série 5 Diesel Automatique 2010 à Rabat          3\n",
       "Volkswagen Touareg Diesel Automatique 2015           3\n",
       "Hyundai Accent 1.5 Attractive                        3\n",
       "Dacia doker                                          2\n",
       "                                                    ..\n",
       "Dodge Essence                                        1\n",
       "volkswagen passat cc                                 1\n",
       "Fiat Tipo Essence Automatique 2023 à Casablanca      1\n",
       "Audi Q8 black édition                                1\n",
       "Toyota C-HR Essence Automatique 2019 à Casablanca    1\n",
       "Name: title, Length: 304, dtype: Int64"
      ]
     },
     "execution_count": 293,
     "metadata": {},
     "output_type": "execute_result"
    }
   ],
   "source": [
    "data['title'].value_counts()"
   ]
  },
  {
   "cell_type": "code",
   "execution_count": 273,
   "id": "eca19a32",
   "metadata": {},
   "outputs": [],
   "source": [
    "data['Model'] = data['Model'].str.strip()  "
   ]
  },
  {
   "cell_type": "code",
   "execution_count": 295,
   "id": "c2cd262c",
   "metadata": {},
   "outputs": [
    {
     "data": {
      "text/plain": [
       "Clio                 16\n",
       "Tiguan               16\n",
       "208                  12\n",
       "Range Rover Sport    12\n",
       "Classe C             11\n",
       "                     ..\n",
       "Auris                 1\n",
       "595                   1\n",
       "Tiggo                 1\n",
       "Arkana                1\n",
       "Cherokee              1\n",
       "Name: Model, Length: 128, dtype: Int64"
      ]
     },
     "execution_count": 295,
     "metadata": {},
     "output_type": "execute_result"
    }
   ],
   "source": [
    "data['Model'].value_counts()"
   ]
  },
  {
   "cell_type": "code",
   "execution_count": 274,
   "id": "8e0d910c",
   "metadata": {},
   "outputs": [],
   "source": [
    "data['Marque'] = data['Marque'].str.strip()  "
   ]
  },
  {
   "cell_type": "code",
   "execution_count": 296,
   "id": "2b438615",
   "metadata": {},
   "outputs": [
    {
     "data": {
      "text/plain": [
       "Volkswagen       53\n",
       "Mercedes-Benz    37\n",
       "Audi             33\n",
       "Renault          33\n",
       "Peugeot          28\n",
       "Land Rover       24\n",
       "BMW              21\n",
       "Dacia            18\n",
       "Jeep             16\n",
       "Opel             14\n",
       "Hyundai          11\n",
       "Fiat             11\n",
       "Porsche          11\n",
       "Toyota            8\n",
       "Citroen           8\n",
       "Nissan            7\n",
       "Ford              6\n",
       "Kia               6\n",
       "Mini              6\n",
       "Volvo             5\n",
       "Seat              5\n",
       "Maserati          5\n",
       "Jaguar            5\n",
       "Skoda             4\n",
       "Mitsubishi        4\n",
       "DS                2\n",
       "Isuzu             2\n",
       "Chery             1\n",
       "Lexus             1\n",
       "Dodge             1\n",
       "DFSK              1\n",
       "Alfa Romeo        1\n",
       "Ssangyong         1\n",
       "Honda             1\n",
       "Lamborghini       1\n",
       "Tesla             1\n",
       "Abarth            1\n",
       "Name: Marque, dtype: Int64"
      ]
     },
     "execution_count": 296,
     "metadata": {},
     "output_type": "execute_result"
    }
   ],
   "source": [
    "data['Marque'].value_counts()"
   ]
  },
  {
   "cell_type": "code",
   "execution_count": 275,
   "id": "ffe13578",
   "metadata": {},
   "outputs": [],
   "source": [
    "data['location'] = data['location'].str.strip()  "
   ]
  },
  {
   "cell_type": "code",
   "execution_count": 277,
   "id": "752a483f",
   "metadata": {},
   "outputs": [],
   "source": [
    "# Pour garder seulement le nom de la ville  \n",
    "data['location']= data['location'].str.split(',').str[-1].str.strip()"
   ]
  },
  {
   "cell_type": "code",
   "execution_count": 278,
   "id": "c1147caa",
   "metadata": {},
   "outputs": [
    {
     "data": {
      "text/plain": [
       "0                Fès\n",
       "1         Casablanca\n",
       "2            Tétouan\n",
       "3          Marrakech\n",
       "4          Marrakech\n",
       "           ...      \n",
       "795            Rabat\n",
       "796           Agadir\n",
       "797       Casablanca\n",
       "798       Casablanca\n",
       "799    الدار البيضاء\n",
       "Name: location, Length: 800, dtype: object"
      ]
     },
     "execution_count": 278,
     "metadata": {},
     "output_type": "execute_result"
    }
   ],
   "source": [
    "data['location']"
   ]
  },
  {
   "cell_type": "markdown",
   "id": "e919d22d",
   "metadata": {},
   "source": [
    "## Nettoyage des colonnes prices,kilometrage"
   ]
  },
  {
   "cell_type": "code",
   "execution_count": 285,
   "id": "06803b94",
   "metadata": {},
   "outputs": [],
   "source": [
    "#Supprimer certains caracteres d'une chaine de caracteres en utilisant .replace()\n",
    "cleaned_prices = []\n",
    "\n",
    "for price in data['Prices']:\n",
    "    temp_price = price.replace('\\u202f', '').replace(',', '.').replace(' DH', '')\n",
    "    cleaned_prices.append(temp_price)\n",
    "\n",
    "data['prices'] = cleaned_prices"
   ]
  },
  {
   "cell_type": "code",
   "execution_count": 287,
   "id": "a067affa",
   "metadata": {},
   "outputs": [],
   "source": [
    "# Supprimer les lignes où la valeur PRIX NON SPÉCIFIÉ apparaît dans la colonne Prices\n",
    "data.drop(data[data['Prices'] == \"\"].index,inplace=True)"
   ]
  },
  {
   "cell_type": "code",
   "execution_count": 288,
   "id": "d8f27979",
   "metadata": {},
   "outputs": [],
   "source": [
    "data['Prices'] = data['Prices'].astype('float')"
   ]
  },
  {
   "cell_type": "code",
   "execution_count": 290,
   "id": "51866d74",
   "metadata": {},
   "outputs": [
    {
     "data": {
      "text/plain": [
       "235000.0    10\n",
       "220000.0     9\n",
       "135000.0     9\n",
       "185000.0     8\n",
       "150000.0     8\n",
       "            ..\n",
       "107000.0     1\n",
       "299000.0     1\n",
       "178000.0     1\n",
       "294000.0     1\n",
       "197000.0     1\n",
       "Name: Prices, Length: 172, dtype: int64"
      ]
     },
     "execution_count": 290,
     "metadata": {},
     "output_type": "execute_result"
    }
   ],
   "source": [
    "data[\"Prices\"].value_counts()"
   ]
  },
  {
   "cell_type": "markdown",
   "id": "ea94f122",
   "metadata": {},
   "source": []
  },
  {
   "cell_type": "code",
   "execution_count": 297,
   "id": "3ab1e4f1",
   "metadata": {},
   "outputs": [],
   "source": [
    "#Supprimer les lignes ou ligne sont null\n",
    "data = data[data['Kilometrage'].notnull()]"
   ]
  },
  {
   "cell_type": "code",
   "execution_count": 298,
   "id": "678e5eb7",
   "metadata": {},
   "outputs": [
    {
     "data": {
      "text/html": [
       "<div>\n",
       "<style scoped>\n",
       "    .dataframe tbody tr th:only-of-type {\n",
       "        vertical-align: middle;\n",
       "    }\n",
       "\n",
       "    .dataframe tbody tr th {\n",
       "        vertical-align: top;\n",
       "    }\n",
       "\n",
       "    .dataframe thead th {\n",
       "        text-align: right;\n",
       "    }\n",
       "</style>\n",
       "<table border=\"1\" class=\"dataframe\">\n",
       "  <thead>\n",
       "    <tr style=\"text-align: right;\">\n",
       "      <th></th>\n",
       "      <th>0</th>\n",
       "      <th>1</th>\n",
       "    </tr>\n",
       "  </thead>\n",
       "  <tbody>\n",
       "    <tr>\n",
       "      <th>2</th>\n",
       "      <td>25 000</td>\n",
       "      <td>29 999</td>\n",
       "    </tr>\n",
       "    <tr>\n",
       "      <th>3</th>\n",
       "      <td>90 000</td>\n",
       "      <td>94 999</td>\n",
       "    </tr>\n",
       "    <tr>\n",
       "      <th>4</th>\n",
       "      <td>10 000</td>\n",
       "      <td>14 999</td>\n",
       "    </tr>\n",
       "    <tr>\n",
       "      <th>5</th>\n",
       "      <td>0</td>\n",
       "      <td>4 999</td>\n",
       "    </tr>\n",
       "    <tr>\n",
       "      <th>6</th>\n",
       "      <td>120 000</td>\n",
       "      <td>129 999</td>\n",
       "    </tr>\n",
       "    <tr>\n",
       "      <th>...</th>\n",
       "      <td>...</td>\n",
       "      <td>...</td>\n",
       "    </tr>\n",
       "    <tr>\n",
       "      <th>782</th>\n",
       "      <td>100 000</td>\n",
       "      <td>109 999</td>\n",
       "    </tr>\n",
       "    <tr>\n",
       "      <th>792</th>\n",
       "      <td>65 000</td>\n",
       "      <td>69 999</td>\n",
       "    </tr>\n",
       "    <tr>\n",
       "      <th>796</th>\n",
       "      <td>120 000</td>\n",
       "      <td>129 999</td>\n",
       "    </tr>\n",
       "    <tr>\n",
       "      <th>798</th>\n",
       "      <td>0</td>\n",
       "      <td>4 999</td>\n",
       "    </tr>\n",
       "    <tr>\n",
       "      <th>799</th>\n",
       "      <td>110 000</td>\n",
       "      <td>119 999</td>\n",
       "    </tr>\n",
       "  </tbody>\n",
       "</table>\n",
       "<p>393 rows × 2 columns</p>\n",
       "</div>"
      ],
      "text/plain": [
       "            0         1\n",
       "2     25 000     29 999\n",
       "3     90 000     94 999\n",
       "4     10 000     14 999\n",
       "5          0      4 999\n",
       "6    120 000    129 999\n",
       "..        ...       ...\n",
       "782  100 000    109 999\n",
       "792   65 000     69 999\n",
       "796  120 000    129 999\n",
       "798        0      4 999\n",
       "799  110 000    119 999\n",
       "\n",
       "[393 rows x 2 columns]"
      ]
     },
     "execution_count": 298,
     "metadata": {},
     "output_type": "execute_result"
    }
   ],
   "source": [
    "# Séparer le colonne en deux partie max , min\n",
    "Kilometrage = data['Kilometrage'].str.split(\"-\", expand = True)\n",
    "Kilometrage"
   ]
  },
  {
   "cell_type": "code",
   "execution_count": 299,
   "id": "70743fc6",
   "metadata": {},
   "outputs": [],
   "source": [
    "#Ajouter deux colonnes de kilometrage\n",
    "data['Kilometrage_min']=Kilometrage[0]\n",
    "data['Kilometrage_max']=Kilometrage[1]"
   ]
  },
  {
   "cell_type": "code",
   "execution_count": 300,
   "id": "87ef1985",
   "metadata": {},
   "outputs": [],
   "source": [
    "data['Kilometrage_min'] = data['Kilometrage_min'].str.replace('\\u202f', '').str.replace(' ', '')"
   ]
  },
  {
   "cell_type": "code",
   "execution_count": 301,
   "id": "ff7e0123",
   "metadata": {},
   "outputs": [],
   "source": [
    "data['Kilometrage_max'] = data['Kilometrage_max'].str.replace('\\u202f', '').str.replace(' ', '')"
   ]
  },
  {
   "cell_type": "code",
   "execution_count": 302,
   "id": "147de8d5",
   "metadata": {},
   "outputs": [],
   "source": [
    "data['Kilometrage_min']=data['Kilometrage_min'].astype('float')"
   ]
  },
  {
   "cell_type": "code",
   "execution_count": 303,
   "id": "5c96b46f",
   "metadata": {},
   "outputs": [],
   "source": [
    "data['Kilometrage_max']=data['Kilometrage_max'].astype('float')"
   ]
  },
  {
   "cell_type": "markdown",
   "id": "210e8268",
   "metadata": {},
   "source": []
  },
  {
   "cell_type": "code",
   "execution_count": 304,
   "id": "95327e4b",
   "metadata": {},
   "outputs": [
    {
     "data": {
      "text/plain": [
       "Excellent    243\n",
       "Très bon      85\n",
       "Neuf          40\n",
       "Bon           15\n",
       "Name: Etat, dtype: int64"
      ]
     },
     "execution_count": 304,
     "metadata": {},
     "output_type": "execute_result"
    }
   ],
   "source": [
    "data['Etat'].value_counts()"
   ]
  },
  {
   "cell_type": "code",
   "execution_count": 305,
   "id": "093bf3ab",
   "metadata": {},
   "outputs": [
    {
     "data": {
      "text/plain": [
       "Oui    199\n",
       "Non    141\n",
       "Name: Premiere_main, dtype: int64"
      ]
     },
     "execution_count": 305,
     "metadata": {},
     "output_type": "execute_result"
    }
   ],
   "source": [
    "data['Premiere_main'].value_counts()"
   ]
  },
  {
   "cell_type": "code",
   "execution_count": 306,
   "id": "cc02c560",
   "metadata": {},
   "outputs": [
    {
     "data": {
      "text/plain": [
       "Prices                0\n",
       "title                 0\n",
       "location              0\n",
       "Model                 0\n",
       "Marque                0\n",
       "Kilometrage           0\n",
       "Etat                 10\n",
       "Annee_Modele          0\n",
       "Premiere_main        53\n",
       "Nombre_de_portes     30\n",
       "Origine              16\n",
       "Type_de_Carburant     0\n",
       "boite_de_vitesse      0\n",
       "prices                0\n",
       "Kilometrage_min       0\n",
       "Kilometrage_max       0\n",
       "dtype: int64"
      ]
     },
     "execution_count": 306,
     "metadata": {},
     "output_type": "execute_result"
    }
   ],
   "source": [
    "data.isna().sum()"
   ]
  },
  {
   "cell_type": "markdown",
   "id": "0abad9bb",
   "metadata": {},
   "source": []
  },
  {
   "cell_type": "code",
   "execution_count": 308,
   "id": "e5e6ad17",
   "metadata": {},
   "outputs": [
    {
     "data": {
      "text/plain": [
       "2019                   58\n",
       "2021                   44\n",
       "2020                   36\n",
       "2017                   34\n",
       "2022                   34\n",
       "2023                   21\n",
       "2018                   19\n",
       "2016                   19\n",
       "2024                   18\n",
       "2015                   18\n",
       "2014                   16\n",
       "2025                   15\n",
       "2010                   13\n",
       "2012                   12\n",
       "2013                   12\n",
       "2008                    6\n",
       "2011                    6\n",
       "2007                    4\n",
       "2009                    2\n",
       "1991                    2\n",
       "1980 ou plus ancien     1\n",
       "2000                    1\n",
       "2003                    1\n",
       "2006                    1\n",
       "Name: Annee_Modele, dtype: int64"
      ]
     },
     "execution_count": 308,
     "metadata": {},
     "output_type": "execute_result"
    }
   ],
   "source": [
    "data['Annee_Modele'].value_counts()"
   ]
  },
  {
   "cell_type": "code",
   "execution_count": 310,
   "id": "a4d4fc60",
   "metadata": {},
   "outputs": [],
   "source": [
    "data['Annee_Modele'] = data['Annee_Modele'].replace('1980 ou plus ancien', '1980')"
   ]
  },
  {
   "cell_type": "code",
   "execution_count": 311,
   "id": "7a1fefff",
   "metadata": {},
   "outputs": [],
   "source": [
    "# Covertir en int\n",
    "data['Annee_Modele']=data['Annee_Modele'].astype('int')"
   ]
  },
  {
   "cell_type": "code",
   "execution_count": 313,
   "id": "0b330e57",
   "metadata": {},
   "outputs": [
    {
     "data": {
      "text/plain": [
       "2019    58\n",
       "2021    44\n",
       "2020    36\n",
       "2017    34\n",
       "2022    34\n",
       "2023    21\n",
       "2018    19\n",
       "2016    19\n",
       "2024    18\n",
       "2015    18\n",
       "2014    16\n",
       "2025    15\n",
       "2010    13\n",
       "2012    12\n",
       "2013    12\n",
       "2008     6\n",
       "2011     6\n",
       "2007     4\n",
       "2009     2\n",
       "1991     2\n",
       "1980     1\n",
       "2000     1\n",
       "2003     1\n",
       "2006     1\n",
       "Name: Annee_Modele, dtype: int64"
      ]
     },
     "execution_count": 313,
     "metadata": {},
     "output_type": "execute_result"
    }
   ],
   "source": [
    "data['Annee_Modele'].value_counts()"
   ]
  },
  {
   "cell_type": "code",
   "execution_count": null,
   "id": "b08ec5dc",
   "metadata": {},
   "outputs": [],
   "source": []
  },
  {
   "cell_type": "code",
   "execution_count": 314,
   "id": "6b26f92b",
   "metadata": {},
   "outputs": [
    {
     "data": {
      "text/plain": [
       "5    335\n",
       "3     28\n",
       "Name: Nombre_de_portes, dtype: int64"
      ]
     },
     "execution_count": 314,
     "metadata": {},
     "output_type": "execute_result"
    }
   ],
   "source": [
    "data['Nombre_de_portes'].value_counts()"
   ]
  },
  {
   "cell_type": "markdown",
   "id": "5ea329fb",
   "metadata": {},
   "source": [
    "## Drop_duplicated"
   ]
  },
  {
   "cell_type": "code",
   "execution_count": 316,
   "id": "6ad98994",
   "metadata": {},
   "outputs": [],
   "source": [
    "data = data.drop_duplicates()"
   ]
  },
  {
   "cell_type": "markdown",
   "id": "b0f2108d",
   "metadata": {},
   "source": [
    "## Reset the index"
   ]
  },
  {
   "cell_type": "code",
   "execution_count": 319,
   "id": "55a1ab59",
   "metadata": {},
   "outputs": [
    {
     "data": {
      "text/plain": [
       "(336, 16)"
      ]
     },
     "execution_count": 319,
     "metadata": {},
     "output_type": "execute_result"
    }
   ],
   "source": [
    "data = data.reset_index(drop=True)\n",
    "data.shape"
   ]
  },
  {
   "cell_type": "code",
   "execution_count": 320,
   "id": "1824f988",
   "metadata": {},
   "outputs": [
    {
     "name": "stdout",
     "output_type": "stream",
     "text": [
      "<class 'pandas.core.frame.DataFrame'>\n",
      "RangeIndex: 336 entries, 0 to 335\n",
      "Data columns (total 16 columns):\n",
      " #   Column             Non-Null Count  Dtype  \n",
      "---  ------             --------------  -----  \n",
      " 0   Prices             336 non-null    float64\n",
      " 1   title              336 non-null    string \n",
      " 2   location           336 non-null    object \n",
      " 3   Model              336 non-null    string \n",
      " 4   Marque             336 non-null    string \n",
      " 5   Kilometrage        336 non-null    object \n",
      " 6   Etat               329 non-null    object \n",
      " 7   Annee_Modele       336 non-null    int32  \n",
      " 8   Premiere_main      291 non-null    object \n",
      " 9   Nombre_de_portes   312 non-null    object \n",
      " 10  Origine            324 non-null    object \n",
      " 11  Type_de_Carburant  336 non-null    object \n",
      " 12  boite_de_vitesse   336 non-null    object \n",
      " 13  prices             336 non-null    object \n",
      " 14  Kilometrage_min    336 non-null    float64\n",
      " 15  Kilometrage_max    336 non-null    float64\n",
      "dtypes: float64(3), int32(1), object(9), string(3)\n",
      "memory usage: 40.8+ KB\n"
     ]
    }
   ],
   "source": [
    "data.info()"
   ]
  },
  {
   "cell_type": "markdown",
   "id": "3cc48ebd",
   "metadata": {},
   "source": [
    "## Tester"
   ]
  },
  {
   "cell_type": "code",
   "execution_count": 321,
   "id": "b721cd06",
   "metadata": {},
   "outputs": [
    {
     "data": {
      "text/html": [
       "<div>\n",
       "<style scoped>\n",
       "    .dataframe tbody tr th:only-of-type {\n",
       "        vertical-align: middle;\n",
       "    }\n",
       "\n",
       "    .dataframe tbody tr th {\n",
       "        vertical-align: top;\n",
       "    }\n",
       "\n",
       "    .dataframe thead th {\n",
       "        text-align: right;\n",
       "    }\n",
       "</style>\n",
       "<table border=\"1\" class=\"dataframe\">\n",
       "  <thead>\n",
       "    <tr style=\"text-align: right;\">\n",
       "      <th></th>\n",
       "      <th>Prices</th>\n",
       "      <th>title</th>\n",
       "      <th>location</th>\n",
       "      <th>Model</th>\n",
       "      <th>Marque</th>\n",
       "      <th>Kilometrage</th>\n",
       "      <th>Etat</th>\n",
       "      <th>Annee_Modele</th>\n",
       "      <th>Premiere_main</th>\n",
       "      <th>Nombre_de_portes</th>\n",
       "      <th>Origine</th>\n",
       "      <th>Type_de_Carburant</th>\n",
       "      <th>boite_de_vitesse</th>\n",
       "      <th>prices</th>\n",
       "      <th>Kilometrage_min</th>\n",
       "      <th>Kilometrage_max</th>\n",
       "    </tr>\n",
       "  </thead>\n",
       "  <tbody>\n",
       "    <tr>\n",
       "      <th>9</th>\n",
       "      <td>650000.0</td>\n",
       "      <td>Land Rover Range Rover Sport Diesel Automatique</td>\n",
       "      <td>Rabat</td>\n",
       "      <td>Range Rover Sport</td>\n",
       "      <td>Land Rover</td>\n",
       "      <td>80 000 - 84 999</td>\n",
       "      <td>Excellent</td>\n",
       "      <td>2018</td>\n",
       "      <td>Oui</td>\n",
       "      <td>5</td>\n",
       "      <td>Importée neuve</td>\n",
       "      <td>Diesel</td>\n",
       "      <td>Automatique</td>\n",
       "      <td>650000</td>\n",
       "      <td>80000.0</td>\n",
       "      <td>84999.0</td>\n",
       "    </tr>\n",
       "    <tr>\n",
       "      <th>142</th>\n",
       "      <td>268000.0</td>\n",
       "      <td>Land Rover Range Rover Sport Diesel Automatique</td>\n",
       "      <td>Marrakech</td>\n",
       "      <td>Range Rover Sport</td>\n",
       "      <td>Land Rover</td>\n",
       "      <td>160 000 - 169 999</td>\n",
       "      <td>Excellent</td>\n",
       "      <td>2016</td>\n",
       "      <td>Non</td>\n",
       "      <td>5</td>\n",
       "      <td>WW au Maroc</td>\n",
       "      <td>Diesel</td>\n",
       "      <td>Automatique</td>\n",
       "      <td>268000</td>\n",
       "      <td>160000.0</td>\n",
       "      <td>169999.0</td>\n",
       "    </tr>\n",
       "    <tr>\n",
       "      <th>258</th>\n",
       "      <td>295000.0</td>\n",
       "      <td>Land Rover Range Rover Sport Diesel Automatique</td>\n",
       "      <td>Casablanca</td>\n",
       "      <td>208</td>\n",
       "      <td>Peugeot</td>\n",
       "      <td>80 000 - 84 999</td>\n",
       "      <td>Excellent</td>\n",
       "      <td>2021</td>\n",
       "      <td>Oui</td>\n",
       "      <td>5</td>\n",
       "      <td>WW au Maroc</td>\n",
       "      <td>Diesel</td>\n",
       "      <td>Manuelle</td>\n",
       "      <td>295000</td>\n",
       "      <td>80000.0</td>\n",
       "      <td>84999.0</td>\n",
       "    </tr>\n",
       "  </tbody>\n",
       "</table>\n",
       "</div>"
      ],
      "text/plain": [
       "       Prices                                            title    location  \\\n",
       "9    650000.0  Land Rover Range Rover Sport Diesel Automatique       Rabat   \n",
       "142  268000.0  Land Rover Range Rover Sport Diesel Automatique   Marrakech   \n",
       "258  295000.0  Land Rover Range Rover Sport Diesel Automatique  Casablanca   \n",
       "\n",
       "                 Model      Marque        Kilometrage       Etat  \\\n",
       "9    Range Rover Sport  Land Rover    80 000 - 84 999  Excellent   \n",
       "142  Range Rover Sport  Land Rover  160 000 - 169 999  Excellent   \n",
       "258                208     Peugeot    80 000 - 84 999  Excellent   \n",
       "\n",
       "     Annee_Modele Premiere_main Nombre_de_portes         Origine  \\\n",
       "9            2018           Oui                5  Importée neuve   \n",
       "142          2016           Non                5     WW au Maroc   \n",
       "258          2021           Oui                5     WW au Maroc   \n",
       "\n",
       "    Type_de_Carburant boite_de_vitesse  prices  Kilometrage_min  \\\n",
       "9              Diesel      Automatique  650000          80000.0   \n",
       "142            Diesel      Automatique  268000         160000.0   \n",
       "258            Diesel         Manuelle  295000          80000.0   \n",
       "\n",
       "     Kilometrage_max  \n",
       "9            84999.0  \n",
       "142         169999.0  \n",
       "258          84999.0  "
      ]
     },
     "execution_count": 321,
     "metadata": {},
     "output_type": "execute_result"
    }
   ],
   "source": [
    "data[data[\"title\"]==\"Land Rover Range Rover Sport Diesel Automatique\"]"
   ]
  },
  {
   "cell_type": "code",
   "execution_count": 323,
   "id": "227a1251",
   "metadata": {},
   "outputs": [],
   "source": [
    "import seaborn as sns\n",
    "import pandas as pd \n",
    "import matplotlib.pyplot as plt\n",
    "import plotly.express as px"
   ]
  },
  {
   "cell_type": "code",
   "execution_count": 325,
   "id": "1ed9dff6",
   "metadata": {},
   "outputs": [],
   "source": [
    "data = data.drop(['location',\"Kilometrage\",\"Premiere_main\",], axis=1)"
   ]
  },
  {
   "cell_type": "code",
   "execution_count": 332,
   "id": "b8f26176",
   "metadata": {},
   "outputs": [
    {
     "data": {
      "text/html": [
       "<div>\n",
       "<style scoped>\n",
       "    .dataframe tbody tr th:only-of-type {\n",
       "        vertical-align: middle;\n",
       "    }\n",
       "\n",
       "    .dataframe tbody tr th {\n",
       "        vertical-align: top;\n",
       "    }\n",
       "\n",
       "    .dataframe thead th {\n",
       "        text-align: right;\n",
       "    }\n",
       "</style>\n",
       "<table border=\"1\" class=\"dataframe\">\n",
       "  <thead>\n",
       "    <tr style=\"text-align: right;\">\n",
       "      <th></th>\n",
       "      <th>Prices</th>\n",
       "      <th>title</th>\n",
       "      <th>Model</th>\n",
       "      <th>Marque</th>\n",
       "      <th>Etat</th>\n",
       "      <th>Annee_Modele</th>\n",
       "      <th>Nombre_de_portes</th>\n",
       "      <th>Origine</th>\n",
       "      <th>Type_de_Carburant</th>\n",
       "      <th>boite_de_vitesse</th>\n",
       "      <th>Kilometrage_min</th>\n",
       "      <th>Kilometrage_max</th>\n",
       "    </tr>\n",
       "  </thead>\n",
       "  <tbody>\n",
       "    <tr>\n",
       "      <th>0</th>\n",
       "      <td>122000.0</td>\n",
       "      <td>Kia Picanto</td>\n",
       "      <td>Picanto</td>\n",
       "      <td>Kia</td>\n",
       "      <td>Excellent</td>\n",
       "      <td>2024</td>\n",
       "      <td>5</td>\n",
       "      <td>WW au Maroc</td>\n",
       "      <td>Essence</td>\n",
       "      <td>Manuelle</td>\n",
       "      <td>25000.0</td>\n",
       "      <td>29999.0</td>\n",
       "    </tr>\n",
       "    <tr>\n",
       "      <th>1</th>\n",
       "      <td>75000.0</td>\n",
       "      <td>Citroën 2 cv</td>\n",
       "      <td>2 CV</td>\n",
       "      <td>Citroen</td>\n",
       "      <td>Très bon</td>\n",
       "      <td>1980</td>\n",
       "      <td>5</td>\n",
       "      <td>WW au Maroc</td>\n",
       "      <td>Essence</td>\n",
       "      <td>Manuelle</td>\n",
       "      <td>90000.0</td>\n",
       "      <td>94999.0</td>\n",
       "    </tr>\n",
       "    <tr>\n",
       "      <th>2</th>\n",
       "      <td>138000.0</td>\n",
       "      <td>Fiat Fiorino model 2024</td>\n",
       "      <td>Fiorino</td>\n",
       "      <td>Fiat</td>\n",
       "      <td>Excellent</td>\n",
       "      <td>2024</td>\n",
       "      <td>5</td>\n",
       "      <td>WW au Maroc</td>\n",
       "      <td>Diesel</td>\n",
       "      <td>Manuelle</td>\n",
       "      <td>10000.0</td>\n",
       "      <td>14999.0</td>\n",
       "    </tr>\n",
       "    <tr>\n",
       "      <th>3</th>\n",
       "      <td>690000.0</td>\n",
       "      <td>Audi A3 Sportback Diesel Automatique 2024 à Ta...</td>\n",
       "      <td>A3</td>\n",
       "      <td>Audi</td>\n",
       "      <td>Neuf</td>\n",
       "      <td>2024</td>\n",
       "      <td>5</td>\n",
       "      <td>Importée neuve</td>\n",
       "      <td>Diesel</td>\n",
       "      <td>Automatique</td>\n",
       "      <td>0.0</td>\n",
       "      <td>4999.0</td>\n",
       "    </tr>\n",
       "    <tr>\n",
       "      <th>4</th>\n",
       "      <td>370000.0</td>\n",
       "      <td>Maserati Levante fin 2018</td>\n",
       "      <td>Levante</td>\n",
       "      <td>Maserati</td>\n",
       "      <td>Excellent</td>\n",
       "      <td>2018</td>\n",
       "      <td>5</td>\n",
       "      <td>WW au Maroc</td>\n",
       "      <td>Diesel</td>\n",
       "      <td>Automatique</td>\n",
       "      <td>120000.0</td>\n",
       "      <td>129999.0</td>\n",
       "    </tr>\n",
       "    <tr>\n",
       "      <th>...</th>\n",
       "      <td>...</td>\n",
       "      <td>...</td>\n",
       "      <td>...</td>\n",
       "      <td>...</td>\n",
       "      <td>...</td>\n",
       "      <td>...</td>\n",
       "      <td>...</td>\n",
       "      <td>...</td>\n",
       "      <td>...</td>\n",
       "      <td>...</td>\n",
       "      <td>...</td>\n",
       "      <td>...</td>\n",
       "    </tr>\n",
       "    <tr>\n",
       "      <th>331</th>\n",
       "      <td>340000.0</td>\n",
       "      <td>Jeep Grand Cherokee Diesel Automatique 2022</td>\n",
       "      <td>Logan</td>\n",
       "      <td>Dacia</td>\n",
       "      <td>Excellent</td>\n",
       "      <td>2021</td>\n",
       "      <td>5</td>\n",
       "      <td>WW au Maroc</td>\n",
       "      <td>Diesel</td>\n",
       "      <td>Manuelle</td>\n",
       "      <td>100000.0</td>\n",
       "      <td>109999.0</td>\n",
       "    </tr>\n",
       "    <tr>\n",
       "      <th>332</th>\n",
       "      <td>570000.0</td>\n",
       "      <td>bmw serie 5</td>\n",
       "      <td>Q3</td>\n",
       "      <td>Audi</td>\n",
       "      <td>Excellent</td>\n",
       "      <td>2021</td>\n",
       "      <td>5</td>\n",
       "      <td>Importée neuve</td>\n",
       "      <td>Essence</td>\n",
       "      <td>Automatique</td>\n",
       "      <td>65000.0</td>\n",
       "      <td>69999.0</td>\n",
       "    </tr>\n",
       "    <tr>\n",
       "      <th>333</th>\n",
       "      <td>143000.0</td>\n",
       "      <td>Dokker2021 6portes</td>\n",
       "      <td>Express</td>\n",
       "      <td>Renault</td>\n",
       "      <td>Excellent</td>\n",
       "      <td>2019</td>\n",
       "      <td>5</td>\n",
       "      <td>WW au Maroc</td>\n",
       "      <td>Diesel</td>\n",
       "      <td>Manuelle</td>\n",
       "      <td>120000.0</td>\n",
       "      <td>129999.0</td>\n",
       "    </tr>\n",
       "    <tr>\n",
       "      <th>334</th>\n",
       "      <td>249000.0</td>\n",
       "      <td>Geely COOLRAY Essence Automatique 2023</td>\n",
       "      <td>Q8</td>\n",
       "      <td>Audi</td>\n",
       "      <td>Neuf</td>\n",
       "      <td>2025</td>\n",
       "      <td>5</td>\n",
       "      <td>Importée neuve</td>\n",
       "      <td>Diesel</td>\n",
       "      <td>Automatique</td>\n",
       "      <td>0.0</td>\n",
       "      <td>4999.0</td>\n",
       "    </tr>\n",
       "    <tr>\n",
       "      <th>335</th>\n",
       "      <td>197000.0</td>\n",
       "      <td>Toyota C-HR Essence Automatique 2019 à Casablanca</td>\n",
       "      <td>Classe E</td>\n",
       "      <td>Mercedes-Benz</td>\n",
       "      <td>Excellent</td>\n",
       "      <td>2017</td>\n",
       "      <td>5</td>\n",
       "      <td>WW au Maroc</td>\n",
       "      <td>Diesel</td>\n",
       "      <td>Automatique</td>\n",
       "      <td>110000.0</td>\n",
       "      <td>119999.0</td>\n",
       "    </tr>\n",
       "  </tbody>\n",
       "</table>\n",
       "<p>301 rows × 12 columns</p>\n",
       "</div>"
      ],
      "text/plain": [
       "       Prices                                              title     Model  \\\n",
       "0    122000.0                                        Kia Picanto   Picanto   \n",
       "1     75000.0                                       Citroën 2 cv      2 CV   \n",
       "2    138000.0                            Fiat Fiorino model 2024   Fiorino   \n",
       "3    690000.0  Audi A3 Sportback Diesel Automatique 2024 à Ta...        A3   \n",
       "4    370000.0                          Maserati Levante fin 2018   Levante   \n",
       "..        ...                                                ...       ...   \n",
       "331  340000.0        Jeep Grand Cherokee Diesel Automatique 2022     Logan   \n",
       "332  570000.0                                        bmw serie 5        Q3   \n",
       "333  143000.0                                 Dokker2021 6portes   Express   \n",
       "334  249000.0             Geely COOLRAY Essence Automatique 2023        Q8   \n",
       "335  197000.0  Toyota C-HR Essence Automatique 2019 à Casablanca  Classe E   \n",
       "\n",
       "            Marque       Etat  Annee_Modele Nombre_de_portes         Origine  \\\n",
       "0              Kia  Excellent          2024                5     WW au Maroc   \n",
       "1          Citroen   Très bon          1980                5     WW au Maroc   \n",
       "2             Fiat  Excellent          2024                5     WW au Maroc   \n",
       "3             Audi       Neuf          2024                5  Importée neuve   \n",
       "4         Maserati  Excellent          2018                5     WW au Maroc   \n",
       "..             ...        ...           ...              ...             ...   \n",
       "331          Dacia  Excellent          2021                5     WW au Maroc   \n",
       "332           Audi  Excellent          2021                5  Importée neuve   \n",
       "333        Renault  Excellent          2019                5     WW au Maroc   \n",
       "334           Audi       Neuf          2025                5  Importée neuve   \n",
       "335  Mercedes-Benz  Excellent          2017                5     WW au Maroc   \n",
       "\n",
       "    Type_de_Carburant boite_de_vitesse  Kilometrage_min  Kilometrage_max  \n",
       "0             Essence         Manuelle          25000.0          29999.0  \n",
       "1             Essence         Manuelle          90000.0          94999.0  \n",
       "2              Diesel         Manuelle          10000.0          14999.0  \n",
       "3              Diesel      Automatique              0.0           4999.0  \n",
       "4              Diesel      Automatique         120000.0         129999.0  \n",
       "..                ...              ...              ...              ...  \n",
       "331            Diesel         Manuelle         100000.0         109999.0  \n",
       "332           Essence      Automatique          65000.0          69999.0  \n",
       "333            Diesel         Manuelle         120000.0         129999.0  \n",
       "334            Diesel      Automatique              0.0           4999.0  \n",
       "335            Diesel      Automatique         110000.0         119999.0  \n",
       "\n",
       "[301 rows x 12 columns]"
      ]
     },
     "execution_count": 332,
     "metadata": {},
     "output_type": "execute_result"
    }
   ],
   "source": [
    "data = data.dropna()\n",
    "data"
   ]
  },
  {
   "cell_type": "markdown",
   "id": "fbcfd9a9",
   "metadata": {},
   "source": [
    "## Visualisation "
   ]
  },
  {
   "cell_type": "code",
   "execution_count": 334,
   "id": "d6522257",
   "metadata": {},
   "outputs": [
    {
     "data": {
      "application/vnd.plotly.v1+json": {
       "config": {
        "plotlyServerURL": "https://plot.ly"
       },
       "data": [
        {
         "alignmentgroup": "True",
         "bingroup": "x",
         "hovertemplate": "Prices=%{x}<br>count=%{y}<extra></extra>",
         "legendgroup": "",
         "marker": {
          "color": "#636efa",
          "pattern": {
           "shape": ""
          }
         },
         "name": "",
         "offsetgroup": "",
         "orientation": "v",
         "showlegend": false,
         "type": "histogram",
         "x": [
          122000,
          75000,
          138000,
          690000,
          370000,
          190000,
          159000,
          375000,
          320000,
          650000,
          118000,
          235000,
          670000,
          153000,
          96000,
          115000,
          172000,
          360000,
          220000,
          93000,
          136000,
          265000,
          162000,
          127000,
          149000,
          360000,
          123000,
          165000,
          780000,
          285000,
          219000,
          149000,
          490000,
          188000,
          430000,
          173000,
          185000,
          124000,
          490000,
          188000,
          75000,
          430000,
          173000,
          185000,
          124000,
          185000,
          385000,
          790000,
          185000,
          220000,
          100000,
          229000,
          320000,
          285000,
          220000,
          126000,
          275000,
          117000,
          398000,
          168000,
          220000,
          118000,
          209000,
          123000,
          307000,
          225000,
          175000,
          240000,
          380000,
          158000,
          235000,
          250000,
          465000,
          79000,
          257000,
          163000,
          395000,
          147000,
          229000,
          228000,
          113000,
          198500,
          390000,
          145000,
          132000,
          158000,
          358000,
          144000,
          285000,
          222000,
          260000,
          238000,
          235000,
          280000,
          135000,
          210000,
          235000,
          256000,
          117000,
          135000,
          120000,
          120000,
          190000,
          360000,
          285000,
          325000,
          150000,
          125000,
          113000,
          60000,
          78000,
          70000,
          155000,
          235000,
          112000,
          390000,
          179000,
          70000,
          285000,
          320000,
          470000,
          294000,
          145000,
          220000,
          140000,
          390000,
          268000,
          235000,
          136000,
          105000,
          125000,
          220000,
          250000,
          299000,
          107000,
          170000,
          120000,
          40000,
          78000,
          98000,
          800000,
          162000,
          150000,
          300000,
          115000,
          185000,
          170000,
          135000,
          420000,
          187000,
          147000,
          385000,
          120000,
          495000,
          242000,
          285000,
          139000,
          240000,
          118000,
          255000,
          265000,
          82000,
          89000,
          310000,
          148000,
          450000,
          150000,
          510000,
          118000,
          62000,
          62000,
          109000,
          120000,
          220000,
          41000,
          380000,
          95000,
          275000,
          135000,
          110000,
          62000,
          290000,
          705000,
          210000,
          155000,
          132000,
          395000,
          760000,
          850000,
          135000,
          128000,
          145000,
          310000,
          225000,
          62000,
          30000,
          305000,
          31000,
          390000,
          180000,
          170000,
          23000,
          200000,
          280000,
          150000,
          162000,
          200000,
          97000,
          145000,
          115000,
          119000,
          270000,
          172000,
          135000,
          98000,
          155000,
          240000,
          168000,
          147000,
          770000,
          189000,
          75000,
          118000,
          150000,
          310000,
          340000,
          157000,
          139000,
          180000,
          190000,
          128000,
          143000,
          750000,
          295000,
          450000,
          175000,
          175000,
          148000,
          450000,
          139000,
          180000,
          190000,
          128000,
          145000,
          350000,
          900000,
          170000,
          52000,
          639000,
          285000,
          110000,
          168000,
          450000,
          63000,
          579000,
          545000,
          105000,
          96000,
          150000,
          950000,
          323000,
          440000,
          140000,
          112000,
          340000,
          185000,
          273000,
          550000,
          139000,
          175000,
          660000,
          720000,
          69000,
          270000,
          149000,
          228000,
          117000,
          265000,
          185000,
          122000,
          39000,
          212000,
          58000,
          242000,
          164999,
          228000,
          117000,
          265000,
          185000,
          122000,
          39000,
          212000,
          58000,
          106000,
          164999,
          150000,
          340000,
          570000,
          143000,
          249000,
          197000
         ],
         "xaxis": "x",
         "yaxis": "y"
        }
       ],
       "layout": {
        "barmode": "relative",
        "legend": {
         "tracegroupgap": 0
        },
        "template": {
         "data": {
          "bar": [
           {
            "error_x": {
             "color": "#2a3f5f"
            },
            "error_y": {
             "color": "#2a3f5f"
            },
            "marker": {
             "line": {
              "color": "#E5ECF6",
              "width": 0.5
             },
             "pattern": {
              "fillmode": "overlay",
              "size": 10,
              "solidity": 0.2
             }
            },
            "type": "bar"
           }
          ],
          "barpolar": [
           {
            "marker": {
             "line": {
              "color": "#E5ECF6",
              "width": 0.5
             },
             "pattern": {
              "fillmode": "overlay",
              "size": 10,
              "solidity": 0.2
             }
            },
            "type": "barpolar"
           }
          ],
          "carpet": [
           {
            "aaxis": {
             "endlinecolor": "#2a3f5f",
             "gridcolor": "white",
             "linecolor": "white",
             "minorgridcolor": "white",
             "startlinecolor": "#2a3f5f"
            },
            "baxis": {
             "endlinecolor": "#2a3f5f",
             "gridcolor": "white",
             "linecolor": "white",
             "minorgridcolor": "white",
             "startlinecolor": "#2a3f5f"
            },
            "type": "carpet"
           }
          ],
          "choropleth": [
           {
            "colorbar": {
             "outlinewidth": 0,
             "ticks": ""
            },
            "type": "choropleth"
           }
          ],
          "contour": [
           {
            "colorbar": {
             "outlinewidth": 0,
             "ticks": ""
            },
            "colorscale": [
             [
              0,
              "#0d0887"
             ],
             [
              0.1111111111111111,
              "#46039f"
             ],
             [
              0.2222222222222222,
              "#7201a8"
             ],
             [
              0.3333333333333333,
              "#9c179e"
             ],
             [
              0.4444444444444444,
              "#bd3786"
             ],
             [
              0.5555555555555556,
              "#d8576b"
             ],
             [
              0.6666666666666666,
              "#ed7953"
             ],
             [
              0.7777777777777778,
              "#fb9f3a"
             ],
             [
              0.8888888888888888,
              "#fdca26"
             ],
             [
              1,
              "#f0f921"
             ]
            ],
            "type": "contour"
           }
          ],
          "contourcarpet": [
           {
            "colorbar": {
             "outlinewidth": 0,
             "ticks": ""
            },
            "type": "contourcarpet"
           }
          ],
          "heatmap": [
           {
            "colorbar": {
             "outlinewidth": 0,
             "ticks": ""
            },
            "colorscale": [
             [
              0,
              "#0d0887"
             ],
             [
              0.1111111111111111,
              "#46039f"
             ],
             [
              0.2222222222222222,
              "#7201a8"
             ],
             [
              0.3333333333333333,
              "#9c179e"
             ],
             [
              0.4444444444444444,
              "#bd3786"
             ],
             [
              0.5555555555555556,
              "#d8576b"
             ],
             [
              0.6666666666666666,
              "#ed7953"
             ],
             [
              0.7777777777777778,
              "#fb9f3a"
             ],
             [
              0.8888888888888888,
              "#fdca26"
             ],
             [
              1,
              "#f0f921"
             ]
            ],
            "type": "heatmap"
           }
          ],
          "heatmapgl": [
           {
            "colorbar": {
             "outlinewidth": 0,
             "ticks": ""
            },
            "colorscale": [
             [
              0,
              "#0d0887"
             ],
             [
              0.1111111111111111,
              "#46039f"
             ],
             [
              0.2222222222222222,
              "#7201a8"
             ],
             [
              0.3333333333333333,
              "#9c179e"
             ],
             [
              0.4444444444444444,
              "#bd3786"
             ],
             [
              0.5555555555555556,
              "#d8576b"
             ],
             [
              0.6666666666666666,
              "#ed7953"
             ],
             [
              0.7777777777777778,
              "#fb9f3a"
             ],
             [
              0.8888888888888888,
              "#fdca26"
             ],
             [
              1,
              "#f0f921"
             ]
            ],
            "type": "heatmapgl"
           }
          ],
          "histogram": [
           {
            "marker": {
             "pattern": {
              "fillmode": "overlay",
              "size": 10,
              "solidity": 0.2
             }
            },
            "type": "histogram"
           }
          ],
          "histogram2d": [
           {
            "colorbar": {
             "outlinewidth": 0,
             "ticks": ""
            },
            "colorscale": [
             [
              0,
              "#0d0887"
             ],
             [
              0.1111111111111111,
              "#46039f"
             ],
             [
              0.2222222222222222,
              "#7201a8"
             ],
             [
              0.3333333333333333,
              "#9c179e"
             ],
             [
              0.4444444444444444,
              "#bd3786"
             ],
             [
              0.5555555555555556,
              "#d8576b"
             ],
             [
              0.6666666666666666,
              "#ed7953"
             ],
             [
              0.7777777777777778,
              "#fb9f3a"
             ],
             [
              0.8888888888888888,
              "#fdca26"
             ],
             [
              1,
              "#f0f921"
             ]
            ],
            "type": "histogram2d"
           }
          ],
          "histogram2dcontour": [
           {
            "colorbar": {
             "outlinewidth": 0,
             "ticks": ""
            },
            "colorscale": [
             [
              0,
              "#0d0887"
             ],
             [
              0.1111111111111111,
              "#46039f"
             ],
             [
              0.2222222222222222,
              "#7201a8"
             ],
             [
              0.3333333333333333,
              "#9c179e"
             ],
             [
              0.4444444444444444,
              "#bd3786"
             ],
             [
              0.5555555555555556,
              "#d8576b"
             ],
             [
              0.6666666666666666,
              "#ed7953"
             ],
             [
              0.7777777777777778,
              "#fb9f3a"
             ],
             [
              0.8888888888888888,
              "#fdca26"
             ],
             [
              1,
              "#f0f921"
             ]
            ],
            "type": "histogram2dcontour"
           }
          ],
          "mesh3d": [
           {
            "colorbar": {
             "outlinewidth": 0,
             "ticks": ""
            },
            "type": "mesh3d"
           }
          ],
          "parcoords": [
           {
            "line": {
             "colorbar": {
              "outlinewidth": 0,
              "ticks": ""
             }
            },
            "type": "parcoords"
           }
          ],
          "pie": [
           {
            "automargin": true,
            "type": "pie"
           }
          ],
          "scatter": [
           {
            "fillpattern": {
             "fillmode": "overlay",
             "size": 10,
             "solidity": 0.2
            },
            "type": "scatter"
           }
          ],
          "scatter3d": [
           {
            "line": {
             "colorbar": {
              "outlinewidth": 0,
              "ticks": ""
             }
            },
            "marker": {
             "colorbar": {
              "outlinewidth": 0,
              "ticks": ""
             }
            },
            "type": "scatter3d"
           }
          ],
          "scattercarpet": [
           {
            "marker": {
             "colorbar": {
              "outlinewidth": 0,
              "ticks": ""
             }
            },
            "type": "scattercarpet"
           }
          ],
          "scattergeo": [
           {
            "marker": {
             "colorbar": {
              "outlinewidth": 0,
              "ticks": ""
             }
            },
            "type": "scattergeo"
           }
          ],
          "scattergl": [
           {
            "marker": {
             "colorbar": {
              "outlinewidth": 0,
              "ticks": ""
             }
            },
            "type": "scattergl"
           }
          ],
          "scattermapbox": [
           {
            "marker": {
             "colorbar": {
              "outlinewidth": 0,
              "ticks": ""
             }
            },
            "type": "scattermapbox"
           }
          ],
          "scatterpolar": [
           {
            "marker": {
             "colorbar": {
              "outlinewidth": 0,
              "ticks": ""
             }
            },
            "type": "scatterpolar"
           }
          ],
          "scatterpolargl": [
           {
            "marker": {
             "colorbar": {
              "outlinewidth": 0,
              "ticks": ""
             }
            },
            "type": "scatterpolargl"
           }
          ],
          "scatterternary": [
           {
            "marker": {
             "colorbar": {
              "outlinewidth": 0,
              "ticks": ""
             }
            },
            "type": "scatterternary"
           }
          ],
          "surface": [
           {
            "colorbar": {
             "outlinewidth": 0,
             "ticks": ""
            },
            "colorscale": [
             [
              0,
              "#0d0887"
             ],
             [
              0.1111111111111111,
              "#46039f"
             ],
             [
              0.2222222222222222,
              "#7201a8"
             ],
             [
              0.3333333333333333,
              "#9c179e"
             ],
             [
              0.4444444444444444,
              "#bd3786"
             ],
             [
              0.5555555555555556,
              "#d8576b"
             ],
             [
              0.6666666666666666,
              "#ed7953"
             ],
             [
              0.7777777777777778,
              "#fb9f3a"
             ],
             [
              0.8888888888888888,
              "#fdca26"
             ],
             [
              1,
              "#f0f921"
             ]
            ],
            "type": "surface"
           }
          ],
          "table": [
           {
            "cells": {
             "fill": {
              "color": "#EBF0F8"
             },
             "line": {
              "color": "white"
             }
            },
            "header": {
             "fill": {
              "color": "#C8D4E3"
             },
             "line": {
              "color": "white"
             }
            },
            "type": "table"
           }
          ]
         },
         "layout": {
          "annotationdefaults": {
           "arrowcolor": "#2a3f5f",
           "arrowhead": 0,
           "arrowwidth": 1
          },
          "autotypenumbers": "strict",
          "coloraxis": {
           "colorbar": {
            "outlinewidth": 0,
            "ticks": ""
           }
          },
          "colorscale": {
           "diverging": [
            [
             0,
             "#8e0152"
            ],
            [
             0.1,
             "#c51b7d"
            ],
            [
             0.2,
             "#de77ae"
            ],
            [
             0.3,
             "#f1b6da"
            ],
            [
             0.4,
             "#fde0ef"
            ],
            [
             0.5,
             "#f7f7f7"
            ],
            [
             0.6,
             "#e6f5d0"
            ],
            [
             0.7,
             "#b8e186"
            ],
            [
             0.8,
             "#7fbc41"
            ],
            [
             0.9,
             "#4d9221"
            ],
            [
             1,
             "#276419"
            ]
           ],
           "sequential": [
            [
             0,
             "#0d0887"
            ],
            [
             0.1111111111111111,
             "#46039f"
            ],
            [
             0.2222222222222222,
             "#7201a8"
            ],
            [
             0.3333333333333333,
             "#9c179e"
            ],
            [
             0.4444444444444444,
             "#bd3786"
            ],
            [
             0.5555555555555556,
             "#d8576b"
            ],
            [
             0.6666666666666666,
             "#ed7953"
            ],
            [
             0.7777777777777778,
             "#fb9f3a"
            ],
            [
             0.8888888888888888,
             "#fdca26"
            ],
            [
             1,
             "#f0f921"
            ]
           ],
           "sequentialminus": [
            [
             0,
             "#0d0887"
            ],
            [
             0.1111111111111111,
             "#46039f"
            ],
            [
             0.2222222222222222,
             "#7201a8"
            ],
            [
             0.3333333333333333,
             "#9c179e"
            ],
            [
             0.4444444444444444,
             "#bd3786"
            ],
            [
             0.5555555555555556,
             "#d8576b"
            ],
            [
             0.6666666666666666,
             "#ed7953"
            ],
            [
             0.7777777777777778,
             "#fb9f3a"
            ],
            [
             0.8888888888888888,
             "#fdca26"
            ],
            [
             1,
             "#f0f921"
            ]
           ]
          },
          "colorway": [
           "#636efa",
           "#EF553B",
           "#00cc96",
           "#ab63fa",
           "#FFA15A",
           "#19d3f3",
           "#FF6692",
           "#B6E880",
           "#FF97FF",
           "#FECB52"
          ],
          "font": {
           "color": "#2a3f5f"
          },
          "geo": {
           "bgcolor": "white",
           "lakecolor": "white",
           "landcolor": "#E5ECF6",
           "showlakes": true,
           "showland": true,
           "subunitcolor": "white"
          },
          "hoverlabel": {
           "align": "left"
          },
          "hovermode": "closest",
          "mapbox": {
           "style": "light"
          },
          "paper_bgcolor": "white",
          "plot_bgcolor": "#E5ECF6",
          "polar": {
           "angularaxis": {
            "gridcolor": "white",
            "linecolor": "white",
            "ticks": ""
           },
           "bgcolor": "#E5ECF6",
           "radialaxis": {
            "gridcolor": "white",
            "linecolor": "white",
            "ticks": ""
           }
          },
          "scene": {
           "xaxis": {
            "backgroundcolor": "#E5ECF6",
            "gridcolor": "white",
            "gridwidth": 2,
            "linecolor": "white",
            "showbackground": true,
            "ticks": "",
            "zerolinecolor": "white"
           },
           "yaxis": {
            "backgroundcolor": "#E5ECF6",
            "gridcolor": "white",
            "gridwidth": 2,
            "linecolor": "white",
            "showbackground": true,
            "ticks": "",
            "zerolinecolor": "white"
           },
           "zaxis": {
            "backgroundcolor": "#E5ECF6",
            "gridcolor": "white",
            "gridwidth": 2,
            "linecolor": "white",
            "showbackground": true,
            "ticks": "",
            "zerolinecolor": "white"
           }
          },
          "shapedefaults": {
           "line": {
            "color": "#2a3f5f"
           }
          },
          "ternary": {
           "aaxis": {
            "gridcolor": "white",
            "linecolor": "white",
            "ticks": ""
           },
           "baxis": {
            "gridcolor": "white",
            "linecolor": "white",
            "ticks": ""
           },
           "bgcolor": "#E5ECF6",
           "caxis": {
            "gridcolor": "white",
            "linecolor": "white",
            "ticks": ""
           }
          },
          "title": {
           "x": 0.05
          },
          "xaxis": {
           "automargin": true,
           "gridcolor": "white",
           "linecolor": "white",
           "ticks": "",
           "title": {
            "standoff": 15
           },
           "zerolinecolor": "white",
           "zerolinewidth": 2
          },
          "yaxis": {
           "automargin": true,
           "gridcolor": "white",
           "linecolor": "white",
           "ticks": "",
           "title": {
            "standoff": 15
           },
           "zerolinecolor": "white",
           "zerolinewidth": 2
          }
         }
        },
        "title": {
         "text": "Distribution des prix"
        },
        "xaxis": {
         "anchor": "y",
         "domain": [
          0,
          1
         ],
         "title": {
          "text": "Prices"
         }
        },
        "yaxis": {
         "anchor": "x",
         "domain": [
          0,
          1
         ],
         "title": {
          "text": "count"
         }
        }
       }
      },
      "text/html": [
       "<div>                            <div id=\"bb1fea5c-a1d1-4c0c-beb6-5d296bc30cd6\" class=\"plotly-graph-div\" style=\"height:525px; width:100%;\"></div>            <script type=\"text/javascript\">                require([\"plotly\"], function(Plotly) {                    window.PLOTLYENV=window.PLOTLYENV || {};                                    if (document.getElementById(\"bb1fea5c-a1d1-4c0c-beb6-5d296bc30cd6\")) {                    Plotly.newPlot(                        \"bb1fea5c-a1d1-4c0c-beb6-5d296bc30cd6\",                        [{\"alignmentgroup\":\"True\",\"bingroup\":\"x\",\"hovertemplate\":\"Prices=%{x}<br>count=%{y}<extra></extra>\",\"legendgroup\":\"\",\"marker\":{\"color\":\"#636efa\",\"pattern\":{\"shape\":\"\"}},\"name\":\"\",\"offsetgroup\":\"\",\"orientation\":\"v\",\"showlegend\":false,\"x\":[122000.0,75000.0,138000.0,690000.0,370000.0,190000.0,159000.0,375000.0,320000.0,650000.0,118000.0,235000.0,670000.0,153000.0,96000.0,115000.0,172000.0,360000.0,220000.0,93000.0,136000.0,265000.0,162000.0,127000.0,149000.0,360000.0,123000.0,165000.0,780000.0,285000.0,219000.0,149000.0,490000.0,188000.0,430000.0,173000.0,185000.0,124000.0,490000.0,188000.0,75000.0,430000.0,173000.0,185000.0,124000.0,185000.0,385000.0,790000.0,185000.0,220000.0,100000.0,229000.0,320000.0,285000.0,220000.0,126000.0,275000.0,117000.0,398000.0,168000.0,220000.0,118000.0,209000.0,123000.0,307000.0,225000.0,175000.0,240000.0,380000.0,158000.0,235000.0,250000.0,465000.0,79000.0,257000.0,163000.0,395000.0,147000.0,229000.0,228000.0,113000.0,198500.0,390000.0,145000.0,132000.0,158000.0,358000.0,144000.0,285000.0,222000.0,260000.0,238000.0,235000.0,280000.0,135000.0,210000.0,235000.0,256000.0,117000.0,135000.0,120000.0,120000.0,190000.0,360000.0,285000.0,325000.0,150000.0,125000.0,113000.0,60000.0,78000.0,70000.0,155000.0,235000.0,112000.0,390000.0,179000.0,70000.0,285000.0,320000.0,470000.0,294000.0,145000.0,220000.0,140000.0,390000.0,268000.0,235000.0,136000.0,105000.0,125000.0,220000.0,250000.0,299000.0,107000.0,170000.0,120000.0,40000.0,78000.0,98000.0,800000.0,162000.0,150000.0,300000.0,115000.0,185000.0,170000.0,135000.0,420000.0,187000.0,147000.0,385000.0,120000.0,495000.0,242000.0,285000.0,139000.0,240000.0,118000.0,255000.0,265000.0,82000.0,89000.0,310000.0,148000.0,450000.0,150000.0,510000.0,118000.0,62000.0,62000.0,109000.0,120000.0,220000.0,41000.0,380000.0,95000.0,275000.0,135000.0,110000.0,62000.0,290000.0,705000.0,210000.0,155000.0,132000.0,395000.0,760000.0,850000.0,135000.0,128000.0,145000.0,310000.0,225000.0,62000.0,30000.0,305000.0,31000.0,390000.0,180000.0,170000.0,23000.0,200000.0,280000.0,150000.0,162000.0,200000.0,97000.0,145000.0,115000.0,119000.0,270000.0,172000.0,135000.0,98000.0,155000.0,240000.0,168000.0,147000.0,770000.0,189000.0,75000.0,118000.0,150000.0,310000.0,340000.0,157000.0,139000.0,180000.0,190000.0,128000.0,143000.0,750000.0,295000.0,450000.0,175000.0,175000.0,148000.0,450000.0,139000.0,180000.0,190000.0,128000.0,145000.0,350000.0,900000.0,170000.0,52000.0,639000.0,285000.0,110000.0,168000.0,450000.0,63000.0,579000.0,545000.0,105000.0,96000.0,150000.0,950000.0,323000.0,440000.0,140000.0,112000.0,340000.0,185000.0,273000.0,550000.0,139000.0,175000.0,660000.0,720000.0,69000.0,270000.0,149000.0,228000.0,117000.0,265000.0,185000.0,122000.0,39000.0,212000.0,58000.0,242000.0,164999.0,228000.0,117000.0,265000.0,185000.0,122000.0,39000.0,212000.0,58000.0,106000.0,164999.0,150000.0,340000.0,570000.0,143000.0,249000.0,197000.0],\"xaxis\":\"x\",\"yaxis\":\"y\",\"type\":\"histogram\"}],                        {\"template\":{\"data\":{\"histogram2dcontour\":[{\"type\":\"histogram2dcontour\",\"colorbar\":{\"outlinewidth\":0,\"ticks\":\"\"},\"colorscale\":[[0.0,\"#0d0887\"],[0.1111111111111111,\"#46039f\"],[0.2222222222222222,\"#7201a8\"],[0.3333333333333333,\"#9c179e\"],[0.4444444444444444,\"#bd3786\"],[0.5555555555555556,\"#d8576b\"],[0.6666666666666666,\"#ed7953\"],[0.7777777777777778,\"#fb9f3a\"],[0.8888888888888888,\"#fdca26\"],[1.0,\"#f0f921\"]]}],\"choropleth\":[{\"type\":\"choropleth\",\"colorbar\":{\"outlinewidth\":0,\"ticks\":\"\"}}],\"histogram2d\":[{\"type\":\"histogram2d\",\"colorbar\":{\"outlinewidth\":0,\"ticks\":\"\"},\"colorscale\":[[0.0,\"#0d0887\"],[0.1111111111111111,\"#46039f\"],[0.2222222222222222,\"#7201a8\"],[0.3333333333333333,\"#9c179e\"],[0.4444444444444444,\"#bd3786\"],[0.5555555555555556,\"#d8576b\"],[0.6666666666666666,\"#ed7953\"],[0.7777777777777778,\"#fb9f3a\"],[0.8888888888888888,\"#fdca26\"],[1.0,\"#f0f921\"]]}],\"heatmap\":[{\"type\":\"heatmap\",\"colorbar\":{\"outlinewidth\":0,\"ticks\":\"\"},\"colorscale\":[[0.0,\"#0d0887\"],[0.1111111111111111,\"#46039f\"],[0.2222222222222222,\"#7201a8\"],[0.3333333333333333,\"#9c179e\"],[0.4444444444444444,\"#bd3786\"],[0.5555555555555556,\"#d8576b\"],[0.6666666666666666,\"#ed7953\"],[0.7777777777777778,\"#fb9f3a\"],[0.8888888888888888,\"#fdca26\"],[1.0,\"#f0f921\"]]}],\"heatmapgl\":[{\"type\":\"heatmapgl\",\"colorbar\":{\"outlinewidth\":0,\"ticks\":\"\"},\"colorscale\":[[0.0,\"#0d0887\"],[0.1111111111111111,\"#46039f\"],[0.2222222222222222,\"#7201a8\"],[0.3333333333333333,\"#9c179e\"],[0.4444444444444444,\"#bd3786\"],[0.5555555555555556,\"#d8576b\"],[0.6666666666666666,\"#ed7953\"],[0.7777777777777778,\"#fb9f3a\"],[0.8888888888888888,\"#fdca26\"],[1.0,\"#f0f921\"]]}],\"contourcarpet\":[{\"type\":\"contourcarpet\",\"colorbar\":{\"outlinewidth\":0,\"ticks\":\"\"}}],\"contour\":[{\"type\":\"contour\",\"colorbar\":{\"outlinewidth\":0,\"ticks\":\"\"},\"colorscale\":[[0.0,\"#0d0887\"],[0.1111111111111111,\"#46039f\"],[0.2222222222222222,\"#7201a8\"],[0.3333333333333333,\"#9c179e\"],[0.4444444444444444,\"#bd3786\"],[0.5555555555555556,\"#d8576b\"],[0.6666666666666666,\"#ed7953\"],[0.7777777777777778,\"#fb9f3a\"],[0.8888888888888888,\"#fdca26\"],[1.0,\"#f0f921\"]]}],\"surface\":[{\"type\":\"surface\",\"colorbar\":{\"outlinewidth\":0,\"ticks\":\"\"},\"colorscale\":[[0.0,\"#0d0887\"],[0.1111111111111111,\"#46039f\"],[0.2222222222222222,\"#7201a8\"],[0.3333333333333333,\"#9c179e\"],[0.4444444444444444,\"#bd3786\"],[0.5555555555555556,\"#d8576b\"],[0.6666666666666666,\"#ed7953\"],[0.7777777777777778,\"#fb9f3a\"],[0.8888888888888888,\"#fdca26\"],[1.0,\"#f0f921\"]]}],\"mesh3d\":[{\"type\":\"mesh3d\",\"colorbar\":{\"outlinewidth\":0,\"ticks\":\"\"}}],\"scatter\":[{\"fillpattern\":{\"fillmode\":\"overlay\",\"size\":10,\"solidity\":0.2},\"type\":\"scatter\"}],\"parcoords\":[{\"type\":\"parcoords\",\"line\":{\"colorbar\":{\"outlinewidth\":0,\"ticks\":\"\"}}}],\"scatterpolargl\":[{\"type\":\"scatterpolargl\",\"marker\":{\"colorbar\":{\"outlinewidth\":0,\"ticks\":\"\"}}}],\"bar\":[{\"error_x\":{\"color\":\"#2a3f5f\"},\"error_y\":{\"color\":\"#2a3f5f\"},\"marker\":{\"line\":{\"color\":\"#E5ECF6\",\"width\":0.5},\"pattern\":{\"fillmode\":\"overlay\",\"size\":10,\"solidity\":0.2}},\"type\":\"bar\"}],\"scattergeo\":[{\"type\":\"scattergeo\",\"marker\":{\"colorbar\":{\"outlinewidth\":0,\"ticks\":\"\"}}}],\"scatterpolar\":[{\"type\":\"scatterpolar\",\"marker\":{\"colorbar\":{\"outlinewidth\":0,\"ticks\":\"\"}}}],\"histogram\":[{\"marker\":{\"pattern\":{\"fillmode\":\"overlay\",\"size\":10,\"solidity\":0.2}},\"type\":\"histogram\"}],\"scattergl\":[{\"type\":\"scattergl\",\"marker\":{\"colorbar\":{\"outlinewidth\":0,\"ticks\":\"\"}}}],\"scatter3d\":[{\"type\":\"scatter3d\",\"line\":{\"colorbar\":{\"outlinewidth\":0,\"ticks\":\"\"}},\"marker\":{\"colorbar\":{\"outlinewidth\":0,\"ticks\":\"\"}}}],\"scattermapbox\":[{\"type\":\"scattermapbox\",\"marker\":{\"colorbar\":{\"outlinewidth\":0,\"ticks\":\"\"}}}],\"scatterternary\":[{\"type\":\"scatterternary\",\"marker\":{\"colorbar\":{\"outlinewidth\":0,\"ticks\":\"\"}}}],\"scattercarpet\":[{\"type\":\"scattercarpet\",\"marker\":{\"colorbar\":{\"outlinewidth\":0,\"ticks\":\"\"}}}],\"carpet\":[{\"aaxis\":{\"endlinecolor\":\"#2a3f5f\",\"gridcolor\":\"white\",\"linecolor\":\"white\",\"minorgridcolor\":\"white\",\"startlinecolor\":\"#2a3f5f\"},\"baxis\":{\"endlinecolor\":\"#2a3f5f\",\"gridcolor\":\"white\",\"linecolor\":\"white\",\"minorgridcolor\":\"white\",\"startlinecolor\":\"#2a3f5f\"},\"type\":\"carpet\"}],\"table\":[{\"cells\":{\"fill\":{\"color\":\"#EBF0F8\"},\"line\":{\"color\":\"white\"}},\"header\":{\"fill\":{\"color\":\"#C8D4E3\"},\"line\":{\"color\":\"white\"}},\"type\":\"table\"}],\"barpolar\":[{\"marker\":{\"line\":{\"color\":\"#E5ECF6\",\"width\":0.5},\"pattern\":{\"fillmode\":\"overlay\",\"size\":10,\"solidity\":0.2}},\"type\":\"barpolar\"}],\"pie\":[{\"automargin\":true,\"type\":\"pie\"}]},\"layout\":{\"autotypenumbers\":\"strict\",\"colorway\":[\"#636efa\",\"#EF553B\",\"#00cc96\",\"#ab63fa\",\"#FFA15A\",\"#19d3f3\",\"#FF6692\",\"#B6E880\",\"#FF97FF\",\"#FECB52\"],\"font\":{\"color\":\"#2a3f5f\"},\"hovermode\":\"closest\",\"hoverlabel\":{\"align\":\"left\"},\"paper_bgcolor\":\"white\",\"plot_bgcolor\":\"#E5ECF6\",\"polar\":{\"bgcolor\":\"#E5ECF6\",\"angularaxis\":{\"gridcolor\":\"white\",\"linecolor\":\"white\",\"ticks\":\"\"},\"radialaxis\":{\"gridcolor\":\"white\",\"linecolor\":\"white\",\"ticks\":\"\"}},\"ternary\":{\"bgcolor\":\"#E5ECF6\",\"aaxis\":{\"gridcolor\":\"white\",\"linecolor\":\"white\",\"ticks\":\"\"},\"baxis\":{\"gridcolor\":\"white\",\"linecolor\":\"white\",\"ticks\":\"\"},\"caxis\":{\"gridcolor\":\"white\",\"linecolor\":\"white\",\"ticks\":\"\"}},\"coloraxis\":{\"colorbar\":{\"outlinewidth\":0,\"ticks\":\"\"}},\"colorscale\":{\"sequential\":[[0.0,\"#0d0887\"],[0.1111111111111111,\"#46039f\"],[0.2222222222222222,\"#7201a8\"],[0.3333333333333333,\"#9c179e\"],[0.4444444444444444,\"#bd3786\"],[0.5555555555555556,\"#d8576b\"],[0.6666666666666666,\"#ed7953\"],[0.7777777777777778,\"#fb9f3a\"],[0.8888888888888888,\"#fdca26\"],[1.0,\"#f0f921\"]],\"sequentialminus\":[[0.0,\"#0d0887\"],[0.1111111111111111,\"#46039f\"],[0.2222222222222222,\"#7201a8\"],[0.3333333333333333,\"#9c179e\"],[0.4444444444444444,\"#bd3786\"],[0.5555555555555556,\"#d8576b\"],[0.6666666666666666,\"#ed7953\"],[0.7777777777777778,\"#fb9f3a\"],[0.8888888888888888,\"#fdca26\"],[1.0,\"#f0f921\"]],\"diverging\":[[0,\"#8e0152\"],[0.1,\"#c51b7d\"],[0.2,\"#de77ae\"],[0.3,\"#f1b6da\"],[0.4,\"#fde0ef\"],[0.5,\"#f7f7f7\"],[0.6,\"#e6f5d0\"],[0.7,\"#b8e186\"],[0.8,\"#7fbc41\"],[0.9,\"#4d9221\"],[1,\"#276419\"]]},\"xaxis\":{\"gridcolor\":\"white\",\"linecolor\":\"white\",\"ticks\":\"\",\"title\":{\"standoff\":15},\"zerolinecolor\":\"white\",\"automargin\":true,\"zerolinewidth\":2},\"yaxis\":{\"gridcolor\":\"white\",\"linecolor\":\"white\",\"ticks\":\"\",\"title\":{\"standoff\":15},\"zerolinecolor\":\"white\",\"automargin\":true,\"zerolinewidth\":2},\"scene\":{\"xaxis\":{\"backgroundcolor\":\"#E5ECF6\",\"gridcolor\":\"white\",\"linecolor\":\"white\",\"showbackground\":true,\"ticks\":\"\",\"zerolinecolor\":\"white\",\"gridwidth\":2},\"yaxis\":{\"backgroundcolor\":\"#E5ECF6\",\"gridcolor\":\"white\",\"linecolor\":\"white\",\"showbackground\":true,\"ticks\":\"\",\"zerolinecolor\":\"white\",\"gridwidth\":2},\"zaxis\":{\"backgroundcolor\":\"#E5ECF6\",\"gridcolor\":\"white\",\"linecolor\":\"white\",\"showbackground\":true,\"ticks\":\"\",\"zerolinecolor\":\"white\",\"gridwidth\":2}},\"shapedefaults\":{\"line\":{\"color\":\"#2a3f5f\"}},\"annotationdefaults\":{\"arrowcolor\":\"#2a3f5f\",\"arrowhead\":0,\"arrowwidth\":1},\"geo\":{\"bgcolor\":\"white\",\"landcolor\":\"#E5ECF6\",\"subunitcolor\":\"white\",\"showland\":true,\"showlakes\":true,\"lakecolor\":\"white\"},\"title\":{\"x\":0.05},\"mapbox\":{\"style\":\"light\"}}},\"xaxis\":{\"anchor\":\"y\",\"domain\":[0.0,1.0],\"title\":{\"text\":\"Prices\"}},\"yaxis\":{\"anchor\":\"x\",\"domain\":[0.0,1.0],\"title\":{\"text\":\"count\"}},\"legend\":{\"tracegroupgap\":0},\"title\":{\"text\":\"Distribution des prix\"},\"barmode\":\"relative\"},                        {\"responsive\": true}                    ).then(function(){\n",
       "                            \n",
       "var gd = document.getElementById('bb1fea5c-a1d1-4c0c-beb6-5d296bc30cd6');\n",
       "var x = new MutationObserver(function (mutations, observer) {{\n",
       "        var display = window.getComputedStyle(gd).display;\n",
       "        if (!display || display === 'none') {{\n",
       "            console.log([gd, 'removed!']);\n",
       "            Plotly.purge(gd);\n",
       "            observer.disconnect();\n",
       "        }}\n",
       "}});\n",
       "\n",
       "// Listen for the removal of the full notebook cells\n",
       "var notebookContainer = gd.closest('#notebook-container');\n",
       "if (notebookContainer) {{\n",
       "    x.observe(notebookContainer, {childList: true});\n",
       "}}\n",
       "\n",
       "// Listen for the clearing of the current output cell\n",
       "var outputEl = gd.closest('.output');\n",
       "if (outputEl) {{\n",
       "    x.observe(outputEl, {childList: true});\n",
       "}}\n",
       "\n",
       "                        })                };                });            </script>        </div>"
      ]
     },
     "metadata": {},
     "output_type": "display_data"
    }
   ],
   "source": [
    "fig=px.histogram(data,\n",
    "                 x=\"Prices\",\n",
    "                 hover_data=data.columns,\n",
    "                 title=\"Distribution des prix\")\n",
    "\n",
    "fig.show()"
   ]
  },
  {
   "cell_type": "code",
   "execution_count": 336,
   "id": "45ddf99a",
   "metadata": {},
   "outputs": [
    {
     "data": {
      "application/vnd.plotly.v1+json": {
       "config": {
        "plotlyServerURL": "https://plot.ly"
       },
       "data": [
        {
         "alignmentgroup": "True",
         "bingroup": "x",
         "hovertemplate": "title=%{x}<br>count=%{y}<extra></extra>",
         "legendgroup": "",
         "marker": {
          "color": "#636efa",
          "pattern": {
           "shape": ""
          }
         },
         "name": "",
         "offsetgroup": "",
         "orientation": "v",
         "showlegend": false,
         "type": "histogram",
         "x": [
          "Kia Picanto",
          "Citroën 2 cv",
          "Fiat Fiorino model 2024",
          "Audi A3 Sportback Diesel Automatique 2024 à Tanger",
          "Maserati Levante fin 2018",
          "Renault Megane automatique Intense faible Km",
          "Golf 7 Diwana 2023",
          "Maserati Levante Diesel Automatique 2017",
          "Audi Q3 Diesel Automatique 2019 à Casablanca",
          "Land Rover Range Rover Sport Diesel Automatique",
          "kia Picanto 2021",
          "Peugeot 3008 HDI",
          "Mercedes-Benz Classe C Diesel Automatique 2022",
          "Opel combo",
          "Fiat punto modèle 2019",
          "Ds4 full options automatique 6cv",
          "Volkswagen touareg",
          "Tiguan R line",
          "BMW SERIE 5 Diesel Automatique 2015 à Casablanca",
          "Fiat 500 diesel",
          "Renault clio 5 tout option",
          "Hyundai tucson automatique full option",
          "Duster automatique 2021",
          "Citroen cactus Automatique diesel",
          "Honda CR-V Diesel 1,6L Automatique 6cv",
          "Land Rover Velar Diesel Automatique 2017 à Salé",
          "nissan juke reprise",
          "Dacia Duster 4*4 toutes options 2020 Tetouan",
          "Audi RSQ3 2023",
          "Mercedes-Benz Classe GLC Diesel Automatique 2015",
          "SEAT IBIZA FR 1.0 TSI AUTOMATIQUE TTesOPTIONS 2024",
          "Volkswagen golf 7 Diesel tout option",
          "Volkswagen Tiguan Diesel Automatique 2021 à Rabat",
          "Volkswagen Beetle Diesel Automatique 2017",
          "Mercedes-Benz Classe C Diesel Automatique 2019",
          "Volkswagen Touareg Diesel Automatique 2015",
          "range evoque",
          "Dacia doker",
          "Volkswagen Tiguan Diesel Automatique 2021 à Rabat",
          "Volkswagen Beetle Diesel Automatique 2017",
          "Ford Fiesta 2012 essence 1.2L",
          "Mercedes-Benz Classe C Diesel Automatique 2019",
          "Volkswagen Touareg Diesel Automatique 2015",
          "range evoque",
          "Dacia doker",
          "VOLVO V40 Diesel Automatique 2019 à Rabat.",
          "Mercedes- A200d PACK AMG",
          "Volkswagen Golf 8.5 R facelift",
          "Peugeot - Rifter 2021",
          "Fiat 500X automatique full option 1er main",
          "Ford fiesta diesel",
          "Peugeot 2008 Diesel Automatique modèle fin 2020",
          "mercedes-Benz GLA AMG",
          "Audi Q5 Diesel Automatique 2014 à Errachidia",
          "Renault Mégane 4 intens automatique",
          "Nissan Micra Diesel",
          "BMW Série 5 Diesel Automatique 2017 à Marrakech",
          "Opel Astra Diesel",
          "RANGE ROVER SPORT AUTOBIOGRAPHY STARTECH TTOPTIONS",
          "Peugeot 208 Essence Manuelle 2024 à Marrakech",
          "Toyota Corolla Hybride Automatique 2021 à Tétouan",
          "Renault Clio 4 modèle 2019",
          "Dacia Duster Diesel Manuelle 2022 à Salé",
          "c3 model 2019",
          "Volkswagen Golf 8 Diesel Automatique 2022",
          "Renault Megane Diesel Automatique 2020 à Tanger",
          "volvo v40 etat neuf",
          "alfa Stelio",
          "Tesla Model 3 Electrique BVA 2021 Dédouané 2025",
          "HONDA CIVIC Diesel Automatique 2018 à Casablanca.",
          "Jaguar XE R sport fin 2016 1ère main",
          "Jeep Wrangler Sahara Unlimited",
          "volkswagen tiguan Rline",
          "Megane 3 coupé 1.9",
          "Renault Megane Diesel Automatique 2024 à Marrakech",
          "Opel Crossland X Diesel 2023 tt option",
          "Land Rover Velar Diesel Automatique 2017",
          "Kia Picanto Essence Automatique 2024 à Casablanca",
          "Peugeot 2008 Diesel Manuelle 2021 à Casablanca",
          "Octavia Ambition",
          "Renault Clio Diesel Manuelle 2019 à Fès",
          "Hyundai Tucson Diesel Automatique 2016",
          "Volkswagen Touareg Diesel Automatique 2020",
          "opel corsa 2023",
          "Seat Ibiza Essence Manuelle 2021 à Marrakech",
          "Peugeot 208 model 2022",
          "Audi q5 Diesel tout option",
          "clio 5 2022",
          "VOLKSWAGEN TOUAREG Diesel Automatique 2019",
          "Volkswagen Touran Diesel Automatique 2016 à Fès",
          "Jeep Grand Cherokee",
          "Cretaaa Outoumatiq tt opsion",
          "bmw x1 Sport",
          "Volkswagen Polo R-line essence",
          "Renault Clio Essence Automatique 2023 à Marrakech",
          "Audi~A3 top",
          "Audi A5 2litre 8CHV Jamais ACCIDENTÉ",
          "Rare Evoque à Vendre",
          "Fiat 500 Essence Automatique 2019 à Tétouan",
          "Touareg diesel",
          "Land rover freelander 2 modèle 2012",
          "Land rover freelander 2 modèle 2012",
          "Touran Serié Cup full options",
          "TOUAREG 60000 km",
          "JEEP AVENGER 08/2024 FULL OPTION",
          "tiguan model 2021",
          "S5 V6T B8 3L TFSI STAGE2",
          "Dacia Sandero Stepway automatique",
          "Renault Clio Diesel Manuelle 2017 à Béni Mellal",
          "207 essnace",
          "Volkswagen Polo Essence Manuelle 2011 à Tanger",
          "Ssangyoung corando diesel Reprise",
          "dacia doker",
          "Volkswagen Arteon business 2019",
          "hyundai accent diesel",
          "Jeep wrangler",
          "Jeep Renegade Diesel Automatique 2022 à Marrakech",
          "kangoo D65 Mazout Modèle 2008",
          "Volkswagen T-Roc Diesel Automatique 2021 à Salé",
          "BMW X6 3.0 DIESEL",
          "Porshe Mancan S 2021",
          "Volkswagen T-Roc Diesel Automatique 2023",
          "Opel Astra Diesel Automatique 2019 à Fès",
          "Peugeot 3008",
          "Peugeot 208 tout option 2021 à Fès",
          "Audi Q7 diesel 2019",
          "Land Rover Range Rover Sport Diesel Automatique",
          "Maserati Ghibli Diesel Automatique 2014",
          "a5 coupé 3.0tdi quattro",
          "Isuzu D.MAX mliha",
          "BMW Série 5 Diesel Automatique 2010 à Rabat",
          "BMW SERIES 4 420",
          "golf 7,5 gti ligne akra povic",
          "Land Rover Range Rover Evoque Diesel Automatique",
          "volkswagen Golf 6 diesel",
          "Range Rover Sport Autobiography",
          "Renault Captur Diesel Manuelle 2015 à Casablanca",
          "clio",
          "fiat",
          "Mini Mini",
          "Audi Q8 Quatre",
          "Opel corsa Gs model 2022",
          "Jeep grand Cherokee overland 2019",
          "jeep compass",
          "Clio intense Faiibl kilométrage",
          "Volkswagen Touareg Diesel Automatique",
          "Mercedes C200 fin 2013",
          "Jeep Grand Cherokee Limited",
          "Audi Q5 Diesel Automatique 2021 à Casablanca",
          "VOLKSWAGEN JETTA 2L TDI FULL OPTIONS",
          "Fiat 500L modèle 2017",
          "Volkswagen Touareg Diesel Automatique 2022",
          "ford focus model 2014",
          "Mercedes GLA 200 d 2024 - 23 000 KM Distinctive",
          "Opel Mokka GS Line plus 1ère main 2023",
          "Range Rover Evoque R dynamique",
          "Clio 5 tt option",
          "BMW X1 Diesel Automatique 2017 à Casablanca",
          "Renault clio diesel",
          "Peugeot 3008 Diesel Automatique 2019 à Tétouan",
          "master 3 pano neuf",
          "Polo r 6 esance",
          "Renault Fluence Diesel Manuelle 2012 à Deroua",
          "renault",
          "Clio 4 automatique 2020 tout option",
          "Bmw serie 318d 3.000km",
          "Mini One Diesel première main 2016 à Mohammedia",
          "Mercedes-Benz Classe C200 Essence Automatique 2023",
          "Dacia dokker modèle 2019",
          "Peugeot Partner Diesel Manuelle 2008 à Tanger",
          "لوكان البيع 2007عامرة",
          "opel corsa",
          "CLIO DIESEL",
          "Toyota Corolla Hybride Automatique 2021 à Tanger",
          "renault megane",
          "golf 8 gtd",
          "Toyota Corolla 2013",
          "Mercedes C220",
          "Dacia dokker diesel",
          "CHERY TIGGO 2 PRO",
          "Peugeot Partner Diesel Manuelle 2008 à Tanger",
          "Mercedes-Benz 220 Diesel Automatique 2017 à Rabat",
          "Mitsubishi",
          "opel mokka",
          "Peugeot 308 Diesel Automatique 2020 à Mohammedia",
          "Volkswagen Golf 6 dédouanée",
          "seat tarraco",
          "bmw x5",
          "AUDI Q8 SLINE",
          "dacia dokker",
          "Renault Clio 4 Intense",
          "DFSK glory 500 neuve",
          "Peugeot 3008 Diesel Automatique 2022 à Casablanca",
          "Hyundai Tucson Diesel Automatique 2018 à Rabat",
          "Mercedes-Benz 250 Diesel Automatique 1991",
          "Honda Civic Essence Manuelle 1994 à Settat",
          "Mercedes-Benz Classe C Diesel Automatique 2016",
          "fiat sienna",
          "golf 8 gtd 200 chv",
          "OPEL CORSA Essence Automatique 2023",
          "golf 7",
          "190 mercedess",
          "mercedes-benz classe a",
          "toyota corolla",
          "KIFAL - DACIA Duster",
          "renault express",
          "BMW Série 316 Diesel",
          "OPEL ZAFIRA 1.7",
          "clio 5 2022",
          "Blw série 1",
          "Fiat 500 Essence Automatique 2019 à Rabat",
          "BMW Série 1 Diesel Automatique 2020 à Casablanca",
          "Citroen C3 AIRCROSS 2022 à Tanger",
          "volvo xc60 D4",
          "Citroën C-Elysée Essence 6ch Manuelle 2020",
          "renault express",
          "AUDI Q5 Diesel Automatique 2016 à Casablanca",
          "volkswagen passat cc",
          "Fiat Tipo Essence Automatique 2023 à Casablanca",
          "Audi Q8 black édition",
          "Ford Focus",
          "Ford ranger 4x4 Climatisée",
          "fiat 500",
          "NISSAN PATHFINDER 2012 REPRISE OK",
          "Volkswagen Golf8",
          "BMW Série 3 Sport 2020",
          "Hyundai i10 1.0 MPI Seductive",
          "Hyundai i20 Essence Automatique 2019 à Casablanca",
          "Opel corsa fin 2024 neuf",
          "Jepp grand cherokee overland full option",
          "Fourd focus sport 1premain",
          "Peugeot 208 diesel",
          "Porsche Panamera",
          "Land Rover Range Rover Sport Diesel Automatique",
          "Mercedes-Benz Classe CLA Diesel",
          "Duster automatique Diesel",
          "Hyundai Accent 1.5 Attractive",
          "PEUGEOT 208 (Active Pack) 06/2022 à Tanger",
          "Range Rover sport black édition",
          "Hyundai i20 Essence Automatique 2019 à Casablanca",
          "Opel corsa fin 2024 neuf",
          "Jepp grand cherokee overland full option",
          "Fourd focus sport 1premain",
          "clio diesel l'intense automatique 1ere main 2021",
          "BMW X4 Diesel Automatique 2020 à Marrakech",
          "Mercedez GLE 63S V8 Biturbo Automatique",
          "BMW Série 5 Diesel Automatique 2012 à Casablanca",
          "Tucson automatique",
          "Range sport autobiographie",
          "Grandland X2024 automatique",
          "Dacia Duster",
          "Jeep Grand Cherokee Diesel Ouvarland",
          "Range rover sport dynamique 2019",
          "KIA OPIRUS ESSENCE V6 2009 REPRISE OK",
          "Range Rover sport dynamique plus",
          "Mercedes CLS 350d 2019",
          "Renault Megane Diesel Manuelle 2013 à Tétouan",
          "peugeot 2008 clim",
          "BELLE ALFA ROMÉO 159 DIESEL FAIBLE KILOMÉTRAGE",
          "Porsche Cayenne Hybride",
          "Kia Sportage Design Plus toit et cuire",
          "Range Rover autobiographie restylee",
          "BELLE TOUAREG V6 FAIBLE KILOMÉTRAGE REPRISE OK",
          "Skoda Octavia Diesel Manuelle 2012 à Agadir",
          "Jeep Grand Cherokee Diesel Automatique 2022",
          "Opel Crossland X Diesel Automatique 2022 à Agadir",
          "Peugeot 3008 2.0 Allure",
          "VW TIGWAN R320 akrapovic",
          "Peugeot Expert 9 Places 2019",
          "Hyundai Accent 1.5 Attractive",
          "MERCEDES Classe E 220 d AMG line",
          "Audi Q8 S line Diesel",
          "Hyundai Tucson automatique",
          "Mercedes C220 Amg",
          "Renault clio5 diesel",
          "Toyota yaris cross hybride",
          "Toyota Auris Diesel Manuelle 2014 à Kénitra",
          "citroen",
          "Hyundai creta 2020 diesel",
          "clio 4 automatique",
          "MERCEDES 190 D 92 dédouaner 2005",
          "Abarth 595 Essence Automatique 2017 à Casablanca",
          "Volvo XC90 Essence",
          "Jeep cherokee night Eagles",
          "Opel Crossland X Diesel Manuelle 2019 à Casablanca",
          "Toyota yaris cross hybride",
          "Toyota Auris Diesel Manuelle 2014 à Kénitra",
          "citroen",
          "Hyundai creta 2020 diesel",
          "clio 4 automatique",
          "MERCEDES 190 D 92 dédouaner 2005",
          "Abarth 595 Essence Automatique 2017 à Casablanca",
          "Volvo XC90 Essence",
          "Dacia dokker 2017 1ere main 🤚",
          "Opel Crossland X Diesel Manuelle 2019 à Casablanca",
          "Volkswagen Touareg Diesel Automatique 2015",
          "Jeep Grand Cherokee Diesel Automatique 2022",
          "bmw serie 5",
          "Dokker2021 6portes",
          "Geely COOLRAY Essence Automatique 2023",
          "Toyota C-HR Essence Automatique 2019 à Casablanca"
         ],
         "xaxis": "x",
         "yaxis": "y"
        }
       ],
       "layout": {
        "barmode": "relative",
        "legend": {
         "tracegroupgap": 0
        },
        "template": {
         "data": {
          "bar": [
           {
            "error_x": {
             "color": "#2a3f5f"
            },
            "error_y": {
             "color": "#2a3f5f"
            },
            "marker": {
             "line": {
              "color": "#E5ECF6",
              "width": 0.5
             },
             "pattern": {
              "fillmode": "overlay",
              "size": 10,
              "solidity": 0.2
             }
            },
            "type": "bar"
           }
          ],
          "barpolar": [
           {
            "marker": {
             "line": {
              "color": "#E5ECF6",
              "width": 0.5
             },
             "pattern": {
              "fillmode": "overlay",
              "size": 10,
              "solidity": 0.2
             }
            },
            "type": "barpolar"
           }
          ],
          "carpet": [
           {
            "aaxis": {
             "endlinecolor": "#2a3f5f",
             "gridcolor": "white",
             "linecolor": "white",
             "minorgridcolor": "white",
             "startlinecolor": "#2a3f5f"
            },
            "baxis": {
             "endlinecolor": "#2a3f5f",
             "gridcolor": "white",
             "linecolor": "white",
             "minorgridcolor": "white",
             "startlinecolor": "#2a3f5f"
            },
            "type": "carpet"
           }
          ],
          "choropleth": [
           {
            "colorbar": {
             "outlinewidth": 0,
             "ticks": ""
            },
            "type": "choropleth"
           }
          ],
          "contour": [
           {
            "colorbar": {
             "outlinewidth": 0,
             "ticks": ""
            },
            "colorscale": [
             [
              0,
              "#0d0887"
             ],
             [
              0.1111111111111111,
              "#46039f"
             ],
             [
              0.2222222222222222,
              "#7201a8"
             ],
             [
              0.3333333333333333,
              "#9c179e"
             ],
             [
              0.4444444444444444,
              "#bd3786"
             ],
             [
              0.5555555555555556,
              "#d8576b"
             ],
             [
              0.6666666666666666,
              "#ed7953"
             ],
             [
              0.7777777777777778,
              "#fb9f3a"
             ],
             [
              0.8888888888888888,
              "#fdca26"
             ],
             [
              1,
              "#f0f921"
             ]
            ],
            "type": "contour"
           }
          ],
          "contourcarpet": [
           {
            "colorbar": {
             "outlinewidth": 0,
             "ticks": ""
            },
            "type": "contourcarpet"
           }
          ],
          "heatmap": [
           {
            "colorbar": {
             "outlinewidth": 0,
             "ticks": ""
            },
            "colorscale": [
             [
              0,
              "#0d0887"
             ],
             [
              0.1111111111111111,
              "#46039f"
             ],
             [
              0.2222222222222222,
              "#7201a8"
             ],
             [
              0.3333333333333333,
              "#9c179e"
             ],
             [
              0.4444444444444444,
              "#bd3786"
             ],
             [
              0.5555555555555556,
              "#d8576b"
             ],
             [
              0.6666666666666666,
              "#ed7953"
             ],
             [
              0.7777777777777778,
              "#fb9f3a"
             ],
             [
              0.8888888888888888,
              "#fdca26"
             ],
             [
              1,
              "#f0f921"
             ]
            ],
            "type": "heatmap"
           }
          ],
          "heatmapgl": [
           {
            "colorbar": {
             "outlinewidth": 0,
             "ticks": ""
            },
            "colorscale": [
             [
              0,
              "#0d0887"
             ],
             [
              0.1111111111111111,
              "#46039f"
             ],
             [
              0.2222222222222222,
              "#7201a8"
             ],
             [
              0.3333333333333333,
              "#9c179e"
             ],
             [
              0.4444444444444444,
              "#bd3786"
             ],
             [
              0.5555555555555556,
              "#d8576b"
             ],
             [
              0.6666666666666666,
              "#ed7953"
             ],
             [
              0.7777777777777778,
              "#fb9f3a"
             ],
             [
              0.8888888888888888,
              "#fdca26"
             ],
             [
              1,
              "#f0f921"
             ]
            ],
            "type": "heatmapgl"
           }
          ],
          "histogram": [
           {
            "marker": {
             "pattern": {
              "fillmode": "overlay",
              "size": 10,
              "solidity": 0.2
             }
            },
            "type": "histogram"
           }
          ],
          "histogram2d": [
           {
            "colorbar": {
             "outlinewidth": 0,
             "ticks": ""
            },
            "colorscale": [
             [
              0,
              "#0d0887"
             ],
             [
              0.1111111111111111,
              "#46039f"
             ],
             [
              0.2222222222222222,
              "#7201a8"
             ],
             [
              0.3333333333333333,
              "#9c179e"
             ],
             [
              0.4444444444444444,
              "#bd3786"
             ],
             [
              0.5555555555555556,
              "#d8576b"
             ],
             [
              0.6666666666666666,
              "#ed7953"
             ],
             [
              0.7777777777777778,
              "#fb9f3a"
             ],
             [
              0.8888888888888888,
              "#fdca26"
             ],
             [
              1,
              "#f0f921"
             ]
            ],
            "type": "histogram2d"
           }
          ],
          "histogram2dcontour": [
           {
            "colorbar": {
             "outlinewidth": 0,
             "ticks": ""
            },
            "colorscale": [
             [
              0,
              "#0d0887"
             ],
             [
              0.1111111111111111,
              "#46039f"
             ],
             [
              0.2222222222222222,
              "#7201a8"
             ],
             [
              0.3333333333333333,
              "#9c179e"
             ],
             [
              0.4444444444444444,
              "#bd3786"
             ],
             [
              0.5555555555555556,
              "#d8576b"
             ],
             [
              0.6666666666666666,
              "#ed7953"
             ],
             [
              0.7777777777777778,
              "#fb9f3a"
             ],
             [
              0.8888888888888888,
              "#fdca26"
             ],
             [
              1,
              "#f0f921"
             ]
            ],
            "type": "histogram2dcontour"
           }
          ],
          "mesh3d": [
           {
            "colorbar": {
             "outlinewidth": 0,
             "ticks": ""
            },
            "type": "mesh3d"
           }
          ],
          "parcoords": [
           {
            "line": {
             "colorbar": {
              "outlinewidth": 0,
              "ticks": ""
             }
            },
            "type": "parcoords"
           }
          ],
          "pie": [
           {
            "automargin": true,
            "type": "pie"
           }
          ],
          "scatter": [
           {
            "fillpattern": {
             "fillmode": "overlay",
             "size": 10,
             "solidity": 0.2
            },
            "type": "scatter"
           }
          ],
          "scatter3d": [
           {
            "line": {
             "colorbar": {
              "outlinewidth": 0,
              "ticks": ""
             }
            },
            "marker": {
             "colorbar": {
              "outlinewidth": 0,
              "ticks": ""
             }
            },
            "type": "scatter3d"
           }
          ],
          "scattercarpet": [
           {
            "marker": {
             "colorbar": {
              "outlinewidth": 0,
              "ticks": ""
             }
            },
            "type": "scattercarpet"
           }
          ],
          "scattergeo": [
           {
            "marker": {
             "colorbar": {
              "outlinewidth": 0,
              "ticks": ""
             }
            },
            "type": "scattergeo"
           }
          ],
          "scattergl": [
           {
            "marker": {
             "colorbar": {
              "outlinewidth": 0,
              "ticks": ""
             }
            },
            "type": "scattergl"
           }
          ],
          "scattermapbox": [
           {
            "marker": {
             "colorbar": {
              "outlinewidth": 0,
              "ticks": ""
             }
            },
            "type": "scattermapbox"
           }
          ],
          "scatterpolar": [
           {
            "marker": {
             "colorbar": {
              "outlinewidth": 0,
              "ticks": ""
             }
            },
            "type": "scatterpolar"
           }
          ],
          "scatterpolargl": [
           {
            "marker": {
             "colorbar": {
              "outlinewidth": 0,
              "ticks": ""
             }
            },
            "type": "scatterpolargl"
           }
          ],
          "scatterternary": [
           {
            "marker": {
             "colorbar": {
              "outlinewidth": 0,
              "ticks": ""
             }
            },
            "type": "scatterternary"
           }
          ],
          "surface": [
           {
            "colorbar": {
             "outlinewidth": 0,
             "ticks": ""
            },
            "colorscale": [
             [
              0,
              "#0d0887"
             ],
             [
              0.1111111111111111,
              "#46039f"
             ],
             [
              0.2222222222222222,
              "#7201a8"
             ],
             [
              0.3333333333333333,
              "#9c179e"
             ],
             [
              0.4444444444444444,
              "#bd3786"
             ],
             [
              0.5555555555555556,
              "#d8576b"
             ],
             [
              0.6666666666666666,
              "#ed7953"
             ],
             [
              0.7777777777777778,
              "#fb9f3a"
             ],
             [
              0.8888888888888888,
              "#fdca26"
             ],
             [
              1,
              "#f0f921"
             ]
            ],
            "type": "surface"
           }
          ],
          "table": [
           {
            "cells": {
             "fill": {
              "color": "#EBF0F8"
             },
             "line": {
              "color": "white"
             }
            },
            "header": {
             "fill": {
              "color": "#C8D4E3"
             },
             "line": {
              "color": "white"
             }
            },
            "type": "table"
           }
          ]
         },
         "layout": {
          "annotationdefaults": {
           "arrowcolor": "#2a3f5f",
           "arrowhead": 0,
           "arrowwidth": 1
          },
          "autotypenumbers": "strict",
          "coloraxis": {
           "colorbar": {
            "outlinewidth": 0,
            "ticks": ""
           }
          },
          "colorscale": {
           "diverging": [
            [
             0,
             "#8e0152"
            ],
            [
             0.1,
             "#c51b7d"
            ],
            [
             0.2,
             "#de77ae"
            ],
            [
             0.3,
             "#f1b6da"
            ],
            [
             0.4,
             "#fde0ef"
            ],
            [
             0.5,
             "#f7f7f7"
            ],
            [
             0.6,
             "#e6f5d0"
            ],
            [
             0.7,
             "#b8e186"
            ],
            [
             0.8,
             "#7fbc41"
            ],
            [
             0.9,
             "#4d9221"
            ],
            [
             1,
             "#276419"
            ]
           ],
           "sequential": [
            [
             0,
             "#0d0887"
            ],
            [
             0.1111111111111111,
             "#46039f"
            ],
            [
             0.2222222222222222,
             "#7201a8"
            ],
            [
             0.3333333333333333,
             "#9c179e"
            ],
            [
             0.4444444444444444,
             "#bd3786"
            ],
            [
             0.5555555555555556,
             "#d8576b"
            ],
            [
             0.6666666666666666,
             "#ed7953"
            ],
            [
             0.7777777777777778,
             "#fb9f3a"
            ],
            [
             0.8888888888888888,
             "#fdca26"
            ],
            [
             1,
             "#f0f921"
            ]
           ],
           "sequentialminus": [
            [
             0,
             "#0d0887"
            ],
            [
             0.1111111111111111,
             "#46039f"
            ],
            [
             0.2222222222222222,
             "#7201a8"
            ],
            [
             0.3333333333333333,
             "#9c179e"
            ],
            [
             0.4444444444444444,
             "#bd3786"
            ],
            [
             0.5555555555555556,
             "#d8576b"
            ],
            [
             0.6666666666666666,
             "#ed7953"
            ],
            [
             0.7777777777777778,
             "#fb9f3a"
            ],
            [
             0.8888888888888888,
             "#fdca26"
            ],
            [
             1,
             "#f0f921"
            ]
           ]
          },
          "colorway": [
           "#636efa",
           "#EF553B",
           "#00cc96",
           "#ab63fa",
           "#FFA15A",
           "#19d3f3",
           "#FF6692",
           "#B6E880",
           "#FF97FF",
           "#FECB52"
          ],
          "font": {
           "color": "#2a3f5f"
          },
          "geo": {
           "bgcolor": "white",
           "lakecolor": "white",
           "landcolor": "#E5ECF6",
           "showlakes": true,
           "showland": true,
           "subunitcolor": "white"
          },
          "hoverlabel": {
           "align": "left"
          },
          "hovermode": "closest",
          "mapbox": {
           "style": "light"
          },
          "paper_bgcolor": "white",
          "plot_bgcolor": "#E5ECF6",
          "polar": {
           "angularaxis": {
            "gridcolor": "white",
            "linecolor": "white",
            "ticks": ""
           },
           "bgcolor": "#E5ECF6",
           "radialaxis": {
            "gridcolor": "white",
            "linecolor": "white",
            "ticks": ""
           }
          },
          "scene": {
           "xaxis": {
            "backgroundcolor": "#E5ECF6",
            "gridcolor": "white",
            "gridwidth": 2,
            "linecolor": "white",
            "showbackground": true,
            "ticks": "",
            "zerolinecolor": "white"
           },
           "yaxis": {
            "backgroundcolor": "#E5ECF6",
            "gridcolor": "white",
            "gridwidth": 2,
            "linecolor": "white",
            "showbackground": true,
            "ticks": "",
            "zerolinecolor": "white"
           },
           "zaxis": {
            "backgroundcolor": "#E5ECF6",
            "gridcolor": "white",
            "gridwidth": 2,
            "linecolor": "white",
            "showbackground": true,
            "ticks": "",
            "zerolinecolor": "white"
           }
          },
          "shapedefaults": {
           "line": {
            "color": "#2a3f5f"
           }
          },
          "ternary": {
           "aaxis": {
            "gridcolor": "white",
            "linecolor": "white",
            "ticks": ""
           },
           "baxis": {
            "gridcolor": "white",
            "linecolor": "white",
            "ticks": ""
           },
           "bgcolor": "#E5ECF6",
           "caxis": {
            "gridcolor": "white",
            "linecolor": "white",
            "ticks": ""
           }
          },
          "title": {
           "x": 0.05
          },
          "xaxis": {
           "automargin": true,
           "gridcolor": "white",
           "linecolor": "white",
           "ticks": "",
           "title": {
            "standoff": 15
           },
           "zerolinecolor": "white",
           "zerolinewidth": 2
          },
          "yaxis": {
           "automargin": true,
           "gridcolor": "white",
           "linecolor": "white",
           "ticks": "",
           "title": {
            "standoff": 15
           },
           "zerolinecolor": "white",
           "zerolinewidth": 2
          }
         }
        },
        "title": {
         "text": "Distribution of the title"
        },
        "xaxis": {
         "anchor": "y",
         "domain": [
          0,
          1
         ],
         "title": {
          "text": "title"
         }
        },
        "yaxis": {
         "anchor": "x",
         "domain": [
          0,
          1
         ],
         "title": {
          "text": "count"
         }
        }
       }
      },
      "text/html": [
       "<div>                            <div id=\"7ab74bad-f843-4d09-89c3-c42e8e5b5918\" class=\"plotly-graph-div\" style=\"height:525px; width:100%;\"></div>            <script type=\"text/javascript\">                require([\"plotly\"], function(Plotly) {                    window.PLOTLYENV=window.PLOTLYENV || {};                                    if (document.getElementById(\"7ab74bad-f843-4d09-89c3-c42e8e5b5918\")) {                    Plotly.newPlot(                        \"7ab74bad-f843-4d09-89c3-c42e8e5b5918\",                        [{\"alignmentgroup\":\"True\",\"bingroup\":\"x\",\"hovertemplate\":\"title=%{x}<br>count=%{y}<extra></extra>\",\"legendgroup\":\"\",\"marker\":{\"color\":\"#636efa\",\"pattern\":{\"shape\":\"\"}},\"name\":\"\",\"offsetgroup\":\"\",\"orientation\":\"v\",\"showlegend\":false,\"x\":[\"Kia Picanto\",\"Citro\\u00ebn 2 cv\",\"Fiat Fiorino model 2024\",\"Audi A3 Sportback Diesel Automatique 2024 \\u00e0 Tanger\",\"Maserati Levante fin 2018\",\"Renault Megane automatique Intense faible Km\",\"Golf 7 Diwana 2023\",\"Maserati Levante Diesel Automatique 2017\",\"Audi Q3 Diesel Automatique 2019 \\u00e0 Casablanca\",\"Land Rover Range Rover Sport Diesel Automatique\",\"kia Picanto 2021\",\"Peugeot 3008 HDI\",\"Mercedes-Benz Classe C Diesel Automatique 2022\",\"Opel combo\",\"Fiat punto mod\\u00e8le 2019\",\"Ds4 full options automatique 6cv\",\"Volkswagen touareg\",\"Tiguan R line\",\"BMW SERIE 5 Diesel Automatique 2015 \\u00e0 Casablanca\",\"Fiat 500 diesel\",\"Renault clio 5 tout option\",\"Hyundai tucson automatique full option\",\"Duster automatique 2021\",\"Citroen cactus Automatique diesel\",\"Honda CR-V Diesel 1,6L Automatique 6cv\",\"Land Rover Velar Diesel Automatique 2017 \\u00e0 Sal\\u00e9\",\"nissan juke reprise\",\"Dacia Duster 4*4 toutes options 2020 Tetouan\",\"Audi RSQ3 2023\",\"Mercedes-Benz Classe GLC Diesel Automatique 2015\",\"SEAT IBIZA FR 1.0 TSI AUTOMATIQUE TTesOPTIONS 2024\",\"Volkswagen golf 7 Diesel tout option\",\"Volkswagen Tiguan Diesel Automatique 2021 \\u00e0 Rabat\",\"Volkswagen Beetle Diesel Automatique 2017\",\"Mercedes-Benz Classe C Diesel Automatique 2019\",\"Volkswagen Touareg Diesel Automatique 2015\",\"range evoque\",\"Dacia doker\",\"Volkswagen Tiguan Diesel Automatique 2021 \\u00e0 Rabat\",\"Volkswagen Beetle Diesel Automatique 2017\",\"Ford Fiesta 2012 essence 1.2L\",\"Mercedes-Benz Classe C Diesel Automatique 2019\",\"Volkswagen Touareg Diesel Automatique 2015\",\"range evoque\",\"Dacia doker\",\"VOLVO V40 Diesel Automatique 2019 \\u00e0 Rabat.\",\"Mercedes- A200d PACK AMG\",\"Volkswagen Golf 8.5 R facelift\",\"Peugeot - Rifter 2021\",\"Fiat 500X automatique full option 1er main\",\"Ford fiesta diesel\",\"Peugeot 2008 Diesel Automatique mod\\u00e8le fin 2020\",\"mercedes-Benz GLA AMG\",\"Audi Q5 Diesel Automatique 2014 \\u00e0 Errachidia\",\"Renault M\\u00e9gane 4 intens automatique\",\"Nissan Micra Diesel\",\"BMW S\\u00e9rie 5 Diesel Automatique 2017 \\u00e0 Marrakech\",\"Opel Astra Diesel\",\"RANGE ROVER SPORT AUTOBIOGRAPHY STARTECH TTOPTIONS\",\"Peugeot 208 Essence Manuelle 2024 \\u00e0 Marrakech\",\"Toyota Corolla Hybride Automatique 2021 \\u00e0 T\\u00e9touan\",\"Renault Clio 4 mod\\u00e8le 2019\",\"Dacia Duster Diesel Manuelle 2022 \\u00e0 Sal\\u00e9\",\"c3 model 2019\",\"Volkswagen Golf 8 Diesel Automatique 2022\",\"Renault Megane Diesel Automatique 2020 \\u00e0 Tanger\",\"volvo v40 etat neuf\",\"alfa Stelio\",\"Tesla Model 3 Electrique BVA 2021 D\\u00e9douan\\u00e9 2025\",\"HONDA CIVIC Diesel Automatique 2018 \\u00e0 Casablanca.\",\"Jaguar XE R sport fin 2016 1\\u00e8re main\",\"Jeep Wrangler Sahara Unlimited\",\"volkswagen tiguan Rline\",\"Megane 3 coup\\u00e9 1.9\",\"Renault Megane Diesel Automatique 2024 \\u00e0 Marrakech\",\"Opel Crossland X Diesel 2023 tt option\",\"Land Rover Velar Diesel Automatique 2017\",\"Kia Picanto Essence Automatique 2024 \\u00e0 Casablanca\",\"Peugeot 2008 Diesel Manuelle 2021 \\u00e0 Casablanca\",\"Octavia Ambition\",\"Renault Clio Diesel Manuelle 2019 \\u00e0 F\\u00e8s\",\"Hyundai Tucson Diesel Automatique 2016\",\"Volkswagen Touareg Diesel Automatique 2020\",\"opel corsa 2023\",\"Seat Ibiza Essence Manuelle 2021 \\u00e0 Marrakech\",\"Peugeot 208 model 2022\",\"Audi q5 Diesel tout option\",\"clio 5 2022\",\"VOLKSWAGEN TOUAREG Diesel Automatique 2019\",\"Volkswagen Touran Diesel Automatique 2016 \\u00e0 F\\u00e8s\",\"Jeep Grand Cherokee\",\"Cretaaa Outoumatiq tt opsion\",\"bmw x1 Sport\",\"Volkswagen Polo R-line essence\",\"Renault Clio Essence Automatique 2023 \\u00e0 Marrakech\",\"Audi~A3 top\",\"Audi A5 2litre 8CHV Jamais ACCIDENT\\u00c9\",\"Rare Evoque \\u00e0 Vendre\",\"Fiat 500 Essence Automatique 2019 \\u00e0 T\\u00e9touan\",\"Touareg diesel\",\"Land rover freelander 2 mod\\u00e8le 2012\",\"Land rover freelander 2 mod\\u00e8le 2012\",\"Touran Seri\\u00e9 Cup full options\",\"TOUAREG 60000 km\",\"JEEP AVENGER 08/2024 FULL OPTION\",\"tiguan model 2021\",\"S5 V6T B8 3L TFSI STAGE2\",\"Dacia Sandero Stepway automatique\",\"Renault Clio Diesel Manuelle 2017 \\u00e0 B\\u00e9ni Mellal\",\"207 essnace\",\"Volkswagen Polo Essence Manuelle 2011 \\u00e0 Tanger\",\"Ssangyoung corando diesel Reprise\",\"dacia doker\",\"Volkswagen Arteon business 2019\",\"hyundai accent diesel\",\"Jeep wrangler\",\"Jeep Renegade Diesel Automatique 2022 \\u00e0 Marrakech\",\"kangoo D65 Mazout Mod\\u00e8le 2008\",\"Volkswagen T-Roc Diesel Automatique 2021 \\u00e0 Sal\\u00e9\",\"BMW X6 3.0 DIESEL\",\"Porshe Mancan S 2021\",\"Volkswagen T-Roc Diesel Automatique 2023\",\"Opel Astra Diesel Automatique 2019 \\u00e0 F\\u00e8s\",\"Peugeot 3008\",\"Peugeot 208 tout option 2021 \\u00e0 F\\u00e8s\",\"Audi Q7 diesel 2019\",\"Land Rover Range Rover Sport Diesel Automatique\",\"Maserati Ghibli Diesel Automatique 2014\",\"a5 coup\\u00e9 3.0tdi quattro\",\"Isuzu D.MAX mliha\",\"BMW S\\u00e9rie 5 Diesel Automatique 2010 \\u00e0 Rabat\",\"BMW SERIES 4 420\",\"golf 7,5 gti ligne akra povic\",\"Land Rover Range Rover Evoque Diesel Automatique\",\"volkswagen Golf 6 diesel\",\"Range Rover Sport Autobiography\",\"Renault Captur Diesel Manuelle 2015 \\u00e0 Casablanca\",\"clio\",\"fiat\",\"Mini Mini\",\"Audi Q8 Quatre\",\"Opel corsa Gs model 2022\",\"Jeep grand Cherokee overland 2019\",\"jeep compass\",\"Clio intense Faiibl kilom\\u00e9trage\",\"Volkswagen Touareg Diesel Automatique\",\"Mercedes C200 fin 2013\",\"Jeep Grand Cherokee Limited\",\"Audi Q5 Diesel Automatique 2021 \\u00e0 Casablanca\",\"VOLKSWAGEN JETTA 2L TDI FULL OPTIONS\",\"Fiat 500L mod\\u00e8le 2017\",\"Volkswagen Touareg Diesel Automatique 2022\",\"ford focus model 2014\",\"Mercedes GLA 200 d 2024 - 23 000 KM Distinctive\",\"Opel Mokka GS Line plus 1\\u00e8re main 2023\",\"Range Rover Evoque R dynamique\",\"Clio 5 tt option\",\"BMW X1 Diesel Automatique 2017 \\u00e0 Casablanca\",\"Renault clio diesel\",\"Peugeot 3008 Diesel Automatique 2019 \\u00e0 T\\u00e9touan\",\"master 3 pano neuf\",\"Polo r 6 esance\",\"Renault Fluence Diesel Manuelle 2012 \\u00e0 Deroua\",\"renault\",\"Clio 4 automatique 2020 tout option\",\"Bmw serie 318d 3.000km\",\"Mini One Diesel premi\\u00e8re main 2016 \\u00e0 Mohammedia\",\"Mercedes-Benz Classe C200 Essence Automatique 2023\",\"Dacia dokker mod\\u00e8le 2019\",\"Peugeot Partner Diesel Manuelle 2008 \\u00e0 Tanger\",\"\\u0644\\u0648\\u0643\\u0627\\u0646 \\u0627\\u0644\\u0628\\u064a\\u0639 2007\\u0639\\u0627\\u0645\\u0631\\u0629\",\"opel corsa\",\"CLIO DIESEL\",\"Toyota Corolla Hybride Automatique 2021 \\u00e0 Tanger\",\"renault megane\",\"golf 8 gtd\",\"Toyota Corolla 2013\",\"Mercedes C220\",\"Dacia dokker diesel\",\"CHERY TIGGO 2 PRO\",\"Peugeot Partner Diesel Manuelle 2008 \\u00e0 Tanger\",\"Mercedes-Benz 220 Diesel Automatique 2017 \\u00e0 Rabat\",\"Mitsubishi\",\"opel mokka\",\"Peugeot 308 Diesel Automatique 2020 \\u00e0 Mohammedia\",\"Volkswagen Golf 6 d\\u00e9douan\\u00e9e\",\"seat tarraco\",\"bmw x5\",\"AUDI Q8 SLINE\",\"dacia dokker\",\"Renault Clio 4 Intense\",\"DFSK glory 500 neuve\",\"Peugeot 3008 Diesel Automatique 2022 \\u00e0 Casablanca\",\"Hyundai Tucson Diesel Automatique 2018 \\u00e0 Rabat\",\"Mercedes-Benz 250 Diesel Automatique 1991\",\"Honda Civic Essence Manuelle 1994 \\u00e0 Settat\",\"Mercedes-Benz Classe C Diesel Automatique 2016\",\"fiat sienna\",\"golf 8 gtd 200 chv\",\"OPEL CORSA Essence Automatique 2023\",\"golf 7\",\"190 mercedess\",\"mercedes-benz classe a\",\"toyota corolla\",\"KIFAL - DACIA Duster\",\"renault express\",\"BMW S\\u00e9rie 316 Diesel\",\"OPEL ZAFIRA 1.7\",\"clio 5 2022\",\"Blw s\\u00e9rie 1\",\"Fiat 500 Essence Automatique 2019 \\u00e0 Rabat\",\"BMW S\\u00e9rie 1 Diesel Automatique 2020 \\u00e0 Casablanca\",\"Citroen C3 AIRCROSS 2022 \\u00e0 Tanger\",\"volvo xc60 D4\",\"Citro\\u00ebn C-Elys\\u00e9e Essence 6ch Manuelle 2020\",\"renault express\",\"AUDI Q5 Diesel Automatique 2016 \\u00e0 Casablanca\",\"volkswagen passat cc\",\"Fiat Tipo Essence Automatique 2023 \\u00e0 Casablanca\",\"Audi Q8 black \\u00e9dition\",\"Ford Focus\",\"Ford ranger 4x4 Climatis\\u00e9e\",\"fiat 500\",\"NISSAN PATHFINDER 2012 REPRISE OK\",\"Volkswagen Golf8\",\"BMW S\\u00e9rie 3 Sport 2020\",\"Hyundai i10 1.0 MPI Seductive\",\"Hyundai i20 Essence Automatique 2019 \\u00e0 Casablanca\",\"Opel corsa fin 2024 neuf\",\"Jepp grand cherokee overland full option\",\"Fourd focus sport 1premain\",\"Peugeot 208 diesel\",\"Porsche Panamera\",\"Land Rover Range Rover Sport Diesel Automatique\",\"Mercedes-Benz Classe CLA Diesel\",\"Duster automatique Diesel\",\"Hyundai Accent 1.5 Attractive\",\"PEUGEOT 208 (Active Pack) 06/2022 \\u00e0 Tanger\",\"Range Rover sport black \\u00e9dition\",\"Hyundai i20 Essence Automatique 2019 \\u00e0 Casablanca\",\"Opel corsa fin 2024 neuf\",\"Jepp grand cherokee overland full option\",\"Fourd focus sport 1premain\",\"clio diesel l'intense automatique 1ere main 2021\",\"BMW X4 Diesel Automatique 2020 \\u00e0 Marrakech\",\"Mercedez GLE 63S V8 Biturbo Automatique\",\"BMW S\\u00e9rie 5 Diesel Automatique 2012 \\u00e0 Casablanca\",\"Tucson automatique\",\"Range sport autobiographie\",\"Grandland X2024 automatique\",\"Dacia Duster\",\"Jeep Grand Cherokee Diesel Ouvarland\",\"Range rover sport dynamique 2019\",\"KIA OPIRUS ESSENCE V6 2009 REPRISE OK\",\"Range Rover sport dynamique plus\",\"Mercedes CLS 350d 2019\",\"Renault Megane Diesel Manuelle 2013 \\u00e0 T\\u00e9touan\",\"peugeot 2008 clim\",\"BELLE ALFA ROM\\u00c9O 159 DIESEL FAIBLE KILOM\\u00c9TRAGE\",\"Porsche Cayenne Hybride\",\"Kia Sportage Design Plus toit et cuire\",\"Range Rover autobiographie restylee\",\"BELLE TOUAREG V6 FAIBLE KILOM\\u00c9TRAGE REPRISE OK\",\"Skoda Octavia Diesel Manuelle 2012 \\u00e0 Agadir\",\"Jeep Grand Cherokee Diesel Automatique 2022\",\"Opel Crossland X Diesel Automatique 2022 \\u00e0 Agadir\",\"Peugeot 3008 2.0 Allure\",\"VW TIGWAN R320 akrapovic\",\"Peugeot Expert 9 Places 2019\",\"Hyundai Accent 1.5 Attractive\",\"MERCEDES Classe E 220 d AMG line\",\"Audi Q8 S line Diesel\",\"Hyundai Tucson automatique\",\"Mercedes C220 Amg\",\"Renault clio5 diesel\",\"Toyota yaris cross hybride\",\"Toyota Auris Diesel Manuelle 2014 \\u00e0 K\\u00e9nitra\",\"citroen\",\"Hyundai creta 2020 diesel\",\"clio 4 automatique\",\"MERCEDES 190 D 92 d\\u00e9douaner 2005\",\"Abarth 595 Essence Automatique 2017 \\u00e0 Casablanca\",\"Volvo XC90 Essence\",\"Jeep cherokee night Eagles\",\"Opel Crossland X Diesel Manuelle 2019 \\u00e0 Casablanca\",\"Toyota yaris cross hybride\",\"Toyota Auris Diesel Manuelle 2014 \\u00e0 K\\u00e9nitra\",\"citroen\",\"Hyundai creta 2020 diesel\",\"clio 4 automatique\",\"MERCEDES 190 D 92 d\\u00e9douaner 2005\",\"Abarth 595 Essence Automatique 2017 \\u00e0 Casablanca\",\"Volvo XC90 Essence\",\"Dacia dokker 2017 1ere main \\ud83e\\udd1a\",\"Opel Crossland X Diesel Manuelle 2019 \\u00e0 Casablanca\",\"Volkswagen Touareg Diesel Automatique 2015\",\"Jeep Grand Cherokee Diesel Automatique 2022\",\"bmw serie 5\",\"Dokker2021 6portes\",\"Geely COOLRAY Essence Automatique 2023\",\"Toyota C-HR Essence Automatique 2019 \\u00e0 Casablanca\"],\"xaxis\":\"x\",\"yaxis\":\"y\",\"type\":\"histogram\"}],                        {\"template\":{\"data\":{\"histogram2dcontour\":[{\"type\":\"histogram2dcontour\",\"colorbar\":{\"outlinewidth\":0,\"ticks\":\"\"},\"colorscale\":[[0.0,\"#0d0887\"],[0.1111111111111111,\"#46039f\"],[0.2222222222222222,\"#7201a8\"],[0.3333333333333333,\"#9c179e\"],[0.4444444444444444,\"#bd3786\"],[0.5555555555555556,\"#d8576b\"],[0.6666666666666666,\"#ed7953\"],[0.7777777777777778,\"#fb9f3a\"],[0.8888888888888888,\"#fdca26\"],[1.0,\"#f0f921\"]]}],\"choropleth\":[{\"type\":\"choropleth\",\"colorbar\":{\"outlinewidth\":0,\"ticks\":\"\"}}],\"histogram2d\":[{\"type\":\"histogram2d\",\"colorbar\":{\"outlinewidth\":0,\"ticks\":\"\"},\"colorscale\":[[0.0,\"#0d0887\"],[0.1111111111111111,\"#46039f\"],[0.2222222222222222,\"#7201a8\"],[0.3333333333333333,\"#9c179e\"],[0.4444444444444444,\"#bd3786\"],[0.5555555555555556,\"#d8576b\"],[0.6666666666666666,\"#ed7953\"],[0.7777777777777778,\"#fb9f3a\"],[0.8888888888888888,\"#fdca26\"],[1.0,\"#f0f921\"]]}],\"heatmap\":[{\"type\":\"heatmap\",\"colorbar\":{\"outlinewidth\":0,\"ticks\":\"\"},\"colorscale\":[[0.0,\"#0d0887\"],[0.1111111111111111,\"#46039f\"],[0.2222222222222222,\"#7201a8\"],[0.3333333333333333,\"#9c179e\"],[0.4444444444444444,\"#bd3786\"],[0.5555555555555556,\"#d8576b\"],[0.6666666666666666,\"#ed7953\"],[0.7777777777777778,\"#fb9f3a\"],[0.8888888888888888,\"#fdca26\"],[1.0,\"#f0f921\"]]}],\"heatmapgl\":[{\"type\":\"heatmapgl\",\"colorbar\":{\"outlinewidth\":0,\"ticks\":\"\"},\"colorscale\":[[0.0,\"#0d0887\"],[0.1111111111111111,\"#46039f\"],[0.2222222222222222,\"#7201a8\"],[0.3333333333333333,\"#9c179e\"],[0.4444444444444444,\"#bd3786\"],[0.5555555555555556,\"#d8576b\"],[0.6666666666666666,\"#ed7953\"],[0.7777777777777778,\"#fb9f3a\"],[0.8888888888888888,\"#fdca26\"],[1.0,\"#f0f921\"]]}],\"contourcarpet\":[{\"type\":\"contourcarpet\",\"colorbar\":{\"outlinewidth\":0,\"ticks\":\"\"}}],\"contour\":[{\"type\":\"contour\",\"colorbar\":{\"outlinewidth\":0,\"ticks\":\"\"},\"colorscale\":[[0.0,\"#0d0887\"],[0.1111111111111111,\"#46039f\"],[0.2222222222222222,\"#7201a8\"],[0.3333333333333333,\"#9c179e\"],[0.4444444444444444,\"#bd3786\"],[0.5555555555555556,\"#d8576b\"],[0.6666666666666666,\"#ed7953\"],[0.7777777777777778,\"#fb9f3a\"],[0.8888888888888888,\"#fdca26\"],[1.0,\"#f0f921\"]]}],\"surface\":[{\"type\":\"surface\",\"colorbar\":{\"outlinewidth\":0,\"ticks\":\"\"},\"colorscale\":[[0.0,\"#0d0887\"],[0.1111111111111111,\"#46039f\"],[0.2222222222222222,\"#7201a8\"],[0.3333333333333333,\"#9c179e\"],[0.4444444444444444,\"#bd3786\"],[0.5555555555555556,\"#d8576b\"],[0.6666666666666666,\"#ed7953\"],[0.7777777777777778,\"#fb9f3a\"],[0.8888888888888888,\"#fdca26\"],[1.0,\"#f0f921\"]]}],\"mesh3d\":[{\"type\":\"mesh3d\",\"colorbar\":{\"outlinewidth\":0,\"ticks\":\"\"}}],\"scatter\":[{\"fillpattern\":{\"fillmode\":\"overlay\",\"size\":10,\"solidity\":0.2},\"type\":\"scatter\"}],\"parcoords\":[{\"type\":\"parcoords\",\"line\":{\"colorbar\":{\"outlinewidth\":0,\"ticks\":\"\"}}}],\"scatterpolargl\":[{\"type\":\"scatterpolargl\",\"marker\":{\"colorbar\":{\"outlinewidth\":0,\"ticks\":\"\"}}}],\"bar\":[{\"error_x\":{\"color\":\"#2a3f5f\"},\"error_y\":{\"color\":\"#2a3f5f\"},\"marker\":{\"line\":{\"color\":\"#E5ECF6\",\"width\":0.5},\"pattern\":{\"fillmode\":\"overlay\",\"size\":10,\"solidity\":0.2}},\"type\":\"bar\"}],\"scattergeo\":[{\"type\":\"scattergeo\",\"marker\":{\"colorbar\":{\"outlinewidth\":0,\"ticks\":\"\"}}}],\"scatterpolar\":[{\"type\":\"scatterpolar\",\"marker\":{\"colorbar\":{\"outlinewidth\":0,\"ticks\":\"\"}}}],\"histogram\":[{\"marker\":{\"pattern\":{\"fillmode\":\"overlay\",\"size\":10,\"solidity\":0.2}},\"type\":\"histogram\"}],\"scattergl\":[{\"type\":\"scattergl\",\"marker\":{\"colorbar\":{\"outlinewidth\":0,\"ticks\":\"\"}}}],\"scatter3d\":[{\"type\":\"scatter3d\",\"line\":{\"colorbar\":{\"outlinewidth\":0,\"ticks\":\"\"}},\"marker\":{\"colorbar\":{\"outlinewidth\":0,\"ticks\":\"\"}}}],\"scattermapbox\":[{\"type\":\"scattermapbox\",\"marker\":{\"colorbar\":{\"outlinewidth\":0,\"ticks\":\"\"}}}],\"scatterternary\":[{\"type\":\"scatterternary\",\"marker\":{\"colorbar\":{\"outlinewidth\":0,\"ticks\":\"\"}}}],\"scattercarpet\":[{\"type\":\"scattercarpet\",\"marker\":{\"colorbar\":{\"outlinewidth\":0,\"ticks\":\"\"}}}],\"carpet\":[{\"aaxis\":{\"endlinecolor\":\"#2a3f5f\",\"gridcolor\":\"white\",\"linecolor\":\"white\",\"minorgridcolor\":\"white\",\"startlinecolor\":\"#2a3f5f\"},\"baxis\":{\"endlinecolor\":\"#2a3f5f\",\"gridcolor\":\"white\",\"linecolor\":\"white\",\"minorgridcolor\":\"white\",\"startlinecolor\":\"#2a3f5f\"},\"type\":\"carpet\"}],\"table\":[{\"cells\":{\"fill\":{\"color\":\"#EBF0F8\"},\"line\":{\"color\":\"white\"}},\"header\":{\"fill\":{\"color\":\"#C8D4E3\"},\"line\":{\"color\":\"white\"}},\"type\":\"table\"}],\"barpolar\":[{\"marker\":{\"line\":{\"color\":\"#E5ECF6\",\"width\":0.5},\"pattern\":{\"fillmode\":\"overlay\",\"size\":10,\"solidity\":0.2}},\"type\":\"barpolar\"}],\"pie\":[{\"automargin\":true,\"type\":\"pie\"}]},\"layout\":{\"autotypenumbers\":\"strict\",\"colorway\":[\"#636efa\",\"#EF553B\",\"#00cc96\",\"#ab63fa\",\"#FFA15A\",\"#19d3f3\",\"#FF6692\",\"#B6E880\",\"#FF97FF\",\"#FECB52\"],\"font\":{\"color\":\"#2a3f5f\"},\"hovermode\":\"closest\",\"hoverlabel\":{\"align\":\"left\"},\"paper_bgcolor\":\"white\",\"plot_bgcolor\":\"#E5ECF6\",\"polar\":{\"bgcolor\":\"#E5ECF6\",\"angularaxis\":{\"gridcolor\":\"white\",\"linecolor\":\"white\",\"ticks\":\"\"},\"radialaxis\":{\"gridcolor\":\"white\",\"linecolor\":\"white\",\"ticks\":\"\"}},\"ternary\":{\"bgcolor\":\"#E5ECF6\",\"aaxis\":{\"gridcolor\":\"white\",\"linecolor\":\"white\",\"ticks\":\"\"},\"baxis\":{\"gridcolor\":\"white\",\"linecolor\":\"white\",\"ticks\":\"\"},\"caxis\":{\"gridcolor\":\"white\",\"linecolor\":\"white\",\"ticks\":\"\"}},\"coloraxis\":{\"colorbar\":{\"outlinewidth\":0,\"ticks\":\"\"}},\"colorscale\":{\"sequential\":[[0.0,\"#0d0887\"],[0.1111111111111111,\"#46039f\"],[0.2222222222222222,\"#7201a8\"],[0.3333333333333333,\"#9c179e\"],[0.4444444444444444,\"#bd3786\"],[0.5555555555555556,\"#d8576b\"],[0.6666666666666666,\"#ed7953\"],[0.7777777777777778,\"#fb9f3a\"],[0.8888888888888888,\"#fdca26\"],[1.0,\"#f0f921\"]],\"sequentialminus\":[[0.0,\"#0d0887\"],[0.1111111111111111,\"#46039f\"],[0.2222222222222222,\"#7201a8\"],[0.3333333333333333,\"#9c179e\"],[0.4444444444444444,\"#bd3786\"],[0.5555555555555556,\"#d8576b\"],[0.6666666666666666,\"#ed7953\"],[0.7777777777777778,\"#fb9f3a\"],[0.8888888888888888,\"#fdca26\"],[1.0,\"#f0f921\"]],\"diverging\":[[0,\"#8e0152\"],[0.1,\"#c51b7d\"],[0.2,\"#de77ae\"],[0.3,\"#f1b6da\"],[0.4,\"#fde0ef\"],[0.5,\"#f7f7f7\"],[0.6,\"#e6f5d0\"],[0.7,\"#b8e186\"],[0.8,\"#7fbc41\"],[0.9,\"#4d9221\"],[1,\"#276419\"]]},\"xaxis\":{\"gridcolor\":\"white\",\"linecolor\":\"white\",\"ticks\":\"\",\"title\":{\"standoff\":15},\"zerolinecolor\":\"white\",\"automargin\":true,\"zerolinewidth\":2},\"yaxis\":{\"gridcolor\":\"white\",\"linecolor\":\"white\",\"ticks\":\"\",\"title\":{\"standoff\":15},\"zerolinecolor\":\"white\",\"automargin\":true,\"zerolinewidth\":2},\"scene\":{\"xaxis\":{\"backgroundcolor\":\"#E5ECF6\",\"gridcolor\":\"white\",\"linecolor\":\"white\",\"showbackground\":true,\"ticks\":\"\",\"zerolinecolor\":\"white\",\"gridwidth\":2},\"yaxis\":{\"backgroundcolor\":\"#E5ECF6\",\"gridcolor\":\"white\",\"linecolor\":\"white\",\"showbackground\":true,\"ticks\":\"\",\"zerolinecolor\":\"white\",\"gridwidth\":2},\"zaxis\":{\"backgroundcolor\":\"#E5ECF6\",\"gridcolor\":\"white\",\"linecolor\":\"white\",\"showbackground\":true,\"ticks\":\"\",\"zerolinecolor\":\"white\",\"gridwidth\":2}},\"shapedefaults\":{\"line\":{\"color\":\"#2a3f5f\"}},\"annotationdefaults\":{\"arrowcolor\":\"#2a3f5f\",\"arrowhead\":0,\"arrowwidth\":1},\"geo\":{\"bgcolor\":\"white\",\"landcolor\":\"#E5ECF6\",\"subunitcolor\":\"white\",\"showland\":true,\"showlakes\":true,\"lakecolor\":\"white\"},\"title\":{\"x\":0.05},\"mapbox\":{\"style\":\"light\"}}},\"xaxis\":{\"anchor\":\"y\",\"domain\":[0.0,1.0],\"title\":{\"text\":\"title\"}},\"yaxis\":{\"anchor\":\"x\",\"domain\":[0.0,1.0],\"title\":{\"text\":\"count\"}},\"legend\":{\"tracegroupgap\":0},\"title\":{\"text\":\"Distribution of the title\"},\"barmode\":\"relative\"},                        {\"responsive\": true}                    ).then(function(){\n",
       "                            \n",
       "var gd = document.getElementById('7ab74bad-f843-4d09-89c3-c42e8e5b5918');\n",
       "var x = new MutationObserver(function (mutations, observer) {{\n",
       "        var display = window.getComputedStyle(gd).display;\n",
       "        if (!display || display === 'none') {{\n",
       "            console.log([gd, 'removed!']);\n",
       "            Plotly.purge(gd);\n",
       "            observer.disconnect();\n",
       "        }}\n",
       "}});\n",
       "\n",
       "// Listen for the removal of the full notebook cells\n",
       "var notebookContainer = gd.closest('#notebook-container');\n",
       "if (notebookContainer) {{\n",
       "    x.observe(notebookContainer, {childList: true});\n",
       "}}\n",
       "\n",
       "// Listen for the clearing of the current output cell\n",
       "var outputEl = gd.closest('.output');\n",
       "if (outputEl) {{\n",
       "    x.observe(outputEl, {childList: true});\n",
       "}}\n",
       "\n",
       "                        })                };                });            </script>        </div>"
      ]
     },
     "metadata": {},
     "output_type": "display_data"
    }
   ],
   "source": [
    "fig=px.histogram(data,\n",
    "                 x=\"title\",\n",
    "                 hover_data=data.columns,\n",
    "                 title=\"Distribution of the title\")\n",
    "fig.show()"
   ]
  },
  {
   "cell_type": "code",
   "execution_count": 337,
   "id": "cb27b9ab",
   "metadata": {},
   "outputs": [
    {
     "data": {
      "application/vnd.plotly.v1+json": {
       "config": {
        "plotlyServerURL": "https://plot.ly"
       },
       "data": [
        {
         "alignmentgroup": "True",
         "bingroup": "x",
         "hovertemplate": "Model=%{x}<br>count=%{y}<extra></extra>",
         "legendgroup": "",
         "marker": {
          "color": "#636efa",
          "pattern": {
           "shape": ""
          }
         },
         "name": "",
         "offsetgroup": "",
         "orientation": "v",
         "showlegend": false,
         "type": "histogram",
         "x": [
          "Picanto",
          "2 CV",
          "Fiorino",
          "A3",
          "Levante",
          "Megane",
          "Golf 7",
          "Levante",
          "Q3",
          "Range Rover Sport",
          "Picanto",
          "3008",
          "Classe C",
          "Combo",
          "Punto",
          "DS4",
          "Touareg",
          "Tiguan",
          "Série 5",
          "500",
          "Clio",
          "Tucson",
          "Duster",
          "C4",
          "CR-V",
          "Range Rover Velar",
          "Juke",
          "Duster",
          "Q3",
          "Classe GLC",
          "Ibiza",
          "Golf 7",
          "Tiguan",
          "Coccinelle",
          "Classe C",
          "Touareg",
          "Touran",
          "Classe CL",
          "Classe CLA",
          "Tiguan",
          "Classe C",
          "Touareg",
          "Touran",
          "A5",
          "Range Rover Vogue",
          "Range Rover Sport",
          "Golf 8",
          "Classe A",
          "Classe A",
          "Fiesta",
          "2008",
          "Tiguan",
          "Q5",
          "Megane",
          "Ateca",
          "Wrangler",
          "Astra",
          "C-Elysée",
          "208",
          "Corolla",
          "Clio",
          "Classe E",
          "C3",
          "Fiorino",
          "Megane",
          "i10",
          "Stelvio",
          "Model 3",
          "Tiguan",
          "Urus",
          "Renegade",
          "Tiguan",
          "Ateca",
          "Q5",
          "Crossland",
          "Range Rover Velar",
          "Picanto",
          "Q3",
          "Tiguan",
          "Clio",
          "Tucson",
          "Touareg",
          "Corsa",
          "C3",
          "Classe GLC",
          "Q3",
          "3008",
          "Touareg",
          "Touran",
          "CountryMan",
          "Express",
          "X1",
          "XF",
          "Clio",
          "CountryMan",
          "Série 1",
          "E-Pace",
          "500",
          "Touareg",
          "Captur",
          "Duster",
          "Touran",
          "Tiguan",
          "Caddy",
          "Macan",
          "A5",
          "Karoq",
          "Q7",
          "Clio",
          "207",
          "Polo",
          "Korando",
          "Arteon",
          "Accent",
          "Range Rover Sport",
          "Wrangler",
          "Renegade",
          "Kangoo",
          "T-Roc",
          "X6",
          "Macan",
          "T-Roc",
          "Astra",
          "2008",
          "208",
          "Q7",
          "Range Rover Sport",
          "Ghibli",
          "A5",
          "D-Max",
          "Série 5",
          "Série 4",
          "Golf 7",
          "Range Rover Evoque",
          "Golf 6",
          "Range Rover Sport",
          "Captur",
          "Clio",
          "Grande Punto",
          "Mini Coupé",
          "Q8",
          "Corsa",
          "Grand Cherokee",
          "Compass",
          "Golf 7",
          "Q5",
          "Duster",
          "Kodiaq",
          "Qashqai",
          "Q5",
          "Cayenne",
          "Classe C",
          "Touareg",
          "Focus",
          "Cayenne",
          "Mokka",
          "Range Rover Sport",
          "A3",
          "Classe C",
          "Kuga",
          "3008",
          "Polo",
          "Fluence",
          "Arkana",
          "Clio",
          "Série 3",
          "One",
          "Classe C",
          "Dokker",
          "Partner",
          "Logan",
          "Corsa",
          "Clio",
          "Logan",
          "Corolla",
          "Megane",
          "Golf 8",
          "Corolla",
          "Ateca",
          "Range Rover Evoque",
          "500",
          "Tiggo",
          "Partner",
          "K01h",
          "Mokka",
          "Tiguan",
          "308",
          "Golf 6",
          "Classe C",
          "Tarraco",
          "X5",
          "Dokker",
          "Juke",
          "Q5",
          "Tucson",
          "Q7",
          "Duster",
          "Qashqai",
          "250",
          "Classe C",
          "Golf 8",
          "Tiguan",
          "XC90",
          "Série 5",
          "Classe GLC",
          "Classe A",
          "Corolla",
          "Tiguan",
          "Série 3",
          "Classe A",
          "Série 1",
          "Logan",
          "Berlingo",
          "500",
          "Série 1",
          "C3",
          "Express",
          "3008",
          "Avenger",
          "Duster",
          "Classe C",
          "Touran",
          "Q8",
          "Focus",
          "Ranger",
          "500",
          "Octavia",
          "Série 3",
          "Cayenne",
          "i10",
          "Golf 8",
          "Renegade",
          "Grand Cherokee",
          "208",
          "Range Rover Vogue",
          "Q8",
          "Classe CLA",
          "Qashqai",
          "Accent",
          "3008",
          "208",
          "Range Rover Sport",
          "Classe GLC",
          "X5",
          "3008",
          "208",
          "Range Rover Sport",
          "Classe GLC",
          "Clio",
          "X4",
          "Série 5",
          "Classe CLA",
          "Grandland",
          "Clio",
          "Duster",
          "Grand Cherokee",
          "A6",
          "Tucson",
          "Opirus",
          "Range Rover Sport",
          "Classe CLS",
          "F-Type",
          "208",
          "Q8",
          "Cayenne",
          "3008",
          "220",
          "Clio",
          "Tiguan",
          "Tiguan",
          "Tiguan",
          "Macan",
          "Clio",
          "Grand Cherokee",
          "LS",
          "Accent",
          "Q8",
          "Tucson",
          "Cayenne",
          "Clio",
          "Yaris",
          "190",
          "Auris",
          "595",
          "Golf 7",
          "Q8",
          "Logan",
          "Dokker",
          "Classe GLC",
          "Cherokee",
          "Crossland",
          "Tiguan",
          "Yaris",
          "C4",
          "Megane",
          "XC90",
          "Logan",
          "Q3",
          "Express",
          "Q8",
          "Classe E"
         ],
         "xaxis": "x",
         "yaxis": "y"
        }
       ],
       "layout": {
        "barmode": "relative",
        "legend": {
         "tracegroupgap": 0
        },
        "template": {
         "data": {
          "bar": [
           {
            "error_x": {
             "color": "#2a3f5f"
            },
            "error_y": {
             "color": "#2a3f5f"
            },
            "marker": {
             "line": {
              "color": "#E5ECF6",
              "width": 0.5
             },
             "pattern": {
              "fillmode": "overlay",
              "size": 10,
              "solidity": 0.2
             }
            },
            "type": "bar"
           }
          ],
          "barpolar": [
           {
            "marker": {
             "line": {
              "color": "#E5ECF6",
              "width": 0.5
             },
             "pattern": {
              "fillmode": "overlay",
              "size": 10,
              "solidity": 0.2
             }
            },
            "type": "barpolar"
           }
          ],
          "carpet": [
           {
            "aaxis": {
             "endlinecolor": "#2a3f5f",
             "gridcolor": "white",
             "linecolor": "white",
             "minorgridcolor": "white",
             "startlinecolor": "#2a3f5f"
            },
            "baxis": {
             "endlinecolor": "#2a3f5f",
             "gridcolor": "white",
             "linecolor": "white",
             "minorgridcolor": "white",
             "startlinecolor": "#2a3f5f"
            },
            "type": "carpet"
           }
          ],
          "choropleth": [
           {
            "colorbar": {
             "outlinewidth": 0,
             "ticks": ""
            },
            "type": "choropleth"
           }
          ],
          "contour": [
           {
            "colorbar": {
             "outlinewidth": 0,
             "ticks": ""
            },
            "colorscale": [
             [
              0,
              "#0d0887"
             ],
             [
              0.1111111111111111,
              "#46039f"
             ],
             [
              0.2222222222222222,
              "#7201a8"
             ],
             [
              0.3333333333333333,
              "#9c179e"
             ],
             [
              0.4444444444444444,
              "#bd3786"
             ],
             [
              0.5555555555555556,
              "#d8576b"
             ],
             [
              0.6666666666666666,
              "#ed7953"
             ],
             [
              0.7777777777777778,
              "#fb9f3a"
             ],
             [
              0.8888888888888888,
              "#fdca26"
             ],
             [
              1,
              "#f0f921"
             ]
            ],
            "type": "contour"
           }
          ],
          "contourcarpet": [
           {
            "colorbar": {
             "outlinewidth": 0,
             "ticks": ""
            },
            "type": "contourcarpet"
           }
          ],
          "heatmap": [
           {
            "colorbar": {
             "outlinewidth": 0,
             "ticks": ""
            },
            "colorscale": [
             [
              0,
              "#0d0887"
             ],
             [
              0.1111111111111111,
              "#46039f"
             ],
             [
              0.2222222222222222,
              "#7201a8"
             ],
             [
              0.3333333333333333,
              "#9c179e"
             ],
             [
              0.4444444444444444,
              "#bd3786"
             ],
             [
              0.5555555555555556,
              "#d8576b"
             ],
             [
              0.6666666666666666,
              "#ed7953"
             ],
             [
              0.7777777777777778,
              "#fb9f3a"
             ],
             [
              0.8888888888888888,
              "#fdca26"
             ],
             [
              1,
              "#f0f921"
             ]
            ],
            "type": "heatmap"
           }
          ],
          "heatmapgl": [
           {
            "colorbar": {
             "outlinewidth": 0,
             "ticks": ""
            },
            "colorscale": [
             [
              0,
              "#0d0887"
             ],
             [
              0.1111111111111111,
              "#46039f"
             ],
             [
              0.2222222222222222,
              "#7201a8"
             ],
             [
              0.3333333333333333,
              "#9c179e"
             ],
             [
              0.4444444444444444,
              "#bd3786"
             ],
             [
              0.5555555555555556,
              "#d8576b"
             ],
             [
              0.6666666666666666,
              "#ed7953"
             ],
             [
              0.7777777777777778,
              "#fb9f3a"
             ],
             [
              0.8888888888888888,
              "#fdca26"
             ],
             [
              1,
              "#f0f921"
             ]
            ],
            "type": "heatmapgl"
           }
          ],
          "histogram": [
           {
            "marker": {
             "pattern": {
              "fillmode": "overlay",
              "size": 10,
              "solidity": 0.2
             }
            },
            "type": "histogram"
           }
          ],
          "histogram2d": [
           {
            "colorbar": {
             "outlinewidth": 0,
             "ticks": ""
            },
            "colorscale": [
             [
              0,
              "#0d0887"
             ],
             [
              0.1111111111111111,
              "#46039f"
             ],
             [
              0.2222222222222222,
              "#7201a8"
             ],
             [
              0.3333333333333333,
              "#9c179e"
             ],
             [
              0.4444444444444444,
              "#bd3786"
             ],
             [
              0.5555555555555556,
              "#d8576b"
             ],
             [
              0.6666666666666666,
              "#ed7953"
             ],
             [
              0.7777777777777778,
              "#fb9f3a"
             ],
             [
              0.8888888888888888,
              "#fdca26"
             ],
             [
              1,
              "#f0f921"
             ]
            ],
            "type": "histogram2d"
           }
          ],
          "histogram2dcontour": [
           {
            "colorbar": {
             "outlinewidth": 0,
             "ticks": ""
            },
            "colorscale": [
             [
              0,
              "#0d0887"
             ],
             [
              0.1111111111111111,
              "#46039f"
             ],
             [
              0.2222222222222222,
              "#7201a8"
             ],
             [
              0.3333333333333333,
              "#9c179e"
             ],
             [
              0.4444444444444444,
              "#bd3786"
             ],
             [
              0.5555555555555556,
              "#d8576b"
             ],
             [
              0.6666666666666666,
              "#ed7953"
             ],
             [
              0.7777777777777778,
              "#fb9f3a"
             ],
             [
              0.8888888888888888,
              "#fdca26"
             ],
             [
              1,
              "#f0f921"
             ]
            ],
            "type": "histogram2dcontour"
           }
          ],
          "mesh3d": [
           {
            "colorbar": {
             "outlinewidth": 0,
             "ticks": ""
            },
            "type": "mesh3d"
           }
          ],
          "parcoords": [
           {
            "line": {
             "colorbar": {
              "outlinewidth": 0,
              "ticks": ""
             }
            },
            "type": "parcoords"
           }
          ],
          "pie": [
           {
            "automargin": true,
            "type": "pie"
           }
          ],
          "scatter": [
           {
            "fillpattern": {
             "fillmode": "overlay",
             "size": 10,
             "solidity": 0.2
            },
            "type": "scatter"
           }
          ],
          "scatter3d": [
           {
            "line": {
             "colorbar": {
              "outlinewidth": 0,
              "ticks": ""
             }
            },
            "marker": {
             "colorbar": {
              "outlinewidth": 0,
              "ticks": ""
             }
            },
            "type": "scatter3d"
           }
          ],
          "scattercarpet": [
           {
            "marker": {
             "colorbar": {
              "outlinewidth": 0,
              "ticks": ""
             }
            },
            "type": "scattercarpet"
           }
          ],
          "scattergeo": [
           {
            "marker": {
             "colorbar": {
              "outlinewidth": 0,
              "ticks": ""
             }
            },
            "type": "scattergeo"
           }
          ],
          "scattergl": [
           {
            "marker": {
             "colorbar": {
              "outlinewidth": 0,
              "ticks": ""
             }
            },
            "type": "scattergl"
           }
          ],
          "scattermapbox": [
           {
            "marker": {
             "colorbar": {
              "outlinewidth": 0,
              "ticks": ""
             }
            },
            "type": "scattermapbox"
           }
          ],
          "scatterpolar": [
           {
            "marker": {
             "colorbar": {
              "outlinewidth": 0,
              "ticks": ""
             }
            },
            "type": "scatterpolar"
           }
          ],
          "scatterpolargl": [
           {
            "marker": {
             "colorbar": {
              "outlinewidth": 0,
              "ticks": ""
             }
            },
            "type": "scatterpolargl"
           }
          ],
          "scatterternary": [
           {
            "marker": {
             "colorbar": {
              "outlinewidth": 0,
              "ticks": ""
             }
            },
            "type": "scatterternary"
           }
          ],
          "surface": [
           {
            "colorbar": {
             "outlinewidth": 0,
             "ticks": ""
            },
            "colorscale": [
             [
              0,
              "#0d0887"
             ],
             [
              0.1111111111111111,
              "#46039f"
             ],
             [
              0.2222222222222222,
              "#7201a8"
             ],
             [
              0.3333333333333333,
              "#9c179e"
             ],
             [
              0.4444444444444444,
              "#bd3786"
             ],
             [
              0.5555555555555556,
              "#d8576b"
             ],
             [
              0.6666666666666666,
              "#ed7953"
             ],
             [
              0.7777777777777778,
              "#fb9f3a"
             ],
             [
              0.8888888888888888,
              "#fdca26"
             ],
             [
              1,
              "#f0f921"
             ]
            ],
            "type": "surface"
           }
          ],
          "table": [
           {
            "cells": {
             "fill": {
              "color": "#EBF0F8"
             },
             "line": {
              "color": "white"
             }
            },
            "header": {
             "fill": {
              "color": "#C8D4E3"
             },
             "line": {
              "color": "white"
             }
            },
            "type": "table"
           }
          ]
         },
         "layout": {
          "annotationdefaults": {
           "arrowcolor": "#2a3f5f",
           "arrowhead": 0,
           "arrowwidth": 1
          },
          "autotypenumbers": "strict",
          "coloraxis": {
           "colorbar": {
            "outlinewidth": 0,
            "ticks": ""
           }
          },
          "colorscale": {
           "diverging": [
            [
             0,
             "#8e0152"
            ],
            [
             0.1,
             "#c51b7d"
            ],
            [
             0.2,
             "#de77ae"
            ],
            [
             0.3,
             "#f1b6da"
            ],
            [
             0.4,
             "#fde0ef"
            ],
            [
             0.5,
             "#f7f7f7"
            ],
            [
             0.6,
             "#e6f5d0"
            ],
            [
             0.7,
             "#b8e186"
            ],
            [
             0.8,
             "#7fbc41"
            ],
            [
             0.9,
             "#4d9221"
            ],
            [
             1,
             "#276419"
            ]
           ],
           "sequential": [
            [
             0,
             "#0d0887"
            ],
            [
             0.1111111111111111,
             "#46039f"
            ],
            [
             0.2222222222222222,
             "#7201a8"
            ],
            [
             0.3333333333333333,
             "#9c179e"
            ],
            [
             0.4444444444444444,
             "#bd3786"
            ],
            [
             0.5555555555555556,
             "#d8576b"
            ],
            [
             0.6666666666666666,
             "#ed7953"
            ],
            [
             0.7777777777777778,
             "#fb9f3a"
            ],
            [
             0.8888888888888888,
             "#fdca26"
            ],
            [
             1,
             "#f0f921"
            ]
           ],
           "sequentialminus": [
            [
             0,
             "#0d0887"
            ],
            [
             0.1111111111111111,
             "#46039f"
            ],
            [
             0.2222222222222222,
             "#7201a8"
            ],
            [
             0.3333333333333333,
             "#9c179e"
            ],
            [
             0.4444444444444444,
             "#bd3786"
            ],
            [
             0.5555555555555556,
             "#d8576b"
            ],
            [
             0.6666666666666666,
             "#ed7953"
            ],
            [
             0.7777777777777778,
             "#fb9f3a"
            ],
            [
             0.8888888888888888,
             "#fdca26"
            ],
            [
             1,
             "#f0f921"
            ]
           ]
          },
          "colorway": [
           "#636efa",
           "#EF553B",
           "#00cc96",
           "#ab63fa",
           "#FFA15A",
           "#19d3f3",
           "#FF6692",
           "#B6E880",
           "#FF97FF",
           "#FECB52"
          ],
          "font": {
           "color": "#2a3f5f"
          },
          "geo": {
           "bgcolor": "white",
           "lakecolor": "white",
           "landcolor": "#E5ECF6",
           "showlakes": true,
           "showland": true,
           "subunitcolor": "white"
          },
          "hoverlabel": {
           "align": "left"
          },
          "hovermode": "closest",
          "mapbox": {
           "style": "light"
          },
          "paper_bgcolor": "white",
          "plot_bgcolor": "#E5ECF6",
          "polar": {
           "angularaxis": {
            "gridcolor": "white",
            "linecolor": "white",
            "ticks": ""
           },
           "bgcolor": "#E5ECF6",
           "radialaxis": {
            "gridcolor": "white",
            "linecolor": "white",
            "ticks": ""
           }
          },
          "scene": {
           "xaxis": {
            "backgroundcolor": "#E5ECF6",
            "gridcolor": "white",
            "gridwidth": 2,
            "linecolor": "white",
            "showbackground": true,
            "ticks": "",
            "zerolinecolor": "white"
           },
           "yaxis": {
            "backgroundcolor": "#E5ECF6",
            "gridcolor": "white",
            "gridwidth": 2,
            "linecolor": "white",
            "showbackground": true,
            "ticks": "",
            "zerolinecolor": "white"
           },
           "zaxis": {
            "backgroundcolor": "#E5ECF6",
            "gridcolor": "white",
            "gridwidth": 2,
            "linecolor": "white",
            "showbackground": true,
            "ticks": "",
            "zerolinecolor": "white"
           }
          },
          "shapedefaults": {
           "line": {
            "color": "#2a3f5f"
           }
          },
          "ternary": {
           "aaxis": {
            "gridcolor": "white",
            "linecolor": "white",
            "ticks": ""
           },
           "baxis": {
            "gridcolor": "white",
            "linecolor": "white",
            "ticks": ""
           },
           "bgcolor": "#E5ECF6",
           "caxis": {
            "gridcolor": "white",
            "linecolor": "white",
            "ticks": ""
           }
          },
          "title": {
           "x": 0.05
          },
          "xaxis": {
           "automargin": true,
           "gridcolor": "white",
           "linecolor": "white",
           "ticks": "",
           "title": {
            "standoff": 15
           },
           "zerolinecolor": "white",
           "zerolinewidth": 2
          },
          "yaxis": {
           "automargin": true,
           "gridcolor": "white",
           "linecolor": "white",
           "ticks": "",
           "title": {
            "standoff": 15
           },
           "zerolinecolor": "white",
           "zerolinewidth": 2
          }
         }
        },
        "title": {
         "text": "Distribution of the Model"
        },
        "xaxis": {
         "anchor": "y",
         "domain": [
          0,
          1
         ],
         "title": {
          "text": "Model"
         }
        },
        "yaxis": {
         "anchor": "x",
         "domain": [
          0,
          1
         ],
         "title": {
          "text": "count"
         }
        }
       }
      },
      "text/html": [
       "<div>                            <div id=\"ac9278c5-17b3-4e8a-865f-59ae2e14f77a\" class=\"plotly-graph-div\" style=\"height:525px; width:100%;\"></div>            <script type=\"text/javascript\">                require([\"plotly\"], function(Plotly) {                    window.PLOTLYENV=window.PLOTLYENV || {};                                    if (document.getElementById(\"ac9278c5-17b3-4e8a-865f-59ae2e14f77a\")) {                    Plotly.newPlot(                        \"ac9278c5-17b3-4e8a-865f-59ae2e14f77a\",                        [{\"alignmentgroup\":\"True\",\"bingroup\":\"x\",\"hovertemplate\":\"Model=%{x}<br>count=%{y}<extra></extra>\",\"legendgroup\":\"\",\"marker\":{\"color\":\"#636efa\",\"pattern\":{\"shape\":\"\"}},\"name\":\"\",\"offsetgroup\":\"\",\"orientation\":\"v\",\"showlegend\":false,\"x\":[\"Picanto\",\"2 CV\",\"Fiorino\",\"A3\",\"Levante\",\"Megane\",\"Golf 7\",\"Levante\",\"Q3\",\"Range Rover Sport\",\"Picanto\",\"3008\",\"Classe C\",\"Combo\",\"Punto\",\"DS4\",\"Touareg\",\"Tiguan\",\"S\\u00e9rie 5\",\"500\",\"Clio\",\"Tucson\",\"Duster\",\"C4\",\"CR-V\",\"Range Rover Velar\",\"Juke\",\"Duster\",\"Q3\",\"Classe GLC\",\"Ibiza\",\"Golf 7\",\"Tiguan\",\"Coccinelle\",\"Classe C\",\"Touareg\",\"Touran\",\"Classe CL\",\"Classe CLA\",\"Tiguan\",\"Classe C\",\"Touareg\",\"Touran\",\"A5\",\"Range Rover Vogue\",\"Range Rover Sport\",\"Golf 8\",\"Classe A\",\"Classe A\",\"Fiesta\",\"2008\",\"Tiguan\",\"Q5\",\"Megane\",\"Ateca\",\"Wrangler\",\"Astra\",\"C-Elys\\u00e9e\",\"208\",\"Corolla\",\"Clio\",\"Classe E\",\"C3\",\"Fiorino\",\"Megane\",\"i10\",\"Stelvio\",\"Model 3\",\"Tiguan\",\"Urus\",\"Renegade\",\"Tiguan\",\"Ateca\",\"Q5\",\"Crossland\",\"Range Rover Velar\",\"Picanto\",\"Q3\",\"Tiguan\",\"Clio\",\"Tucson\",\"Touareg\",\"Corsa\",\"C3\",\"Classe GLC\",\"Q3\",\"3008\",\"Touareg\",\"Touran\",\"CountryMan\",\"Express\",\"X1\",\"XF\",\"Clio\",\"CountryMan\",\"S\\u00e9rie 1\",\"E-Pace\",\"500\",\"Touareg\",\"Captur\",\"Duster\",\"Touran\",\"Tiguan\",\"Caddy\",\"Macan\",\"A5\",\"Karoq\",\"Q7\",\"Clio\",\"207\",\"Polo\",\"Korando\",\"Arteon\",\"Accent\",\"Range Rover Sport\",\"Wrangler\",\"Renegade\",\"Kangoo\",\"T-Roc\",\"X6\",\"Macan\",\"T-Roc\",\"Astra\",\"2008\",\"208\",\"Q7\",\"Range Rover Sport\",\"Ghibli\",\"A5\",\"D-Max\",\"S\\u00e9rie 5\",\"S\\u00e9rie 4\",\"Golf 7\",\"Range Rover Evoque\",\"Golf 6\",\"Range Rover Sport\",\"Captur\",\"Clio\",\"Grande Punto\",\"Mini Coup\\u00e9\",\"Q8\",\"Corsa\",\"Grand Cherokee\",\"Compass\",\"Golf 7\",\"Q5\",\"Duster\",\"Kodiaq\",\"Qashqai\",\"Q5\",\"Cayenne\",\"Classe C\",\"Touareg\",\"Focus\",\"Cayenne\",\"Mokka\",\"Range Rover Sport\",\"A3\",\"Classe C\",\"Kuga\",\"3008\",\"Polo\",\"Fluence\",\"Arkana\",\"Clio\",\"S\\u00e9rie 3\",\"One\",\"Classe C\",\"Dokker\",\"Partner\",\"Logan\",\"Corsa\",\"Clio\",\"Logan\",\"Corolla\",\"Megane\",\"Golf 8\",\"Corolla\",\"Ateca\",\"Range Rover Evoque\",\"500\",\"Tiggo\",\"Partner\",\"K01h\",\"Mokka\",\"Tiguan\",\"308\",\"Golf 6\",\"Classe C\",\"Tarraco\",\"X5\",\"Dokker\",\"Juke\",\"Q5\",\"Tucson\",\"Q7\",\"Duster\",\"Qashqai\",\"250\",\"Classe C\",\"Golf 8\",\"Tiguan\",\"XC90\",\"S\\u00e9rie 5\",\"Classe GLC\",\"Classe A\",\"Corolla\",\"Tiguan\",\"S\\u00e9rie 3\",\"Classe A\",\"S\\u00e9rie 1\",\"Logan\",\"Berlingo\",\"500\",\"S\\u00e9rie 1\",\"C3\",\"Express\",\"3008\",\"Avenger\",\"Duster\",\"Classe C\",\"Touran\",\"Q8\",\"Focus\",\"Ranger\",\"500\",\"Octavia\",\"S\\u00e9rie 3\",\"Cayenne\",\"i10\",\"Golf 8\",\"Renegade\",\"Grand Cherokee\",\"208\",\"Range Rover Vogue\",\"Q8\",\"Classe CLA\",\"Qashqai\",\"Accent\",\"3008\",\"208\",\"Range Rover Sport\",\"Classe GLC\",\"X5\",\"3008\",\"208\",\"Range Rover Sport\",\"Classe GLC\",\"Clio\",\"X4\",\"S\\u00e9rie 5\",\"Classe CLA\",\"Grandland\",\"Clio\",\"Duster\",\"Grand Cherokee\",\"A6\",\"Tucson\",\"Opirus\",\"Range Rover Sport\",\"Classe CLS\",\"F-Type\",\"208\",\"Q8\",\"Cayenne\",\"3008\",\"220\",\"Clio\",\"Tiguan\",\"Tiguan\",\"Tiguan\",\"Macan\",\"Clio\",\"Grand Cherokee\",\"LS\",\"Accent\",\"Q8\",\"Tucson\",\"Cayenne\",\"Clio\",\"Yaris\",\"190\",\"Auris\",\"595\",\"Golf 7\",\"Q8\",\"Logan\",\"Dokker\",\"Classe GLC\",\"Cherokee\",\"Crossland\",\"Tiguan\",\"Yaris\",\"C4\",\"Megane\",\"XC90\",\"Logan\",\"Q3\",\"Express\",\"Q8\",\"Classe E\"],\"xaxis\":\"x\",\"yaxis\":\"y\",\"type\":\"histogram\"}],                        {\"template\":{\"data\":{\"histogram2dcontour\":[{\"type\":\"histogram2dcontour\",\"colorbar\":{\"outlinewidth\":0,\"ticks\":\"\"},\"colorscale\":[[0.0,\"#0d0887\"],[0.1111111111111111,\"#46039f\"],[0.2222222222222222,\"#7201a8\"],[0.3333333333333333,\"#9c179e\"],[0.4444444444444444,\"#bd3786\"],[0.5555555555555556,\"#d8576b\"],[0.6666666666666666,\"#ed7953\"],[0.7777777777777778,\"#fb9f3a\"],[0.8888888888888888,\"#fdca26\"],[1.0,\"#f0f921\"]]}],\"choropleth\":[{\"type\":\"choropleth\",\"colorbar\":{\"outlinewidth\":0,\"ticks\":\"\"}}],\"histogram2d\":[{\"type\":\"histogram2d\",\"colorbar\":{\"outlinewidth\":0,\"ticks\":\"\"},\"colorscale\":[[0.0,\"#0d0887\"],[0.1111111111111111,\"#46039f\"],[0.2222222222222222,\"#7201a8\"],[0.3333333333333333,\"#9c179e\"],[0.4444444444444444,\"#bd3786\"],[0.5555555555555556,\"#d8576b\"],[0.6666666666666666,\"#ed7953\"],[0.7777777777777778,\"#fb9f3a\"],[0.8888888888888888,\"#fdca26\"],[1.0,\"#f0f921\"]]}],\"heatmap\":[{\"type\":\"heatmap\",\"colorbar\":{\"outlinewidth\":0,\"ticks\":\"\"},\"colorscale\":[[0.0,\"#0d0887\"],[0.1111111111111111,\"#46039f\"],[0.2222222222222222,\"#7201a8\"],[0.3333333333333333,\"#9c179e\"],[0.4444444444444444,\"#bd3786\"],[0.5555555555555556,\"#d8576b\"],[0.6666666666666666,\"#ed7953\"],[0.7777777777777778,\"#fb9f3a\"],[0.8888888888888888,\"#fdca26\"],[1.0,\"#f0f921\"]]}],\"heatmapgl\":[{\"type\":\"heatmapgl\",\"colorbar\":{\"outlinewidth\":0,\"ticks\":\"\"},\"colorscale\":[[0.0,\"#0d0887\"],[0.1111111111111111,\"#46039f\"],[0.2222222222222222,\"#7201a8\"],[0.3333333333333333,\"#9c179e\"],[0.4444444444444444,\"#bd3786\"],[0.5555555555555556,\"#d8576b\"],[0.6666666666666666,\"#ed7953\"],[0.7777777777777778,\"#fb9f3a\"],[0.8888888888888888,\"#fdca26\"],[1.0,\"#f0f921\"]]}],\"contourcarpet\":[{\"type\":\"contourcarpet\",\"colorbar\":{\"outlinewidth\":0,\"ticks\":\"\"}}],\"contour\":[{\"type\":\"contour\",\"colorbar\":{\"outlinewidth\":0,\"ticks\":\"\"},\"colorscale\":[[0.0,\"#0d0887\"],[0.1111111111111111,\"#46039f\"],[0.2222222222222222,\"#7201a8\"],[0.3333333333333333,\"#9c179e\"],[0.4444444444444444,\"#bd3786\"],[0.5555555555555556,\"#d8576b\"],[0.6666666666666666,\"#ed7953\"],[0.7777777777777778,\"#fb9f3a\"],[0.8888888888888888,\"#fdca26\"],[1.0,\"#f0f921\"]]}],\"surface\":[{\"type\":\"surface\",\"colorbar\":{\"outlinewidth\":0,\"ticks\":\"\"},\"colorscale\":[[0.0,\"#0d0887\"],[0.1111111111111111,\"#46039f\"],[0.2222222222222222,\"#7201a8\"],[0.3333333333333333,\"#9c179e\"],[0.4444444444444444,\"#bd3786\"],[0.5555555555555556,\"#d8576b\"],[0.6666666666666666,\"#ed7953\"],[0.7777777777777778,\"#fb9f3a\"],[0.8888888888888888,\"#fdca26\"],[1.0,\"#f0f921\"]]}],\"mesh3d\":[{\"type\":\"mesh3d\",\"colorbar\":{\"outlinewidth\":0,\"ticks\":\"\"}}],\"scatter\":[{\"fillpattern\":{\"fillmode\":\"overlay\",\"size\":10,\"solidity\":0.2},\"type\":\"scatter\"}],\"parcoords\":[{\"type\":\"parcoords\",\"line\":{\"colorbar\":{\"outlinewidth\":0,\"ticks\":\"\"}}}],\"scatterpolargl\":[{\"type\":\"scatterpolargl\",\"marker\":{\"colorbar\":{\"outlinewidth\":0,\"ticks\":\"\"}}}],\"bar\":[{\"error_x\":{\"color\":\"#2a3f5f\"},\"error_y\":{\"color\":\"#2a3f5f\"},\"marker\":{\"line\":{\"color\":\"#E5ECF6\",\"width\":0.5},\"pattern\":{\"fillmode\":\"overlay\",\"size\":10,\"solidity\":0.2}},\"type\":\"bar\"}],\"scattergeo\":[{\"type\":\"scattergeo\",\"marker\":{\"colorbar\":{\"outlinewidth\":0,\"ticks\":\"\"}}}],\"scatterpolar\":[{\"type\":\"scatterpolar\",\"marker\":{\"colorbar\":{\"outlinewidth\":0,\"ticks\":\"\"}}}],\"histogram\":[{\"marker\":{\"pattern\":{\"fillmode\":\"overlay\",\"size\":10,\"solidity\":0.2}},\"type\":\"histogram\"}],\"scattergl\":[{\"type\":\"scattergl\",\"marker\":{\"colorbar\":{\"outlinewidth\":0,\"ticks\":\"\"}}}],\"scatter3d\":[{\"type\":\"scatter3d\",\"line\":{\"colorbar\":{\"outlinewidth\":0,\"ticks\":\"\"}},\"marker\":{\"colorbar\":{\"outlinewidth\":0,\"ticks\":\"\"}}}],\"scattermapbox\":[{\"type\":\"scattermapbox\",\"marker\":{\"colorbar\":{\"outlinewidth\":0,\"ticks\":\"\"}}}],\"scatterternary\":[{\"type\":\"scatterternary\",\"marker\":{\"colorbar\":{\"outlinewidth\":0,\"ticks\":\"\"}}}],\"scattercarpet\":[{\"type\":\"scattercarpet\",\"marker\":{\"colorbar\":{\"outlinewidth\":0,\"ticks\":\"\"}}}],\"carpet\":[{\"aaxis\":{\"endlinecolor\":\"#2a3f5f\",\"gridcolor\":\"white\",\"linecolor\":\"white\",\"minorgridcolor\":\"white\",\"startlinecolor\":\"#2a3f5f\"},\"baxis\":{\"endlinecolor\":\"#2a3f5f\",\"gridcolor\":\"white\",\"linecolor\":\"white\",\"minorgridcolor\":\"white\",\"startlinecolor\":\"#2a3f5f\"},\"type\":\"carpet\"}],\"table\":[{\"cells\":{\"fill\":{\"color\":\"#EBF0F8\"},\"line\":{\"color\":\"white\"}},\"header\":{\"fill\":{\"color\":\"#C8D4E3\"},\"line\":{\"color\":\"white\"}},\"type\":\"table\"}],\"barpolar\":[{\"marker\":{\"line\":{\"color\":\"#E5ECF6\",\"width\":0.5},\"pattern\":{\"fillmode\":\"overlay\",\"size\":10,\"solidity\":0.2}},\"type\":\"barpolar\"}],\"pie\":[{\"automargin\":true,\"type\":\"pie\"}]},\"layout\":{\"autotypenumbers\":\"strict\",\"colorway\":[\"#636efa\",\"#EF553B\",\"#00cc96\",\"#ab63fa\",\"#FFA15A\",\"#19d3f3\",\"#FF6692\",\"#B6E880\",\"#FF97FF\",\"#FECB52\"],\"font\":{\"color\":\"#2a3f5f\"},\"hovermode\":\"closest\",\"hoverlabel\":{\"align\":\"left\"},\"paper_bgcolor\":\"white\",\"plot_bgcolor\":\"#E5ECF6\",\"polar\":{\"bgcolor\":\"#E5ECF6\",\"angularaxis\":{\"gridcolor\":\"white\",\"linecolor\":\"white\",\"ticks\":\"\"},\"radialaxis\":{\"gridcolor\":\"white\",\"linecolor\":\"white\",\"ticks\":\"\"}},\"ternary\":{\"bgcolor\":\"#E5ECF6\",\"aaxis\":{\"gridcolor\":\"white\",\"linecolor\":\"white\",\"ticks\":\"\"},\"baxis\":{\"gridcolor\":\"white\",\"linecolor\":\"white\",\"ticks\":\"\"},\"caxis\":{\"gridcolor\":\"white\",\"linecolor\":\"white\",\"ticks\":\"\"}},\"coloraxis\":{\"colorbar\":{\"outlinewidth\":0,\"ticks\":\"\"}},\"colorscale\":{\"sequential\":[[0.0,\"#0d0887\"],[0.1111111111111111,\"#46039f\"],[0.2222222222222222,\"#7201a8\"],[0.3333333333333333,\"#9c179e\"],[0.4444444444444444,\"#bd3786\"],[0.5555555555555556,\"#d8576b\"],[0.6666666666666666,\"#ed7953\"],[0.7777777777777778,\"#fb9f3a\"],[0.8888888888888888,\"#fdca26\"],[1.0,\"#f0f921\"]],\"sequentialminus\":[[0.0,\"#0d0887\"],[0.1111111111111111,\"#46039f\"],[0.2222222222222222,\"#7201a8\"],[0.3333333333333333,\"#9c179e\"],[0.4444444444444444,\"#bd3786\"],[0.5555555555555556,\"#d8576b\"],[0.6666666666666666,\"#ed7953\"],[0.7777777777777778,\"#fb9f3a\"],[0.8888888888888888,\"#fdca26\"],[1.0,\"#f0f921\"]],\"diverging\":[[0,\"#8e0152\"],[0.1,\"#c51b7d\"],[0.2,\"#de77ae\"],[0.3,\"#f1b6da\"],[0.4,\"#fde0ef\"],[0.5,\"#f7f7f7\"],[0.6,\"#e6f5d0\"],[0.7,\"#b8e186\"],[0.8,\"#7fbc41\"],[0.9,\"#4d9221\"],[1,\"#276419\"]]},\"xaxis\":{\"gridcolor\":\"white\",\"linecolor\":\"white\",\"ticks\":\"\",\"title\":{\"standoff\":15},\"zerolinecolor\":\"white\",\"automargin\":true,\"zerolinewidth\":2},\"yaxis\":{\"gridcolor\":\"white\",\"linecolor\":\"white\",\"ticks\":\"\",\"title\":{\"standoff\":15},\"zerolinecolor\":\"white\",\"automargin\":true,\"zerolinewidth\":2},\"scene\":{\"xaxis\":{\"backgroundcolor\":\"#E5ECF6\",\"gridcolor\":\"white\",\"linecolor\":\"white\",\"showbackground\":true,\"ticks\":\"\",\"zerolinecolor\":\"white\",\"gridwidth\":2},\"yaxis\":{\"backgroundcolor\":\"#E5ECF6\",\"gridcolor\":\"white\",\"linecolor\":\"white\",\"showbackground\":true,\"ticks\":\"\",\"zerolinecolor\":\"white\",\"gridwidth\":2},\"zaxis\":{\"backgroundcolor\":\"#E5ECF6\",\"gridcolor\":\"white\",\"linecolor\":\"white\",\"showbackground\":true,\"ticks\":\"\",\"zerolinecolor\":\"white\",\"gridwidth\":2}},\"shapedefaults\":{\"line\":{\"color\":\"#2a3f5f\"}},\"annotationdefaults\":{\"arrowcolor\":\"#2a3f5f\",\"arrowhead\":0,\"arrowwidth\":1},\"geo\":{\"bgcolor\":\"white\",\"landcolor\":\"#E5ECF6\",\"subunitcolor\":\"white\",\"showland\":true,\"showlakes\":true,\"lakecolor\":\"white\"},\"title\":{\"x\":0.05},\"mapbox\":{\"style\":\"light\"}}},\"xaxis\":{\"anchor\":\"y\",\"domain\":[0.0,1.0],\"title\":{\"text\":\"Model\"}},\"yaxis\":{\"anchor\":\"x\",\"domain\":[0.0,1.0],\"title\":{\"text\":\"count\"}},\"legend\":{\"tracegroupgap\":0},\"title\":{\"text\":\"Distribution of the Model\"},\"barmode\":\"relative\"},                        {\"responsive\": true}                    ).then(function(){\n",
       "                            \n",
       "var gd = document.getElementById('ac9278c5-17b3-4e8a-865f-59ae2e14f77a');\n",
       "var x = new MutationObserver(function (mutations, observer) {{\n",
       "        var display = window.getComputedStyle(gd).display;\n",
       "        if (!display || display === 'none') {{\n",
       "            console.log([gd, 'removed!']);\n",
       "            Plotly.purge(gd);\n",
       "            observer.disconnect();\n",
       "        }}\n",
       "}});\n",
       "\n",
       "// Listen for the removal of the full notebook cells\n",
       "var notebookContainer = gd.closest('#notebook-container');\n",
       "if (notebookContainer) {{\n",
       "    x.observe(notebookContainer, {childList: true});\n",
       "}}\n",
       "\n",
       "// Listen for the clearing of the current output cell\n",
       "var outputEl = gd.closest('.output');\n",
       "if (outputEl) {{\n",
       "    x.observe(outputEl, {childList: true});\n",
       "}}\n",
       "\n",
       "                        })                };                });            </script>        </div>"
      ]
     },
     "metadata": {},
     "output_type": "display_data"
    }
   ],
   "source": [
    "fig=px.histogram(data,\n",
    "                 x=\"Model\",\n",
    "                 hover_data=data.columns,\n",
    "                 title=\"Distribution of the Model\")\n",
    "fig.show()"
   ]
  },
  {
   "cell_type": "code",
   "execution_count": 338,
   "id": "874174c8",
   "metadata": {},
   "outputs": [
    {
     "data": {
      "application/vnd.plotly.v1+json": {
       "config": {
        "plotlyServerURL": "https://plot.ly"
       },
       "data": [
        {
         "alignmentgroup": "True",
         "bingroup": "x",
         "hovertemplate": "Marque=%{x}<br>count=%{y}<extra></extra>",
         "legendgroup": "",
         "marker": {
          "color": "#636efa",
          "pattern": {
           "shape": ""
          }
         },
         "name": "",
         "offsetgroup": "",
         "orientation": "v",
         "showlegend": false,
         "type": "histogram",
         "x": [
          "Kia",
          "Citroen",
          "Fiat",
          "Audi",
          "Maserati",
          "Renault",
          "Volkswagen",
          "Maserati",
          "Audi",
          "Land Rover",
          "Kia",
          "Peugeot",
          "Mercedes-Benz",
          "Opel",
          "Fiat",
          "DS",
          "Volkswagen",
          "Volkswagen",
          "BMW",
          "Fiat",
          "Renault",
          "Hyundai",
          "Dacia",
          "Citroen",
          "Honda",
          "Land Rover",
          "Nissan",
          "Dacia",
          "Audi",
          "Mercedes-Benz",
          "Seat",
          "Volkswagen",
          "Volkswagen",
          "Volkswagen",
          "Mercedes-Benz",
          "Volkswagen",
          "Volkswagen",
          "Mercedes-Benz",
          "Mercedes-Benz",
          "Volkswagen",
          "Mercedes-Benz",
          "Volkswagen",
          "Volkswagen",
          "Audi",
          "Land Rover",
          "Land Rover",
          "Volkswagen",
          "Mercedes-Benz",
          "Mercedes-Benz",
          "Ford",
          "Peugeot",
          "Volkswagen",
          "Audi",
          "Renault",
          "Seat",
          "Jeep",
          "Opel",
          "Citroen",
          "Peugeot",
          "Toyota",
          "Renault",
          "Mercedes-Benz",
          "Citroen",
          "Fiat",
          "Renault",
          "Hyundai",
          "Alfa Romeo",
          "Tesla",
          "Volkswagen",
          "Lamborghini",
          "Jeep",
          "Volkswagen",
          "Seat",
          "Audi",
          "Opel",
          "Land Rover",
          "Kia",
          "Audi",
          "Volkswagen",
          "Renault",
          "Hyundai",
          "Volkswagen",
          "Opel",
          "Citroen",
          "Mercedes-Benz",
          "Audi",
          "Peugeot",
          "Volkswagen",
          "Volkswagen",
          "Mini",
          "Renault",
          "BMW",
          "Jaguar",
          "Renault",
          "Mini",
          "BMW",
          "Jaguar",
          "Fiat",
          "Volkswagen",
          "Renault",
          "Dacia",
          "Volkswagen",
          "Volkswagen",
          "Volkswagen",
          "Porsche",
          "Audi",
          "Skoda",
          "Audi",
          "Renault",
          "Peugeot",
          "Volkswagen",
          "Ssangyong",
          "Volkswagen",
          "Hyundai",
          "Land Rover",
          "Jeep",
          "Jeep",
          "Renault",
          "Volkswagen",
          "BMW",
          "Porsche",
          "Volkswagen",
          "Opel",
          "Peugeot",
          "Peugeot",
          "Audi",
          "Land Rover",
          "Maserati",
          "Audi",
          "Isuzu",
          "BMW",
          "BMW",
          "Volkswagen",
          "Land Rover",
          "Volkswagen",
          "Land Rover",
          "Renault",
          "Renault",
          "Fiat",
          "Mini",
          "Audi",
          "Opel",
          "Jeep",
          "Jeep",
          "Volkswagen",
          "Audi",
          "Dacia",
          "Skoda",
          "Nissan",
          "Audi",
          "Porsche",
          "Mercedes-Benz",
          "Volkswagen",
          "Ford",
          "Porsche",
          "Opel",
          "Land Rover",
          "Audi",
          "Mercedes-Benz",
          "Ford",
          "Peugeot",
          "Volkswagen",
          "Renault",
          "Renault",
          "Renault",
          "BMW",
          "Mini",
          "Mercedes-Benz",
          "Dacia",
          "Peugeot",
          "Dacia",
          "Opel",
          "Renault",
          "Dacia",
          "Toyota",
          "Renault",
          "Volkswagen",
          "Toyota",
          "Seat",
          "Land Rover",
          "Fiat",
          "Chery",
          "Peugeot",
          "DFSK",
          "Opel",
          "Volkswagen",
          "Peugeot",
          "Volkswagen",
          "Mercedes-Benz",
          "Seat",
          "BMW",
          "Dacia",
          "Nissan",
          "Audi",
          "Hyundai",
          "Audi",
          "Dacia",
          "Nissan",
          "Mercedes-Benz",
          "Mercedes-Benz",
          "Volkswagen",
          "Volkswagen",
          "Volvo",
          "BMW",
          "Mercedes-Benz",
          "Mercedes-Benz",
          "Toyota",
          "Volkswagen",
          "BMW",
          "Mercedes-Benz",
          "BMW",
          "Dacia",
          "Citroen",
          "Fiat",
          "BMW",
          "Citroen",
          "Renault",
          "Peugeot",
          "Dodge",
          "Dacia",
          "Mercedes-Benz",
          "Volkswagen",
          "Audi",
          "Ford",
          "Ford",
          "Fiat",
          "Skoda",
          "BMW",
          "Porsche",
          "Hyundai",
          "Volkswagen",
          "Jeep",
          "Jeep",
          "Peugeot",
          "Land Rover",
          "Audi",
          "Mercedes-Benz",
          "Nissan",
          "Hyundai",
          "Peugeot",
          "Peugeot",
          "Land Rover",
          "Mercedes-Benz",
          "BMW",
          "Peugeot",
          "Peugeot",
          "Land Rover",
          "Mercedes-Benz",
          "Renault",
          "BMW",
          "BMW",
          "Mercedes-Benz",
          "Opel",
          "Renault",
          "Dacia",
          "Jeep",
          "Audi",
          "Hyundai",
          "Kia",
          "Land Rover",
          "Mercedes-Benz",
          "Jaguar",
          "Peugeot",
          "Audi",
          "Porsche",
          "Peugeot",
          "Mercedes-Benz",
          "Renault",
          "Volkswagen",
          "Volkswagen",
          "Volkswagen",
          "Porsche",
          "Renault",
          "Jeep",
          "Lexus",
          "Hyundai",
          "Audi",
          "Hyundai",
          "Porsche",
          "Renault",
          "Toyota",
          "Mercedes-Benz",
          "Toyota",
          "Abarth",
          "Volkswagen",
          "Audi",
          "Dacia",
          "Dacia",
          "Mercedes-Benz",
          "Jeep",
          "Opel",
          "Volkswagen",
          "Toyota",
          "Citroen",
          "Renault",
          "Volvo",
          "Dacia",
          "Audi",
          "Renault",
          "Audi",
          "Mercedes-Benz"
         ],
         "xaxis": "x",
         "yaxis": "y"
        }
       ],
       "layout": {
        "barmode": "relative",
        "legend": {
         "tracegroupgap": 0
        },
        "template": {
         "data": {
          "bar": [
           {
            "error_x": {
             "color": "#2a3f5f"
            },
            "error_y": {
             "color": "#2a3f5f"
            },
            "marker": {
             "line": {
              "color": "#E5ECF6",
              "width": 0.5
             },
             "pattern": {
              "fillmode": "overlay",
              "size": 10,
              "solidity": 0.2
             }
            },
            "type": "bar"
           }
          ],
          "barpolar": [
           {
            "marker": {
             "line": {
              "color": "#E5ECF6",
              "width": 0.5
             },
             "pattern": {
              "fillmode": "overlay",
              "size": 10,
              "solidity": 0.2
             }
            },
            "type": "barpolar"
           }
          ],
          "carpet": [
           {
            "aaxis": {
             "endlinecolor": "#2a3f5f",
             "gridcolor": "white",
             "linecolor": "white",
             "minorgridcolor": "white",
             "startlinecolor": "#2a3f5f"
            },
            "baxis": {
             "endlinecolor": "#2a3f5f",
             "gridcolor": "white",
             "linecolor": "white",
             "minorgridcolor": "white",
             "startlinecolor": "#2a3f5f"
            },
            "type": "carpet"
           }
          ],
          "choropleth": [
           {
            "colorbar": {
             "outlinewidth": 0,
             "ticks": ""
            },
            "type": "choropleth"
           }
          ],
          "contour": [
           {
            "colorbar": {
             "outlinewidth": 0,
             "ticks": ""
            },
            "colorscale": [
             [
              0,
              "#0d0887"
             ],
             [
              0.1111111111111111,
              "#46039f"
             ],
             [
              0.2222222222222222,
              "#7201a8"
             ],
             [
              0.3333333333333333,
              "#9c179e"
             ],
             [
              0.4444444444444444,
              "#bd3786"
             ],
             [
              0.5555555555555556,
              "#d8576b"
             ],
             [
              0.6666666666666666,
              "#ed7953"
             ],
             [
              0.7777777777777778,
              "#fb9f3a"
             ],
             [
              0.8888888888888888,
              "#fdca26"
             ],
             [
              1,
              "#f0f921"
             ]
            ],
            "type": "contour"
           }
          ],
          "contourcarpet": [
           {
            "colorbar": {
             "outlinewidth": 0,
             "ticks": ""
            },
            "type": "contourcarpet"
           }
          ],
          "heatmap": [
           {
            "colorbar": {
             "outlinewidth": 0,
             "ticks": ""
            },
            "colorscale": [
             [
              0,
              "#0d0887"
             ],
             [
              0.1111111111111111,
              "#46039f"
             ],
             [
              0.2222222222222222,
              "#7201a8"
             ],
             [
              0.3333333333333333,
              "#9c179e"
             ],
             [
              0.4444444444444444,
              "#bd3786"
             ],
             [
              0.5555555555555556,
              "#d8576b"
             ],
             [
              0.6666666666666666,
              "#ed7953"
             ],
             [
              0.7777777777777778,
              "#fb9f3a"
             ],
             [
              0.8888888888888888,
              "#fdca26"
             ],
             [
              1,
              "#f0f921"
             ]
            ],
            "type": "heatmap"
           }
          ],
          "heatmapgl": [
           {
            "colorbar": {
             "outlinewidth": 0,
             "ticks": ""
            },
            "colorscale": [
             [
              0,
              "#0d0887"
             ],
             [
              0.1111111111111111,
              "#46039f"
             ],
             [
              0.2222222222222222,
              "#7201a8"
             ],
             [
              0.3333333333333333,
              "#9c179e"
             ],
             [
              0.4444444444444444,
              "#bd3786"
             ],
             [
              0.5555555555555556,
              "#d8576b"
             ],
             [
              0.6666666666666666,
              "#ed7953"
             ],
             [
              0.7777777777777778,
              "#fb9f3a"
             ],
             [
              0.8888888888888888,
              "#fdca26"
             ],
             [
              1,
              "#f0f921"
             ]
            ],
            "type": "heatmapgl"
           }
          ],
          "histogram": [
           {
            "marker": {
             "pattern": {
              "fillmode": "overlay",
              "size": 10,
              "solidity": 0.2
             }
            },
            "type": "histogram"
           }
          ],
          "histogram2d": [
           {
            "colorbar": {
             "outlinewidth": 0,
             "ticks": ""
            },
            "colorscale": [
             [
              0,
              "#0d0887"
             ],
             [
              0.1111111111111111,
              "#46039f"
             ],
             [
              0.2222222222222222,
              "#7201a8"
             ],
             [
              0.3333333333333333,
              "#9c179e"
             ],
             [
              0.4444444444444444,
              "#bd3786"
             ],
             [
              0.5555555555555556,
              "#d8576b"
             ],
             [
              0.6666666666666666,
              "#ed7953"
             ],
             [
              0.7777777777777778,
              "#fb9f3a"
             ],
             [
              0.8888888888888888,
              "#fdca26"
             ],
             [
              1,
              "#f0f921"
             ]
            ],
            "type": "histogram2d"
           }
          ],
          "histogram2dcontour": [
           {
            "colorbar": {
             "outlinewidth": 0,
             "ticks": ""
            },
            "colorscale": [
             [
              0,
              "#0d0887"
             ],
             [
              0.1111111111111111,
              "#46039f"
             ],
             [
              0.2222222222222222,
              "#7201a8"
             ],
             [
              0.3333333333333333,
              "#9c179e"
             ],
             [
              0.4444444444444444,
              "#bd3786"
             ],
             [
              0.5555555555555556,
              "#d8576b"
             ],
             [
              0.6666666666666666,
              "#ed7953"
             ],
             [
              0.7777777777777778,
              "#fb9f3a"
             ],
             [
              0.8888888888888888,
              "#fdca26"
             ],
             [
              1,
              "#f0f921"
             ]
            ],
            "type": "histogram2dcontour"
           }
          ],
          "mesh3d": [
           {
            "colorbar": {
             "outlinewidth": 0,
             "ticks": ""
            },
            "type": "mesh3d"
           }
          ],
          "parcoords": [
           {
            "line": {
             "colorbar": {
              "outlinewidth": 0,
              "ticks": ""
             }
            },
            "type": "parcoords"
           }
          ],
          "pie": [
           {
            "automargin": true,
            "type": "pie"
           }
          ],
          "scatter": [
           {
            "fillpattern": {
             "fillmode": "overlay",
             "size": 10,
             "solidity": 0.2
            },
            "type": "scatter"
           }
          ],
          "scatter3d": [
           {
            "line": {
             "colorbar": {
              "outlinewidth": 0,
              "ticks": ""
             }
            },
            "marker": {
             "colorbar": {
              "outlinewidth": 0,
              "ticks": ""
             }
            },
            "type": "scatter3d"
           }
          ],
          "scattercarpet": [
           {
            "marker": {
             "colorbar": {
              "outlinewidth": 0,
              "ticks": ""
             }
            },
            "type": "scattercarpet"
           }
          ],
          "scattergeo": [
           {
            "marker": {
             "colorbar": {
              "outlinewidth": 0,
              "ticks": ""
             }
            },
            "type": "scattergeo"
           }
          ],
          "scattergl": [
           {
            "marker": {
             "colorbar": {
              "outlinewidth": 0,
              "ticks": ""
             }
            },
            "type": "scattergl"
           }
          ],
          "scattermapbox": [
           {
            "marker": {
             "colorbar": {
              "outlinewidth": 0,
              "ticks": ""
             }
            },
            "type": "scattermapbox"
           }
          ],
          "scatterpolar": [
           {
            "marker": {
             "colorbar": {
              "outlinewidth": 0,
              "ticks": ""
             }
            },
            "type": "scatterpolar"
           }
          ],
          "scatterpolargl": [
           {
            "marker": {
             "colorbar": {
              "outlinewidth": 0,
              "ticks": ""
             }
            },
            "type": "scatterpolargl"
           }
          ],
          "scatterternary": [
           {
            "marker": {
             "colorbar": {
              "outlinewidth": 0,
              "ticks": ""
             }
            },
            "type": "scatterternary"
           }
          ],
          "surface": [
           {
            "colorbar": {
             "outlinewidth": 0,
             "ticks": ""
            },
            "colorscale": [
             [
              0,
              "#0d0887"
             ],
             [
              0.1111111111111111,
              "#46039f"
             ],
             [
              0.2222222222222222,
              "#7201a8"
             ],
             [
              0.3333333333333333,
              "#9c179e"
             ],
             [
              0.4444444444444444,
              "#bd3786"
             ],
             [
              0.5555555555555556,
              "#d8576b"
             ],
             [
              0.6666666666666666,
              "#ed7953"
             ],
             [
              0.7777777777777778,
              "#fb9f3a"
             ],
             [
              0.8888888888888888,
              "#fdca26"
             ],
             [
              1,
              "#f0f921"
             ]
            ],
            "type": "surface"
           }
          ],
          "table": [
           {
            "cells": {
             "fill": {
              "color": "#EBF0F8"
             },
             "line": {
              "color": "white"
             }
            },
            "header": {
             "fill": {
              "color": "#C8D4E3"
             },
             "line": {
              "color": "white"
             }
            },
            "type": "table"
           }
          ]
         },
         "layout": {
          "annotationdefaults": {
           "arrowcolor": "#2a3f5f",
           "arrowhead": 0,
           "arrowwidth": 1
          },
          "autotypenumbers": "strict",
          "coloraxis": {
           "colorbar": {
            "outlinewidth": 0,
            "ticks": ""
           }
          },
          "colorscale": {
           "diverging": [
            [
             0,
             "#8e0152"
            ],
            [
             0.1,
             "#c51b7d"
            ],
            [
             0.2,
             "#de77ae"
            ],
            [
             0.3,
             "#f1b6da"
            ],
            [
             0.4,
             "#fde0ef"
            ],
            [
             0.5,
             "#f7f7f7"
            ],
            [
             0.6,
             "#e6f5d0"
            ],
            [
             0.7,
             "#b8e186"
            ],
            [
             0.8,
             "#7fbc41"
            ],
            [
             0.9,
             "#4d9221"
            ],
            [
             1,
             "#276419"
            ]
           ],
           "sequential": [
            [
             0,
             "#0d0887"
            ],
            [
             0.1111111111111111,
             "#46039f"
            ],
            [
             0.2222222222222222,
             "#7201a8"
            ],
            [
             0.3333333333333333,
             "#9c179e"
            ],
            [
             0.4444444444444444,
             "#bd3786"
            ],
            [
             0.5555555555555556,
             "#d8576b"
            ],
            [
             0.6666666666666666,
             "#ed7953"
            ],
            [
             0.7777777777777778,
             "#fb9f3a"
            ],
            [
             0.8888888888888888,
             "#fdca26"
            ],
            [
             1,
             "#f0f921"
            ]
           ],
           "sequentialminus": [
            [
             0,
             "#0d0887"
            ],
            [
             0.1111111111111111,
             "#46039f"
            ],
            [
             0.2222222222222222,
             "#7201a8"
            ],
            [
             0.3333333333333333,
             "#9c179e"
            ],
            [
             0.4444444444444444,
             "#bd3786"
            ],
            [
             0.5555555555555556,
             "#d8576b"
            ],
            [
             0.6666666666666666,
             "#ed7953"
            ],
            [
             0.7777777777777778,
             "#fb9f3a"
            ],
            [
             0.8888888888888888,
             "#fdca26"
            ],
            [
             1,
             "#f0f921"
            ]
           ]
          },
          "colorway": [
           "#636efa",
           "#EF553B",
           "#00cc96",
           "#ab63fa",
           "#FFA15A",
           "#19d3f3",
           "#FF6692",
           "#B6E880",
           "#FF97FF",
           "#FECB52"
          ],
          "font": {
           "color": "#2a3f5f"
          },
          "geo": {
           "bgcolor": "white",
           "lakecolor": "white",
           "landcolor": "#E5ECF6",
           "showlakes": true,
           "showland": true,
           "subunitcolor": "white"
          },
          "hoverlabel": {
           "align": "left"
          },
          "hovermode": "closest",
          "mapbox": {
           "style": "light"
          },
          "paper_bgcolor": "white",
          "plot_bgcolor": "#E5ECF6",
          "polar": {
           "angularaxis": {
            "gridcolor": "white",
            "linecolor": "white",
            "ticks": ""
           },
           "bgcolor": "#E5ECF6",
           "radialaxis": {
            "gridcolor": "white",
            "linecolor": "white",
            "ticks": ""
           }
          },
          "scene": {
           "xaxis": {
            "backgroundcolor": "#E5ECF6",
            "gridcolor": "white",
            "gridwidth": 2,
            "linecolor": "white",
            "showbackground": true,
            "ticks": "",
            "zerolinecolor": "white"
           },
           "yaxis": {
            "backgroundcolor": "#E5ECF6",
            "gridcolor": "white",
            "gridwidth": 2,
            "linecolor": "white",
            "showbackground": true,
            "ticks": "",
            "zerolinecolor": "white"
           },
           "zaxis": {
            "backgroundcolor": "#E5ECF6",
            "gridcolor": "white",
            "gridwidth": 2,
            "linecolor": "white",
            "showbackground": true,
            "ticks": "",
            "zerolinecolor": "white"
           }
          },
          "shapedefaults": {
           "line": {
            "color": "#2a3f5f"
           }
          },
          "ternary": {
           "aaxis": {
            "gridcolor": "white",
            "linecolor": "white",
            "ticks": ""
           },
           "baxis": {
            "gridcolor": "white",
            "linecolor": "white",
            "ticks": ""
           },
           "bgcolor": "#E5ECF6",
           "caxis": {
            "gridcolor": "white",
            "linecolor": "white",
            "ticks": ""
           }
          },
          "title": {
           "x": 0.05
          },
          "xaxis": {
           "automargin": true,
           "gridcolor": "white",
           "linecolor": "white",
           "ticks": "",
           "title": {
            "standoff": 15
           },
           "zerolinecolor": "white",
           "zerolinewidth": 2
          },
          "yaxis": {
           "automargin": true,
           "gridcolor": "white",
           "linecolor": "white",
           "ticks": "",
           "title": {
            "standoff": 15
           },
           "zerolinecolor": "white",
           "zerolinewidth": 2
          }
         }
        },
        "title": {
         "text": "Distribution of the Marque"
        },
        "xaxis": {
         "anchor": "y",
         "domain": [
          0,
          1
         ],
         "title": {
          "text": "Marque"
         }
        },
        "yaxis": {
         "anchor": "x",
         "domain": [
          0,
          1
         ],
         "title": {
          "text": "count"
         }
        }
       }
      },
      "text/html": [
       "<div>                            <div id=\"3d04a470-3d92-4435-9010-7cb434a7e22d\" class=\"plotly-graph-div\" style=\"height:525px; width:100%;\"></div>            <script type=\"text/javascript\">                require([\"plotly\"], function(Plotly) {                    window.PLOTLYENV=window.PLOTLYENV || {};                                    if (document.getElementById(\"3d04a470-3d92-4435-9010-7cb434a7e22d\")) {                    Plotly.newPlot(                        \"3d04a470-3d92-4435-9010-7cb434a7e22d\",                        [{\"alignmentgroup\":\"True\",\"bingroup\":\"x\",\"hovertemplate\":\"Marque=%{x}<br>count=%{y}<extra></extra>\",\"legendgroup\":\"\",\"marker\":{\"color\":\"#636efa\",\"pattern\":{\"shape\":\"\"}},\"name\":\"\",\"offsetgroup\":\"\",\"orientation\":\"v\",\"showlegend\":false,\"x\":[\"Kia\",\"Citroen\",\"Fiat\",\"Audi\",\"Maserati\",\"Renault\",\"Volkswagen\",\"Maserati\",\"Audi\",\"Land Rover\",\"Kia\",\"Peugeot\",\"Mercedes-Benz\",\"Opel\",\"Fiat\",\"DS\",\"Volkswagen\",\"Volkswagen\",\"BMW\",\"Fiat\",\"Renault\",\"Hyundai\",\"Dacia\",\"Citroen\",\"Honda\",\"Land Rover\",\"Nissan\",\"Dacia\",\"Audi\",\"Mercedes-Benz\",\"Seat\",\"Volkswagen\",\"Volkswagen\",\"Volkswagen\",\"Mercedes-Benz\",\"Volkswagen\",\"Volkswagen\",\"Mercedes-Benz\",\"Mercedes-Benz\",\"Volkswagen\",\"Mercedes-Benz\",\"Volkswagen\",\"Volkswagen\",\"Audi\",\"Land Rover\",\"Land Rover\",\"Volkswagen\",\"Mercedes-Benz\",\"Mercedes-Benz\",\"Ford\",\"Peugeot\",\"Volkswagen\",\"Audi\",\"Renault\",\"Seat\",\"Jeep\",\"Opel\",\"Citroen\",\"Peugeot\",\"Toyota\",\"Renault\",\"Mercedes-Benz\",\"Citroen\",\"Fiat\",\"Renault\",\"Hyundai\",\"Alfa Romeo\",\"Tesla\",\"Volkswagen\",\"Lamborghini\",\"Jeep\",\"Volkswagen\",\"Seat\",\"Audi\",\"Opel\",\"Land Rover\",\"Kia\",\"Audi\",\"Volkswagen\",\"Renault\",\"Hyundai\",\"Volkswagen\",\"Opel\",\"Citroen\",\"Mercedes-Benz\",\"Audi\",\"Peugeot\",\"Volkswagen\",\"Volkswagen\",\"Mini\",\"Renault\",\"BMW\",\"Jaguar\",\"Renault\",\"Mini\",\"BMW\",\"Jaguar\",\"Fiat\",\"Volkswagen\",\"Renault\",\"Dacia\",\"Volkswagen\",\"Volkswagen\",\"Volkswagen\",\"Porsche\",\"Audi\",\"Skoda\",\"Audi\",\"Renault\",\"Peugeot\",\"Volkswagen\",\"Ssangyong\",\"Volkswagen\",\"Hyundai\",\"Land Rover\",\"Jeep\",\"Jeep\",\"Renault\",\"Volkswagen\",\"BMW\",\"Porsche\",\"Volkswagen\",\"Opel\",\"Peugeot\",\"Peugeot\",\"Audi\",\"Land Rover\",\"Maserati\",\"Audi\",\"Isuzu\",\"BMW\",\"BMW\",\"Volkswagen\",\"Land Rover\",\"Volkswagen\",\"Land Rover\",\"Renault\",\"Renault\",\"Fiat\",\"Mini\",\"Audi\",\"Opel\",\"Jeep\",\"Jeep\",\"Volkswagen\",\"Audi\",\"Dacia\",\"Skoda\",\"Nissan\",\"Audi\",\"Porsche\",\"Mercedes-Benz\",\"Volkswagen\",\"Ford\",\"Porsche\",\"Opel\",\"Land Rover\",\"Audi\",\"Mercedes-Benz\",\"Ford\",\"Peugeot\",\"Volkswagen\",\"Renault\",\"Renault\",\"Renault\",\"BMW\",\"Mini\",\"Mercedes-Benz\",\"Dacia\",\"Peugeot\",\"Dacia\",\"Opel\",\"Renault\",\"Dacia\",\"Toyota\",\"Renault\",\"Volkswagen\",\"Toyota\",\"Seat\",\"Land Rover\",\"Fiat\",\"Chery\",\"Peugeot\",\"DFSK\",\"Opel\",\"Volkswagen\",\"Peugeot\",\"Volkswagen\",\"Mercedes-Benz\",\"Seat\",\"BMW\",\"Dacia\",\"Nissan\",\"Audi\",\"Hyundai\",\"Audi\",\"Dacia\",\"Nissan\",\"Mercedes-Benz\",\"Mercedes-Benz\",\"Volkswagen\",\"Volkswagen\",\"Volvo\",\"BMW\",\"Mercedes-Benz\",\"Mercedes-Benz\",\"Toyota\",\"Volkswagen\",\"BMW\",\"Mercedes-Benz\",\"BMW\",\"Dacia\",\"Citroen\",\"Fiat\",\"BMW\",\"Citroen\",\"Renault\",\"Peugeot\",\"Dodge\",\"Dacia\",\"Mercedes-Benz\",\"Volkswagen\",\"Audi\",\"Ford\",\"Ford\",\"Fiat\",\"Skoda\",\"BMW\",\"Porsche\",\"Hyundai\",\"Volkswagen\",\"Jeep\",\"Jeep\",\"Peugeot\",\"Land Rover\",\"Audi\",\"Mercedes-Benz\",\"Nissan\",\"Hyundai\",\"Peugeot\",\"Peugeot\",\"Land Rover\",\"Mercedes-Benz\",\"BMW\",\"Peugeot\",\"Peugeot\",\"Land Rover\",\"Mercedes-Benz\",\"Renault\",\"BMW\",\"BMW\",\"Mercedes-Benz\",\"Opel\",\"Renault\",\"Dacia\",\"Jeep\",\"Audi\",\"Hyundai\",\"Kia\",\"Land Rover\",\"Mercedes-Benz\",\"Jaguar\",\"Peugeot\",\"Audi\",\"Porsche\",\"Peugeot\",\"Mercedes-Benz\",\"Renault\",\"Volkswagen\",\"Volkswagen\",\"Volkswagen\",\"Porsche\",\"Renault\",\"Jeep\",\"Lexus\",\"Hyundai\",\"Audi\",\"Hyundai\",\"Porsche\",\"Renault\",\"Toyota\",\"Mercedes-Benz\",\"Toyota\",\"Abarth\",\"Volkswagen\",\"Audi\",\"Dacia\",\"Dacia\",\"Mercedes-Benz\",\"Jeep\",\"Opel\",\"Volkswagen\",\"Toyota\",\"Citroen\",\"Renault\",\"Volvo\",\"Dacia\",\"Audi\",\"Renault\",\"Audi\",\"Mercedes-Benz\"],\"xaxis\":\"x\",\"yaxis\":\"y\",\"type\":\"histogram\"}],                        {\"template\":{\"data\":{\"histogram2dcontour\":[{\"type\":\"histogram2dcontour\",\"colorbar\":{\"outlinewidth\":0,\"ticks\":\"\"},\"colorscale\":[[0.0,\"#0d0887\"],[0.1111111111111111,\"#46039f\"],[0.2222222222222222,\"#7201a8\"],[0.3333333333333333,\"#9c179e\"],[0.4444444444444444,\"#bd3786\"],[0.5555555555555556,\"#d8576b\"],[0.6666666666666666,\"#ed7953\"],[0.7777777777777778,\"#fb9f3a\"],[0.8888888888888888,\"#fdca26\"],[1.0,\"#f0f921\"]]}],\"choropleth\":[{\"type\":\"choropleth\",\"colorbar\":{\"outlinewidth\":0,\"ticks\":\"\"}}],\"histogram2d\":[{\"type\":\"histogram2d\",\"colorbar\":{\"outlinewidth\":0,\"ticks\":\"\"},\"colorscale\":[[0.0,\"#0d0887\"],[0.1111111111111111,\"#46039f\"],[0.2222222222222222,\"#7201a8\"],[0.3333333333333333,\"#9c179e\"],[0.4444444444444444,\"#bd3786\"],[0.5555555555555556,\"#d8576b\"],[0.6666666666666666,\"#ed7953\"],[0.7777777777777778,\"#fb9f3a\"],[0.8888888888888888,\"#fdca26\"],[1.0,\"#f0f921\"]]}],\"heatmap\":[{\"type\":\"heatmap\",\"colorbar\":{\"outlinewidth\":0,\"ticks\":\"\"},\"colorscale\":[[0.0,\"#0d0887\"],[0.1111111111111111,\"#46039f\"],[0.2222222222222222,\"#7201a8\"],[0.3333333333333333,\"#9c179e\"],[0.4444444444444444,\"#bd3786\"],[0.5555555555555556,\"#d8576b\"],[0.6666666666666666,\"#ed7953\"],[0.7777777777777778,\"#fb9f3a\"],[0.8888888888888888,\"#fdca26\"],[1.0,\"#f0f921\"]]}],\"heatmapgl\":[{\"type\":\"heatmapgl\",\"colorbar\":{\"outlinewidth\":0,\"ticks\":\"\"},\"colorscale\":[[0.0,\"#0d0887\"],[0.1111111111111111,\"#46039f\"],[0.2222222222222222,\"#7201a8\"],[0.3333333333333333,\"#9c179e\"],[0.4444444444444444,\"#bd3786\"],[0.5555555555555556,\"#d8576b\"],[0.6666666666666666,\"#ed7953\"],[0.7777777777777778,\"#fb9f3a\"],[0.8888888888888888,\"#fdca26\"],[1.0,\"#f0f921\"]]}],\"contourcarpet\":[{\"type\":\"contourcarpet\",\"colorbar\":{\"outlinewidth\":0,\"ticks\":\"\"}}],\"contour\":[{\"type\":\"contour\",\"colorbar\":{\"outlinewidth\":0,\"ticks\":\"\"},\"colorscale\":[[0.0,\"#0d0887\"],[0.1111111111111111,\"#46039f\"],[0.2222222222222222,\"#7201a8\"],[0.3333333333333333,\"#9c179e\"],[0.4444444444444444,\"#bd3786\"],[0.5555555555555556,\"#d8576b\"],[0.6666666666666666,\"#ed7953\"],[0.7777777777777778,\"#fb9f3a\"],[0.8888888888888888,\"#fdca26\"],[1.0,\"#f0f921\"]]}],\"surface\":[{\"type\":\"surface\",\"colorbar\":{\"outlinewidth\":0,\"ticks\":\"\"},\"colorscale\":[[0.0,\"#0d0887\"],[0.1111111111111111,\"#46039f\"],[0.2222222222222222,\"#7201a8\"],[0.3333333333333333,\"#9c179e\"],[0.4444444444444444,\"#bd3786\"],[0.5555555555555556,\"#d8576b\"],[0.6666666666666666,\"#ed7953\"],[0.7777777777777778,\"#fb9f3a\"],[0.8888888888888888,\"#fdca26\"],[1.0,\"#f0f921\"]]}],\"mesh3d\":[{\"type\":\"mesh3d\",\"colorbar\":{\"outlinewidth\":0,\"ticks\":\"\"}}],\"scatter\":[{\"fillpattern\":{\"fillmode\":\"overlay\",\"size\":10,\"solidity\":0.2},\"type\":\"scatter\"}],\"parcoords\":[{\"type\":\"parcoords\",\"line\":{\"colorbar\":{\"outlinewidth\":0,\"ticks\":\"\"}}}],\"scatterpolargl\":[{\"type\":\"scatterpolargl\",\"marker\":{\"colorbar\":{\"outlinewidth\":0,\"ticks\":\"\"}}}],\"bar\":[{\"error_x\":{\"color\":\"#2a3f5f\"},\"error_y\":{\"color\":\"#2a3f5f\"},\"marker\":{\"line\":{\"color\":\"#E5ECF6\",\"width\":0.5},\"pattern\":{\"fillmode\":\"overlay\",\"size\":10,\"solidity\":0.2}},\"type\":\"bar\"}],\"scattergeo\":[{\"type\":\"scattergeo\",\"marker\":{\"colorbar\":{\"outlinewidth\":0,\"ticks\":\"\"}}}],\"scatterpolar\":[{\"type\":\"scatterpolar\",\"marker\":{\"colorbar\":{\"outlinewidth\":0,\"ticks\":\"\"}}}],\"histogram\":[{\"marker\":{\"pattern\":{\"fillmode\":\"overlay\",\"size\":10,\"solidity\":0.2}},\"type\":\"histogram\"}],\"scattergl\":[{\"type\":\"scattergl\",\"marker\":{\"colorbar\":{\"outlinewidth\":0,\"ticks\":\"\"}}}],\"scatter3d\":[{\"type\":\"scatter3d\",\"line\":{\"colorbar\":{\"outlinewidth\":0,\"ticks\":\"\"}},\"marker\":{\"colorbar\":{\"outlinewidth\":0,\"ticks\":\"\"}}}],\"scattermapbox\":[{\"type\":\"scattermapbox\",\"marker\":{\"colorbar\":{\"outlinewidth\":0,\"ticks\":\"\"}}}],\"scatterternary\":[{\"type\":\"scatterternary\",\"marker\":{\"colorbar\":{\"outlinewidth\":0,\"ticks\":\"\"}}}],\"scattercarpet\":[{\"type\":\"scattercarpet\",\"marker\":{\"colorbar\":{\"outlinewidth\":0,\"ticks\":\"\"}}}],\"carpet\":[{\"aaxis\":{\"endlinecolor\":\"#2a3f5f\",\"gridcolor\":\"white\",\"linecolor\":\"white\",\"minorgridcolor\":\"white\",\"startlinecolor\":\"#2a3f5f\"},\"baxis\":{\"endlinecolor\":\"#2a3f5f\",\"gridcolor\":\"white\",\"linecolor\":\"white\",\"minorgridcolor\":\"white\",\"startlinecolor\":\"#2a3f5f\"},\"type\":\"carpet\"}],\"table\":[{\"cells\":{\"fill\":{\"color\":\"#EBF0F8\"},\"line\":{\"color\":\"white\"}},\"header\":{\"fill\":{\"color\":\"#C8D4E3\"},\"line\":{\"color\":\"white\"}},\"type\":\"table\"}],\"barpolar\":[{\"marker\":{\"line\":{\"color\":\"#E5ECF6\",\"width\":0.5},\"pattern\":{\"fillmode\":\"overlay\",\"size\":10,\"solidity\":0.2}},\"type\":\"barpolar\"}],\"pie\":[{\"automargin\":true,\"type\":\"pie\"}]},\"layout\":{\"autotypenumbers\":\"strict\",\"colorway\":[\"#636efa\",\"#EF553B\",\"#00cc96\",\"#ab63fa\",\"#FFA15A\",\"#19d3f3\",\"#FF6692\",\"#B6E880\",\"#FF97FF\",\"#FECB52\"],\"font\":{\"color\":\"#2a3f5f\"},\"hovermode\":\"closest\",\"hoverlabel\":{\"align\":\"left\"},\"paper_bgcolor\":\"white\",\"plot_bgcolor\":\"#E5ECF6\",\"polar\":{\"bgcolor\":\"#E5ECF6\",\"angularaxis\":{\"gridcolor\":\"white\",\"linecolor\":\"white\",\"ticks\":\"\"},\"radialaxis\":{\"gridcolor\":\"white\",\"linecolor\":\"white\",\"ticks\":\"\"}},\"ternary\":{\"bgcolor\":\"#E5ECF6\",\"aaxis\":{\"gridcolor\":\"white\",\"linecolor\":\"white\",\"ticks\":\"\"},\"baxis\":{\"gridcolor\":\"white\",\"linecolor\":\"white\",\"ticks\":\"\"},\"caxis\":{\"gridcolor\":\"white\",\"linecolor\":\"white\",\"ticks\":\"\"}},\"coloraxis\":{\"colorbar\":{\"outlinewidth\":0,\"ticks\":\"\"}},\"colorscale\":{\"sequential\":[[0.0,\"#0d0887\"],[0.1111111111111111,\"#46039f\"],[0.2222222222222222,\"#7201a8\"],[0.3333333333333333,\"#9c179e\"],[0.4444444444444444,\"#bd3786\"],[0.5555555555555556,\"#d8576b\"],[0.6666666666666666,\"#ed7953\"],[0.7777777777777778,\"#fb9f3a\"],[0.8888888888888888,\"#fdca26\"],[1.0,\"#f0f921\"]],\"sequentialminus\":[[0.0,\"#0d0887\"],[0.1111111111111111,\"#46039f\"],[0.2222222222222222,\"#7201a8\"],[0.3333333333333333,\"#9c179e\"],[0.4444444444444444,\"#bd3786\"],[0.5555555555555556,\"#d8576b\"],[0.6666666666666666,\"#ed7953\"],[0.7777777777777778,\"#fb9f3a\"],[0.8888888888888888,\"#fdca26\"],[1.0,\"#f0f921\"]],\"diverging\":[[0,\"#8e0152\"],[0.1,\"#c51b7d\"],[0.2,\"#de77ae\"],[0.3,\"#f1b6da\"],[0.4,\"#fde0ef\"],[0.5,\"#f7f7f7\"],[0.6,\"#e6f5d0\"],[0.7,\"#b8e186\"],[0.8,\"#7fbc41\"],[0.9,\"#4d9221\"],[1,\"#276419\"]]},\"xaxis\":{\"gridcolor\":\"white\",\"linecolor\":\"white\",\"ticks\":\"\",\"title\":{\"standoff\":15},\"zerolinecolor\":\"white\",\"automargin\":true,\"zerolinewidth\":2},\"yaxis\":{\"gridcolor\":\"white\",\"linecolor\":\"white\",\"ticks\":\"\",\"title\":{\"standoff\":15},\"zerolinecolor\":\"white\",\"automargin\":true,\"zerolinewidth\":2},\"scene\":{\"xaxis\":{\"backgroundcolor\":\"#E5ECF6\",\"gridcolor\":\"white\",\"linecolor\":\"white\",\"showbackground\":true,\"ticks\":\"\",\"zerolinecolor\":\"white\",\"gridwidth\":2},\"yaxis\":{\"backgroundcolor\":\"#E5ECF6\",\"gridcolor\":\"white\",\"linecolor\":\"white\",\"showbackground\":true,\"ticks\":\"\",\"zerolinecolor\":\"white\",\"gridwidth\":2},\"zaxis\":{\"backgroundcolor\":\"#E5ECF6\",\"gridcolor\":\"white\",\"linecolor\":\"white\",\"showbackground\":true,\"ticks\":\"\",\"zerolinecolor\":\"white\",\"gridwidth\":2}},\"shapedefaults\":{\"line\":{\"color\":\"#2a3f5f\"}},\"annotationdefaults\":{\"arrowcolor\":\"#2a3f5f\",\"arrowhead\":0,\"arrowwidth\":1},\"geo\":{\"bgcolor\":\"white\",\"landcolor\":\"#E5ECF6\",\"subunitcolor\":\"white\",\"showland\":true,\"showlakes\":true,\"lakecolor\":\"white\"},\"title\":{\"x\":0.05},\"mapbox\":{\"style\":\"light\"}}},\"xaxis\":{\"anchor\":\"y\",\"domain\":[0.0,1.0],\"title\":{\"text\":\"Marque\"}},\"yaxis\":{\"anchor\":\"x\",\"domain\":[0.0,1.0],\"title\":{\"text\":\"count\"}},\"legend\":{\"tracegroupgap\":0},\"title\":{\"text\":\"Distribution of the Marque\"},\"barmode\":\"relative\"},                        {\"responsive\": true}                    ).then(function(){\n",
       "                            \n",
       "var gd = document.getElementById('3d04a470-3d92-4435-9010-7cb434a7e22d');\n",
       "var x = new MutationObserver(function (mutations, observer) {{\n",
       "        var display = window.getComputedStyle(gd).display;\n",
       "        if (!display || display === 'none') {{\n",
       "            console.log([gd, 'removed!']);\n",
       "            Plotly.purge(gd);\n",
       "            observer.disconnect();\n",
       "        }}\n",
       "}});\n",
       "\n",
       "// Listen for the removal of the full notebook cells\n",
       "var notebookContainer = gd.closest('#notebook-container');\n",
       "if (notebookContainer) {{\n",
       "    x.observe(notebookContainer, {childList: true});\n",
       "}}\n",
       "\n",
       "// Listen for the clearing of the current output cell\n",
       "var outputEl = gd.closest('.output');\n",
       "if (outputEl) {{\n",
       "    x.observe(outputEl, {childList: true});\n",
       "}}\n",
       "\n",
       "                        })                };                });            </script>        </div>"
      ]
     },
     "metadata": {},
     "output_type": "display_data"
    }
   ],
   "source": [
    "fig=px.histogram(data,\n",
    "                 x=\"Marque\",\n",
    "                 hover_data=data.columns,\n",
    "                 title=\"Distribution of the Marque\")\n",
    "fig.show()"
   ]
  },
  {
   "cell_type": "code",
   "execution_count": 339,
   "id": "a54b3b24",
   "metadata": {},
   "outputs": [
    {
     "data": {
      "application/vnd.plotly.v1+json": {
       "config": {
        "plotlyServerURL": "https://plot.ly"
       },
       "data": [
        {
         "alignmentgroup": "True",
         "bingroup": "x",
         "hovertemplate": "Marque=Kia<br>Prices=%{x}<br>count=%{y}<extra></extra>",
         "legendgroup": "Kia",
         "marker": {
          "color": "#636efa",
          "pattern": {
           "shape": ""
          }
         },
         "name": "Kia",
         "offsetgroup": "Kia",
         "orientation": "v",
         "showlegend": true,
         "type": "histogram",
         "x": [
          122000,
          118000,
          395000,
          150000
         ],
         "xaxis": "x",
         "yaxis": "y"
        },
        {
         "alignmentgroup": "True",
         "bingroup": "x",
         "hovertemplate": "Marque=Citroen<br>Prices=%{x}<br>count=%{y}<extra></extra>",
         "legendgroup": "Citroen",
         "marker": {
          "color": "#EF553B",
          "pattern": {
           "shape": ""
          }
         },
         "name": "Citroen",
         "offsetgroup": "Citroen",
         "orientation": "v",
         "showlegend": true,
         "type": "histogram",
         "x": [
          75000,
          127000,
          117000,
          209000,
          145000,
          172000,
          155000,
          106000
         ],
         "xaxis": "x",
         "yaxis": "y"
        },
        {
         "alignmentgroup": "True",
         "bingroup": "x",
         "hovertemplate": "Marque=Fiat<br>Prices=%{x}<br>count=%{y}<extra></extra>",
         "legendgroup": "Fiat",
         "marker": {
          "color": "#00cc96",
          "pattern": {
           "shape": ""
          }
         },
         "name": "Fiat",
         "offsetgroup": "Fiat",
         "orientation": "v",
         "showlegend": true,
         "type": "histogram",
         "x": [
          138000,
          96000,
          93000,
          123000,
          256000,
          78000,
          62000,
          135000,
          340000
         ],
         "xaxis": "x",
         "yaxis": "y"
        },
        {
         "alignmentgroup": "True",
         "bingroup": "x",
         "hovertemplate": "Marque=Audi<br>Prices=%{x}<br>count=%{y}<extra></extra>",
         "legendgroup": "Audi",
         "marker": {
          "color": "#ab63fa",
          "pattern": {
           "shape": ""
          }
         },
         "name": "Audi",
         "offsetgroup": "Audi",
         "orientation": "v",
         "showlegend": true,
         "type": "histogram",
         "x": [
          690000,
          320000,
          780000,
          185000,
          320000,
          79000,
          147000,
          158000,
          325000,
          125000,
          390000,
          136000,
          800000,
          185000,
          187000,
          240000,
          225000,
          30000,
          118000,
          175000,
          105000,
          112000,
          117000,
          228000,
          570000,
          249000
         ],
         "xaxis": "x",
         "yaxis": "y"
        },
        {
         "alignmentgroup": "True",
         "bingroup": "x",
         "hovertemplate": "Marque=Maserati<br>Prices=%{x}<br>count=%{y}<extra></extra>",
         "legendgroup": "Maserati",
         "marker": {
          "color": "#FFA15A",
          "pattern": {
           "shape": ""
          }
         },
         "name": "Maserati",
         "offsetgroup": "Maserati",
         "orientation": "v",
         "showlegend": true,
         "type": "histogram",
         "x": [
          370000,
          375000,
          235000
         ],
         "xaxis": "x",
         "yaxis": "y"
        },
        {
         "alignmentgroup": "True",
         "bingroup": "x",
         "hovertemplate": "Marque=Renault<br>Prices=%{x}<br>count=%{y}<extra></extra>",
         "legendgroup": "Renault",
         "marker": {
          "color": "#19d3f3",
          "pattern": {
           "shape": ""
          }
         },
         "name": "Renault",
         "offsetgroup": "Renault",
         "orientation": "v",
         "showlegend": true,
         "type": "histogram",
         "x": [
          190000,
          136000,
          285000,
          220000,
          307000,
          228000,
          260000,
          280000,
          135000,
          113000,
          70000,
          120000,
          40000,
          89000,
          310000,
          148000,
          120000,
          380000,
          240000,
          639000,
          63000,
          550000,
          69000,
          122000,
          164999,
          143000
         ],
         "xaxis": "x",
         "yaxis": "y"
        },
        {
         "alignmentgroup": "True",
         "bingroup": "x",
         "hovertemplate": "Marque=Volkswagen<br>Prices=%{x}<br>count=%{y}<extra></extra>",
         "legendgroup": "Volkswagen",
         "marker": {
          "color": "#FF6692",
          "pattern": {
           "shape": ""
          }
         },
         "name": "Volkswagen",
         "offsetgroup": "Volkswagen",
         "orientation": "v",
         "showlegend": true,
         "type": "histogram",
         "x": [
          159000,
          172000,
          360000,
          149000,
          490000,
          188000,
          173000,
          185000,
          188000,
          430000,
          173000,
          385000,
          229000,
          380000,
          250000,
          229000,
          198500,
          144000,
          285000,
          117000,
          120000,
          190000,
          360000,
          78000,
          155000,
          285000,
          294000,
          250000,
          107000,
          115000,
          120000,
          82000,
          95000,
          132000,
          760000,
          170000,
          23000,
          97000,
          75000,
          128000,
          139000,
          175000,
          660000,
          164999,
          212000
         ],
         "xaxis": "x",
         "yaxis": "y"
        },
        {
         "alignmentgroup": "True",
         "bingroup": "x",
         "hovertemplate": "Marque=Land Rover<br>Prices=%{x}<br>count=%{y}<extra></extra>",
         "legendgroup": "Land Rover",
         "marker": {
          "color": "#B6E880",
          "pattern": {
           "shape": ""
          }
         },
         "name": "Land Rover",
         "offsetgroup": "Land Rover",
         "orientation": "v",
         "showlegend": true,
         "type": "histogram",
         "x": [
          650000,
          360000,
          124000,
          185000,
          163000,
          112000,
          268000,
          299000,
          170000,
          139000,
          110000,
          450000,
          190000,
          170000,
          950000
         ],
         "xaxis": "x",
         "yaxis": "y"
        },
        {
         "alignmentgroup": "True",
         "bingroup": "x",
         "hovertemplate": "Marque=Peugeot<br>Prices=%{x}<br>count=%{y}<extra></extra>",
         "legendgroup": "Peugeot",
         "marker": {
          "color": "#FF97FF",
          "pattern": {
           "shape": ""
          }
         },
         "name": "Peugeot",
         "offsetgroup": "Peugeot",
         "orientation": "v",
         "showlegend": true,
         "type": "histogram",
         "x": [
          235000,
          100000,
          398000,
          358000,
          60000,
          220000,
          140000,
          265000,
          62000,
          705000,
          395000,
          168000,
          295000,
          139000,
          180000,
          350000,
          900000,
          140000,
          185000
         ],
         "xaxis": "x",
         "yaxis": "y"
        },
        {
         "alignmentgroup": "True",
         "bingroup": "x",
         "hovertemplate": "Marque=Mercedes-Benz<br>Prices=%{x}<br>count=%{y}<extra></extra>",
         "legendgroup": "Mercedes-Benz",
         "marker": {
          "color": "#FECB52",
          "pattern": {
           "shape": ""
          }
         },
         "name": "Mercedes-Benz",
         "offsetgroup": "Mercedes-Benz",
         "orientation": "v",
         "showlegend": true,
         "type": "histogram",
         "x": [
          670000,
          285000,
          430000,
          124000,
          490000,
          75000,
          790000,
          185000,
          118000,
          132000,
          385000,
          118000,
          510000,
          850000,
          390000,
          180000,
          150000,
          162000,
          115000,
          189000,
          175000,
          128000,
          52000,
          168000,
          323000,
          273000,
          212000,
          185000,
          197000
         ],
         "xaxis": "x",
         "yaxis": "y"
        },
        {
         "alignmentgroup": "True",
         "bingroup": "x",
         "hovertemplate": "Marque=Opel<br>Prices=%{x}<br>count=%{y}<extra></extra>",
         "legendgroup": "Opel",
         "marker": {
          "color": "#636efa",
          "pattern": {
           "shape": ""
          }
         },
         "name": "Opel",
         "offsetgroup": "Opel",
         "orientation": "v",
         "showlegend": true,
         "type": "histogram",
         "x": [
          153000,
          275000,
          257000,
          390000,
          145000,
          162000,
          285000,
          109000,
          155000,
          450000,
          39000
         ],
         "xaxis": "x",
         "yaxis": "y"
        },
        {
         "alignmentgroup": "True",
         "bingroup": "x",
         "hovertemplate": "Marque=DS<br>Prices=%{x}<br>count=%{y}<extra></extra>",
         "legendgroup": "DS",
         "marker": {
          "color": "#EF553B",
          "pattern": {
           "shape": ""
          }
         },
         "name": "DS",
         "offsetgroup": "DS",
         "orientation": "v",
         "showlegend": true,
         "type": "histogram",
         "x": [
          115000
         ],
         "xaxis": "x",
         "yaxis": "y"
        },
        {
         "alignmentgroup": "True",
         "bingroup": "x",
         "hovertemplate": "Marque=BMW<br>Prices=%{x}<br>count=%{y}<extra></extra>",
         "legendgroup": "BMW",
         "marker": {
          "color": "#00cc96",
          "pattern": {
           "shape": ""
          }
         },
         "name": "BMW",
         "offsetgroup": "BMW",
         "orientation": "v",
         "showlegend": true,
         "type": "histogram",
         "x": [
          220000,
          238000,
          210000,
          320000,
          125000,
          220000,
          450000,
          128000,
          280000,
          145000,
          119000,
          98000,
          139000,
          145000,
          285000,
          110000
         ],
         "xaxis": "x",
         "yaxis": "y"
        },
        {
         "alignmentgroup": "True",
         "bingroup": "x",
         "hovertemplate": "Marque=Hyundai<br>Prices=%{x}<br>count=%{y}<extra></extra>",
         "legendgroup": "Hyundai",
         "marker": {
          "color": "#ab63fa",
          "pattern": {
           "shape": ""
          }
         },
         "name": "Hyundai",
         "offsetgroup": "Hyundai",
         "orientation": "v",
         "showlegend": true,
         "type": "histogram",
         "x": [
          265000,
          225000,
          113000,
          235000,
          62000,
          190000,
          450000,
          96000,
          228000,
          265000
         ],
         "xaxis": "x",
         "yaxis": "y"
        },
        {
         "alignmentgroup": "True",
         "bingroup": "x",
         "hovertemplate": "Marque=Dacia<br>Prices=%{x}<br>count=%{y}<extra></extra>",
         "legendgroup": "Dacia",
         "marker": {
          "color": "#FFA15A",
          "pattern": {
           "shape": ""
          }
         },
         "name": "Dacia",
         "offsetgroup": "Dacia",
         "orientation": "v",
         "showlegend": true,
         "type": "histogram",
         "x": [
          162000,
          165000,
          120000,
          170000,
          118000,
          62000,
          220000,
          145000,
          305000,
          270000,
          770000,
          579000,
          117000,
          265000,
          340000
         ],
         "xaxis": "x",
         "yaxis": "y"
        },
        {
         "alignmentgroup": "True",
         "bingroup": "x",
         "hovertemplate": "Marque=Honda<br>Prices=%{x}<br>count=%{y}<extra></extra>",
         "legendgroup": "Honda",
         "marker": {
          "color": "#19d3f3",
          "pattern": {
           "shape": ""
          }
         },
         "name": "Honda",
         "offsetgroup": "Honda",
         "orientation": "v",
         "showlegend": true,
         "type": "histogram",
         "x": [
          149000
         ],
         "xaxis": "x",
         "yaxis": "y"
        },
        {
         "alignmentgroup": "True",
         "bingroup": "x",
         "hovertemplate": "Marque=Nissan<br>Prices=%{x}<br>count=%{y}<extra></extra>",
         "legendgroup": "Nissan",
         "marker": {
          "color": "#FF6692",
          "pattern": {
           "shape": ""
          }
         },
         "name": "Nissan",
         "offsetgroup": "Nissan",
         "orientation": "v",
         "showlegend": true,
         "type": "histogram",
         "x": [
          123000,
          420000,
          310000,
          31000,
          148000
         ],
         "xaxis": "x",
         "yaxis": "y"
        },
        {
         "alignmentgroup": "True",
         "bingroup": "x",
         "hovertemplate": "Marque=Seat<br>Prices=%{x}<br>count=%{y}<extra></extra>",
         "legendgroup": "Seat",
         "marker": {
          "color": "#B6E880",
          "pattern": {
           "shape": ""
          }
         },
         "name": "Seat",
         "offsetgroup": "Seat",
         "orientation": "v",
         "showlegend": true,
         "type": "histogram",
         "x": [
          219000,
          220000,
          465000,
          135000,
          135000
         ],
         "xaxis": "x",
         "yaxis": "y"
        },
        {
         "alignmentgroup": "True",
         "bingroup": "x",
         "hovertemplate": "Marque=Ford<br>Prices=%{x}<br>count=%{y}<extra></extra>",
         "legendgroup": "Ford",
         "marker": {
          "color": "#FF97FF",
          "pattern": {
           "shape": ""
          }
         },
         "name": "Ford",
         "offsetgroup": "Ford",
         "orientation": "v",
         "showlegend": true,
         "type": "histogram",
         "x": [
          220000,
          495000,
          255000,
          150000,
          310000
         ],
         "xaxis": "x",
         "yaxis": "y"
        },
        {
         "alignmentgroup": "True",
         "bingroup": "x",
         "hovertemplate": "Marque=Jeep<br>Prices=%{x}<br>count=%{y}<extra></extra>",
         "legendgroup": "Jeep",
         "marker": {
          "color": "#FECB52",
          "pattern": {
           "shape": ""
          }
         },
         "name": "Jeep",
         "offsetgroup": "Jeep",
         "orientation": "v",
         "showlegend": true,
         "type": "histogram",
         "x": [
          126000,
          235000,
          390000,
          179000,
          150000,
          300000,
          143000,
          750000,
          545000,
          270000,
          122000
         ],
         "xaxis": "x",
         "yaxis": "y"
        },
        {
         "alignmentgroup": "True",
         "bingroup": "x",
         "hovertemplate": "Marque=Toyota<br>Prices=%{x}<br>count=%{y}<extra></extra>",
         "legendgroup": "Toyota",
         "marker": {
          "color": "#636efa",
          "pattern": {
           "shape": ""
          }
         },
         "name": "Toyota",
         "offsetgroup": "Toyota",
         "orientation": "v",
         "showlegend": true,
         "type": "histogram",
         "x": [
          168000,
          41000,
          275000,
          200000,
          39000,
          58000,
          58000
         ],
         "xaxis": "x",
         "yaxis": "y"
        },
        {
         "alignmentgroup": "True",
         "bingroup": "x",
         "hovertemplate": "Marque=Alfa Romeo<br>Prices=%{x}<br>count=%{y}<extra></extra>",
         "legendgroup": "Alfa Romeo",
         "marker": {
          "color": "#EF553B",
          "pattern": {
           "shape": ""
          }
         },
         "name": "Alfa Romeo",
         "offsetgroup": "Alfa Romeo",
         "orientation": "v",
         "showlegend": true,
         "type": "histogram",
         "x": [
          175000
         ],
         "xaxis": "x",
         "yaxis": "y"
        },
        {
         "alignmentgroup": "True",
         "bingroup": "x",
         "hovertemplate": "Marque=Tesla<br>Prices=%{x}<br>count=%{y}<extra></extra>",
         "legendgroup": "Tesla",
         "marker": {
          "color": "#00cc96",
          "pattern": {
           "shape": ""
          }
         },
         "name": "Tesla",
         "offsetgroup": "Tesla",
         "orientation": "v",
         "showlegend": true,
         "type": "histogram",
         "x": [
          240000
         ],
         "xaxis": "x",
         "yaxis": "y"
        },
        {
         "alignmentgroup": "True",
         "bingroup": "x",
         "hovertemplate": "Marque=Lamborghini<br>Prices=%{x}<br>count=%{y}<extra></extra>",
         "legendgroup": "Lamborghini",
         "marker": {
          "color": "#ab63fa",
          "pattern": {
           "shape": ""
          }
         },
         "name": "Lamborghini",
         "offsetgroup": "Lamborghini",
         "orientation": "v",
         "showlegend": true,
         "type": "histogram",
         "x": [
          158000
         ],
         "xaxis": "x",
         "yaxis": "y"
        },
        {
         "alignmentgroup": "True",
         "bingroup": "x",
         "hovertemplate": "Marque=Mini<br>Prices=%{x}<br>count=%{y}<extra></extra>",
         "legendgroup": "Mini",
         "marker": {
          "color": "#FFA15A",
          "pattern": {
           "shape": ""
          }
         },
         "name": "Mini",
         "offsetgroup": "Mini",
         "orientation": "v",
         "showlegend": true,
         "type": "histogram",
         "x": [
          222000,
          135000,
          98000,
          150000
         ],
         "xaxis": "x",
         "yaxis": "y"
        },
        {
         "alignmentgroup": "True",
         "bingroup": "x",
         "hovertemplate": "Marque=Jaguar<br>Prices=%{x}<br>count=%{y}<extra></extra>",
         "legendgroup": "Jaguar",
         "marker": {
          "color": "#19d3f3",
          "pattern": {
           "shape": ""
          }
         },
         "name": "Jaguar",
         "offsetgroup": "Jaguar",
         "orientation": "v",
         "showlegend": true,
         "type": "histogram",
         "x": [
          235000,
          235000,
          440000
         ],
         "xaxis": "x",
         "yaxis": "y"
        },
        {
         "alignmentgroup": "True",
         "bingroup": "x",
         "hovertemplate": "Marque=Porsche<br>Prices=%{x}<br>count=%{y}<extra></extra>",
         "legendgroup": "Porsche",
         "marker": {
          "color": "#FF6692",
          "pattern": {
           "shape": ""
          }
         },
         "name": "Porsche",
         "offsetgroup": "Porsche",
         "orientation": "v",
         "showlegend": true,
         "type": "histogram",
         "x": [
          285000,
          470000,
          147000,
          242000,
          180000,
          340000,
          720000,
          185000
         ],
         "xaxis": "x",
         "yaxis": "y"
        },
        {
         "alignmentgroup": "True",
         "bingroup": "x",
         "hovertemplate": "Marque=Skoda<br>Prices=%{x}<br>count=%{y}<extra></extra>",
         "legendgroup": "Skoda",
         "marker": {
          "color": "#B6E880",
          "pattern": {
           "shape": ""
          }
         },
         "name": "Skoda",
         "offsetgroup": "Skoda",
         "orientation": "v",
         "showlegend": true,
         "type": "histogram",
         "x": [
          150000,
          135000,
          157000
         ],
         "xaxis": "x",
         "yaxis": "y"
        },
        {
         "alignmentgroup": "True",
         "bingroup": "x",
         "hovertemplate": "Marque=Ssangyong<br>Prices=%{x}<br>count=%{y}<extra></extra>",
         "legendgroup": "Ssangyong",
         "marker": {
          "color": "#FF97FF",
          "pattern": {
           "shape": ""
          }
         },
         "name": "Ssangyong",
         "offsetgroup": "Ssangyong",
         "orientation": "v",
         "showlegend": true,
         "type": "histogram",
         "x": [
          70000
         ],
         "xaxis": "x",
         "yaxis": "y"
        },
        {
         "alignmentgroup": "True",
         "bingroup": "x",
         "hovertemplate": "Marque=Isuzu<br>Prices=%{x}<br>count=%{y}<extra></extra>",
         "legendgroup": "Isuzu",
         "marker": {
          "color": "#FECB52",
          "pattern": {
           "shape": ""
          }
         },
         "name": "Isuzu",
         "offsetgroup": "Isuzu",
         "orientation": "v",
         "showlegend": true,
         "type": "histogram",
         "x": [
          105000
         ],
         "xaxis": "x",
         "yaxis": "y"
        },
        {
         "alignmentgroup": "True",
         "bingroup": "x",
         "hovertemplate": "Marque=Chery<br>Prices=%{x}<br>count=%{y}<extra></extra>",
         "legendgroup": "Chery",
         "marker": {
          "color": "#636efa",
          "pattern": {
           "shape": ""
          }
         },
         "name": "Chery",
         "offsetgroup": "Chery",
         "orientation": "v",
         "showlegend": true,
         "type": "histogram",
         "x": [
          290000
         ],
         "xaxis": "x",
         "yaxis": "y"
        },
        {
         "alignmentgroup": "True",
         "bingroup": "x",
         "hovertemplate": "Marque=DFSK<br>Prices=%{x}<br>count=%{y}<extra></extra>",
         "legendgroup": "DFSK",
         "marker": {
          "color": "#EF553B",
          "pattern": {
           "shape": ""
          }
         },
         "name": "DFSK",
         "offsetgroup": "DFSK",
         "orientation": "v",
         "showlegend": true,
         "type": "histogram",
         "x": [
          210000
         ],
         "xaxis": "x",
         "yaxis": "y"
        },
        {
         "alignmentgroup": "True",
         "bingroup": "x",
         "hovertemplate": "Marque=Volvo<br>Prices=%{x}<br>count=%{y}<extra></extra>",
         "legendgroup": "Volvo",
         "marker": {
          "color": "#00cc96",
          "pattern": {
           "shape": ""
          }
         },
         "name": "Volvo",
         "offsetgroup": "Volvo",
         "orientation": "v",
         "showlegend": true,
         "type": "histogram",
         "x": [
          200000,
          150000
         ],
         "xaxis": "x",
         "yaxis": "y"
        },
        {
         "alignmentgroup": "True",
         "bingroup": "x",
         "hovertemplate": "Marque=Dodge<br>Prices=%{x}<br>count=%{y}<extra></extra>",
         "legendgroup": "Dodge",
         "marker": {
          "color": "#ab63fa",
          "pattern": {
           "shape": ""
          }
         },
         "name": "Dodge",
         "offsetgroup": "Dodge",
         "orientation": "v",
         "showlegend": true,
         "type": "histogram",
         "x": [
          147000
         ],
         "xaxis": "x",
         "yaxis": "y"
        },
        {
         "alignmentgroup": "True",
         "bingroup": "x",
         "hovertemplate": "Marque=Lexus<br>Prices=%{x}<br>count=%{y}<extra></extra>",
         "legendgroup": "Lexus",
         "marker": {
          "color": "#FFA15A",
          "pattern": {
           "shape": ""
          }
         },
         "name": "Lexus",
         "offsetgroup": "Lexus",
         "orientation": "v",
         "showlegend": true,
         "type": "histogram",
         "x": [
          149000
         ],
         "xaxis": "x",
         "yaxis": "y"
        },
        {
         "alignmentgroup": "True",
         "bingroup": "x",
         "hovertemplate": "Marque=Abarth<br>Prices=%{x}<br>count=%{y}<extra></extra>",
         "legendgroup": "Abarth",
         "marker": {
          "color": "#19d3f3",
          "pattern": {
           "shape": ""
          }
         },
         "name": "Abarth",
         "offsetgroup": "Abarth",
         "orientation": "v",
         "showlegend": true,
         "type": "histogram",
         "x": [
          242000
         ],
         "xaxis": "x",
         "yaxis": "y"
        }
       ],
       "layout": {
        "barmode": "group",
        "legend": {
         "title": {
          "text": "Marque"
         },
         "tracegroupgap": 0
        },
        "template": {
         "data": {
          "bar": [
           {
            "error_x": {
             "color": "#2a3f5f"
            },
            "error_y": {
             "color": "#2a3f5f"
            },
            "marker": {
             "line": {
              "color": "#E5ECF6",
              "width": 0.5
             },
             "pattern": {
              "fillmode": "overlay",
              "size": 10,
              "solidity": 0.2
             }
            },
            "type": "bar"
           }
          ],
          "barpolar": [
           {
            "marker": {
             "line": {
              "color": "#E5ECF6",
              "width": 0.5
             },
             "pattern": {
              "fillmode": "overlay",
              "size": 10,
              "solidity": 0.2
             }
            },
            "type": "barpolar"
           }
          ],
          "carpet": [
           {
            "aaxis": {
             "endlinecolor": "#2a3f5f",
             "gridcolor": "white",
             "linecolor": "white",
             "minorgridcolor": "white",
             "startlinecolor": "#2a3f5f"
            },
            "baxis": {
             "endlinecolor": "#2a3f5f",
             "gridcolor": "white",
             "linecolor": "white",
             "minorgridcolor": "white",
             "startlinecolor": "#2a3f5f"
            },
            "type": "carpet"
           }
          ],
          "choropleth": [
           {
            "colorbar": {
             "outlinewidth": 0,
             "ticks": ""
            },
            "type": "choropleth"
           }
          ],
          "contour": [
           {
            "colorbar": {
             "outlinewidth": 0,
             "ticks": ""
            },
            "colorscale": [
             [
              0,
              "#0d0887"
             ],
             [
              0.1111111111111111,
              "#46039f"
             ],
             [
              0.2222222222222222,
              "#7201a8"
             ],
             [
              0.3333333333333333,
              "#9c179e"
             ],
             [
              0.4444444444444444,
              "#bd3786"
             ],
             [
              0.5555555555555556,
              "#d8576b"
             ],
             [
              0.6666666666666666,
              "#ed7953"
             ],
             [
              0.7777777777777778,
              "#fb9f3a"
             ],
             [
              0.8888888888888888,
              "#fdca26"
             ],
             [
              1,
              "#f0f921"
             ]
            ],
            "type": "contour"
           }
          ],
          "contourcarpet": [
           {
            "colorbar": {
             "outlinewidth": 0,
             "ticks": ""
            },
            "type": "contourcarpet"
           }
          ],
          "heatmap": [
           {
            "colorbar": {
             "outlinewidth": 0,
             "ticks": ""
            },
            "colorscale": [
             [
              0,
              "#0d0887"
             ],
             [
              0.1111111111111111,
              "#46039f"
             ],
             [
              0.2222222222222222,
              "#7201a8"
             ],
             [
              0.3333333333333333,
              "#9c179e"
             ],
             [
              0.4444444444444444,
              "#bd3786"
             ],
             [
              0.5555555555555556,
              "#d8576b"
             ],
             [
              0.6666666666666666,
              "#ed7953"
             ],
             [
              0.7777777777777778,
              "#fb9f3a"
             ],
             [
              0.8888888888888888,
              "#fdca26"
             ],
             [
              1,
              "#f0f921"
             ]
            ],
            "type": "heatmap"
           }
          ],
          "heatmapgl": [
           {
            "colorbar": {
             "outlinewidth": 0,
             "ticks": ""
            },
            "colorscale": [
             [
              0,
              "#0d0887"
             ],
             [
              0.1111111111111111,
              "#46039f"
             ],
             [
              0.2222222222222222,
              "#7201a8"
             ],
             [
              0.3333333333333333,
              "#9c179e"
             ],
             [
              0.4444444444444444,
              "#bd3786"
             ],
             [
              0.5555555555555556,
              "#d8576b"
             ],
             [
              0.6666666666666666,
              "#ed7953"
             ],
             [
              0.7777777777777778,
              "#fb9f3a"
             ],
             [
              0.8888888888888888,
              "#fdca26"
             ],
             [
              1,
              "#f0f921"
             ]
            ],
            "type": "heatmapgl"
           }
          ],
          "histogram": [
           {
            "marker": {
             "pattern": {
              "fillmode": "overlay",
              "size": 10,
              "solidity": 0.2
             }
            },
            "type": "histogram"
           }
          ],
          "histogram2d": [
           {
            "colorbar": {
             "outlinewidth": 0,
             "ticks": ""
            },
            "colorscale": [
             [
              0,
              "#0d0887"
             ],
             [
              0.1111111111111111,
              "#46039f"
             ],
             [
              0.2222222222222222,
              "#7201a8"
             ],
             [
              0.3333333333333333,
              "#9c179e"
             ],
             [
              0.4444444444444444,
              "#bd3786"
             ],
             [
              0.5555555555555556,
              "#d8576b"
             ],
             [
              0.6666666666666666,
              "#ed7953"
             ],
             [
              0.7777777777777778,
              "#fb9f3a"
             ],
             [
              0.8888888888888888,
              "#fdca26"
             ],
             [
              1,
              "#f0f921"
             ]
            ],
            "type": "histogram2d"
           }
          ],
          "histogram2dcontour": [
           {
            "colorbar": {
             "outlinewidth": 0,
             "ticks": ""
            },
            "colorscale": [
             [
              0,
              "#0d0887"
             ],
             [
              0.1111111111111111,
              "#46039f"
             ],
             [
              0.2222222222222222,
              "#7201a8"
             ],
             [
              0.3333333333333333,
              "#9c179e"
             ],
             [
              0.4444444444444444,
              "#bd3786"
             ],
             [
              0.5555555555555556,
              "#d8576b"
             ],
             [
              0.6666666666666666,
              "#ed7953"
             ],
             [
              0.7777777777777778,
              "#fb9f3a"
             ],
             [
              0.8888888888888888,
              "#fdca26"
             ],
             [
              1,
              "#f0f921"
             ]
            ],
            "type": "histogram2dcontour"
           }
          ],
          "mesh3d": [
           {
            "colorbar": {
             "outlinewidth": 0,
             "ticks": ""
            },
            "type": "mesh3d"
           }
          ],
          "parcoords": [
           {
            "line": {
             "colorbar": {
              "outlinewidth": 0,
              "ticks": ""
             }
            },
            "type": "parcoords"
           }
          ],
          "pie": [
           {
            "automargin": true,
            "type": "pie"
           }
          ],
          "scatter": [
           {
            "fillpattern": {
             "fillmode": "overlay",
             "size": 10,
             "solidity": 0.2
            },
            "type": "scatter"
           }
          ],
          "scatter3d": [
           {
            "line": {
             "colorbar": {
              "outlinewidth": 0,
              "ticks": ""
             }
            },
            "marker": {
             "colorbar": {
              "outlinewidth": 0,
              "ticks": ""
             }
            },
            "type": "scatter3d"
           }
          ],
          "scattercarpet": [
           {
            "marker": {
             "colorbar": {
              "outlinewidth": 0,
              "ticks": ""
             }
            },
            "type": "scattercarpet"
           }
          ],
          "scattergeo": [
           {
            "marker": {
             "colorbar": {
              "outlinewidth": 0,
              "ticks": ""
             }
            },
            "type": "scattergeo"
           }
          ],
          "scattergl": [
           {
            "marker": {
             "colorbar": {
              "outlinewidth": 0,
              "ticks": ""
             }
            },
            "type": "scattergl"
           }
          ],
          "scattermapbox": [
           {
            "marker": {
             "colorbar": {
              "outlinewidth": 0,
              "ticks": ""
             }
            },
            "type": "scattermapbox"
           }
          ],
          "scatterpolar": [
           {
            "marker": {
             "colorbar": {
              "outlinewidth": 0,
              "ticks": ""
             }
            },
            "type": "scatterpolar"
           }
          ],
          "scatterpolargl": [
           {
            "marker": {
             "colorbar": {
              "outlinewidth": 0,
              "ticks": ""
             }
            },
            "type": "scatterpolargl"
           }
          ],
          "scatterternary": [
           {
            "marker": {
             "colorbar": {
              "outlinewidth": 0,
              "ticks": ""
             }
            },
            "type": "scatterternary"
           }
          ],
          "surface": [
           {
            "colorbar": {
             "outlinewidth": 0,
             "ticks": ""
            },
            "colorscale": [
             [
              0,
              "#0d0887"
             ],
             [
              0.1111111111111111,
              "#46039f"
             ],
             [
              0.2222222222222222,
              "#7201a8"
             ],
             [
              0.3333333333333333,
              "#9c179e"
             ],
             [
              0.4444444444444444,
              "#bd3786"
             ],
             [
              0.5555555555555556,
              "#d8576b"
             ],
             [
              0.6666666666666666,
              "#ed7953"
             ],
             [
              0.7777777777777778,
              "#fb9f3a"
             ],
             [
              0.8888888888888888,
              "#fdca26"
             ],
             [
              1,
              "#f0f921"
             ]
            ],
            "type": "surface"
           }
          ],
          "table": [
           {
            "cells": {
             "fill": {
              "color": "#EBF0F8"
             },
             "line": {
              "color": "white"
             }
            },
            "header": {
             "fill": {
              "color": "#C8D4E3"
             },
             "line": {
              "color": "white"
             }
            },
            "type": "table"
           }
          ]
         },
         "layout": {
          "annotationdefaults": {
           "arrowcolor": "#2a3f5f",
           "arrowhead": 0,
           "arrowwidth": 1
          },
          "autotypenumbers": "strict",
          "coloraxis": {
           "colorbar": {
            "outlinewidth": 0,
            "ticks": ""
           }
          },
          "colorscale": {
           "diverging": [
            [
             0,
             "#8e0152"
            ],
            [
             0.1,
             "#c51b7d"
            ],
            [
             0.2,
             "#de77ae"
            ],
            [
             0.3,
             "#f1b6da"
            ],
            [
             0.4,
             "#fde0ef"
            ],
            [
             0.5,
             "#f7f7f7"
            ],
            [
             0.6,
             "#e6f5d0"
            ],
            [
             0.7,
             "#b8e186"
            ],
            [
             0.8,
             "#7fbc41"
            ],
            [
             0.9,
             "#4d9221"
            ],
            [
             1,
             "#276419"
            ]
           ],
           "sequential": [
            [
             0,
             "#0d0887"
            ],
            [
             0.1111111111111111,
             "#46039f"
            ],
            [
             0.2222222222222222,
             "#7201a8"
            ],
            [
             0.3333333333333333,
             "#9c179e"
            ],
            [
             0.4444444444444444,
             "#bd3786"
            ],
            [
             0.5555555555555556,
             "#d8576b"
            ],
            [
             0.6666666666666666,
             "#ed7953"
            ],
            [
             0.7777777777777778,
             "#fb9f3a"
            ],
            [
             0.8888888888888888,
             "#fdca26"
            ],
            [
             1,
             "#f0f921"
            ]
           ],
           "sequentialminus": [
            [
             0,
             "#0d0887"
            ],
            [
             0.1111111111111111,
             "#46039f"
            ],
            [
             0.2222222222222222,
             "#7201a8"
            ],
            [
             0.3333333333333333,
             "#9c179e"
            ],
            [
             0.4444444444444444,
             "#bd3786"
            ],
            [
             0.5555555555555556,
             "#d8576b"
            ],
            [
             0.6666666666666666,
             "#ed7953"
            ],
            [
             0.7777777777777778,
             "#fb9f3a"
            ],
            [
             0.8888888888888888,
             "#fdca26"
            ],
            [
             1,
             "#f0f921"
            ]
           ]
          },
          "colorway": [
           "#636efa",
           "#EF553B",
           "#00cc96",
           "#ab63fa",
           "#FFA15A",
           "#19d3f3",
           "#FF6692",
           "#B6E880",
           "#FF97FF",
           "#FECB52"
          ],
          "font": {
           "color": "#2a3f5f"
          },
          "geo": {
           "bgcolor": "white",
           "lakecolor": "white",
           "landcolor": "#E5ECF6",
           "showlakes": true,
           "showland": true,
           "subunitcolor": "white"
          },
          "hoverlabel": {
           "align": "left"
          },
          "hovermode": "closest",
          "mapbox": {
           "style": "light"
          },
          "paper_bgcolor": "white",
          "plot_bgcolor": "#E5ECF6",
          "polar": {
           "angularaxis": {
            "gridcolor": "white",
            "linecolor": "white",
            "ticks": ""
           },
           "bgcolor": "#E5ECF6",
           "radialaxis": {
            "gridcolor": "white",
            "linecolor": "white",
            "ticks": ""
           }
          },
          "scene": {
           "xaxis": {
            "backgroundcolor": "#E5ECF6",
            "gridcolor": "white",
            "gridwidth": 2,
            "linecolor": "white",
            "showbackground": true,
            "ticks": "",
            "zerolinecolor": "white"
           },
           "yaxis": {
            "backgroundcolor": "#E5ECF6",
            "gridcolor": "white",
            "gridwidth": 2,
            "linecolor": "white",
            "showbackground": true,
            "ticks": "",
            "zerolinecolor": "white"
           },
           "zaxis": {
            "backgroundcolor": "#E5ECF6",
            "gridcolor": "white",
            "gridwidth": 2,
            "linecolor": "white",
            "showbackground": true,
            "ticks": "",
            "zerolinecolor": "white"
           }
          },
          "shapedefaults": {
           "line": {
            "color": "#2a3f5f"
           }
          },
          "ternary": {
           "aaxis": {
            "gridcolor": "white",
            "linecolor": "white",
            "ticks": ""
           },
           "baxis": {
            "gridcolor": "white",
            "linecolor": "white",
            "ticks": ""
           },
           "bgcolor": "#E5ECF6",
           "caxis": {
            "gridcolor": "white",
            "linecolor": "white",
            "ticks": ""
           }
          },
          "title": {
           "x": 0.05
          },
          "xaxis": {
           "automargin": true,
           "gridcolor": "white",
           "linecolor": "white",
           "ticks": "",
           "title": {
            "standoff": 15
           },
           "zerolinecolor": "white",
           "zerolinewidth": 2
          },
          "yaxis": {
           "automargin": true,
           "gridcolor": "white",
           "linecolor": "white",
           "ticks": "",
           "title": {
            "standoff": 15
           },
           "zerolinecolor": "white",
           "zerolinewidth": 2
          }
         }
        },
        "title": {
         "text": "la distribution des prix en fonction de marque"
        },
        "xaxis": {
         "anchor": "y",
         "domain": [
          0,
          1
         ],
         "title": {
          "text": "Prices"
         }
        },
        "yaxis": {
         "anchor": "x",
         "domain": [
          0,
          1
         ],
         "title": {
          "text": "count"
         }
        }
       }
      },
      "text/html": [
       "<div>                            <div id=\"f9a1084f-ee64-46b0-bb0d-c68ca963c33e\" class=\"plotly-graph-div\" style=\"height:525px; width:100%;\"></div>            <script type=\"text/javascript\">                require([\"plotly\"], function(Plotly) {                    window.PLOTLYENV=window.PLOTLYENV || {};                                    if (document.getElementById(\"f9a1084f-ee64-46b0-bb0d-c68ca963c33e\")) {                    Plotly.newPlot(                        \"f9a1084f-ee64-46b0-bb0d-c68ca963c33e\",                        [{\"alignmentgroup\":\"True\",\"bingroup\":\"x\",\"hovertemplate\":\"Marque=Kia<br>Prices=%{x}<br>count=%{y}<extra></extra>\",\"legendgroup\":\"Kia\",\"marker\":{\"color\":\"#636efa\",\"pattern\":{\"shape\":\"\"}},\"name\":\"Kia\",\"offsetgroup\":\"Kia\",\"orientation\":\"v\",\"showlegend\":true,\"x\":[122000.0,118000.0,395000.0,150000.0],\"xaxis\":\"x\",\"yaxis\":\"y\",\"type\":\"histogram\"},{\"alignmentgroup\":\"True\",\"bingroup\":\"x\",\"hovertemplate\":\"Marque=Citroen<br>Prices=%{x}<br>count=%{y}<extra></extra>\",\"legendgroup\":\"Citroen\",\"marker\":{\"color\":\"#EF553B\",\"pattern\":{\"shape\":\"\"}},\"name\":\"Citroen\",\"offsetgroup\":\"Citroen\",\"orientation\":\"v\",\"showlegend\":true,\"x\":[75000.0,127000.0,117000.0,209000.0,145000.0,172000.0,155000.0,106000.0],\"xaxis\":\"x\",\"yaxis\":\"y\",\"type\":\"histogram\"},{\"alignmentgroup\":\"True\",\"bingroup\":\"x\",\"hovertemplate\":\"Marque=Fiat<br>Prices=%{x}<br>count=%{y}<extra></extra>\",\"legendgroup\":\"Fiat\",\"marker\":{\"color\":\"#00cc96\",\"pattern\":{\"shape\":\"\"}},\"name\":\"Fiat\",\"offsetgroup\":\"Fiat\",\"orientation\":\"v\",\"showlegend\":true,\"x\":[138000.0,96000.0,93000.0,123000.0,256000.0,78000.0,62000.0,135000.0,340000.0],\"xaxis\":\"x\",\"yaxis\":\"y\",\"type\":\"histogram\"},{\"alignmentgroup\":\"True\",\"bingroup\":\"x\",\"hovertemplate\":\"Marque=Audi<br>Prices=%{x}<br>count=%{y}<extra></extra>\",\"legendgroup\":\"Audi\",\"marker\":{\"color\":\"#ab63fa\",\"pattern\":{\"shape\":\"\"}},\"name\":\"Audi\",\"offsetgroup\":\"Audi\",\"orientation\":\"v\",\"showlegend\":true,\"x\":[690000.0,320000.0,780000.0,185000.0,320000.0,79000.0,147000.0,158000.0,325000.0,125000.0,390000.0,136000.0,800000.0,185000.0,187000.0,240000.0,225000.0,30000.0,118000.0,175000.0,105000.0,112000.0,117000.0,228000.0,570000.0,249000.0],\"xaxis\":\"x\",\"yaxis\":\"y\",\"type\":\"histogram\"},{\"alignmentgroup\":\"True\",\"bingroup\":\"x\",\"hovertemplate\":\"Marque=Maserati<br>Prices=%{x}<br>count=%{y}<extra></extra>\",\"legendgroup\":\"Maserati\",\"marker\":{\"color\":\"#FFA15A\",\"pattern\":{\"shape\":\"\"}},\"name\":\"Maserati\",\"offsetgroup\":\"Maserati\",\"orientation\":\"v\",\"showlegend\":true,\"x\":[370000.0,375000.0,235000.0],\"xaxis\":\"x\",\"yaxis\":\"y\",\"type\":\"histogram\"},{\"alignmentgroup\":\"True\",\"bingroup\":\"x\",\"hovertemplate\":\"Marque=Renault<br>Prices=%{x}<br>count=%{y}<extra></extra>\",\"legendgroup\":\"Renault\",\"marker\":{\"color\":\"#19d3f3\",\"pattern\":{\"shape\":\"\"}},\"name\":\"Renault\",\"offsetgroup\":\"Renault\",\"orientation\":\"v\",\"showlegend\":true,\"x\":[190000.0,136000.0,285000.0,220000.0,307000.0,228000.0,260000.0,280000.0,135000.0,113000.0,70000.0,120000.0,40000.0,89000.0,310000.0,148000.0,120000.0,380000.0,240000.0,639000.0,63000.0,550000.0,69000.0,122000.0,164999.0,143000.0],\"xaxis\":\"x\",\"yaxis\":\"y\",\"type\":\"histogram\"},{\"alignmentgroup\":\"True\",\"bingroup\":\"x\",\"hovertemplate\":\"Marque=Volkswagen<br>Prices=%{x}<br>count=%{y}<extra></extra>\",\"legendgroup\":\"Volkswagen\",\"marker\":{\"color\":\"#FF6692\",\"pattern\":{\"shape\":\"\"}},\"name\":\"Volkswagen\",\"offsetgroup\":\"Volkswagen\",\"orientation\":\"v\",\"showlegend\":true,\"x\":[159000.0,172000.0,360000.0,149000.0,490000.0,188000.0,173000.0,185000.0,188000.0,430000.0,173000.0,385000.0,229000.0,380000.0,250000.0,229000.0,198500.0,144000.0,285000.0,117000.0,120000.0,190000.0,360000.0,78000.0,155000.0,285000.0,294000.0,250000.0,107000.0,115000.0,120000.0,82000.0,95000.0,132000.0,760000.0,170000.0,23000.0,97000.0,75000.0,128000.0,139000.0,175000.0,660000.0,164999.0,212000.0],\"xaxis\":\"x\",\"yaxis\":\"y\",\"type\":\"histogram\"},{\"alignmentgroup\":\"True\",\"bingroup\":\"x\",\"hovertemplate\":\"Marque=Land Rover<br>Prices=%{x}<br>count=%{y}<extra></extra>\",\"legendgroup\":\"Land Rover\",\"marker\":{\"color\":\"#B6E880\",\"pattern\":{\"shape\":\"\"}},\"name\":\"Land Rover\",\"offsetgroup\":\"Land Rover\",\"orientation\":\"v\",\"showlegend\":true,\"x\":[650000.0,360000.0,124000.0,185000.0,163000.0,112000.0,268000.0,299000.0,170000.0,139000.0,110000.0,450000.0,190000.0,170000.0,950000.0],\"xaxis\":\"x\",\"yaxis\":\"y\",\"type\":\"histogram\"},{\"alignmentgroup\":\"True\",\"bingroup\":\"x\",\"hovertemplate\":\"Marque=Peugeot<br>Prices=%{x}<br>count=%{y}<extra></extra>\",\"legendgroup\":\"Peugeot\",\"marker\":{\"color\":\"#FF97FF\",\"pattern\":{\"shape\":\"\"}},\"name\":\"Peugeot\",\"offsetgroup\":\"Peugeot\",\"orientation\":\"v\",\"showlegend\":true,\"x\":[235000.0,100000.0,398000.0,358000.0,60000.0,220000.0,140000.0,265000.0,62000.0,705000.0,395000.0,168000.0,295000.0,139000.0,180000.0,350000.0,900000.0,140000.0,185000.0],\"xaxis\":\"x\",\"yaxis\":\"y\",\"type\":\"histogram\"},{\"alignmentgroup\":\"True\",\"bingroup\":\"x\",\"hovertemplate\":\"Marque=Mercedes-Benz<br>Prices=%{x}<br>count=%{y}<extra></extra>\",\"legendgroup\":\"Mercedes-Benz\",\"marker\":{\"color\":\"#FECB52\",\"pattern\":{\"shape\":\"\"}},\"name\":\"Mercedes-Benz\",\"offsetgroup\":\"Mercedes-Benz\",\"orientation\":\"v\",\"showlegend\":true,\"x\":[670000.0,285000.0,430000.0,124000.0,490000.0,75000.0,790000.0,185000.0,118000.0,132000.0,385000.0,118000.0,510000.0,850000.0,390000.0,180000.0,150000.0,162000.0,115000.0,189000.0,175000.0,128000.0,52000.0,168000.0,323000.0,273000.0,212000.0,185000.0,197000.0],\"xaxis\":\"x\",\"yaxis\":\"y\",\"type\":\"histogram\"},{\"alignmentgroup\":\"True\",\"bingroup\":\"x\",\"hovertemplate\":\"Marque=Opel<br>Prices=%{x}<br>count=%{y}<extra></extra>\",\"legendgroup\":\"Opel\",\"marker\":{\"color\":\"#636efa\",\"pattern\":{\"shape\":\"\"}},\"name\":\"Opel\",\"offsetgroup\":\"Opel\",\"orientation\":\"v\",\"showlegend\":true,\"x\":[153000.0,275000.0,257000.0,390000.0,145000.0,162000.0,285000.0,109000.0,155000.0,450000.0,39000.0],\"xaxis\":\"x\",\"yaxis\":\"y\",\"type\":\"histogram\"},{\"alignmentgroup\":\"True\",\"bingroup\":\"x\",\"hovertemplate\":\"Marque=DS<br>Prices=%{x}<br>count=%{y}<extra></extra>\",\"legendgroup\":\"DS\",\"marker\":{\"color\":\"#EF553B\",\"pattern\":{\"shape\":\"\"}},\"name\":\"DS\",\"offsetgroup\":\"DS\",\"orientation\":\"v\",\"showlegend\":true,\"x\":[115000.0],\"xaxis\":\"x\",\"yaxis\":\"y\",\"type\":\"histogram\"},{\"alignmentgroup\":\"True\",\"bingroup\":\"x\",\"hovertemplate\":\"Marque=BMW<br>Prices=%{x}<br>count=%{y}<extra></extra>\",\"legendgroup\":\"BMW\",\"marker\":{\"color\":\"#00cc96\",\"pattern\":{\"shape\":\"\"}},\"name\":\"BMW\",\"offsetgroup\":\"BMW\",\"orientation\":\"v\",\"showlegend\":true,\"x\":[220000.0,238000.0,210000.0,320000.0,125000.0,220000.0,450000.0,128000.0,280000.0,145000.0,119000.0,98000.0,139000.0,145000.0,285000.0,110000.0],\"xaxis\":\"x\",\"yaxis\":\"y\",\"type\":\"histogram\"},{\"alignmentgroup\":\"True\",\"bingroup\":\"x\",\"hovertemplate\":\"Marque=Hyundai<br>Prices=%{x}<br>count=%{y}<extra></extra>\",\"legendgroup\":\"Hyundai\",\"marker\":{\"color\":\"#ab63fa\",\"pattern\":{\"shape\":\"\"}},\"name\":\"Hyundai\",\"offsetgroup\":\"Hyundai\",\"orientation\":\"v\",\"showlegend\":true,\"x\":[265000.0,225000.0,113000.0,235000.0,62000.0,190000.0,450000.0,96000.0,228000.0,265000.0],\"xaxis\":\"x\",\"yaxis\":\"y\",\"type\":\"histogram\"},{\"alignmentgroup\":\"True\",\"bingroup\":\"x\",\"hovertemplate\":\"Marque=Dacia<br>Prices=%{x}<br>count=%{y}<extra></extra>\",\"legendgroup\":\"Dacia\",\"marker\":{\"color\":\"#FFA15A\",\"pattern\":{\"shape\":\"\"}},\"name\":\"Dacia\",\"offsetgroup\":\"Dacia\",\"orientation\":\"v\",\"showlegend\":true,\"x\":[162000.0,165000.0,120000.0,170000.0,118000.0,62000.0,220000.0,145000.0,305000.0,270000.0,770000.0,579000.0,117000.0,265000.0,340000.0],\"xaxis\":\"x\",\"yaxis\":\"y\",\"type\":\"histogram\"},{\"alignmentgroup\":\"True\",\"bingroup\":\"x\",\"hovertemplate\":\"Marque=Honda<br>Prices=%{x}<br>count=%{y}<extra></extra>\",\"legendgroup\":\"Honda\",\"marker\":{\"color\":\"#19d3f3\",\"pattern\":{\"shape\":\"\"}},\"name\":\"Honda\",\"offsetgroup\":\"Honda\",\"orientation\":\"v\",\"showlegend\":true,\"x\":[149000.0],\"xaxis\":\"x\",\"yaxis\":\"y\",\"type\":\"histogram\"},{\"alignmentgroup\":\"True\",\"bingroup\":\"x\",\"hovertemplate\":\"Marque=Nissan<br>Prices=%{x}<br>count=%{y}<extra></extra>\",\"legendgroup\":\"Nissan\",\"marker\":{\"color\":\"#FF6692\",\"pattern\":{\"shape\":\"\"}},\"name\":\"Nissan\",\"offsetgroup\":\"Nissan\",\"orientation\":\"v\",\"showlegend\":true,\"x\":[123000.0,420000.0,310000.0,31000.0,148000.0],\"xaxis\":\"x\",\"yaxis\":\"y\",\"type\":\"histogram\"},{\"alignmentgroup\":\"True\",\"bingroup\":\"x\",\"hovertemplate\":\"Marque=Seat<br>Prices=%{x}<br>count=%{y}<extra></extra>\",\"legendgroup\":\"Seat\",\"marker\":{\"color\":\"#B6E880\",\"pattern\":{\"shape\":\"\"}},\"name\":\"Seat\",\"offsetgroup\":\"Seat\",\"orientation\":\"v\",\"showlegend\":true,\"x\":[219000.0,220000.0,465000.0,135000.0,135000.0],\"xaxis\":\"x\",\"yaxis\":\"y\",\"type\":\"histogram\"},{\"alignmentgroup\":\"True\",\"bingroup\":\"x\",\"hovertemplate\":\"Marque=Ford<br>Prices=%{x}<br>count=%{y}<extra></extra>\",\"legendgroup\":\"Ford\",\"marker\":{\"color\":\"#FF97FF\",\"pattern\":{\"shape\":\"\"}},\"name\":\"Ford\",\"offsetgroup\":\"Ford\",\"orientation\":\"v\",\"showlegend\":true,\"x\":[220000.0,495000.0,255000.0,150000.0,310000.0],\"xaxis\":\"x\",\"yaxis\":\"y\",\"type\":\"histogram\"},{\"alignmentgroup\":\"True\",\"bingroup\":\"x\",\"hovertemplate\":\"Marque=Jeep<br>Prices=%{x}<br>count=%{y}<extra></extra>\",\"legendgroup\":\"Jeep\",\"marker\":{\"color\":\"#FECB52\",\"pattern\":{\"shape\":\"\"}},\"name\":\"Jeep\",\"offsetgroup\":\"Jeep\",\"orientation\":\"v\",\"showlegend\":true,\"x\":[126000.0,235000.0,390000.0,179000.0,150000.0,300000.0,143000.0,750000.0,545000.0,270000.0,122000.0],\"xaxis\":\"x\",\"yaxis\":\"y\",\"type\":\"histogram\"},{\"alignmentgroup\":\"True\",\"bingroup\":\"x\",\"hovertemplate\":\"Marque=Toyota<br>Prices=%{x}<br>count=%{y}<extra></extra>\",\"legendgroup\":\"Toyota\",\"marker\":{\"color\":\"#636efa\",\"pattern\":{\"shape\":\"\"}},\"name\":\"Toyota\",\"offsetgroup\":\"Toyota\",\"orientation\":\"v\",\"showlegend\":true,\"x\":[168000.0,41000.0,275000.0,200000.0,39000.0,58000.0,58000.0],\"xaxis\":\"x\",\"yaxis\":\"y\",\"type\":\"histogram\"},{\"alignmentgroup\":\"True\",\"bingroup\":\"x\",\"hovertemplate\":\"Marque=Alfa Romeo<br>Prices=%{x}<br>count=%{y}<extra></extra>\",\"legendgroup\":\"Alfa Romeo\",\"marker\":{\"color\":\"#EF553B\",\"pattern\":{\"shape\":\"\"}},\"name\":\"Alfa Romeo\",\"offsetgroup\":\"Alfa Romeo\",\"orientation\":\"v\",\"showlegend\":true,\"x\":[175000.0],\"xaxis\":\"x\",\"yaxis\":\"y\",\"type\":\"histogram\"},{\"alignmentgroup\":\"True\",\"bingroup\":\"x\",\"hovertemplate\":\"Marque=Tesla<br>Prices=%{x}<br>count=%{y}<extra></extra>\",\"legendgroup\":\"Tesla\",\"marker\":{\"color\":\"#00cc96\",\"pattern\":{\"shape\":\"\"}},\"name\":\"Tesla\",\"offsetgroup\":\"Tesla\",\"orientation\":\"v\",\"showlegend\":true,\"x\":[240000.0],\"xaxis\":\"x\",\"yaxis\":\"y\",\"type\":\"histogram\"},{\"alignmentgroup\":\"True\",\"bingroup\":\"x\",\"hovertemplate\":\"Marque=Lamborghini<br>Prices=%{x}<br>count=%{y}<extra></extra>\",\"legendgroup\":\"Lamborghini\",\"marker\":{\"color\":\"#ab63fa\",\"pattern\":{\"shape\":\"\"}},\"name\":\"Lamborghini\",\"offsetgroup\":\"Lamborghini\",\"orientation\":\"v\",\"showlegend\":true,\"x\":[158000.0],\"xaxis\":\"x\",\"yaxis\":\"y\",\"type\":\"histogram\"},{\"alignmentgroup\":\"True\",\"bingroup\":\"x\",\"hovertemplate\":\"Marque=Mini<br>Prices=%{x}<br>count=%{y}<extra></extra>\",\"legendgroup\":\"Mini\",\"marker\":{\"color\":\"#FFA15A\",\"pattern\":{\"shape\":\"\"}},\"name\":\"Mini\",\"offsetgroup\":\"Mini\",\"orientation\":\"v\",\"showlegend\":true,\"x\":[222000.0,135000.0,98000.0,150000.0],\"xaxis\":\"x\",\"yaxis\":\"y\",\"type\":\"histogram\"},{\"alignmentgroup\":\"True\",\"bingroup\":\"x\",\"hovertemplate\":\"Marque=Jaguar<br>Prices=%{x}<br>count=%{y}<extra></extra>\",\"legendgroup\":\"Jaguar\",\"marker\":{\"color\":\"#19d3f3\",\"pattern\":{\"shape\":\"\"}},\"name\":\"Jaguar\",\"offsetgroup\":\"Jaguar\",\"orientation\":\"v\",\"showlegend\":true,\"x\":[235000.0,235000.0,440000.0],\"xaxis\":\"x\",\"yaxis\":\"y\",\"type\":\"histogram\"},{\"alignmentgroup\":\"True\",\"bingroup\":\"x\",\"hovertemplate\":\"Marque=Porsche<br>Prices=%{x}<br>count=%{y}<extra></extra>\",\"legendgroup\":\"Porsche\",\"marker\":{\"color\":\"#FF6692\",\"pattern\":{\"shape\":\"\"}},\"name\":\"Porsche\",\"offsetgroup\":\"Porsche\",\"orientation\":\"v\",\"showlegend\":true,\"x\":[285000.0,470000.0,147000.0,242000.0,180000.0,340000.0,720000.0,185000.0],\"xaxis\":\"x\",\"yaxis\":\"y\",\"type\":\"histogram\"},{\"alignmentgroup\":\"True\",\"bingroup\":\"x\",\"hovertemplate\":\"Marque=Skoda<br>Prices=%{x}<br>count=%{y}<extra></extra>\",\"legendgroup\":\"Skoda\",\"marker\":{\"color\":\"#B6E880\",\"pattern\":{\"shape\":\"\"}},\"name\":\"Skoda\",\"offsetgroup\":\"Skoda\",\"orientation\":\"v\",\"showlegend\":true,\"x\":[150000.0,135000.0,157000.0],\"xaxis\":\"x\",\"yaxis\":\"y\",\"type\":\"histogram\"},{\"alignmentgroup\":\"True\",\"bingroup\":\"x\",\"hovertemplate\":\"Marque=Ssangyong<br>Prices=%{x}<br>count=%{y}<extra></extra>\",\"legendgroup\":\"Ssangyong\",\"marker\":{\"color\":\"#FF97FF\",\"pattern\":{\"shape\":\"\"}},\"name\":\"Ssangyong\",\"offsetgroup\":\"Ssangyong\",\"orientation\":\"v\",\"showlegend\":true,\"x\":[70000.0],\"xaxis\":\"x\",\"yaxis\":\"y\",\"type\":\"histogram\"},{\"alignmentgroup\":\"True\",\"bingroup\":\"x\",\"hovertemplate\":\"Marque=Isuzu<br>Prices=%{x}<br>count=%{y}<extra></extra>\",\"legendgroup\":\"Isuzu\",\"marker\":{\"color\":\"#FECB52\",\"pattern\":{\"shape\":\"\"}},\"name\":\"Isuzu\",\"offsetgroup\":\"Isuzu\",\"orientation\":\"v\",\"showlegend\":true,\"x\":[105000.0],\"xaxis\":\"x\",\"yaxis\":\"y\",\"type\":\"histogram\"},{\"alignmentgroup\":\"True\",\"bingroup\":\"x\",\"hovertemplate\":\"Marque=Chery<br>Prices=%{x}<br>count=%{y}<extra></extra>\",\"legendgroup\":\"Chery\",\"marker\":{\"color\":\"#636efa\",\"pattern\":{\"shape\":\"\"}},\"name\":\"Chery\",\"offsetgroup\":\"Chery\",\"orientation\":\"v\",\"showlegend\":true,\"x\":[290000.0],\"xaxis\":\"x\",\"yaxis\":\"y\",\"type\":\"histogram\"},{\"alignmentgroup\":\"True\",\"bingroup\":\"x\",\"hovertemplate\":\"Marque=DFSK<br>Prices=%{x}<br>count=%{y}<extra></extra>\",\"legendgroup\":\"DFSK\",\"marker\":{\"color\":\"#EF553B\",\"pattern\":{\"shape\":\"\"}},\"name\":\"DFSK\",\"offsetgroup\":\"DFSK\",\"orientation\":\"v\",\"showlegend\":true,\"x\":[210000.0],\"xaxis\":\"x\",\"yaxis\":\"y\",\"type\":\"histogram\"},{\"alignmentgroup\":\"True\",\"bingroup\":\"x\",\"hovertemplate\":\"Marque=Volvo<br>Prices=%{x}<br>count=%{y}<extra></extra>\",\"legendgroup\":\"Volvo\",\"marker\":{\"color\":\"#00cc96\",\"pattern\":{\"shape\":\"\"}},\"name\":\"Volvo\",\"offsetgroup\":\"Volvo\",\"orientation\":\"v\",\"showlegend\":true,\"x\":[200000.0,150000.0],\"xaxis\":\"x\",\"yaxis\":\"y\",\"type\":\"histogram\"},{\"alignmentgroup\":\"True\",\"bingroup\":\"x\",\"hovertemplate\":\"Marque=Dodge<br>Prices=%{x}<br>count=%{y}<extra></extra>\",\"legendgroup\":\"Dodge\",\"marker\":{\"color\":\"#ab63fa\",\"pattern\":{\"shape\":\"\"}},\"name\":\"Dodge\",\"offsetgroup\":\"Dodge\",\"orientation\":\"v\",\"showlegend\":true,\"x\":[147000.0],\"xaxis\":\"x\",\"yaxis\":\"y\",\"type\":\"histogram\"},{\"alignmentgroup\":\"True\",\"bingroup\":\"x\",\"hovertemplate\":\"Marque=Lexus<br>Prices=%{x}<br>count=%{y}<extra></extra>\",\"legendgroup\":\"Lexus\",\"marker\":{\"color\":\"#FFA15A\",\"pattern\":{\"shape\":\"\"}},\"name\":\"Lexus\",\"offsetgroup\":\"Lexus\",\"orientation\":\"v\",\"showlegend\":true,\"x\":[149000.0],\"xaxis\":\"x\",\"yaxis\":\"y\",\"type\":\"histogram\"},{\"alignmentgroup\":\"True\",\"bingroup\":\"x\",\"hovertemplate\":\"Marque=Abarth<br>Prices=%{x}<br>count=%{y}<extra></extra>\",\"legendgroup\":\"Abarth\",\"marker\":{\"color\":\"#19d3f3\",\"pattern\":{\"shape\":\"\"}},\"name\":\"Abarth\",\"offsetgroup\":\"Abarth\",\"orientation\":\"v\",\"showlegend\":true,\"x\":[242000.0],\"xaxis\":\"x\",\"yaxis\":\"y\",\"type\":\"histogram\"}],                        {\"template\":{\"data\":{\"histogram2dcontour\":[{\"type\":\"histogram2dcontour\",\"colorbar\":{\"outlinewidth\":0,\"ticks\":\"\"},\"colorscale\":[[0.0,\"#0d0887\"],[0.1111111111111111,\"#46039f\"],[0.2222222222222222,\"#7201a8\"],[0.3333333333333333,\"#9c179e\"],[0.4444444444444444,\"#bd3786\"],[0.5555555555555556,\"#d8576b\"],[0.6666666666666666,\"#ed7953\"],[0.7777777777777778,\"#fb9f3a\"],[0.8888888888888888,\"#fdca26\"],[1.0,\"#f0f921\"]]}],\"choropleth\":[{\"type\":\"choropleth\",\"colorbar\":{\"outlinewidth\":0,\"ticks\":\"\"}}],\"histogram2d\":[{\"type\":\"histogram2d\",\"colorbar\":{\"outlinewidth\":0,\"ticks\":\"\"},\"colorscale\":[[0.0,\"#0d0887\"],[0.1111111111111111,\"#46039f\"],[0.2222222222222222,\"#7201a8\"],[0.3333333333333333,\"#9c179e\"],[0.4444444444444444,\"#bd3786\"],[0.5555555555555556,\"#d8576b\"],[0.6666666666666666,\"#ed7953\"],[0.7777777777777778,\"#fb9f3a\"],[0.8888888888888888,\"#fdca26\"],[1.0,\"#f0f921\"]]}],\"heatmap\":[{\"type\":\"heatmap\",\"colorbar\":{\"outlinewidth\":0,\"ticks\":\"\"},\"colorscale\":[[0.0,\"#0d0887\"],[0.1111111111111111,\"#46039f\"],[0.2222222222222222,\"#7201a8\"],[0.3333333333333333,\"#9c179e\"],[0.4444444444444444,\"#bd3786\"],[0.5555555555555556,\"#d8576b\"],[0.6666666666666666,\"#ed7953\"],[0.7777777777777778,\"#fb9f3a\"],[0.8888888888888888,\"#fdca26\"],[1.0,\"#f0f921\"]]}],\"heatmapgl\":[{\"type\":\"heatmapgl\",\"colorbar\":{\"outlinewidth\":0,\"ticks\":\"\"},\"colorscale\":[[0.0,\"#0d0887\"],[0.1111111111111111,\"#46039f\"],[0.2222222222222222,\"#7201a8\"],[0.3333333333333333,\"#9c179e\"],[0.4444444444444444,\"#bd3786\"],[0.5555555555555556,\"#d8576b\"],[0.6666666666666666,\"#ed7953\"],[0.7777777777777778,\"#fb9f3a\"],[0.8888888888888888,\"#fdca26\"],[1.0,\"#f0f921\"]]}],\"contourcarpet\":[{\"type\":\"contourcarpet\",\"colorbar\":{\"outlinewidth\":0,\"ticks\":\"\"}}],\"contour\":[{\"type\":\"contour\",\"colorbar\":{\"outlinewidth\":0,\"ticks\":\"\"},\"colorscale\":[[0.0,\"#0d0887\"],[0.1111111111111111,\"#46039f\"],[0.2222222222222222,\"#7201a8\"],[0.3333333333333333,\"#9c179e\"],[0.4444444444444444,\"#bd3786\"],[0.5555555555555556,\"#d8576b\"],[0.6666666666666666,\"#ed7953\"],[0.7777777777777778,\"#fb9f3a\"],[0.8888888888888888,\"#fdca26\"],[1.0,\"#f0f921\"]]}],\"surface\":[{\"type\":\"surface\",\"colorbar\":{\"outlinewidth\":0,\"ticks\":\"\"},\"colorscale\":[[0.0,\"#0d0887\"],[0.1111111111111111,\"#46039f\"],[0.2222222222222222,\"#7201a8\"],[0.3333333333333333,\"#9c179e\"],[0.4444444444444444,\"#bd3786\"],[0.5555555555555556,\"#d8576b\"],[0.6666666666666666,\"#ed7953\"],[0.7777777777777778,\"#fb9f3a\"],[0.8888888888888888,\"#fdca26\"],[1.0,\"#f0f921\"]]}],\"mesh3d\":[{\"type\":\"mesh3d\",\"colorbar\":{\"outlinewidth\":0,\"ticks\":\"\"}}],\"scatter\":[{\"fillpattern\":{\"fillmode\":\"overlay\",\"size\":10,\"solidity\":0.2},\"type\":\"scatter\"}],\"parcoords\":[{\"type\":\"parcoords\",\"line\":{\"colorbar\":{\"outlinewidth\":0,\"ticks\":\"\"}}}],\"scatterpolargl\":[{\"type\":\"scatterpolargl\",\"marker\":{\"colorbar\":{\"outlinewidth\":0,\"ticks\":\"\"}}}],\"bar\":[{\"error_x\":{\"color\":\"#2a3f5f\"},\"error_y\":{\"color\":\"#2a3f5f\"},\"marker\":{\"line\":{\"color\":\"#E5ECF6\",\"width\":0.5},\"pattern\":{\"fillmode\":\"overlay\",\"size\":10,\"solidity\":0.2}},\"type\":\"bar\"}],\"scattergeo\":[{\"type\":\"scattergeo\",\"marker\":{\"colorbar\":{\"outlinewidth\":0,\"ticks\":\"\"}}}],\"scatterpolar\":[{\"type\":\"scatterpolar\",\"marker\":{\"colorbar\":{\"outlinewidth\":0,\"ticks\":\"\"}}}],\"histogram\":[{\"marker\":{\"pattern\":{\"fillmode\":\"overlay\",\"size\":10,\"solidity\":0.2}},\"type\":\"histogram\"}],\"scattergl\":[{\"type\":\"scattergl\",\"marker\":{\"colorbar\":{\"outlinewidth\":0,\"ticks\":\"\"}}}],\"scatter3d\":[{\"type\":\"scatter3d\",\"line\":{\"colorbar\":{\"outlinewidth\":0,\"ticks\":\"\"}},\"marker\":{\"colorbar\":{\"outlinewidth\":0,\"ticks\":\"\"}}}],\"scattermapbox\":[{\"type\":\"scattermapbox\",\"marker\":{\"colorbar\":{\"outlinewidth\":0,\"ticks\":\"\"}}}],\"scatterternary\":[{\"type\":\"scatterternary\",\"marker\":{\"colorbar\":{\"outlinewidth\":0,\"ticks\":\"\"}}}],\"scattercarpet\":[{\"type\":\"scattercarpet\",\"marker\":{\"colorbar\":{\"outlinewidth\":0,\"ticks\":\"\"}}}],\"carpet\":[{\"aaxis\":{\"endlinecolor\":\"#2a3f5f\",\"gridcolor\":\"white\",\"linecolor\":\"white\",\"minorgridcolor\":\"white\",\"startlinecolor\":\"#2a3f5f\"},\"baxis\":{\"endlinecolor\":\"#2a3f5f\",\"gridcolor\":\"white\",\"linecolor\":\"white\",\"minorgridcolor\":\"white\",\"startlinecolor\":\"#2a3f5f\"},\"type\":\"carpet\"}],\"table\":[{\"cells\":{\"fill\":{\"color\":\"#EBF0F8\"},\"line\":{\"color\":\"white\"}},\"header\":{\"fill\":{\"color\":\"#C8D4E3\"},\"line\":{\"color\":\"white\"}},\"type\":\"table\"}],\"barpolar\":[{\"marker\":{\"line\":{\"color\":\"#E5ECF6\",\"width\":0.5},\"pattern\":{\"fillmode\":\"overlay\",\"size\":10,\"solidity\":0.2}},\"type\":\"barpolar\"}],\"pie\":[{\"automargin\":true,\"type\":\"pie\"}]},\"layout\":{\"autotypenumbers\":\"strict\",\"colorway\":[\"#636efa\",\"#EF553B\",\"#00cc96\",\"#ab63fa\",\"#FFA15A\",\"#19d3f3\",\"#FF6692\",\"#B6E880\",\"#FF97FF\",\"#FECB52\"],\"font\":{\"color\":\"#2a3f5f\"},\"hovermode\":\"closest\",\"hoverlabel\":{\"align\":\"left\"},\"paper_bgcolor\":\"white\",\"plot_bgcolor\":\"#E5ECF6\",\"polar\":{\"bgcolor\":\"#E5ECF6\",\"angularaxis\":{\"gridcolor\":\"white\",\"linecolor\":\"white\",\"ticks\":\"\"},\"radialaxis\":{\"gridcolor\":\"white\",\"linecolor\":\"white\",\"ticks\":\"\"}},\"ternary\":{\"bgcolor\":\"#E5ECF6\",\"aaxis\":{\"gridcolor\":\"white\",\"linecolor\":\"white\",\"ticks\":\"\"},\"baxis\":{\"gridcolor\":\"white\",\"linecolor\":\"white\",\"ticks\":\"\"},\"caxis\":{\"gridcolor\":\"white\",\"linecolor\":\"white\",\"ticks\":\"\"}},\"coloraxis\":{\"colorbar\":{\"outlinewidth\":0,\"ticks\":\"\"}},\"colorscale\":{\"sequential\":[[0.0,\"#0d0887\"],[0.1111111111111111,\"#46039f\"],[0.2222222222222222,\"#7201a8\"],[0.3333333333333333,\"#9c179e\"],[0.4444444444444444,\"#bd3786\"],[0.5555555555555556,\"#d8576b\"],[0.6666666666666666,\"#ed7953\"],[0.7777777777777778,\"#fb9f3a\"],[0.8888888888888888,\"#fdca26\"],[1.0,\"#f0f921\"]],\"sequentialminus\":[[0.0,\"#0d0887\"],[0.1111111111111111,\"#46039f\"],[0.2222222222222222,\"#7201a8\"],[0.3333333333333333,\"#9c179e\"],[0.4444444444444444,\"#bd3786\"],[0.5555555555555556,\"#d8576b\"],[0.6666666666666666,\"#ed7953\"],[0.7777777777777778,\"#fb9f3a\"],[0.8888888888888888,\"#fdca26\"],[1.0,\"#f0f921\"]],\"diverging\":[[0,\"#8e0152\"],[0.1,\"#c51b7d\"],[0.2,\"#de77ae\"],[0.3,\"#f1b6da\"],[0.4,\"#fde0ef\"],[0.5,\"#f7f7f7\"],[0.6,\"#e6f5d0\"],[0.7,\"#b8e186\"],[0.8,\"#7fbc41\"],[0.9,\"#4d9221\"],[1,\"#276419\"]]},\"xaxis\":{\"gridcolor\":\"white\",\"linecolor\":\"white\",\"ticks\":\"\",\"title\":{\"standoff\":15},\"zerolinecolor\":\"white\",\"automargin\":true,\"zerolinewidth\":2},\"yaxis\":{\"gridcolor\":\"white\",\"linecolor\":\"white\",\"ticks\":\"\",\"title\":{\"standoff\":15},\"zerolinecolor\":\"white\",\"automargin\":true,\"zerolinewidth\":2},\"scene\":{\"xaxis\":{\"backgroundcolor\":\"#E5ECF6\",\"gridcolor\":\"white\",\"linecolor\":\"white\",\"showbackground\":true,\"ticks\":\"\",\"zerolinecolor\":\"white\",\"gridwidth\":2},\"yaxis\":{\"backgroundcolor\":\"#E5ECF6\",\"gridcolor\":\"white\",\"linecolor\":\"white\",\"showbackground\":true,\"ticks\":\"\",\"zerolinecolor\":\"white\",\"gridwidth\":2},\"zaxis\":{\"backgroundcolor\":\"#E5ECF6\",\"gridcolor\":\"white\",\"linecolor\":\"white\",\"showbackground\":true,\"ticks\":\"\",\"zerolinecolor\":\"white\",\"gridwidth\":2}},\"shapedefaults\":{\"line\":{\"color\":\"#2a3f5f\"}},\"annotationdefaults\":{\"arrowcolor\":\"#2a3f5f\",\"arrowhead\":0,\"arrowwidth\":1},\"geo\":{\"bgcolor\":\"white\",\"landcolor\":\"#E5ECF6\",\"subunitcolor\":\"white\",\"showland\":true,\"showlakes\":true,\"lakecolor\":\"white\"},\"title\":{\"x\":0.05},\"mapbox\":{\"style\":\"light\"}}},\"xaxis\":{\"anchor\":\"y\",\"domain\":[0.0,1.0],\"title\":{\"text\":\"Prices\"}},\"yaxis\":{\"anchor\":\"x\",\"domain\":[0.0,1.0],\"title\":{\"text\":\"count\"}},\"legend\":{\"title\":{\"text\":\"Marque\"},\"tracegroupgap\":0},\"title\":{\"text\":\"la distribution des prix en fonction de marque\"},\"barmode\":\"group\"},                        {\"responsive\": true}                    ).then(function(){\n",
       "                            \n",
       "var gd = document.getElementById('f9a1084f-ee64-46b0-bb0d-c68ca963c33e');\n",
       "var x = new MutationObserver(function (mutations, observer) {{\n",
       "        var display = window.getComputedStyle(gd).display;\n",
       "        if (!display || display === 'none') {{\n",
       "            console.log([gd, 'removed!']);\n",
       "            Plotly.purge(gd);\n",
       "            observer.disconnect();\n",
       "        }}\n",
       "}});\n",
       "\n",
       "// Listen for the removal of the full notebook cells\n",
       "var notebookContainer = gd.closest('#notebook-container');\n",
       "if (notebookContainer) {{\n",
       "    x.observe(notebookContainer, {childList: true});\n",
       "}}\n",
       "\n",
       "// Listen for the clearing of the current output cell\n",
       "var outputEl = gd.closest('.output');\n",
       "if (outputEl) {{\n",
       "    x.observe(outputEl, {childList: true});\n",
       "}}\n",
       "\n",
       "                        })                };                });            </script>        </div>"
      ]
     },
     "metadata": {},
     "output_type": "display_data"
    }
   ],
   "source": [
    "\n",
    "fig=px.histogram(data, \n",
    "                 x=\"Prices\",\n",
    "                 color=\"Marque\",\n",
    "                 hover_data=data.columns,\n",
    "                 title=\"la distribution des prix en fonction de marque\",\n",
    "                 barmode=\"group\")\n",
    "fig.show()"
   ]
  },
  {
   "cell_type": "code",
   "execution_count": 340,
   "id": "d6d5f54c",
   "metadata": {},
   "outputs": [
    {
     "data": {
      "text/html": [
       "<div>\n",
       "<style scoped>\n",
       "    .dataframe tbody tr th:only-of-type {\n",
       "        vertical-align: middle;\n",
       "    }\n",
       "\n",
       "    .dataframe tbody tr th {\n",
       "        vertical-align: top;\n",
       "    }\n",
       "\n",
       "    .dataframe thead th {\n",
       "        text-align: right;\n",
       "    }\n",
       "</style>\n",
       "<table border=\"1\" class=\"dataframe\">\n",
       "  <thead>\n",
       "    <tr style=\"text-align: right;\">\n",
       "      <th></th>\n",
       "      <th>Prices</th>\n",
       "    </tr>\n",
       "    <tr>\n",
       "      <th>Etat</th>\n",
       "      <th></th>\n",
       "    </tr>\n",
       "  </thead>\n",
       "  <tbody>\n",
       "    <tr>\n",
       "      <th>Bon</th>\n",
       "      <td>11</td>\n",
       "    </tr>\n",
       "    <tr>\n",
       "      <th>Excellent</th>\n",
       "      <td>192</td>\n",
       "    </tr>\n",
       "    <tr>\n",
       "      <th>Neuf</th>\n",
       "      <td>31</td>\n",
       "    </tr>\n",
       "    <tr>\n",
       "      <th>Très bon</th>\n",
       "      <td>67</td>\n",
       "    </tr>\n",
       "  </tbody>\n",
       "</table>\n",
       "</div>"
      ],
      "text/plain": [
       "           Prices\n",
       "Etat             \n",
       "Bon            11\n",
       "Excellent     192\n",
       "Neuf           31\n",
       "Très bon       67"
      ]
     },
     "execution_count": 340,
     "metadata": {},
     "output_type": "execute_result"
    }
   ],
   "source": [
    "# Regrouper par Etat et calculer la nombre de la prices\n",
    "df_grouped = data.groupby('Etat').agg({'Prices': 'count'})\n",
    "df_grouped"
   ]
  },
  {
   "cell_type": "code",
   "execution_count": 341,
   "id": "fc8223b7",
   "metadata": {},
   "outputs": [
    {
     "data": {
      "text/html": [
       "<div>\n",
       "<style scoped>\n",
       "    .dataframe tbody tr th:only-of-type {\n",
       "        vertical-align: middle;\n",
       "    }\n",
       "\n",
       "    .dataframe tbody tr th {\n",
       "        vertical-align: top;\n",
       "    }\n",
       "\n",
       "    .dataframe thead th {\n",
       "        text-align: right;\n",
       "    }\n",
       "</style>\n",
       "<table border=\"1\" class=\"dataframe\">\n",
       "  <thead>\n",
       "    <tr style=\"text-align: right;\">\n",
       "      <th></th>\n",
       "      <th>Etat</th>\n",
       "      <th>Prices</th>\n",
       "    </tr>\n",
       "  </thead>\n",
       "  <tbody>\n",
       "    <tr>\n",
       "      <th>0</th>\n",
       "      <td>Bon</td>\n",
       "      <td>11</td>\n",
       "    </tr>\n",
       "    <tr>\n",
       "      <th>1</th>\n",
       "      <td>Excellent</td>\n",
       "      <td>192</td>\n",
       "    </tr>\n",
       "    <tr>\n",
       "      <th>2</th>\n",
       "      <td>Neuf</td>\n",
       "      <td>31</td>\n",
       "    </tr>\n",
       "    <tr>\n",
       "      <th>3</th>\n",
       "      <td>Très bon</td>\n",
       "      <td>67</td>\n",
       "    </tr>\n",
       "  </tbody>\n",
       "</table>\n",
       "</div>"
      ],
      "text/plain": [
       "        Etat  Prices\n",
       "0        Bon      11\n",
       "1  Excellent     192\n",
       "2       Neuf      31\n",
       "3   Très bon      67"
      ]
     },
     "execution_count": 341,
     "metadata": {},
     "output_type": "execute_result"
    }
   ],
   "source": [
    "# Réinitialiser l'index groupé\n",
    "df_grouped = df_grouped.reset_index()\n",
    "df_grouped"
   ]
  },
  {
   "cell_type": "code",
   "execution_count": 342,
   "id": "f66763e6",
   "metadata": {},
   "outputs": [],
   "source": [
    "df_grouped = df_grouped.rename(columns={'Prices': 'count'})"
   ]
  },
  {
   "cell_type": "code",
   "execution_count": 344,
   "id": "126b571c",
   "metadata": {},
   "outputs": [
    {
     "data": {
      "image/png": "[encoded data removed]",
      "text/plain": [
       "<Figure size 640x480 with 1 Axes>"
      ]
     },
     "metadata": {},
     "output_type": "display_data"
    }
   ],
   "source": [
    "# Tracer le graphique circulaire\n",
    "df_grouped.plot.pie(y='count', autopct='%1.1f%%', labels=df_grouped.Etat)\n",
    "plt.show()"
   ]
  },
  {
   "cell_type": "code",
   "execution_count": 345,
   "id": "7cec4248",
   "metadata": {},
   "outputs": [
    {
     "data": {
      "application/vnd.plotly.v1+json": {
       "config": {
        "plotlyServerURL": "https://plot.ly"
       },
       "data": [
        {
         "alignmentgroup": "True",
         "bingroup": "x",
         "hovertemplate": "Annee_Modele=%{x}<br>count=%{y}<extra></extra>",
         "legendgroup": "",
         "marker": {
          "color": "#636efa",
          "pattern": {
           "shape": ""
          }
         },
         "name": "",
         "offsetgroup": "",
         "orientation": "v",
         "showlegend": false,
         "type": "histogram",
         "x": [
          2024,
          1980,
          2024,
          2024,
          2018,
          2019,
          2014,
          2017,
          2019,
          2018,
          2021,
          2020,
          2022,
          2019,
          2019,
          2013,
          2017,
          2017,
          2015,
          2017,
          2021,
          2020,
          2021,
          2015,
          2013,
          2017,
          2013,
          2020,
          2023,
          2015,
          2024,
          2015,
          2021,
          2017,
          2019,
          2015,
          2015,
          2025,
          2014,
          2025,
          2019,
          2015,
          2015,
          2025,
          2014,
          2014,
          2025,
          2020,
          2020,
          2017,
          2020,
          2022,
          2014,
          2023,
          2023,
          2016,
          2016,
          2019,
          2024,
          2021,
          2019,
          2025,
          2019,
          2020,
          2020,
          2017,
          2018,
          2021,
          2019,
          2024,
          2017,
          2021,
          2019,
          2022,
          2023,
          2017,
          2024,
          2021,
          2024,
          2019,
          2016,
          2020,
          2023,
          2023,
          2021,
          2019,
          2017,
          2019,
          2016,
          2018,
          2022,
          2018,
          2010,
          2023,
          2017,
          2012,
          2019,
          2019,
          2012,
          2015,
          2021,
          2015,
          2019,
          2016,
          2021,
          2010,
          2020,
          2009,
          2017,
          2008,
          2011,
          2011,
          2019,
          2017,
          2019,
          2020,
          2022,
          2008,
          2021,
          2017,
          2021,
          2023,
          2019,
          2020,
          2021,
          2019,
          2016,
          2014,
          2010,
          2008,
          2010,
          2014,
          2017,
          2019,
          2010,
          2011,
          2015,
          2000,
          2014,
          2007,
          2022,
          2022,
          2019,
          2023,
          2013,
          2021,
          2018,
          2023,
          2020,
          2021,
          2025,
          2020,
          2022,
          2014,
          2020,
          2023,
          2016,
          2025,
          2014,
          2017,
          2019,
          2013,
          2012,
          2022,
          2020,
          2024,
          2016,
          2023,
          2019,
          2008,
          2007,
          2016,
          2019,
          2021,
          2021,
          2003,
          2021,
          2013,
          2017,
          2012,
          2022,
          2023,
          2008,
          2020,
          2022,
          2017,
          2020,
          2013,
          2020,
          2023,
          2022,
          2019,
          2016,
          2011,
          2018,
          2017,
          2021,
          2021,
          1991,
          2016,
          2021,
          2019,
          2017,
          2015,
          2025,
          2016,
          2024,
          2021,
          2014,
          2025,
          2012,
          2022,
          2020,
          2019,
          2020,
          2022,
          2023,
          2016,
          2014,
          2019,
          2021,
          2018,
          2019,
          2021,
          2006,
          2019,
          2017,
          2020,
          2015,
          2024,
          2024,
          2018,
          2018,
          2021,
          2016,
          2025,
          2022,
          2019,
          2024,
          2021,
          2022,
          2019,
          2016,
          2022,
          2021,
          2022,
          2019,
          2016,
          2021,
          2020,
          2012,
          2022,
          2024,
          2020,
          2013,
          2016,
          2025,
          2020,
          2009,
          2019,
          2019,
          2020,
          2017,
          2021,
          2022,
          2018,
          2015,
          2021,
          2021,
          2017,
          2019,
          2020,
          2021,
          2019,
          2010,
          2024,
          2020,
          2007,
          2023,
          2021,
          2023,
          1991,
          2014,
          2017,
          2019,
          2020,
          2021,
          2017,
          2025,
          2021,
          2019,
          2021,
          2023,
          2024,
          2017,
          2011,
          2021,
          2021,
          2019,
          2025,
          2017
         ],
         "xaxis": "x",
         "yaxis": "y"
        }
       ],
       "layout": {
        "barmode": "relative",
        "legend": {
         "tracegroupgap": 0
        },
        "template": {
         "data": {
          "bar": [
           {
            "error_x": {
             "color": "#2a3f5f"
            },
            "error_y": {
             "color": "#2a3f5f"
            },
            "marker": {
             "line": {
              "color": "#E5ECF6",
              "width": 0.5
             },
             "pattern": {
              "fillmode": "overlay",
              "size": 10,
              "solidity": 0.2
             }
            },
            "type": "bar"
           }
          ],
          "barpolar": [
           {
            "marker": {
             "line": {
              "color": "#E5ECF6",
              "width": 0.5
             },
             "pattern": {
              "fillmode": "overlay",
              "size": 10,
              "solidity": 0.2
             }
            },
            "type": "barpolar"
           }
          ],
          "carpet": [
           {
            "aaxis": {
             "endlinecolor": "#2a3f5f",
             "gridcolor": "white",
             "linecolor": "white",
             "minorgridcolor": "white",
             "startlinecolor": "#2a3f5f"
            },
            "baxis": {
             "endlinecolor": "#2a3f5f",
             "gridcolor": "white",
             "linecolor": "white",
             "minorgridcolor": "white",
             "startlinecolor": "#2a3f5f"
            },
            "type": "carpet"
           }
          ],
          "choropleth": [
           {
            "colorbar": {
             "outlinewidth": 0,
             "ticks": ""
            },
            "type": "choropleth"
           }
          ],
          "contour": [
           {
            "colorbar": {
             "outlinewidth": 0,
             "ticks": ""
            },
            "colorscale": [
             [
              0,
              "#0d0887"
             ],
             [
              0.1111111111111111,
              "#46039f"
             ],
             [
              0.2222222222222222,
              "#7201a8"
             ],
             [
              0.3333333333333333,
              "#9c179e"
             ],
             [
              0.4444444444444444,
              "#bd3786"
             ],
             [
              0.5555555555555556,
              "#d8576b"
             ],
             [
              0.6666666666666666,
              "#ed7953"
             ],
             [
              0.7777777777777778,
              "#fb9f3a"
             ],
             [
              0.8888888888888888,
              "#fdca26"
             ],
             [
              1,
              "#f0f921"
             ]
            ],
            "type": "contour"
           }
          ],
          "contourcarpet": [
           {
            "colorbar": {
             "outlinewidth": 0,
             "ticks": ""
            },
            "type": "contourcarpet"
           }
          ],
          "heatmap": [
           {
            "colorbar": {
             "outlinewidth": 0,
             "ticks": ""
            },
            "colorscale": [
             [
              0,
              "#0d0887"
             ],
             [
              0.1111111111111111,
              "#46039f"
             ],
             [
              0.2222222222222222,
              "#7201a8"
             ],
             [
              0.3333333333333333,
              "#9c179e"
             ],
             [
              0.4444444444444444,
              "#bd3786"
             ],
             [
              0.5555555555555556,
              "#d8576b"
             ],
             [
              0.6666666666666666,
              "#ed7953"
             ],
             [
              0.7777777777777778,
              "#fb9f3a"
             ],
             [
              0.8888888888888888,
              "#fdca26"
             ],
             [
              1,
              "#f0f921"
             ]
            ],
            "type": "heatmap"
           }
          ],
          "heatmapgl": [
           {
            "colorbar": {
             "outlinewidth": 0,
             "ticks": ""
            },
            "colorscale": [
             [
              0,
              "#0d0887"
             ],
             [
              0.1111111111111111,
              "#46039f"
             ],
             [
              0.2222222222222222,
              "#7201a8"
             ],
             [
              0.3333333333333333,
              "#9c179e"
             ],
             [
              0.4444444444444444,
              "#bd3786"
             ],
             [
              0.5555555555555556,
              "#d8576b"
             ],
             [
              0.6666666666666666,
              "#ed7953"
             ],
             [
              0.7777777777777778,
              "#fb9f3a"
             ],
             [
              0.8888888888888888,
              "#fdca26"
             ],
             [
              1,
              "#f0f921"
             ]
            ],
            "type": "heatmapgl"
           }
          ],
          "histogram": [
           {
            "marker": {
             "pattern": {
              "fillmode": "overlay",
              "size": 10,
              "solidity": 0.2
             }
            },
            "type": "histogram"
           }
          ],
          "histogram2d": [
           {
            "colorbar": {
             "outlinewidth": 0,
             "ticks": ""
            },
            "colorscale": [
             [
              0,
              "#0d0887"
             ],
             [
              0.1111111111111111,
              "#46039f"
             ],
             [
              0.2222222222222222,
              "#7201a8"
             ],
             [
              0.3333333333333333,
              "#9c179e"
             ],
             [
              0.4444444444444444,
              "#bd3786"
             ],
             [
              0.5555555555555556,
              "#d8576b"
             ],
             [
              0.6666666666666666,
              "#ed7953"
             ],
             [
              0.7777777777777778,
              "#fb9f3a"
             ],
             [
              0.8888888888888888,
              "#fdca26"
             ],
             [
              1,
              "#f0f921"
             ]
            ],
            "type": "histogram2d"
           }
          ],
          "histogram2dcontour": [
           {
            "colorbar": {
             "outlinewidth": 0,
             "ticks": ""
            },
            "colorscale": [
             [
              0,
              "#0d0887"
             ],
             [
              0.1111111111111111,
              "#46039f"
             ],
             [
              0.2222222222222222,
              "#7201a8"
             ],
             [
              0.3333333333333333,
              "#9c179e"
             ],
             [
              0.4444444444444444,
              "#bd3786"
             ],
             [
              0.5555555555555556,
              "#d8576b"
             ],
             [
              0.6666666666666666,
              "#ed7953"
             ],
             [
              0.7777777777777778,
              "#fb9f3a"
             ],
             [
              0.8888888888888888,
              "#fdca26"
             ],
             [
              1,
              "#f0f921"
             ]
            ],
            "type": "histogram2dcontour"
           }
          ],
          "mesh3d": [
           {
            "colorbar": {
             "outlinewidth": 0,
             "ticks": ""
            },
            "type": "mesh3d"
           }
          ],
          "parcoords": [
           {
            "line": {
             "colorbar": {
              "outlinewidth": 0,
              "ticks": ""
             }
            },
            "type": "parcoords"
           }
          ],
          "pie": [
           {
            "automargin": true,
            "type": "pie"
           }
          ],
          "scatter": [
           {
            "fillpattern": {
             "fillmode": "overlay",
             "size": 10,
             "solidity": 0.2
            },
            "type": "scatter"
           }
          ],
          "scatter3d": [
           {
            "line": {
             "colorbar": {
              "outlinewidth": 0,
              "ticks": ""
             }
            },
            "marker": {
             "colorbar": {
              "outlinewidth": 0,
              "ticks": ""
             }
            },
            "type": "scatter3d"
           }
          ],
          "scattercarpet": [
           {
            "marker": {
             "colorbar": {
              "outlinewidth": 0,
              "ticks": ""
             }
            },
            "type": "scattercarpet"
           }
          ],
          "scattergeo": [
           {
            "marker": {
             "colorbar": {
              "outlinewidth": 0,
              "ticks": ""
             }
            },
            "type": "scattergeo"
           }
          ],
          "scattergl": [
           {
            "marker": {
             "colorbar": {
              "outlinewidth": 0,
              "ticks": ""
             }
            },
            "type": "scattergl"
           }
          ],
          "scattermapbox": [
           {
            "marker": {
             "colorbar": {
              "outlinewidth": 0,
              "ticks": ""
             }
            },
            "type": "scattermapbox"
           }
          ],
          "scatterpolar": [
           {
            "marker": {
             "colorbar": {
              "outlinewidth": 0,
              "ticks": ""
             }
            },
            "type": "scatterpolar"
           }
          ],
          "scatterpolargl": [
           {
            "marker": {
             "colorbar": {
              "outlinewidth": 0,
              "ticks": ""
             }
            },
            "type": "scatterpolargl"
           }
          ],
          "scatterternary": [
           {
            "marker": {
             "colorbar": {
              "outlinewidth": 0,
              "ticks": ""
             }
            },
            "type": "scatterternary"
           }
          ],
          "surface": [
           {
            "colorbar": {
             "outlinewidth": 0,
             "ticks": ""
            },
            "colorscale": [
             [
              0,
              "#0d0887"
             ],
             [
              0.1111111111111111,
              "#46039f"
             ],
             [
              0.2222222222222222,
              "#7201a8"
             ],
             [
              0.3333333333333333,
              "#9c179e"
             ],
             [
              0.4444444444444444,
              "#bd3786"
             ],
             [
              0.5555555555555556,
              "#d8576b"
             ],
             [
              0.6666666666666666,
              "#ed7953"
             ],
             [
              0.7777777777777778,
              "#fb9f3a"
             ],
             [
              0.8888888888888888,
              "#fdca26"
             ],
             [
              1,
              "#f0f921"
             ]
            ],
            "type": "surface"
           }
          ],
          "table": [
           {
            "cells": {
             "fill": {
              "color": "#EBF0F8"
             },
             "line": {
              "color": "white"
             }
            },
            "header": {
             "fill": {
              "color": "#C8D4E3"
             },
             "line": {
              "color": "white"
             }
            },
            "type": "table"
           }
          ]
         },
         "layout": {
          "annotationdefaults": {
           "arrowcolor": "#2a3f5f",
           "arrowhead": 0,
           "arrowwidth": 1
          },
          "autotypenumbers": "strict",
          "coloraxis": {
           "colorbar": {
            "outlinewidth": 0,
            "ticks": ""
           }
          },
          "colorscale": {
           "diverging": [
            [
             0,
             "#8e0152"
            ],
            [
             0.1,
             "#c51b7d"
            ],
            [
             0.2,
             "#de77ae"
            ],
            [
             0.3,
             "#f1b6da"
            ],
            [
             0.4,
             "#fde0ef"
            ],
            [
             0.5,
             "#f7f7f7"
            ],
            [
             0.6,
             "#e6f5d0"
            ],
            [
             0.7,
             "#b8e186"
            ],
            [
             0.8,
             "#7fbc41"
            ],
            [
             0.9,
             "#4d9221"
            ],
            [
             1,
             "#276419"
            ]
           ],
           "sequential": [
            [
             0,
             "#0d0887"
            ],
            [
             0.1111111111111111,
             "#46039f"
            ],
            [
             0.2222222222222222,
             "#7201a8"
            ],
            [
             0.3333333333333333,
             "#9c179e"
            ],
            [
             0.4444444444444444,
             "#bd3786"
            ],
            [
             0.5555555555555556,
             "#d8576b"
            ],
            [
             0.6666666666666666,
             "#ed7953"
            ],
            [
             0.7777777777777778,
             "#fb9f3a"
            ],
            [
             0.8888888888888888,
             "#fdca26"
            ],
            [
             1,
             "#f0f921"
            ]
           ],
           "sequentialminus": [
            [
             0,
             "#0d0887"
            ],
            [
             0.1111111111111111,
             "#46039f"
            ],
            [
             0.2222222222222222,
             "#7201a8"
            ],
            [
             0.3333333333333333,
             "#9c179e"
            ],
            [
             0.4444444444444444,
             "#bd3786"
            ],
            [
             0.5555555555555556,
             "#d8576b"
            ],
            [
             0.6666666666666666,
             "#ed7953"
            ],
            [
             0.7777777777777778,
             "#fb9f3a"
            ],
            [
             0.8888888888888888,
             "#fdca26"
            ],
            [
             1,
             "#f0f921"
            ]
           ]
          },
          "colorway": [
           "#636efa",
           "#EF553B",
           "#00cc96",
           "#ab63fa",
           "#FFA15A",
           "#19d3f3",
           "#FF6692",
           "#B6E880",
           "#FF97FF",
           "#FECB52"
          ],
          "font": {
           "color": "#2a3f5f"
          },
          "geo": {
           "bgcolor": "white",
           "lakecolor": "white",
           "landcolor": "#E5ECF6",
           "showlakes": true,
           "showland": true,
           "subunitcolor": "white"
          },
          "hoverlabel": {
           "align": "left"
          },
          "hovermode": "closest",
          "mapbox": {
           "style": "light"
          },
          "paper_bgcolor": "white",
          "plot_bgcolor": "#E5ECF6",
          "polar": {
           "angularaxis": {
            "gridcolor": "white",
            "linecolor": "white",
            "ticks": ""
           },
           "bgcolor": "#E5ECF6",
           "radialaxis": {
            "gridcolor": "white",
            "linecolor": "white",
            "ticks": ""
           }
          },
          "scene": {
           "xaxis": {
            "backgroundcolor": "#E5ECF6",
            "gridcolor": "white",
            "gridwidth": 2,
            "linecolor": "white",
            "showbackground": true,
            "ticks": "",
            "zerolinecolor": "white"
           },
           "yaxis": {
            "backgroundcolor": "#E5ECF6",
            "gridcolor": "white",
            "gridwidth": 2,
            "linecolor": "white",
            "showbackground": true,
            "ticks": "",
            "zerolinecolor": "white"
           },
           "zaxis": {
            "backgroundcolor": "#E5ECF6",
            "gridcolor": "white",
            "gridwidth": 2,
            "linecolor": "white",
            "showbackground": true,
            "ticks": "",
            "zerolinecolor": "white"
           }
          },
          "shapedefaults": {
           "line": {
            "color": "#2a3f5f"
           }
          },
          "ternary": {
           "aaxis": {
            "gridcolor": "white",
            "linecolor": "white",
            "ticks": ""
           },
           "baxis": {
            "gridcolor": "white",
            "linecolor": "white",
            "ticks": ""
           },
           "bgcolor": "#E5ECF6",
           "caxis": {
            "gridcolor": "white",
            "linecolor": "white",
            "ticks": ""
           }
          },
          "title": {
           "x": 0.05
          },
          "xaxis": {
           "automargin": true,
           "gridcolor": "white",
           "linecolor": "white",
           "ticks": "",
           "title": {
            "standoff": 15
           },
           "zerolinecolor": "white",
           "zerolinewidth": 2
          },
          "yaxis": {
           "automargin": true,
           "gridcolor": "white",
           "linecolor": "white",
           "ticks": "",
           "title": {
            "standoff": 15
           },
           "zerolinecolor": "white",
           "zerolinewidth": 2
          }
         }
        },
        "title": {
         "text": "Distribution of the Annee_Modele"
        },
        "xaxis": {
         "anchor": "y",
         "domain": [
          0,
          1
         ],
         "title": {
          "text": "Annee_Modele"
         }
        },
        "yaxis": {
         "anchor": "x",
         "domain": [
          0,
          1
         ],
         "title": {
          "text": "count"
         }
        }
       }
      },
      "text/html": [
       "<div>                            <div id=\"1688de73-a038-42eb-88d2-68d7a1b1f9d1\" class=\"plotly-graph-div\" style=\"height:525px; width:100%;\"></div>            <script type=\"text/javascript\">                require([\"plotly\"], function(Plotly) {                    window.PLOTLYENV=window.PLOTLYENV || {};                                    if (document.getElementById(\"1688de73-a038-42eb-88d2-68d7a1b1f9d1\")) {                    Plotly.newPlot(                        \"1688de73-a038-42eb-88d2-68d7a1b1f9d1\",                        [{\"alignmentgroup\":\"True\",\"bingroup\":\"x\",\"hovertemplate\":\"Annee_Modele=%{x}<br>count=%{y}<extra></extra>\",\"legendgroup\":\"\",\"marker\":{\"color\":\"#636efa\",\"pattern\":{\"shape\":\"\"}},\"name\":\"\",\"offsetgroup\":\"\",\"orientation\":\"v\",\"showlegend\":false,\"x\":[2024,1980,2024,2024,2018,2019,2014,2017,2019,2018,2021,2020,2022,2019,2019,2013,2017,2017,2015,2017,2021,2020,2021,2015,2013,2017,2013,2020,2023,2015,2024,2015,2021,2017,2019,2015,2015,2025,2014,2025,2019,2015,2015,2025,2014,2014,2025,2020,2020,2017,2020,2022,2014,2023,2023,2016,2016,2019,2024,2021,2019,2025,2019,2020,2020,2017,2018,2021,2019,2024,2017,2021,2019,2022,2023,2017,2024,2021,2024,2019,2016,2020,2023,2023,2021,2019,2017,2019,2016,2018,2022,2018,2010,2023,2017,2012,2019,2019,2012,2015,2021,2015,2019,2016,2021,2010,2020,2009,2017,2008,2011,2011,2019,2017,2019,2020,2022,2008,2021,2017,2021,2023,2019,2020,2021,2019,2016,2014,2010,2008,2010,2014,2017,2019,2010,2011,2015,2000,2014,2007,2022,2022,2019,2023,2013,2021,2018,2023,2020,2021,2025,2020,2022,2014,2020,2023,2016,2025,2014,2017,2019,2013,2012,2022,2020,2024,2016,2023,2019,2008,2007,2016,2019,2021,2021,2003,2021,2013,2017,2012,2022,2023,2008,2020,2022,2017,2020,2013,2020,2023,2022,2019,2016,2011,2018,2017,2021,2021,1991,2016,2021,2019,2017,2015,2025,2016,2024,2021,2014,2025,2012,2022,2020,2019,2020,2022,2023,2016,2014,2019,2021,2018,2019,2021,2006,2019,2017,2020,2015,2024,2024,2018,2018,2021,2016,2025,2022,2019,2024,2021,2022,2019,2016,2022,2021,2022,2019,2016,2021,2020,2012,2022,2024,2020,2013,2016,2025,2020,2009,2019,2019,2020,2017,2021,2022,2018,2015,2021,2021,2017,2019,2020,2021,2019,2010,2024,2020,2007,2023,2021,2023,1991,2014,2017,2019,2020,2021,2017,2025,2021,2019,2021,2023,2024,2017,2011,2021,2021,2019,2025,2017],\"xaxis\":\"x\",\"yaxis\":\"y\",\"type\":\"histogram\"}],                        {\"template\":{\"data\":{\"histogram2dcontour\":[{\"type\":\"histogram2dcontour\",\"colorbar\":{\"outlinewidth\":0,\"ticks\":\"\"},\"colorscale\":[[0.0,\"#0d0887\"],[0.1111111111111111,\"#46039f\"],[0.2222222222222222,\"#7201a8\"],[0.3333333333333333,\"#9c179e\"],[0.4444444444444444,\"#bd3786\"],[0.5555555555555556,\"#d8576b\"],[0.6666666666666666,\"#ed7953\"],[0.7777777777777778,\"#fb9f3a\"],[0.8888888888888888,\"#fdca26\"],[1.0,\"#f0f921\"]]}],\"choropleth\":[{\"type\":\"choropleth\",\"colorbar\":{\"outlinewidth\":0,\"ticks\":\"\"}}],\"histogram2d\":[{\"type\":\"histogram2d\",\"colorbar\":{\"outlinewidth\":0,\"ticks\":\"\"},\"colorscale\":[[0.0,\"#0d0887\"],[0.1111111111111111,\"#46039f\"],[0.2222222222222222,\"#7201a8\"],[0.3333333333333333,\"#9c179e\"],[0.4444444444444444,\"#bd3786\"],[0.5555555555555556,\"#d8576b\"],[0.6666666666666666,\"#ed7953\"],[0.7777777777777778,\"#fb9f3a\"],[0.8888888888888888,\"#fdca26\"],[1.0,\"#f0f921\"]]}],\"heatmap\":[{\"type\":\"heatmap\",\"colorbar\":{\"outlinewidth\":0,\"ticks\":\"\"},\"colorscale\":[[0.0,\"#0d0887\"],[0.1111111111111111,\"#46039f\"],[0.2222222222222222,\"#7201a8\"],[0.3333333333333333,\"#9c179e\"],[0.4444444444444444,\"#bd3786\"],[0.5555555555555556,\"#d8576b\"],[0.6666666666666666,\"#ed7953\"],[0.7777777777777778,\"#fb9f3a\"],[0.8888888888888888,\"#fdca26\"],[1.0,\"#f0f921\"]]}],\"heatmapgl\":[{\"type\":\"heatmapgl\",\"colorbar\":{\"outlinewidth\":0,\"ticks\":\"\"},\"colorscale\":[[0.0,\"#0d0887\"],[0.1111111111111111,\"#46039f\"],[0.2222222222222222,\"#7201a8\"],[0.3333333333333333,\"#9c179e\"],[0.4444444444444444,\"#bd3786\"],[0.5555555555555556,\"#d8576b\"],[0.6666666666666666,\"#ed7953\"],[0.7777777777777778,\"#fb9f3a\"],[0.8888888888888888,\"#fdca26\"],[1.0,\"#f0f921\"]]}],\"contourcarpet\":[{\"type\":\"contourcarpet\",\"colorbar\":{\"outlinewidth\":0,\"ticks\":\"\"}}],\"contour\":[{\"type\":\"contour\",\"colorbar\":{\"outlinewidth\":0,\"ticks\":\"\"},\"colorscale\":[[0.0,\"#0d0887\"],[0.1111111111111111,\"#46039f\"],[0.2222222222222222,\"#7201a8\"],[0.3333333333333333,\"#9c179e\"],[0.4444444444444444,\"#bd3786\"],[0.5555555555555556,\"#d8576b\"],[0.6666666666666666,\"#ed7953\"],[0.7777777777777778,\"#fb9f3a\"],[0.8888888888888888,\"#fdca26\"],[1.0,\"#f0f921\"]]}],\"surface\":[{\"type\":\"surface\",\"colorbar\":{\"outlinewidth\":0,\"ticks\":\"\"},\"colorscale\":[[0.0,\"#0d0887\"],[0.1111111111111111,\"#46039f\"],[0.2222222222222222,\"#7201a8\"],[0.3333333333333333,\"#9c179e\"],[0.4444444444444444,\"#bd3786\"],[0.5555555555555556,\"#d8576b\"],[0.6666666666666666,\"#ed7953\"],[0.7777777777777778,\"#fb9f3a\"],[0.8888888888888888,\"#fdca26\"],[1.0,\"#f0f921\"]]}],\"mesh3d\":[{\"type\":\"mesh3d\",\"colorbar\":{\"outlinewidth\":0,\"ticks\":\"\"}}],\"scatter\":[{\"fillpattern\":{\"fillmode\":\"overlay\",\"size\":10,\"solidity\":0.2},\"type\":\"scatter\"}],\"parcoords\":[{\"type\":\"parcoords\",\"line\":{\"colorbar\":{\"outlinewidth\":0,\"ticks\":\"\"}}}],\"scatterpolargl\":[{\"type\":\"scatterpolargl\",\"marker\":{\"colorbar\":{\"outlinewidth\":0,\"ticks\":\"\"}}}],\"bar\":[{\"error_x\":{\"color\":\"#2a3f5f\"},\"error_y\":{\"color\":\"#2a3f5f\"},\"marker\":{\"line\":{\"color\":\"#E5ECF6\",\"width\":0.5},\"pattern\":{\"fillmode\":\"overlay\",\"size\":10,\"solidity\":0.2}},\"type\":\"bar\"}],\"scattergeo\":[{\"type\":\"scattergeo\",\"marker\":{\"colorbar\":{\"outlinewidth\":0,\"ticks\":\"\"}}}],\"scatterpolar\":[{\"type\":\"scatterpolar\",\"marker\":{\"colorbar\":{\"outlinewidth\":0,\"ticks\":\"\"}}}],\"histogram\":[{\"marker\":{\"pattern\":{\"fillmode\":\"overlay\",\"size\":10,\"solidity\":0.2}},\"type\":\"histogram\"}],\"scattergl\":[{\"type\":\"scattergl\",\"marker\":{\"colorbar\":{\"outlinewidth\":0,\"ticks\":\"\"}}}],\"scatter3d\":[{\"type\":\"scatter3d\",\"line\":{\"colorbar\":{\"outlinewidth\":0,\"ticks\":\"\"}},\"marker\":{\"colorbar\":{\"outlinewidth\":0,\"ticks\":\"\"}}}],\"scattermapbox\":[{\"type\":\"scattermapbox\",\"marker\":{\"colorbar\":{\"outlinewidth\":0,\"ticks\":\"\"}}}],\"scatterternary\":[{\"type\":\"scatterternary\",\"marker\":{\"colorbar\":{\"outlinewidth\":0,\"ticks\":\"\"}}}],\"scattercarpet\":[{\"type\":\"scattercarpet\",\"marker\":{\"colorbar\":{\"outlinewidth\":0,\"ticks\":\"\"}}}],\"carpet\":[{\"aaxis\":{\"endlinecolor\":\"#2a3f5f\",\"gridcolor\":\"white\",\"linecolor\":\"white\",\"minorgridcolor\":\"white\",\"startlinecolor\":\"#2a3f5f\"},\"baxis\":{\"endlinecolor\":\"#2a3f5f\",\"gridcolor\":\"white\",\"linecolor\":\"white\",\"minorgridcolor\":\"white\",\"startlinecolor\":\"#2a3f5f\"},\"type\":\"carpet\"}],\"table\":[{\"cells\":{\"fill\":{\"color\":\"#EBF0F8\"},\"line\":{\"color\":\"white\"}},\"header\":{\"fill\":{\"color\":\"#C8D4E3\"},\"line\":{\"color\":\"white\"}},\"type\":\"table\"}],\"barpolar\":[{\"marker\":{\"line\":{\"color\":\"#E5ECF6\",\"width\":0.5},\"pattern\":{\"fillmode\":\"overlay\",\"size\":10,\"solidity\":0.2}},\"type\":\"barpolar\"}],\"pie\":[{\"automargin\":true,\"type\":\"pie\"}]},\"layout\":{\"autotypenumbers\":\"strict\",\"colorway\":[\"#636efa\",\"#EF553B\",\"#00cc96\",\"#ab63fa\",\"#FFA15A\",\"#19d3f3\",\"#FF6692\",\"#B6E880\",\"#FF97FF\",\"#FECB52\"],\"font\":{\"color\":\"#2a3f5f\"},\"hovermode\":\"closest\",\"hoverlabel\":{\"align\":\"left\"},\"paper_bgcolor\":\"white\",\"plot_bgcolor\":\"#E5ECF6\",\"polar\":{\"bgcolor\":\"#E5ECF6\",\"angularaxis\":{\"gridcolor\":\"white\",\"linecolor\":\"white\",\"ticks\":\"\"},\"radialaxis\":{\"gridcolor\":\"white\",\"linecolor\":\"white\",\"ticks\":\"\"}},\"ternary\":{\"bgcolor\":\"#E5ECF6\",\"aaxis\":{\"gridcolor\":\"white\",\"linecolor\":\"white\",\"ticks\":\"\"},\"baxis\":{\"gridcolor\":\"white\",\"linecolor\":\"white\",\"ticks\":\"\"},\"caxis\":{\"gridcolor\":\"white\",\"linecolor\":\"white\",\"ticks\":\"\"}},\"coloraxis\":{\"colorbar\":{\"outlinewidth\":0,\"ticks\":\"\"}},\"colorscale\":{\"sequential\":[[0.0,\"#0d0887\"],[0.1111111111111111,\"#46039f\"],[0.2222222222222222,\"#7201a8\"],[0.3333333333333333,\"#9c179e\"],[0.4444444444444444,\"#bd3786\"],[0.5555555555555556,\"#d8576b\"],[0.6666666666666666,\"#ed7953\"],[0.7777777777777778,\"#fb9f3a\"],[0.8888888888888888,\"#fdca26\"],[1.0,\"#f0f921\"]],\"sequentialminus\":[[0.0,\"#0d0887\"],[0.1111111111111111,\"#46039f\"],[0.2222222222222222,\"#7201a8\"],[0.3333333333333333,\"#9c179e\"],[0.4444444444444444,\"#bd3786\"],[0.5555555555555556,\"#d8576b\"],[0.6666666666666666,\"#ed7953\"],[0.7777777777777778,\"#fb9f3a\"],[0.8888888888888888,\"#fdca26\"],[1.0,\"#f0f921\"]],\"diverging\":[[0,\"#8e0152\"],[0.1,\"#c51b7d\"],[0.2,\"#de77ae\"],[0.3,\"#f1b6da\"],[0.4,\"#fde0ef\"],[0.5,\"#f7f7f7\"],[0.6,\"#e6f5d0\"],[0.7,\"#b8e186\"],[0.8,\"#7fbc41\"],[0.9,\"#4d9221\"],[1,\"#276419\"]]},\"xaxis\":{\"gridcolor\":\"white\",\"linecolor\":\"white\",\"ticks\":\"\",\"title\":{\"standoff\":15},\"zerolinecolor\":\"white\",\"automargin\":true,\"zerolinewidth\":2},\"yaxis\":{\"gridcolor\":\"white\",\"linecolor\":\"white\",\"ticks\":\"\",\"title\":{\"standoff\":15},\"zerolinecolor\":\"white\",\"automargin\":true,\"zerolinewidth\":2},\"scene\":{\"xaxis\":{\"backgroundcolor\":\"#E5ECF6\",\"gridcolor\":\"white\",\"linecolor\":\"white\",\"showbackground\":true,\"ticks\":\"\",\"zerolinecolor\":\"white\",\"gridwidth\":2},\"yaxis\":{\"backgroundcolor\":\"#E5ECF6\",\"gridcolor\":\"white\",\"linecolor\":\"white\",\"showbackground\":true,\"ticks\":\"\",\"zerolinecolor\":\"white\",\"gridwidth\":2},\"zaxis\":{\"backgroundcolor\":\"#E5ECF6\",\"gridcolor\":\"white\",\"linecolor\":\"white\",\"showbackground\":true,\"ticks\":\"\",\"zerolinecolor\":\"white\",\"gridwidth\":2}},\"shapedefaults\":{\"line\":{\"color\":\"#2a3f5f\"}},\"annotationdefaults\":{\"arrowcolor\":\"#2a3f5f\",\"arrowhead\":0,\"arrowwidth\":1},\"geo\":{\"bgcolor\":\"white\",\"landcolor\":\"#E5ECF6\",\"subunitcolor\":\"white\",\"showland\":true,\"showlakes\":true,\"lakecolor\":\"white\"},\"title\":{\"x\":0.05},\"mapbox\":{\"style\":\"light\"}}},\"xaxis\":{\"anchor\":\"y\",\"domain\":[0.0,1.0],\"title\":{\"text\":\"Annee_Modele\"}},\"yaxis\":{\"anchor\":\"x\",\"domain\":[0.0,1.0],\"title\":{\"text\":\"count\"}},\"legend\":{\"tracegroupgap\":0},\"title\":{\"text\":\"Distribution of the Annee_Modele\"},\"barmode\":\"relative\"},                        {\"responsive\": true}                    ).then(function(){\n",
       "                            \n",
       "var gd = document.getElementById('1688de73-a038-42eb-88d2-68d7a1b1f9d1');\n",
       "var x = new MutationObserver(function (mutations, observer) {{\n",
       "        var display = window.getComputedStyle(gd).display;\n",
       "        if (!display || display === 'none') {{\n",
       "            console.log([gd, 'removed!']);\n",
       "            Plotly.purge(gd);\n",
       "            observer.disconnect();\n",
       "        }}\n",
       "}});\n",
       "\n",
       "// Listen for the removal of the full notebook cells\n",
       "var notebookContainer = gd.closest('#notebook-container');\n",
       "if (notebookContainer) {{\n",
       "    x.observe(notebookContainer, {childList: true});\n",
       "}}\n",
       "\n",
       "// Listen for the clearing of the current output cell\n",
       "var outputEl = gd.closest('.output');\n",
       "if (outputEl) {{\n",
       "    x.observe(outputEl, {childList: true});\n",
       "}}\n",
       "\n",
       "                        })                };                });            </script>        </div>"
      ]
     },
     "metadata": {},
     "output_type": "display_data"
    }
   ],
   "source": [
    "fig=px.histogram(data,\n",
    "                 x=\"Annee_Modele\",\n",
    "                 hover_data=data.columns,\n",
    "                 title=\"Distribution of the Annee_Modele\")\n",
    "fig.show()"
   ]
  },
  {
   "cell_type": "code",
   "execution_count": 347,
   "id": "e1e127da",
   "metadata": {},
   "outputs": [
    {
     "data": {
      "application/vnd.plotly.v1+json": {
       "config": {
        "plotlyServerURL": "https://plot.ly"
       },
       "data": [
        {
         "alignmentgroup": "True",
         "bingroup": "x",
         "hovertemplate": "Origine=WW au Maroc<br>Prices=%{x}<br>count=%{y}<extra></extra>",
         "legendgroup": "WW au Maroc",
         "marker": {
          "color": "#636efa",
          "pattern": {
           "shape": ""
          }
         },
         "name": "WW au Maroc",
         "offsetgroup": "WW au Maroc",
         "orientation": "v",
         "showlegend": true,
         "type": "histogram",
         "x": [
          122000,
          75000,
          138000,
          370000,
          190000,
          320000,
          118000,
          235000,
          153000,
          96000,
          115000,
          172000,
          220000,
          93000,
          136000,
          265000,
          162000,
          127000,
          149000,
          360000,
          123000,
          285000,
          219000,
          149000,
          188000,
          430000,
          173000,
          185000,
          75000,
          430000,
          173000,
          124000,
          220000,
          100000,
          285000,
          220000,
          126000,
          275000,
          117000,
          398000,
          168000,
          220000,
          209000,
          123000,
          307000,
          225000,
          175000,
          380000,
          235000,
          257000,
          163000,
          395000,
          228000,
          113000,
          198500,
          390000,
          145000,
          158000,
          358000,
          144000,
          260000,
          238000,
          235000,
          280000,
          210000,
          235000,
          256000,
          117000,
          135000,
          120000,
          360000,
          285000,
          113000,
          60000,
          78000,
          70000,
          155000,
          235000,
          112000,
          390000,
          179000,
          70000,
          285000,
          320000,
          470000,
          294000,
          145000,
          220000,
          140000,
          390000,
          268000,
          235000,
          136000,
          105000,
          125000,
          220000,
          299000,
          107000,
          120000,
          40000,
          78000,
          98000,
          800000,
          162000,
          150000,
          300000,
          170000,
          135000,
          420000,
          187000,
          120000,
          495000,
          285000,
          139000,
          255000,
          265000,
          82000,
          89000,
          148000,
          450000,
          150000,
          118000,
          62000,
          62000,
          120000,
          220000,
          41000,
          135000,
          110000,
          62000,
          290000,
          705000,
          210000,
          155000,
          395000,
          135000,
          128000,
          145000,
          310000,
          225000,
          62000,
          30000,
          305000,
          31000,
          23000,
          200000,
          280000,
          150000,
          162000,
          200000,
          145000,
          119000,
          270000,
          172000,
          135000,
          98000,
          155000,
          240000,
          770000,
          150000,
          310000,
          340000,
          157000,
          139000,
          190000,
          143000,
          750000,
          295000,
          175000,
          148000,
          450000,
          139000,
          180000,
          190000,
          145000,
          350000,
          900000,
          170000,
          639000,
          285000,
          110000,
          168000,
          450000,
          63000,
          579000,
          545000,
          105000,
          96000,
          440000,
          140000,
          340000,
          185000,
          550000,
          175000,
          69000,
          270000,
          228000,
          117000,
          265000,
          122000,
          39000,
          58000,
          242000,
          164999,
          117000,
          265000,
          122000,
          39000,
          58000,
          106000,
          164999,
          150000,
          340000,
          143000,
          197000
         ],
         "xaxis": "x",
         "yaxis": "y"
        },
        {
         "alignmentgroup": "True",
         "bingroup": "x",
         "hovertemplate": "Origine=Importée neuve<br>Prices=%{x}<br>count=%{y}<extra></extra>",
         "legendgroup": "Importée neuve",
         "marker": {
          "color": "#EF553B",
          "pattern": {
           "shape": ""
          }
         },
         "name": "Importée neuve",
         "offsetgroup": "Importée neuve",
         "orientation": "v",
         "showlegend": true,
         "type": "histogram",
         "x": [
          690000,
          375000,
          650000,
          670000,
          165000,
          780000,
          124000,
          490000,
          188000,
          185000,
          185000,
          385000,
          790000,
          229000,
          118000,
          158000,
          229000,
          222000,
          135000,
          170000,
          147000,
          242000,
          240000,
          170000,
          115000,
          189000,
          118000,
          180000,
          128000,
          450000,
          175000,
          150000,
          950000,
          323000,
          112000,
          139000,
          149000,
          185000,
          228000,
          185000,
          570000,
          249000
         ],
         "xaxis": "x",
         "yaxis": "y"
        },
        {
         "alignmentgroup": "True",
         "bingroup": "x",
         "hovertemplate": "Origine=Dédouanée<br>Prices=%{x}<br>count=%{y}<extra></extra>",
         "legendgroup": "Dédouanée",
         "marker": {
          "color": "#00cc96",
          "pattern": {
           "shape": ""
          }
         },
         "name": "Dédouanée",
         "offsetgroup": "Dédouanée",
         "orientation": "v",
         "showlegend": true,
         "type": "histogram",
         "x": [
          159000,
          360000,
          490000,
          185000,
          320000,
          240000,
          250000,
          465000,
          79000,
          147000,
          132000,
          285000,
          120000,
          190000,
          325000,
          150000,
          125000,
          250000,
          115000,
          185000,
          385000,
          118000,
          310000,
          510000,
          109000,
          380000,
          95000,
          275000,
          132000,
          760000,
          850000,
          390000,
          180000,
          97000,
          168000,
          147000,
          75000,
          128000,
          52000,
          273000,
          660000,
          720000,
          212000,
          212000
         ],
         "xaxis": "x",
         "yaxis": "y"
        }
       ],
       "layout": {
        "barmode": "group",
        "legend": {
         "title": {
          "text": "Origine"
         },
         "tracegroupgap": 0
        },
        "template": {
         "data": {
          "bar": [
           {
            "error_x": {
             "color": "#2a3f5f"
            },
            "error_y": {
             "color": "#2a3f5f"
            },
            "marker": {
             "line": {
              "color": "#E5ECF6",
              "width": 0.5
             },
             "pattern": {
              "fillmode": "overlay",
              "size": 10,
              "solidity": 0.2
             }
            },
            "type": "bar"
           }
          ],
          "barpolar": [
           {
            "marker": {
             "line": {
              "color": "#E5ECF6",
              "width": 0.5
             },
             "pattern": {
              "fillmode": "overlay",
              "size": 10,
              "solidity": 0.2
             }
            },
            "type": "barpolar"
           }
          ],
          "carpet": [
           {
            "aaxis": {
             "endlinecolor": "#2a3f5f",
             "gridcolor": "white",
             "linecolor": "white",
             "minorgridcolor": "white",
             "startlinecolor": "#2a3f5f"
            },
            "baxis": {
             "endlinecolor": "#2a3f5f",
             "gridcolor": "white",
             "linecolor": "white",
             "minorgridcolor": "white",
             "startlinecolor": "#2a3f5f"
            },
            "type": "carpet"
           }
          ],
          "choropleth": [
           {
            "colorbar": {
             "outlinewidth": 0,
             "ticks": ""
            },
            "type": "choropleth"
           }
          ],
          "contour": [
           {
            "colorbar": {
             "outlinewidth": 0,
             "ticks": ""
            },
            "colorscale": [
             [
              0,
              "#0d0887"
             ],
             [
              0.1111111111111111,
              "#46039f"
             ],
             [
              0.2222222222222222,
              "#7201a8"
             ],
             [
              0.3333333333333333,
              "#9c179e"
             ],
             [
              0.4444444444444444,
              "#bd3786"
             ],
             [
              0.5555555555555556,
              "#d8576b"
             ],
             [
              0.6666666666666666,
              "#ed7953"
             ],
             [
              0.7777777777777778,
              "#fb9f3a"
             ],
             [
              0.8888888888888888,
              "#fdca26"
             ],
             [
              1,
              "#f0f921"
             ]
            ],
            "type": "contour"
           }
          ],
          "contourcarpet": [
           {
            "colorbar": {
             "outlinewidth": 0,
             "ticks": ""
            },
            "type": "contourcarpet"
           }
          ],
          "heatmap": [
           {
            "colorbar": {
             "outlinewidth": 0,
             "ticks": ""
            },
            "colorscale": [
             [
              0,
              "#0d0887"
             ],
             [
              0.1111111111111111,
              "#46039f"
             ],
             [
              0.2222222222222222,
              "#7201a8"
             ],
             [
              0.3333333333333333,
              "#9c179e"
             ],
             [
              0.4444444444444444,
              "#bd3786"
             ],
             [
              0.5555555555555556,
              "#d8576b"
             ],
             [
              0.6666666666666666,
              "#ed7953"
             ],
             [
              0.7777777777777778,
              "#fb9f3a"
             ],
             [
              0.8888888888888888,
              "#fdca26"
             ],
             [
              1,
              "#f0f921"
             ]
            ],
            "type": "heatmap"
           }
          ],
          "heatmapgl": [
           {
            "colorbar": {
             "outlinewidth": 0,
             "ticks": ""
            },
            "colorscale": [
             [
              0,
              "#0d0887"
             ],
             [
              0.1111111111111111,
              "#46039f"
             ],
             [
              0.2222222222222222,
              "#7201a8"
             ],
             [
              0.3333333333333333,
              "#9c179e"
             ],
             [
              0.4444444444444444,
              "#bd3786"
             ],
             [
              0.5555555555555556,
              "#d8576b"
             ],
             [
              0.6666666666666666,
              "#ed7953"
             ],
             [
              0.7777777777777778,
              "#fb9f3a"
             ],
             [
              0.8888888888888888,
              "#fdca26"
             ],
             [
              1,
              "#f0f921"
             ]
            ],
            "type": "heatmapgl"
           }
          ],
          "histogram": [
           {
            "marker": {
             "pattern": {
              "fillmode": "overlay",
              "size": 10,
              "solidity": 0.2
             }
            },
            "type": "histogram"
           }
          ],
          "histogram2d": [
           {
            "colorbar": {
             "outlinewidth": 0,
             "ticks": ""
            },
            "colorscale": [
             [
              0,
              "#0d0887"
             ],
             [
              0.1111111111111111,
              "#46039f"
             ],
             [
              0.2222222222222222,
              "#7201a8"
             ],
             [
              0.3333333333333333,
              "#9c179e"
             ],
             [
              0.4444444444444444,
              "#bd3786"
             ],
             [
              0.5555555555555556,
              "#d8576b"
             ],
             [
              0.6666666666666666,
              "#ed7953"
             ],
             [
              0.7777777777777778,
              "#fb9f3a"
             ],
             [
              0.8888888888888888,
              "#fdca26"
             ],
             [
              1,
              "#f0f921"
             ]
            ],
            "type": "histogram2d"
           }
          ],
          "histogram2dcontour": [
           {
            "colorbar": {
             "outlinewidth": 0,
             "ticks": ""
            },
            "colorscale": [
             [
              0,
              "#0d0887"
             ],
             [
              0.1111111111111111,
              "#46039f"
             ],
             [
              0.2222222222222222,
              "#7201a8"
             ],
             [
              0.3333333333333333,
              "#9c179e"
             ],
             [
              0.4444444444444444,
              "#bd3786"
             ],
             [
              0.5555555555555556,
              "#d8576b"
             ],
             [
              0.6666666666666666,
              "#ed7953"
             ],
             [
              0.7777777777777778,
              "#fb9f3a"
             ],
             [
              0.8888888888888888,
              "#fdca26"
             ],
             [
              1,
              "#f0f921"
             ]
            ],
            "type": "histogram2dcontour"
           }
          ],
          "mesh3d": [
           {
            "colorbar": {
             "outlinewidth": 0,
             "ticks": ""
            },
            "type": "mesh3d"
           }
          ],
          "parcoords": [
           {
            "line": {
             "colorbar": {
              "outlinewidth": 0,
              "ticks": ""
             }
            },
            "type": "parcoords"
           }
          ],
          "pie": [
           {
            "automargin": true,
            "type": "pie"
           }
          ],
          "scatter": [
           {
            "fillpattern": {
             "fillmode": "overlay",
             "size": 10,
             "solidity": 0.2
            },
            "type": "scatter"
           }
          ],
          "scatter3d": [
           {
            "line": {
             "colorbar": {
              "outlinewidth": 0,
              "ticks": ""
             }
            },
            "marker": {
             "colorbar": {
              "outlinewidth": 0,
              "ticks": ""
             }
            },
            "type": "scatter3d"
           }
          ],
          "scattercarpet": [
           {
            "marker": {
             "colorbar": {
              "outlinewidth": 0,
              "ticks": ""
             }
            },
            "type": "scattercarpet"
           }
          ],
          "scattergeo": [
           {
            "marker": {
             "colorbar": {
              "outlinewidth": 0,
              "ticks": ""
             }
            },
            "type": "scattergeo"
           }
          ],
          "scattergl": [
           {
            "marker": {
             "colorbar": {
              "outlinewidth": 0,
              "ticks": ""
             }
            },
            "type": "scattergl"
           }
          ],
          "scattermapbox": [
           {
            "marker": {
             "colorbar": {
              "outlinewidth": 0,
              "ticks": ""
             }
            },
            "type": "scattermapbox"
           }
          ],
          "scatterpolar": [
           {
            "marker": {
             "colorbar": {
              "outlinewidth": 0,
              "ticks": ""
             }
            },
            "type": "scatterpolar"
           }
          ],
          "scatterpolargl": [
           {
            "marker": {
             "colorbar": {
              "outlinewidth": 0,
              "ticks": ""
             }
            },
            "type": "scatterpolargl"
           }
          ],
          "scatterternary": [
           {
            "marker": {
             "colorbar": {
              "outlinewidth": 0,
              "ticks": ""
             }
            },
            "type": "scatterternary"
           }
          ],
          "surface": [
           {
            "colorbar": {
             "outlinewidth": 0,
             "ticks": ""
            },
            "colorscale": [
             [
              0,
              "#0d0887"
             ],
             [
              0.1111111111111111,
              "#46039f"
             ],
             [
              0.2222222222222222,
              "#7201a8"
             ],
             [
              0.3333333333333333,
              "#9c179e"
             ],
             [
              0.4444444444444444,
              "#bd3786"
             ],
             [
              0.5555555555555556,
              "#d8576b"
             ],
             [
              0.6666666666666666,
              "#ed7953"
             ],
             [
              0.7777777777777778,
              "#fb9f3a"
             ],
             [
              0.8888888888888888,
              "#fdca26"
             ],
             [
              1,
              "#f0f921"
             ]
            ],
            "type": "surface"
           }
          ],
          "table": [
           {
            "cells": {
             "fill": {
              "color": "#EBF0F8"
             },
             "line": {
              "color": "white"
             }
            },
            "header": {
             "fill": {
              "color": "#C8D4E3"
             },
             "line": {
              "color": "white"
             }
            },
            "type": "table"
           }
          ]
         },
         "layout": {
          "annotationdefaults": {
           "arrowcolor": "#2a3f5f",
           "arrowhead": 0,
           "arrowwidth": 1
          },
          "autotypenumbers": "strict",
          "coloraxis": {
           "colorbar": {
            "outlinewidth": 0,
            "ticks": ""
           }
          },
          "colorscale": {
           "diverging": [
            [
             0,
             "#8e0152"
            ],
            [
             0.1,
             "#c51b7d"
            ],
            [
             0.2,
             "#de77ae"
            ],
            [
             0.3,
             "#f1b6da"
            ],
            [
             0.4,
             "#fde0ef"
            ],
            [
             0.5,
             "#f7f7f7"
            ],
            [
             0.6,
             "#e6f5d0"
            ],
            [
             0.7,
             "#b8e186"
            ],
            [
             0.8,
             "#7fbc41"
            ],
            [
             0.9,
             "#4d9221"
            ],
            [
             1,
             "#276419"
            ]
           ],
           "sequential": [
            [
             0,
             "#0d0887"
            ],
            [
             0.1111111111111111,
             "#46039f"
            ],
            [
             0.2222222222222222,
             "#7201a8"
            ],
            [
             0.3333333333333333,
             "#9c179e"
            ],
            [
             0.4444444444444444,
             "#bd3786"
            ],
            [
             0.5555555555555556,
             "#d8576b"
            ],
            [
             0.6666666666666666,
             "#ed7953"
            ],
            [
             0.7777777777777778,
             "#fb9f3a"
            ],
            [
             0.8888888888888888,
             "#fdca26"
            ],
            [
             1,
             "#f0f921"
            ]
           ],
           "sequentialminus": [
            [
             0,
             "#0d0887"
            ],
            [
             0.1111111111111111,
             "#46039f"
            ],
            [
             0.2222222222222222,
             "#7201a8"
            ],
            [
             0.3333333333333333,
             "#9c179e"
            ],
            [
             0.4444444444444444,
             "#bd3786"
            ],
            [
             0.5555555555555556,
             "#d8576b"
            ],
            [
             0.6666666666666666,
             "#ed7953"
            ],
            [
             0.7777777777777778,
             "#fb9f3a"
            ],
            [
             0.8888888888888888,
             "#fdca26"
            ],
            [
             1,
             "#f0f921"
            ]
           ]
          },
          "colorway": [
           "#636efa",
           "#EF553B",
           "#00cc96",
           "#ab63fa",
           "#FFA15A",
           "#19d3f3",
           "#FF6692",
           "#B6E880",
           "#FF97FF",
           "#FECB52"
          ],
          "font": {
           "color": "#2a3f5f"
          },
          "geo": {
           "bgcolor": "white",
           "lakecolor": "white",
           "landcolor": "#E5ECF6",
           "showlakes": true,
           "showland": true,
           "subunitcolor": "white"
          },
          "hoverlabel": {
           "align": "left"
          },
          "hovermode": "closest",
          "mapbox": {
           "style": "light"
          },
          "paper_bgcolor": "white",
          "plot_bgcolor": "#E5ECF6",
          "polar": {
           "angularaxis": {
            "gridcolor": "white",
            "linecolor": "white",
            "ticks": ""
           },
           "bgcolor": "#E5ECF6",
           "radialaxis": {
            "gridcolor": "white",
            "linecolor": "white",
            "ticks": ""
           }
          },
          "scene": {
           "xaxis": {
            "backgroundcolor": "#E5ECF6",
            "gridcolor": "white",
            "gridwidth": 2,
            "linecolor": "white",
            "showbackground": true,
            "ticks": "",
            "zerolinecolor": "white"
           },
           "yaxis": {
            "backgroundcolor": "#E5ECF6",
            "gridcolor": "white",
            "gridwidth": 2,
            "linecolor": "white",
            "showbackground": true,
            "ticks": "",
            "zerolinecolor": "white"
           },
           "zaxis": {
            "backgroundcolor": "#E5ECF6",
            "gridcolor": "white",
            "gridwidth": 2,
            "linecolor": "white",
            "showbackground": true,
            "ticks": "",
            "zerolinecolor": "white"
           }
          },
          "shapedefaults": {
           "line": {
            "color": "#2a3f5f"
           }
          },
          "ternary": {
           "aaxis": {
            "gridcolor": "white",
            "linecolor": "white",
            "ticks": ""
           },
           "baxis": {
            "gridcolor": "white",
            "linecolor": "white",
            "ticks": ""
           },
           "bgcolor": "#E5ECF6",
           "caxis": {
            "gridcolor": "white",
            "linecolor": "white",
            "ticks": ""
           }
          },
          "title": {
           "x": 0.05
          },
          "xaxis": {
           "automargin": true,
           "gridcolor": "white",
           "linecolor": "white",
           "ticks": "",
           "title": {
            "standoff": 15
           },
           "zerolinecolor": "white",
           "zerolinewidth": 2
          },
          "yaxis": {
           "automargin": true,
           "gridcolor": "white",
           "linecolor": "white",
           "ticks": "",
           "title": {
            "standoff": 15
           },
           "zerolinecolor": "white",
           "zerolinewidth": 2
          }
         }
        },
        "title": {
         "text": "la distribution des prix en fonction d origine"
        },
        "xaxis": {
         "anchor": "y",
         "domain": [
          0,
          1
         ],
         "title": {
          "text": "Prices"
         }
        },
        "yaxis": {
         "anchor": "x",
         "domain": [
          0,
          1
         ],
         "title": {
          "text": "count"
         }
        }
       }
      },
      "text/html": [
       "<div>                            <div id=\"e68041ef-c762-49eb-afa8-d946a462ac68\" class=\"plotly-graph-div\" style=\"height:525px; width:100%;\"></div>            <script type=\"text/javascript\">                require([\"plotly\"], function(Plotly) {                    window.PLOTLYENV=window.PLOTLYENV || {};                                    if (document.getElementById(\"e68041ef-c762-49eb-afa8-d946a462ac68\")) {                    Plotly.newPlot(                        \"e68041ef-c762-49eb-afa8-d946a462ac68\",                        [{\"alignmentgroup\":\"True\",\"bingroup\":\"x\",\"hovertemplate\":\"Origine=WW au Maroc<br>Prices=%{x}<br>count=%{y}<extra></extra>\",\"legendgroup\":\"WW au Maroc\",\"marker\":{\"color\":\"#636efa\",\"pattern\":{\"shape\":\"\"}},\"name\":\"WW au Maroc\",\"offsetgroup\":\"WW au Maroc\",\"orientation\":\"v\",\"showlegend\":true,\"x\":[122000.0,75000.0,138000.0,370000.0,190000.0,320000.0,118000.0,235000.0,153000.0,96000.0,115000.0,172000.0,220000.0,93000.0,136000.0,265000.0,162000.0,127000.0,149000.0,360000.0,123000.0,285000.0,219000.0,149000.0,188000.0,430000.0,173000.0,185000.0,75000.0,430000.0,173000.0,124000.0,220000.0,100000.0,285000.0,220000.0,126000.0,275000.0,117000.0,398000.0,168000.0,220000.0,209000.0,123000.0,307000.0,225000.0,175000.0,380000.0,235000.0,257000.0,163000.0,395000.0,228000.0,113000.0,198500.0,390000.0,145000.0,158000.0,358000.0,144000.0,260000.0,238000.0,235000.0,280000.0,210000.0,235000.0,256000.0,117000.0,135000.0,120000.0,360000.0,285000.0,113000.0,60000.0,78000.0,70000.0,155000.0,235000.0,112000.0,390000.0,179000.0,70000.0,285000.0,320000.0,470000.0,294000.0,145000.0,220000.0,140000.0,390000.0,268000.0,235000.0,136000.0,105000.0,125000.0,220000.0,299000.0,107000.0,120000.0,40000.0,78000.0,98000.0,800000.0,162000.0,150000.0,300000.0,170000.0,135000.0,420000.0,187000.0,120000.0,495000.0,285000.0,139000.0,255000.0,265000.0,82000.0,89000.0,148000.0,450000.0,150000.0,118000.0,62000.0,62000.0,120000.0,220000.0,41000.0,135000.0,110000.0,62000.0,290000.0,705000.0,210000.0,155000.0,395000.0,135000.0,128000.0,145000.0,310000.0,225000.0,62000.0,30000.0,305000.0,31000.0,23000.0,200000.0,280000.0,150000.0,162000.0,200000.0,145000.0,119000.0,270000.0,172000.0,135000.0,98000.0,155000.0,240000.0,770000.0,150000.0,310000.0,340000.0,157000.0,139000.0,190000.0,143000.0,750000.0,295000.0,175000.0,148000.0,450000.0,139000.0,180000.0,190000.0,145000.0,350000.0,900000.0,170000.0,639000.0,285000.0,110000.0,168000.0,450000.0,63000.0,579000.0,545000.0,105000.0,96000.0,440000.0,140000.0,340000.0,185000.0,550000.0,175000.0,69000.0,270000.0,228000.0,117000.0,265000.0,122000.0,39000.0,58000.0,242000.0,164999.0,117000.0,265000.0,122000.0,39000.0,58000.0,106000.0,164999.0,150000.0,340000.0,143000.0,197000.0],\"xaxis\":\"x\",\"yaxis\":\"y\",\"type\":\"histogram\"},{\"alignmentgroup\":\"True\",\"bingroup\":\"x\",\"hovertemplate\":\"Origine=Import\\u00e9e neuve<br>Prices=%{x}<br>count=%{y}<extra></extra>\",\"legendgroup\":\"Import\\u00e9e neuve\",\"marker\":{\"color\":\"#EF553B\",\"pattern\":{\"shape\":\"\"}},\"name\":\"Import\\u00e9e neuve\",\"offsetgroup\":\"Import\\u00e9e neuve\",\"orientation\":\"v\",\"showlegend\":true,\"x\":[690000.0,375000.0,650000.0,670000.0,165000.0,780000.0,124000.0,490000.0,188000.0,185000.0,185000.0,385000.0,790000.0,229000.0,118000.0,158000.0,229000.0,222000.0,135000.0,170000.0,147000.0,242000.0,240000.0,170000.0,115000.0,189000.0,118000.0,180000.0,128000.0,450000.0,175000.0,150000.0,950000.0,323000.0,112000.0,139000.0,149000.0,185000.0,228000.0,185000.0,570000.0,249000.0],\"xaxis\":\"x\",\"yaxis\":\"y\",\"type\":\"histogram\"},{\"alignmentgroup\":\"True\",\"bingroup\":\"x\",\"hovertemplate\":\"Origine=D\\u00e9douan\\u00e9e<br>Prices=%{x}<br>count=%{y}<extra></extra>\",\"legendgroup\":\"D\\u00e9douan\\u00e9e\",\"marker\":{\"color\":\"#00cc96\",\"pattern\":{\"shape\":\"\"}},\"name\":\"D\\u00e9douan\\u00e9e\",\"offsetgroup\":\"D\\u00e9douan\\u00e9e\",\"orientation\":\"v\",\"showlegend\":true,\"x\":[159000.0,360000.0,490000.0,185000.0,320000.0,240000.0,250000.0,465000.0,79000.0,147000.0,132000.0,285000.0,120000.0,190000.0,325000.0,150000.0,125000.0,250000.0,115000.0,185000.0,385000.0,118000.0,310000.0,510000.0,109000.0,380000.0,95000.0,275000.0,132000.0,760000.0,850000.0,390000.0,180000.0,97000.0,168000.0,147000.0,75000.0,128000.0,52000.0,273000.0,660000.0,720000.0,212000.0,212000.0],\"xaxis\":\"x\",\"yaxis\":\"y\",\"type\":\"histogram\"}],                        {\"template\":{\"data\":{\"histogram2dcontour\":[{\"type\":\"histogram2dcontour\",\"colorbar\":{\"outlinewidth\":0,\"ticks\":\"\"},\"colorscale\":[[0.0,\"#0d0887\"],[0.1111111111111111,\"#46039f\"],[0.2222222222222222,\"#7201a8\"],[0.3333333333333333,\"#9c179e\"],[0.4444444444444444,\"#bd3786\"],[0.5555555555555556,\"#d8576b\"],[0.6666666666666666,\"#ed7953\"],[0.7777777777777778,\"#fb9f3a\"],[0.8888888888888888,\"#fdca26\"],[1.0,\"#f0f921\"]]}],\"choropleth\":[{\"type\":\"choropleth\",\"colorbar\":{\"outlinewidth\":0,\"ticks\":\"\"}}],\"histogram2d\":[{\"type\":\"histogram2d\",\"colorbar\":{\"outlinewidth\":0,\"ticks\":\"\"},\"colorscale\":[[0.0,\"#0d0887\"],[0.1111111111111111,\"#46039f\"],[0.2222222222222222,\"#7201a8\"],[0.3333333333333333,\"#9c179e\"],[0.4444444444444444,\"#bd3786\"],[0.5555555555555556,\"#d8576b\"],[0.6666666666666666,\"#ed7953\"],[0.7777777777777778,\"#fb9f3a\"],[0.8888888888888888,\"#fdca26\"],[1.0,\"#f0f921\"]]}],\"heatmap\":[{\"type\":\"heatmap\",\"colorbar\":{\"outlinewidth\":0,\"ticks\":\"\"},\"colorscale\":[[0.0,\"#0d0887\"],[0.1111111111111111,\"#46039f\"],[0.2222222222222222,\"#7201a8\"],[0.3333333333333333,\"#9c179e\"],[0.4444444444444444,\"#bd3786\"],[0.5555555555555556,\"#d8576b\"],[0.6666666666666666,\"#ed7953\"],[0.7777777777777778,\"#fb9f3a\"],[0.8888888888888888,\"#fdca26\"],[1.0,\"#f0f921\"]]}],\"heatmapgl\":[{\"type\":\"heatmapgl\",\"colorbar\":{\"outlinewidth\":0,\"ticks\":\"\"},\"colorscale\":[[0.0,\"#0d0887\"],[0.1111111111111111,\"#46039f\"],[0.2222222222222222,\"#7201a8\"],[0.3333333333333333,\"#9c179e\"],[0.4444444444444444,\"#bd3786\"],[0.5555555555555556,\"#d8576b\"],[0.6666666666666666,\"#ed7953\"],[0.7777777777777778,\"#fb9f3a\"],[0.8888888888888888,\"#fdca26\"],[1.0,\"#f0f921\"]]}],\"contourcarpet\":[{\"type\":\"contourcarpet\",\"colorbar\":{\"outlinewidth\":0,\"ticks\":\"\"}}],\"contour\":[{\"type\":\"contour\",\"colorbar\":{\"outlinewidth\":0,\"ticks\":\"\"},\"colorscale\":[[0.0,\"#0d0887\"],[0.1111111111111111,\"#46039f\"],[0.2222222222222222,\"#7201a8\"],[0.3333333333333333,\"#9c179e\"],[0.4444444444444444,\"#bd3786\"],[0.5555555555555556,\"#d8576b\"],[0.6666666666666666,\"#ed7953\"],[0.7777777777777778,\"#fb9f3a\"],[0.8888888888888888,\"#fdca26\"],[1.0,\"#f0f921\"]]}],\"surface\":[{\"type\":\"surface\",\"colorbar\":{\"outlinewidth\":0,\"ticks\":\"\"},\"colorscale\":[[0.0,\"#0d0887\"],[0.1111111111111111,\"#46039f\"],[0.2222222222222222,\"#7201a8\"],[0.3333333333333333,\"#9c179e\"],[0.4444444444444444,\"#bd3786\"],[0.5555555555555556,\"#d8576b\"],[0.6666666666666666,\"#ed7953\"],[0.7777777777777778,\"#fb9f3a\"],[0.8888888888888888,\"#fdca26\"],[1.0,\"#f0f921\"]]}],\"mesh3d\":[{\"type\":\"mesh3d\",\"colorbar\":{\"outlinewidth\":0,\"ticks\":\"\"}}],\"scatter\":[{\"fillpattern\":{\"fillmode\":\"overlay\",\"size\":10,\"solidity\":0.2},\"type\":\"scatter\"}],\"parcoords\":[{\"type\":\"parcoords\",\"line\":{\"colorbar\":{\"outlinewidth\":0,\"ticks\":\"\"}}}],\"scatterpolargl\":[{\"type\":\"scatterpolargl\",\"marker\":{\"colorbar\":{\"outlinewidth\":0,\"ticks\":\"\"}}}],\"bar\":[{\"error_x\":{\"color\":\"#2a3f5f\"},\"error_y\":{\"color\":\"#2a3f5f\"},\"marker\":{\"line\":{\"color\":\"#E5ECF6\",\"width\":0.5},\"pattern\":{\"fillmode\":\"overlay\",\"size\":10,\"solidity\":0.2}},\"type\":\"bar\"}],\"scattergeo\":[{\"type\":\"scattergeo\",\"marker\":{\"colorbar\":{\"outlinewidth\":0,\"ticks\":\"\"}}}],\"scatterpolar\":[{\"type\":\"scatterpolar\",\"marker\":{\"colorbar\":{\"outlinewidth\":0,\"ticks\":\"\"}}}],\"histogram\":[{\"marker\":{\"pattern\":{\"fillmode\":\"overlay\",\"size\":10,\"solidity\":0.2}},\"type\":\"histogram\"}],\"scattergl\":[{\"type\":\"scattergl\",\"marker\":{\"colorbar\":{\"outlinewidth\":0,\"ticks\":\"\"}}}],\"scatter3d\":[{\"type\":\"scatter3d\",\"line\":{\"colorbar\":{\"outlinewidth\":0,\"ticks\":\"\"}},\"marker\":{\"colorbar\":{\"outlinewidth\":0,\"ticks\":\"\"}}}],\"scattermapbox\":[{\"type\":\"scattermapbox\",\"marker\":{\"colorbar\":{\"outlinewidth\":0,\"ticks\":\"\"}}}],\"scatterternary\":[{\"type\":\"scatterternary\",\"marker\":{\"colorbar\":{\"outlinewidth\":0,\"ticks\":\"\"}}}],\"scattercarpet\":[{\"type\":\"scattercarpet\",\"marker\":{\"colorbar\":{\"outlinewidth\":0,\"ticks\":\"\"}}}],\"carpet\":[{\"aaxis\":{\"endlinecolor\":\"#2a3f5f\",\"gridcolor\":\"white\",\"linecolor\":\"white\",\"minorgridcolor\":\"white\",\"startlinecolor\":\"#2a3f5f\"},\"baxis\":{\"endlinecolor\":\"#2a3f5f\",\"gridcolor\":\"white\",\"linecolor\":\"white\",\"minorgridcolor\":\"white\",\"startlinecolor\":\"#2a3f5f\"},\"type\":\"carpet\"}],\"table\":[{\"cells\":{\"fill\":{\"color\":\"#EBF0F8\"},\"line\":{\"color\":\"white\"}},\"header\":{\"fill\":{\"color\":\"#C8D4E3\"},\"line\":{\"color\":\"white\"}},\"type\":\"table\"}],\"barpolar\":[{\"marker\":{\"line\":{\"color\":\"#E5ECF6\",\"width\":0.5},\"pattern\":{\"fillmode\":\"overlay\",\"size\":10,\"solidity\":0.2}},\"type\":\"barpolar\"}],\"pie\":[{\"automargin\":true,\"type\":\"pie\"}]},\"layout\":{\"autotypenumbers\":\"strict\",\"colorway\":[\"#636efa\",\"#EF553B\",\"#00cc96\",\"#ab63fa\",\"#FFA15A\",\"#19d3f3\",\"#FF6692\",\"#B6E880\",\"#FF97FF\",\"#FECB52\"],\"font\":{\"color\":\"#2a3f5f\"},\"hovermode\":\"closest\",\"hoverlabel\":{\"align\":\"left\"},\"paper_bgcolor\":\"white\",\"plot_bgcolor\":\"#E5ECF6\",\"polar\":{\"bgcolor\":\"#E5ECF6\",\"angularaxis\":{\"gridcolor\":\"white\",\"linecolor\":\"white\",\"ticks\":\"\"},\"radialaxis\":{\"gridcolor\":\"white\",\"linecolor\":\"white\",\"ticks\":\"\"}},\"ternary\":{\"bgcolor\":\"#E5ECF6\",\"aaxis\":{\"gridcolor\":\"white\",\"linecolor\":\"white\",\"ticks\":\"\"},\"baxis\":{\"gridcolor\":\"white\",\"linecolor\":\"white\",\"ticks\":\"\"},\"caxis\":{\"gridcolor\":\"white\",\"linecolor\":\"white\",\"ticks\":\"\"}},\"coloraxis\":{\"colorbar\":{\"outlinewidth\":0,\"ticks\":\"\"}},\"colorscale\":{\"sequential\":[[0.0,\"#0d0887\"],[0.1111111111111111,\"#46039f\"],[0.2222222222222222,\"#7201a8\"],[0.3333333333333333,\"#9c179e\"],[0.4444444444444444,\"#bd3786\"],[0.5555555555555556,\"#d8576b\"],[0.6666666666666666,\"#ed7953\"],[0.7777777777777778,\"#fb9f3a\"],[0.8888888888888888,\"#fdca26\"],[1.0,\"#f0f921\"]],\"sequentialminus\":[[0.0,\"#0d0887\"],[0.1111111111111111,\"#46039f\"],[0.2222222222222222,\"#7201a8\"],[0.3333333333333333,\"#9c179e\"],[0.4444444444444444,\"#bd3786\"],[0.5555555555555556,\"#d8576b\"],[0.6666666666666666,\"#ed7953\"],[0.7777777777777778,\"#fb9f3a\"],[0.8888888888888888,\"#fdca26\"],[1.0,\"#f0f921\"]],\"diverging\":[[0,\"#8e0152\"],[0.1,\"#c51b7d\"],[0.2,\"#de77ae\"],[0.3,\"#f1b6da\"],[0.4,\"#fde0ef\"],[0.5,\"#f7f7f7\"],[0.6,\"#e6f5d0\"],[0.7,\"#b8e186\"],[0.8,\"#7fbc41\"],[0.9,\"#4d9221\"],[1,\"#276419\"]]},\"xaxis\":{\"gridcolor\":\"white\",\"linecolor\":\"white\",\"ticks\":\"\",\"title\":{\"standoff\":15},\"zerolinecolor\":\"white\",\"automargin\":true,\"zerolinewidth\":2},\"yaxis\":{\"gridcolor\":\"white\",\"linecolor\":\"white\",\"ticks\":\"\",\"title\":{\"standoff\":15},\"zerolinecolor\":\"white\",\"automargin\":true,\"zerolinewidth\":2},\"scene\":{\"xaxis\":{\"backgroundcolor\":\"#E5ECF6\",\"gridcolor\":\"white\",\"linecolor\":\"white\",\"showbackground\":true,\"ticks\":\"\",\"zerolinecolor\":\"white\",\"gridwidth\":2},\"yaxis\":{\"backgroundcolor\":\"#E5ECF6\",\"gridcolor\":\"white\",\"linecolor\":\"white\",\"showbackground\":true,\"ticks\":\"\",\"zerolinecolor\":\"white\",\"gridwidth\":2},\"zaxis\":{\"backgroundcolor\":\"#E5ECF6\",\"gridcolor\":\"white\",\"linecolor\":\"white\",\"showbackground\":true,\"ticks\":\"\",\"zerolinecolor\":\"white\",\"gridwidth\":2}},\"shapedefaults\":{\"line\":{\"color\":\"#2a3f5f\"}},\"annotationdefaults\":{\"arrowcolor\":\"#2a3f5f\",\"arrowhead\":0,\"arrowwidth\":1},\"geo\":{\"bgcolor\":\"white\",\"landcolor\":\"#E5ECF6\",\"subunitcolor\":\"white\",\"showland\":true,\"showlakes\":true,\"lakecolor\":\"white\"},\"title\":{\"x\":0.05},\"mapbox\":{\"style\":\"light\"}}},\"xaxis\":{\"anchor\":\"y\",\"domain\":[0.0,1.0],\"title\":{\"text\":\"Prices\"}},\"yaxis\":{\"anchor\":\"x\",\"domain\":[0.0,1.0],\"title\":{\"text\":\"count\"}},\"legend\":{\"title\":{\"text\":\"Origine\"},\"tracegroupgap\":0},\"title\":{\"text\":\"la distribution des prix en fonction d origine\"},\"barmode\":\"group\"},                        {\"responsive\": true}                    ).then(function(){\n",
       "                            \n",
       "var gd = document.getElementById('e68041ef-c762-49eb-afa8-d946a462ac68');\n",
       "var x = new MutationObserver(function (mutations, observer) {{\n",
       "        var display = window.getComputedStyle(gd).display;\n",
       "        if (!display || display === 'none') {{\n",
       "            console.log([gd, 'removed!']);\n",
       "            Plotly.purge(gd);\n",
       "            observer.disconnect();\n",
       "        }}\n",
       "}});\n",
       "\n",
       "// Listen for the removal of the full notebook cells\n",
       "var notebookContainer = gd.closest('#notebook-container');\n",
       "if (notebookContainer) {{\n",
       "    x.observe(notebookContainer, {childList: true});\n",
       "}}\n",
       "\n",
       "// Listen for the clearing of the current output cell\n",
       "var outputEl = gd.closest('.output');\n",
       "if (outputEl) {{\n",
       "    x.observe(outputEl, {childList: true});\n",
       "}}\n",
       "\n",
       "                        })                };                });            </script>        </div>"
      ]
     },
     "metadata": {},
     "output_type": "display_data"
    }
   ],
   "source": [
    "\n",
    "fig=px.histogram(data, \n",
    "                 x=\"Prices\",\n",
    "                 color=\"Origine\",\n",
    "                 hover_data=data.columns,\n",
    "                 title=\"la distribution des prix en fonction d origine\",\n",
    "                 barmode=\"group\")\n",
    "fig.show()"
   ]
  },
  {
   "cell_type": "code",
   "execution_count": 348,
   "id": "48408736",
   "metadata": {},
   "outputs": [
    {
     "data": {
      "application/vnd.plotly.v1+json": {
       "config": {
        "plotlyServerURL": "https://plot.ly"
       },
       "data": [
        {
         "alignmentgroup": "True",
         "bingroup": "x",
         "hovertemplate": "Annee_Modele=2024<br>Prices=%{x}<br>count=%{y}<extra></extra>",
         "legendgroup": "2024",
         "marker": {
          "color": "#636efa",
          "pattern": {
           "shape": ""
          }
         },
         "name": "2024",
         "offsetgroup": "2024",
         "orientation": "v",
         "showlegend": true,
         "type": "histogram",
         "x": [
          122000,
          138000,
          690000,
          219000,
          398000,
          158000,
          395000,
          229000,
          450000,
          200000,
          190000,
          128000,
          450000,
          450000,
          228000,
          106000
         ],
         "xaxis": "x",
         "yaxis": "y"
        },
        {
         "alignmentgroup": "True",
         "bingroup": "x",
         "hovertemplate": "Annee_Modele=1980<br>Prices=%{x}<br>count=%{y}<extra></extra>",
         "legendgroup": "1980",
         "marker": {
          "color": "#EF553B",
          "pattern": {
           "shape": ""
          }
         },
         "name": "1980",
         "offsetgroup": "1980",
         "orientation": "v",
         "showlegend": true,
         "type": "histogram",
         "x": [
          75000
         ],
         "xaxis": "x",
         "yaxis": "y"
        },
        {
         "alignmentgroup": "True",
         "bingroup": "x",
         "hovertemplate": "Annee_Modele=2018<br>Prices=%{x}<br>count=%{y}<extra></extra>",
         "legendgroup": "2018",
         "marker": {
          "color": "#00cc96",
          "pattern": {
           "shape": ""
          }
         },
         "name": "2018",
         "offsetgroup": "2018",
         "orientation": "v",
         "showlegend": true,
         "type": "histogram",
         "x": [
          370000,
          650000,
          175000,
          222000,
          238000,
          170000,
          62000,
          75000,
          143000,
          750000,
          185000
         ],
         "xaxis": "x",
         "yaxis": "y"
        },
        {
         "alignmentgroup": "True",
         "bingroup": "x",
         "hovertemplate": "Annee_Modele=2019<br>Prices=%{x}<br>count=%{y}<extra></extra>",
         "legendgroup": "2019",
         "marker": {
          "color": "#ab63fa",
          "pattern": {
           "shape": ""
          }
         },
         "name": "2019",
         "offsetgroup": "2019",
         "orientation": "v",
         "showlegend": true,
         "type": "histogram",
         "x": [
          190000,
          320000,
          153000,
          96000,
          430000,
          75000,
          117000,
          220000,
          209000,
          380000,
          465000,
          228000,
          158000,
          144000,
          235000,
          256000,
          190000,
          155000,
          112000,
          145000,
          390000,
          299000,
          150000,
          265000,
          118000,
          120000,
          145000,
          23000,
          135000,
          770000,
          118000,
          340000,
          148000,
          190000,
          170000,
          950000,
          323000,
          660000,
          270000,
          164999,
          39000,
          143000
         ],
         "xaxis": "x",
         "yaxis": "y"
        },
        {
         "alignmentgroup": "True",
         "bingroup": "x",
         "hovertemplate": "Annee_Modele=2014<br>Prices=%{x}<br>count=%{y}<extra></extra>",
         "legendgroup": "2014",
         "marker": {
          "color": "#FFA15A",
          "pattern": {
           "shape": ""
          }
         },
         "name": "2014",
         "offsetgroup": "2014",
         "orientation": "v",
         "showlegend": true,
         "type": "histogram",
         "x": [
          159000,
          490000,
          124000,
          185000,
          320000,
          235000,
          220000,
          78000,
          495000,
          118000,
          145000,
          147000,
          58000
         ],
         "xaxis": "x",
         "yaxis": "y"
        },
        {
         "alignmentgroup": "True",
         "bingroup": "x",
         "hovertemplate": "Annee_Modele=2017<br>Prices=%{x}<br>count=%{y}<extra></extra>",
         "legendgroup": "2017",
         "marker": {
          "color": "#19d3f3",
          "pattern": {
           "shape": ""
          }
         },
         "name": "2017",
         "offsetgroup": "2017",
         "orientation": "v",
         "showlegend": true,
         "type": "histogram",
         "x": [
          375000,
          172000,
          360000,
          93000,
          360000,
          188000,
          220000,
          225000,
          235000,
          163000,
          358000,
          135000,
          113000,
          235000,
          320000,
          250000,
          255000,
          135000,
          132000,
          30000,
          200000,
          157000,
          140000,
          175000,
          242000,
          265000,
          164999,
          197000
         ],
         "xaxis": "x",
         "yaxis": "y"
        },
        {
         "alignmentgroup": "True",
         "bingroup": "x",
         "hovertemplate": "Annee_Modele=2021<br>Prices=%{x}<br>count=%{y}<extra></extra>",
         "legendgroup": "2021",
         "marker": {
          "color": "#FF6692",
          "pattern": {
           "shape": ""
          }
         },
         "name": "2021",
         "offsetgroup": "2021",
         "orientation": "v",
         "showlegend": true,
         "type": "histogram",
         "x": [
          118000,
          136000,
          162000,
          490000,
          168000,
          240000,
          250000,
          147000,
          132000,
          120000,
          285000,
          285000,
          470000,
          140000,
          185000,
          187000,
          220000,
          41000,
          95000,
          305000,
          31000,
          170000,
          97000,
          189000,
          150000,
          295000,
          139000,
          350000,
          639000,
          112000,
          550000,
          139000,
          69000,
          122000,
          117000,
          122000,
          212000,
          340000,
          570000
         ],
         "xaxis": "x",
         "yaxis": "y"
        },
        {
         "alignmentgroup": "True",
         "bingroup": "x",
         "hovertemplate": "Annee_Modele=2020<br>Prices=%{x}<br>count=%{y}<extra></extra>",
         "legendgroup": "2020",
         "marker": {
          "color": "#B6E880",
          "pattern": {
           "shape": ""
          }
         },
         "name": "2020",
         "offsetgroup": "2020",
         "orientation": "v",
         "showlegend": true,
         "type": "histogram",
         "x": [
          235000,
          265000,
          165000,
          790000,
          185000,
          100000,
          123000,
          307000,
          198500,
          150000,
          390000,
          220000,
          420000,
          385000,
          242000,
          148000,
          210000,
          395000,
          850000,
          172000,
          98000,
          139000,
          285000,
          63000,
          96000,
          440000,
          720000,
          117000,
          228000
         ],
         "xaxis": "x",
         "yaxis": "y"
        },
        {
         "alignmentgroup": "True",
         "bingroup": "x",
         "hovertemplate": "Annee_Modele=2022<br>Prices=%{x}<br>count=%{y}<extra></extra>",
         "legendgroup": "2022",
         "marker": {
          "color": "#FF97FF",
          "pattern": {
           "shape": ""
          }
         },
         "name": "2022",
         "offsetgroup": "2022",
         "orientation": "v",
         "showlegend": true,
         "type": "histogram",
         "x": [
          670000,
          229000,
          79000,
          260000,
          179000,
          800000,
          162000,
          120000,
          310000,
          62000,
          155000,
          128000,
          270000,
          155000,
          175000,
          180000,
          145000,
          900000,
          168000,
          340000
         ],
         "xaxis": "x",
         "yaxis": "y"
        },
        {
         "alignmentgroup": "True",
         "bingroup": "x",
         "hovertemplate": "Annee_Modele=2013<br>Prices=%{x}<br>count=%{y}<extra></extra>",
         "legendgroup": "2013",
         "marker": {
          "color": "#FECB52",
          "pattern": {
           "shape": ""
          }
         },
         "name": "2013",
         "offsetgroup": "2013",
         "orientation": "v",
         "showlegend": true,
         "type": "histogram",
         "x": [
          115000,
          149000,
          123000,
          115000,
          82000,
          275000,
          760000,
          579000
         ],
         "xaxis": "x",
         "yaxis": "y"
        },
        {
         "alignmentgroup": "True",
         "bingroup": "x",
         "hovertemplate": "Annee_Modele=2015<br>Prices=%{x}<br>count=%{y}<extra></extra>",
         "legendgroup": "2015",
         "marker": {
          "color": "#636efa",
          "pattern": {
           "shape": ""
          }
         },
         "name": "2015",
         "offsetgroup": "2015",
         "orientation": "v",
         "showlegend": true,
         "type": "histogram",
         "x": [
          220000,
          127000,
          285000,
          149000,
          173000,
          185000,
          430000,
          173000,
          135000,
          120000,
          120000,
          280000,
          180000,
          273000
         ],
         "xaxis": "x",
         "yaxis": "y"
        },
        {
         "alignmentgroup": "True",
         "bingroup": "x",
         "hovertemplate": "Annee_Modele=2023<br>Prices=%{x}<br>count=%{y}<extra></extra>",
         "legendgroup": "2023",
         "marker": {
          "color": "#EF553B",
          "pattern": {
           "shape": ""
          }
         },
         "name": "2023",
         "offsetgroup": "2023",
         "orientation": "v",
         "showlegend": true,
         "type": "histogram",
         "x": [
          780000,
          285000,
          220000,
          257000,
          390000,
          145000,
          280000,
          294000,
          300000,
          135000,
          285000,
          510000,
          290000,
          135000,
          240000,
          185000,
          39000,
          58000
         ],
         "xaxis": "x",
         "yaxis": "y"
        },
        {
         "alignmentgroup": "True",
         "bingroup": "x",
         "hovertemplate": "Annee_Modele=2025<br>Prices=%{x}<br>count=%{y}<extra></extra>",
         "legendgroup": "2025",
         "marker": {
          "color": "#00cc96",
          "pattern": {
           "shape": ""
          }
         },
         "name": "2025",
         "offsetgroup": "2025",
         "orientation": "v",
         "showlegend": true,
         "type": "histogram",
         "x": [
          124000,
          188000,
          185000,
          385000,
          118000,
          147000,
          240000,
          150000,
          115000,
          175000,
          105000,
          185000,
          249000
         ],
         "xaxis": "x",
         "yaxis": "y"
        },
        {
         "alignmentgroup": "True",
         "bingroup": "x",
         "hovertemplate": "Annee_Modele=2016<br>Prices=%{x}<br>count=%{y}<extra></extra>",
         "legendgroup": "2016",
         "marker": {
          "color": "#ab63fa",
          "pattern": {
           "shape": ""
          }
         },
         "name": "2016",
         "offsetgroup": "2016",
         "orientation": "v",
         "showlegend": true,
         "type": "histogram",
         "x": [
          126000,
          275000,
          113000,
          285000,
          360000,
          268000,
          139000,
          150000,
          109000,
          310000,
          180000,
          162000,
          168000,
          450000,
          128000,
          52000,
          545000
         ],
         "xaxis": "x",
         "yaxis": "y"
        },
        {
         "alignmentgroup": "True",
         "bingroup": "x",
         "hovertemplate": "Annee_Modele=2010<br>Prices=%{x}<br>count=%{y}<extra></extra>",
         "legendgroup": "2010",
         "marker": {
          "color": "#FFA15A",
          "pattern": {
           "shape": ""
          }
         },
         "name": "2010",
         "offsetgroup": "2010",
         "orientation": "v",
         "showlegend": true,
         "type": "histogram",
         "x": [
          235000,
          325000,
          136000,
          125000,
          107000,
          149000
         ],
         "xaxis": "x",
         "yaxis": "y"
        },
        {
         "alignmentgroup": "True",
         "bingroup": "x",
         "hovertemplate": "Annee_Modele=2012<br>Prices=%{x}<br>count=%{y}<extra></extra>",
         "legendgroup": "2012",
         "marker": {
          "color": "#19d3f3",
          "pattern": {
           "shape": ""
          }
         },
         "name": "2012",
         "offsetgroup": "2012",
         "orientation": "v",
         "showlegend": true,
         "type": "histogram",
         "x": [
          210000,
          117000,
          89000,
          110000,
          119000,
          110000
         ],
         "xaxis": "x",
         "yaxis": "y"
        },
        {
         "alignmentgroup": "True",
         "bingroup": "x",
         "hovertemplate": "Annee_Modele=2009<br>Prices=%{x}<br>count=%{y}<extra></extra>",
         "legendgroup": "2009",
         "marker": {
          "color": "#FF6692",
          "pattern": {
           "shape": ""
          }
         },
         "name": "2009",
         "offsetgroup": "2009",
         "orientation": "v",
         "showlegend": true,
         "type": "histogram",
         "x": [
          125000,
          150000
         ],
         "xaxis": "x",
         "yaxis": "y"
        },
        {
         "alignmentgroup": "True",
         "bingroup": "x",
         "hovertemplate": "Annee_Modele=2008<br>Prices=%{x}<br>count=%{y}<extra></extra>",
         "legendgroup": "2008",
         "marker": {
          "color": "#B6E880",
          "pattern": {
           "shape": ""
          }
         },
         "name": "2008",
         "offsetgroup": "2008",
         "orientation": "v",
         "showlegend": true,
         "type": "histogram",
         "x": [
          60000,
          70000,
          105000,
          62000,
          705000
         ],
         "xaxis": "x",
         "yaxis": "y"
        },
        {
         "alignmentgroup": "True",
         "bingroup": "x",
         "hovertemplate": "Annee_Modele=2011<br>Prices=%{x}<br>count=%{y}<extra></extra>",
         "legendgroup": "2011",
         "marker": {
          "color": "#FF97FF",
          "pattern": {
           "shape": ""
          }
         },
         "name": "2011",
         "offsetgroup": "2011",
         "orientation": "v",
         "showlegend": true,
         "type": "histogram",
         "x": [
          78000,
          70000,
          170000,
          225000,
          150000
         ],
         "xaxis": "x",
         "yaxis": "y"
        },
        {
         "alignmentgroup": "True",
         "bingroup": "x",
         "hovertemplate": "Annee_Modele=2000<br>Prices=%{x}<br>count=%{y}<extra></extra>",
         "legendgroup": "2000",
         "marker": {
          "color": "#FECB52",
          "pattern": {
           "shape": ""
          }
         },
         "name": "2000",
         "offsetgroup": "2000",
         "orientation": "v",
         "showlegend": true,
         "type": "histogram",
         "x": [
          40000
         ],
         "xaxis": "x",
         "yaxis": "y"
        },
        {
         "alignmentgroup": "True",
         "bingroup": "x",
         "hovertemplate": "Annee_Modele=2007<br>Prices=%{x}<br>count=%{y}<extra></extra>",
         "legendgroup": "2007",
         "marker": {
          "color": "#636efa",
          "pattern": {
           "shape": ""
          }
         },
         "name": "2007",
         "offsetgroup": "2007",
         "orientation": "v",
         "showlegend": true,
         "type": "histogram",
         "x": [
          98000,
          62000,
          265000
         ],
         "xaxis": "x",
         "yaxis": "y"
        },
        {
         "alignmentgroup": "True",
         "bingroup": "x",
         "hovertemplate": "Annee_Modele=2003<br>Prices=%{x}<br>count=%{y}<extra></extra>",
         "legendgroup": "2003",
         "marker": {
          "color": "#EF553B",
          "pattern": {
           "shape": ""
          }
         },
         "name": "2003",
         "offsetgroup": "2003",
         "orientation": "v",
         "showlegend": true,
         "type": "histogram",
         "x": [
          380000
         ],
         "xaxis": "x",
         "yaxis": "y"
        },
        {
         "alignmentgroup": "True",
         "bingroup": "x",
         "hovertemplate": "Annee_Modele=1991<br>Prices=%{x}<br>count=%{y}<extra></extra>",
         "legendgroup": "1991",
         "marker": {
          "color": "#00cc96",
          "pattern": {
           "shape": ""
          }
         },
         "name": "1991",
         "offsetgroup": "1991",
         "orientation": "v",
         "showlegend": true,
         "type": "histogram",
         "x": [
          390000,
          212000
         ],
         "xaxis": "x",
         "yaxis": "y"
        },
        {
         "alignmentgroup": "True",
         "bingroup": "x",
         "hovertemplate": "Annee_Modele=2006<br>Prices=%{x}<br>count=%{y}<extra></extra>",
         "legendgroup": "2006",
         "marker": {
          "color": "#ab63fa",
          "pattern": {
           "shape": ""
          }
         },
         "name": "2006",
         "offsetgroup": "2006",
         "orientation": "v",
         "showlegend": true,
         "type": "histogram",
         "x": [
          310000
         ],
         "xaxis": "x",
         "yaxis": "y"
        }
       ],
       "layout": {
        "barmode": "group",
        "legend": {
         "title": {
          "text": "Annee_Modele"
         },
         "tracegroupgap": 0
        },
        "template": {
         "data": {
          "bar": [
           {
            "error_x": {
             "color": "#2a3f5f"
            },
            "error_y": {
             "color": "#2a3f5f"
            },
            "marker": {
             "line": {
              "color": "#E5ECF6",
              "width": 0.5
             },
             "pattern": {
              "fillmode": "overlay",
              "size": 10,
              "solidity": 0.2
             }
            },
            "type": "bar"
           }
          ],
          "barpolar": [
           {
            "marker": {
             "line": {
              "color": "#E5ECF6",
              "width": 0.5
             },
             "pattern": {
              "fillmode": "overlay",
              "size": 10,
              "solidity": 0.2
             }
            },
            "type": "barpolar"
           }
          ],
          "carpet": [
           {
            "aaxis": {
             "endlinecolor": "#2a3f5f",
             "gridcolor": "white",
             "linecolor": "white",
             "minorgridcolor": "white",
             "startlinecolor": "#2a3f5f"
            },
            "baxis": {
             "endlinecolor": "#2a3f5f",
             "gridcolor": "white",
             "linecolor": "white",
             "minorgridcolor": "white",
             "startlinecolor": "#2a3f5f"
            },
            "type": "carpet"
           }
          ],
          "choropleth": [
           {
            "colorbar": {
             "outlinewidth": 0,
             "ticks": ""
            },
            "type": "choropleth"
           }
          ],
          "contour": [
           {
            "colorbar": {
             "outlinewidth": 0,
             "ticks": ""
            },
            "colorscale": [
             [
              0,
              "#0d0887"
             ],
             [
              0.1111111111111111,
              "#46039f"
             ],
             [
              0.2222222222222222,
              "#7201a8"
             ],
             [
              0.3333333333333333,
              "#9c179e"
             ],
             [
              0.4444444444444444,
              "#bd3786"
             ],
             [
              0.5555555555555556,
              "#d8576b"
             ],
             [
              0.6666666666666666,
              "#ed7953"
             ],
             [
              0.7777777777777778,
              "#fb9f3a"
             ],
             [
              0.8888888888888888,
              "#fdca26"
             ],
             [
              1,
              "#f0f921"
             ]
            ],
            "type": "contour"
           }
          ],
          "contourcarpet": [
           {
            "colorbar": {
             "outlinewidth": 0,
             "ticks": ""
            },
            "type": "contourcarpet"
           }
          ],
          "heatmap": [
           {
            "colorbar": {
             "outlinewidth": 0,
             "ticks": ""
            },
            "colorscale": [
             [
              0,
              "#0d0887"
             ],
             [
              0.1111111111111111,
              "#46039f"
             ],
             [
              0.2222222222222222,
              "#7201a8"
             ],
             [
              0.3333333333333333,
              "#9c179e"
             ],
             [
              0.4444444444444444,
              "#bd3786"
             ],
             [
              0.5555555555555556,
              "#d8576b"
             ],
             [
              0.6666666666666666,
              "#ed7953"
             ],
             [
              0.7777777777777778,
              "#fb9f3a"
             ],
             [
              0.8888888888888888,
              "#fdca26"
             ],
             [
              1,
              "#f0f921"
             ]
            ],
            "type": "heatmap"
           }
          ],
          "heatmapgl": [
           {
            "colorbar": {
             "outlinewidth": 0,
             "ticks": ""
            },
            "colorscale": [
             [
              0,
              "#0d0887"
             ],
             [
              0.1111111111111111,
              "#46039f"
             ],
             [
              0.2222222222222222,
              "#7201a8"
             ],
             [
              0.3333333333333333,
              "#9c179e"
             ],
             [
              0.4444444444444444,
              "#bd3786"
             ],
             [
              0.5555555555555556,
              "#d8576b"
             ],
             [
              0.6666666666666666,
              "#ed7953"
             ],
             [
              0.7777777777777778,
              "#fb9f3a"
             ],
             [
              0.8888888888888888,
              "#fdca26"
             ],
             [
              1,
              "#f0f921"
             ]
            ],
            "type": "heatmapgl"
           }
          ],
          "histogram": [
           {
            "marker": {
             "pattern": {
              "fillmode": "overlay",
              "size": 10,
              "solidity": 0.2
             }
            },
            "type": "histogram"
           }
          ],
          "histogram2d": [
           {
            "colorbar": {
             "outlinewidth": 0,
             "ticks": ""
            },
            "colorscale": [
             [
              0,
              "#0d0887"
             ],
             [
              0.1111111111111111,
              "#46039f"
             ],
             [
              0.2222222222222222,
              "#7201a8"
             ],
             [
              0.3333333333333333,
              "#9c179e"
             ],
             [
              0.4444444444444444,
              "#bd3786"
             ],
             [
              0.5555555555555556,
              "#d8576b"
             ],
             [
              0.6666666666666666,
              "#ed7953"
             ],
             [
              0.7777777777777778,
              "#fb9f3a"
             ],
             [
              0.8888888888888888,
              "#fdca26"
             ],
             [
              1,
              "#f0f921"
             ]
            ],
            "type": "histogram2d"
           }
          ],
          "histogram2dcontour": [
           {
            "colorbar": {
             "outlinewidth": 0,
             "ticks": ""
            },
            "colorscale": [
             [
              0,
              "#0d0887"
             ],
             [
              0.1111111111111111,
              "#46039f"
             ],
             [
              0.2222222222222222,
              "#7201a8"
             ],
             [
              0.3333333333333333,
              "#9c179e"
             ],
             [
              0.4444444444444444,
              "#bd3786"
             ],
             [
              0.5555555555555556,
              "#d8576b"
             ],
             [
              0.6666666666666666,
              "#ed7953"
             ],
             [
              0.7777777777777778,
              "#fb9f3a"
             ],
             [
              0.8888888888888888,
              "#fdca26"
             ],
             [
              1,
              "#f0f921"
             ]
            ],
            "type": "histogram2dcontour"
           }
          ],
          "mesh3d": [
           {
            "colorbar": {
             "outlinewidth": 0,
             "ticks": ""
            },
            "type": "mesh3d"
           }
          ],
          "parcoords": [
           {
            "line": {
             "colorbar": {
              "outlinewidth": 0,
              "ticks": ""
             }
            },
            "type": "parcoords"
           }
          ],
          "pie": [
           {
            "automargin": true,
            "type": "pie"
           }
          ],
          "scatter": [
           {
            "fillpattern": {
             "fillmode": "overlay",
             "size": 10,
             "solidity": 0.2
            },
            "type": "scatter"
           }
          ],
          "scatter3d": [
           {
            "line": {
             "colorbar": {
              "outlinewidth": 0,
              "ticks": ""
             }
            },
            "marker": {
             "colorbar": {
              "outlinewidth": 0,
              "ticks": ""
             }
            },
            "type": "scatter3d"
           }
          ],
          "scattercarpet": [
           {
            "marker": {
             "colorbar": {
              "outlinewidth": 0,
              "ticks": ""
             }
            },
            "type": "scattercarpet"
           }
          ],
          "scattergeo": [
           {
            "marker": {
             "colorbar": {
              "outlinewidth": 0,
              "ticks": ""
             }
            },
            "type": "scattergeo"
           }
          ],
          "scattergl": [
           {
            "marker": {
             "colorbar": {
              "outlinewidth": 0,
              "ticks": ""
             }
            },
            "type": "scattergl"
           }
          ],
          "scattermapbox": [
           {
            "marker": {
             "colorbar": {
              "outlinewidth": 0,
              "ticks": ""
             }
            },
            "type": "scattermapbox"
           }
          ],
          "scatterpolar": [
           {
            "marker": {
             "colorbar": {
              "outlinewidth": 0,
              "ticks": ""
             }
            },
            "type": "scatterpolar"
           }
          ],
          "scatterpolargl": [
           {
            "marker": {
             "colorbar": {
              "outlinewidth": 0,
              "ticks": ""
             }
            },
            "type": "scatterpolargl"
           }
          ],
          "scatterternary": [
           {
            "marker": {
             "colorbar": {
              "outlinewidth": 0,
              "ticks": ""
             }
            },
            "type": "scatterternary"
           }
          ],
          "surface": [
           {
            "colorbar": {
             "outlinewidth": 0,
             "ticks": ""
            },
            "colorscale": [
             [
              0,
              "#0d0887"
             ],
             [
              0.1111111111111111,
              "#46039f"
             ],
             [
              0.2222222222222222,
              "#7201a8"
             ],
             [
              0.3333333333333333,
              "#9c179e"
             ],
             [
              0.4444444444444444,
              "#bd3786"
             ],
             [
              0.5555555555555556,
              "#d8576b"
             ],
             [
              0.6666666666666666,
              "#ed7953"
             ],
             [
              0.7777777777777778,
              "#fb9f3a"
             ],
             [
              0.8888888888888888,
              "#fdca26"
             ],
             [
              1,
              "#f0f921"
             ]
            ],
            "type": "surface"
           }
          ],
          "table": [
           {
            "cells": {
             "fill": {
              "color": "#EBF0F8"
             },
             "line": {
              "color": "white"
             }
            },
            "header": {
             "fill": {
              "color": "#C8D4E3"
             },
             "line": {
              "color": "white"
             }
            },
            "type": "table"
           }
          ]
         },
         "layout": {
          "annotationdefaults": {
           "arrowcolor": "#2a3f5f",
           "arrowhead": 0,
           "arrowwidth": 1
          },
          "autotypenumbers": "strict",
          "coloraxis": {
           "colorbar": {
            "outlinewidth": 0,
            "ticks": ""
           }
          },
          "colorscale": {
           "diverging": [
            [
             0,
             "#8e0152"
            ],
            [
             0.1,
             "#c51b7d"
            ],
            [
             0.2,
             "#de77ae"
            ],
            [
             0.3,
             "#f1b6da"
            ],
            [
             0.4,
             "#fde0ef"
            ],
            [
             0.5,
             "#f7f7f7"
            ],
            [
             0.6,
             "#e6f5d0"
            ],
            [
             0.7,
             "#b8e186"
            ],
            [
             0.8,
             "#7fbc41"
            ],
            [
             0.9,
             "#4d9221"
            ],
            [
             1,
             "#276419"
            ]
           ],
           "sequential": [
            [
             0,
             "#0d0887"
            ],
            [
             0.1111111111111111,
             "#46039f"
            ],
            [
             0.2222222222222222,
             "#7201a8"
            ],
            [
             0.3333333333333333,
             "#9c179e"
            ],
            [
             0.4444444444444444,
             "#bd3786"
            ],
            [
             0.5555555555555556,
             "#d8576b"
            ],
            [
             0.6666666666666666,
             "#ed7953"
            ],
            [
             0.7777777777777778,
             "#fb9f3a"
            ],
            [
             0.8888888888888888,
             "#fdca26"
            ],
            [
             1,
             "#f0f921"
            ]
           ],
           "sequentialminus": [
            [
             0,
             "#0d0887"
            ],
            [
             0.1111111111111111,
             "#46039f"
            ],
            [
             0.2222222222222222,
             "#7201a8"
            ],
            [
             0.3333333333333333,
             "#9c179e"
            ],
            [
             0.4444444444444444,
             "#bd3786"
            ],
            [
             0.5555555555555556,
             "#d8576b"
            ],
            [
             0.6666666666666666,
             "#ed7953"
            ],
            [
             0.7777777777777778,
             "#fb9f3a"
            ],
            [
             0.8888888888888888,
             "#fdca26"
            ],
            [
             1,
             "#f0f921"
            ]
           ]
          },
          "colorway": [
           "#636efa",
           "#EF553B",
           "#00cc96",
           "#ab63fa",
           "#FFA15A",
           "#19d3f3",
           "#FF6692",
           "#B6E880",
           "#FF97FF",
           "#FECB52"
          ],
          "font": {
           "color": "#2a3f5f"
          },
          "geo": {
           "bgcolor": "white",
           "lakecolor": "white",
           "landcolor": "#E5ECF6",
           "showlakes": true,
           "showland": true,
           "subunitcolor": "white"
          },
          "hoverlabel": {
           "align": "left"
          },
          "hovermode": "closest",
          "mapbox": {
           "style": "light"
          },
          "paper_bgcolor": "white",
          "plot_bgcolor": "#E5ECF6",
          "polar": {
           "angularaxis": {
            "gridcolor": "white",
            "linecolor": "white",
            "ticks": ""
           },
           "bgcolor": "#E5ECF6",
           "radialaxis": {
            "gridcolor": "white",
            "linecolor": "white",
            "ticks": ""
           }
          },
          "scene": {
           "xaxis": {
            "backgroundcolor": "#E5ECF6",
            "gridcolor": "white",
            "gridwidth": 2,
            "linecolor": "white",
            "showbackground": true,
            "ticks": "",
            "zerolinecolor": "white"
           },
           "yaxis": {
            "backgroundcolor": "#E5ECF6",
            "gridcolor": "white",
            "gridwidth": 2,
            "linecolor": "white",
            "showbackground": true,
            "ticks": "",
            "zerolinecolor": "white"
           },
           "zaxis": {
            "backgroundcolor": "#E5ECF6",
            "gridcolor": "white",
            "gridwidth": 2,
            "linecolor": "white",
            "showbackground": true,
            "ticks": "",
            "zerolinecolor": "white"
           }
          },
          "shapedefaults": {
           "line": {
            "color": "#2a3f5f"
           }
          },
          "ternary": {
           "aaxis": {
            "gridcolor": "white",
            "linecolor": "white",
            "ticks": ""
           },
           "baxis": {
            "gridcolor": "white",
            "linecolor": "white",
            "ticks": ""
           },
           "bgcolor": "#E5ECF6",
           "caxis": {
            "gridcolor": "white",
            "linecolor": "white",
            "ticks": ""
           }
          },
          "title": {
           "x": 0.05
          },
          "xaxis": {
           "automargin": true,
           "gridcolor": "white",
           "linecolor": "white",
           "ticks": "",
           "title": {
            "standoff": 15
           },
           "zerolinecolor": "white",
           "zerolinewidth": 2
          },
          "yaxis": {
           "automargin": true,
           "gridcolor": "white",
           "linecolor": "white",
           "ticks": "",
           "title": {
            "standoff": 15
           },
           "zerolinecolor": "white",
           "zerolinewidth": 2
          }
         }
        },
        "title": {
         "text": "la distribution des prix en fonction d annee_Modele"
        },
        "xaxis": {
         "anchor": "y",
         "domain": [
          0,
          1
         ],
         "title": {
          "text": "Prices"
         }
        },
        "yaxis": {
         "anchor": "x",
         "domain": [
          0,
          1
         ],
         "title": {
          "text": "count"
         }
        }
       }
      },
      "text/html": [
       "<div>                            <div id=\"9b97eb10-b0f1-40a6-9f3e-ef18b0bb9138\" class=\"plotly-graph-div\" style=\"height:525px; width:100%;\"></div>            <script type=\"text/javascript\">                require([\"plotly\"], function(Plotly) {                    window.PLOTLYENV=window.PLOTLYENV || {};                                    if (document.getElementById(\"9b97eb10-b0f1-40a6-9f3e-ef18b0bb9138\")) {                    Plotly.newPlot(                        \"9b97eb10-b0f1-40a6-9f3e-ef18b0bb9138\",                        [{\"alignmentgroup\":\"True\",\"bingroup\":\"x\",\"hovertemplate\":\"Annee_Modele=2024<br>Prices=%{x}<br>count=%{y}<extra></extra>\",\"legendgroup\":\"2024\",\"marker\":{\"color\":\"#636efa\",\"pattern\":{\"shape\":\"\"}},\"name\":\"2024\",\"offsetgroup\":\"2024\",\"orientation\":\"v\",\"showlegend\":true,\"x\":[122000.0,138000.0,690000.0,219000.0,398000.0,158000.0,395000.0,229000.0,450000.0,200000.0,190000.0,128000.0,450000.0,450000.0,228000.0,106000.0],\"xaxis\":\"x\",\"yaxis\":\"y\",\"type\":\"histogram\"},{\"alignmentgroup\":\"True\",\"bingroup\":\"x\",\"hovertemplate\":\"Annee_Modele=1980<br>Prices=%{x}<br>count=%{y}<extra></extra>\",\"legendgroup\":\"1980\",\"marker\":{\"color\":\"#EF553B\",\"pattern\":{\"shape\":\"\"}},\"name\":\"1980\",\"offsetgroup\":\"1980\",\"orientation\":\"v\",\"showlegend\":true,\"x\":[75000.0],\"xaxis\":\"x\",\"yaxis\":\"y\",\"type\":\"histogram\"},{\"alignmentgroup\":\"True\",\"bingroup\":\"x\",\"hovertemplate\":\"Annee_Modele=2018<br>Prices=%{x}<br>count=%{y}<extra></extra>\",\"legendgroup\":\"2018\",\"marker\":{\"color\":\"#00cc96\",\"pattern\":{\"shape\":\"\"}},\"name\":\"2018\",\"offsetgroup\":\"2018\",\"orientation\":\"v\",\"showlegend\":true,\"x\":[370000.0,650000.0,175000.0,222000.0,238000.0,170000.0,62000.0,75000.0,143000.0,750000.0,185000.0],\"xaxis\":\"x\",\"yaxis\":\"y\",\"type\":\"histogram\"},{\"alignmentgroup\":\"True\",\"bingroup\":\"x\",\"hovertemplate\":\"Annee_Modele=2019<br>Prices=%{x}<br>count=%{y}<extra></extra>\",\"legendgroup\":\"2019\",\"marker\":{\"color\":\"#ab63fa\",\"pattern\":{\"shape\":\"\"}},\"name\":\"2019\",\"offsetgroup\":\"2019\",\"orientation\":\"v\",\"showlegend\":true,\"x\":[190000.0,320000.0,153000.0,96000.0,430000.0,75000.0,117000.0,220000.0,209000.0,380000.0,465000.0,228000.0,158000.0,144000.0,235000.0,256000.0,190000.0,155000.0,112000.0,145000.0,390000.0,299000.0,150000.0,265000.0,118000.0,120000.0,145000.0,23000.0,135000.0,770000.0,118000.0,340000.0,148000.0,190000.0,170000.0,950000.0,323000.0,660000.0,270000.0,164999.0,39000.0,143000.0],\"xaxis\":\"x\",\"yaxis\":\"y\",\"type\":\"histogram\"},{\"alignmentgroup\":\"True\",\"bingroup\":\"x\",\"hovertemplate\":\"Annee_Modele=2014<br>Prices=%{x}<br>count=%{y}<extra></extra>\",\"legendgroup\":\"2014\",\"marker\":{\"color\":\"#FFA15A\",\"pattern\":{\"shape\":\"\"}},\"name\":\"2014\",\"offsetgroup\":\"2014\",\"orientation\":\"v\",\"showlegend\":true,\"x\":[159000.0,490000.0,124000.0,185000.0,320000.0,235000.0,220000.0,78000.0,495000.0,118000.0,145000.0,147000.0,58000.0],\"xaxis\":\"x\",\"yaxis\":\"y\",\"type\":\"histogram\"},{\"alignmentgroup\":\"True\",\"bingroup\":\"x\",\"hovertemplate\":\"Annee_Modele=2017<br>Prices=%{x}<br>count=%{y}<extra></extra>\",\"legendgroup\":\"2017\",\"marker\":{\"color\":\"#19d3f3\",\"pattern\":{\"shape\":\"\"}},\"name\":\"2017\",\"offsetgroup\":\"2017\",\"orientation\":\"v\",\"showlegend\":true,\"x\":[375000.0,172000.0,360000.0,93000.0,360000.0,188000.0,220000.0,225000.0,235000.0,163000.0,358000.0,135000.0,113000.0,235000.0,320000.0,250000.0,255000.0,135000.0,132000.0,30000.0,200000.0,157000.0,140000.0,175000.0,242000.0,265000.0,164999.0,197000.0],\"xaxis\":\"x\",\"yaxis\":\"y\",\"type\":\"histogram\"},{\"alignmentgroup\":\"True\",\"bingroup\":\"x\",\"hovertemplate\":\"Annee_Modele=2021<br>Prices=%{x}<br>count=%{y}<extra></extra>\",\"legendgroup\":\"2021\",\"marker\":{\"color\":\"#FF6692\",\"pattern\":{\"shape\":\"\"}},\"name\":\"2021\",\"offsetgroup\":\"2021\",\"orientation\":\"v\",\"showlegend\":true,\"x\":[118000.0,136000.0,162000.0,490000.0,168000.0,240000.0,250000.0,147000.0,132000.0,120000.0,285000.0,285000.0,470000.0,140000.0,185000.0,187000.0,220000.0,41000.0,95000.0,305000.0,31000.0,170000.0,97000.0,189000.0,150000.0,295000.0,139000.0,350000.0,639000.0,112000.0,550000.0,139000.0,69000.0,122000.0,117000.0,122000.0,212000.0,340000.0,570000.0],\"xaxis\":\"x\",\"yaxis\":\"y\",\"type\":\"histogram\"},{\"alignmentgroup\":\"True\",\"bingroup\":\"x\",\"hovertemplate\":\"Annee_Modele=2020<br>Prices=%{x}<br>count=%{y}<extra></extra>\",\"legendgroup\":\"2020\",\"marker\":{\"color\":\"#B6E880\",\"pattern\":{\"shape\":\"\"}},\"name\":\"2020\",\"offsetgroup\":\"2020\",\"orientation\":\"v\",\"showlegend\":true,\"x\":[235000.0,265000.0,165000.0,790000.0,185000.0,100000.0,123000.0,307000.0,198500.0,150000.0,390000.0,220000.0,420000.0,385000.0,242000.0,148000.0,210000.0,395000.0,850000.0,172000.0,98000.0,139000.0,285000.0,63000.0,96000.0,440000.0,720000.0,117000.0,228000.0],\"xaxis\":\"x\",\"yaxis\":\"y\",\"type\":\"histogram\"},{\"alignmentgroup\":\"True\",\"bingroup\":\"x\",\"hovertemplate\":\"Annee_Modele=2022<br>Prices=%{x}<br>count=%{y}<extra></extra>\",\"legendgroup\":\"2022\",\"marker\":{\"color\":\"#FF97FF\",\"pattern\":{\"shape\":\"\"}},\"name\":\"2022\",\"offsetgroup\":\"2022\",\"orientation\":\"v\",\"showlegend\":true,\"x\":[670000.0,229000.0,79000.0,260000.0,179000.0,800000.0,162000.0,120000.0,310000.0,62000.0,155000.0,128000.0,270000.0,155000.0,175000.0,180000.0,145000.0,900000.0,168000.0,340000.0],\"xaxis\":\"x\",\"yaxis\":\"y\",\"type\":\"histogram\"},{\"alignmentgroup\":\"True\",\"bingroup\":\"x\",\"hovertemplate\":\"Annee_Modele=2013<br>Prices=%{x}<br>count=%{y}<extra></extra>\",\"legendgroup\":\"2013\",\"marker\":{\"color\":\"#FECB52\",\"pattern\":{\"shape\":\"\"}},\"name\":\"2013\",\"offsetgroup\":\"2013\",\"orientation\":\"v\",\"showlegend\":true,\"x\":[115000.0,149000.0,123000.0,115000.0,82000.0,275000.0,760000.0,579000.0],\"xaxis\":\"x\",\"yaxis\":\"y\",\"type\":\"histogram\"},{\"alignmentgroup\":\"True\",\"bingroup\":\"x\",\"hovertemplate\":\"Annee_Modele=2015<br>Prices=%{x}<br>count=%{y}<extra></extra>\",\"legendgroup\":\"2015\",\"marker\":{\"color\":\"#636efa\",\"pattern\":{\"shape\":\"\"}},\"name\":\"2015\",\"offsetgroup\":\"2015\",\"orientation\":\"v\",\"showlegend\":true,\"x\":[220000.0,127000.0,285000.0,149000.0,173000.0,185000.0,430000.0,173000.0,135000.0,120000.0,120000.0,280000.0,180000.0,273000.0],\"xaxis\":\"x\",\"yaxis\":\"y\",\"type\":\"histogram\"},{\"alignmentgroup\":\"True\",\"bingroup\":\"x\",\"hovertemplate\":\"Annee_Modele=2023<br>Prices=%{x}<br>count=%{y}<extra></extra>\",\"legendgroup\":\"2023\",\"marker\":{\"color\":\"#EF553B\",\"pattern\":{\"shape\":\"\"}},\"name\":\"2023\",\"offsetgroup\":\"2023\",\"orientation\":\"v\",\"showlegend\":true,\"x\":[780000.0,285000.0,220000.0,257000.0,390000.0,145000.0,280000.0,294000.0,300000.0,135000.0,285000.0,510000.0,290000.0,135000.0,240000.0,185000.0,39000.0,58000.0],\"xaxis\":\"x\",\"yaxis\":\"y\",\"type\":\"histogram\"},{\"alignmentgroup\":\"True\",\"bingroup\":\"x\",\"hovertemplate\":\"Annee_Modele=2025<br>Prices=%{x}<br>count=%{y}<extra></extra>\",\"legendgroup\":\"2025\",\"marker\":{\"color\":\"#00cc96\",\"pattern\":{\"shape\":\"\"}},\"name\":\"2025\",\"offsetgroup\":\"2025\",\"orientation\":\"v\",\"showlegend\":true,\"x\":[124000.0,188000.0,185000.0,385000.0,118000.0,147000.0,240000.0,150000.0,115000.0,175000.0,105000.0,185000.0,249000.0],\"xaxis\":\"x\",\"yaxis\":\"y\",\"type\":\"histogram\"},{\"alignmentgroup\":\"True\",\"bingroup\":\"x\",\"hovertemplate\":\"Annee_Modele=2016<br>Prices=%{x}<br>count=%{y}<extra></extra>\",\"legendgroup\":\"2016\",\"marker\":{\"color\":\"#ab63fa\",\"pattern\":{\"shape\":\"\"}},\"name\":\"2016\",\"offsetgroup\":\"2016\",\"orientation\":\"v\",\"showlegend\":true,\"x\":[126000.0,275000.0,113000.0,285000.0,360000.0,268000.0,139000.0,150000.0,109000.0,310000.0,180000.0,162000.0,168000.0,450000.0,128000.0,52000.0,545000.0],\"xaxis\":\"x\",\"yaxis\":\"y\",\"type\":\"histogram\"},{\"alignmentgroup\":\"True\",\"bingroup\":\"x\",\"hovertemplate\":\"Annee_Modele=2010<br>Prices=%{x}<br>count=%{y}<extra></extra>\",\"legendgroup\":\"2010\",\"marker\":{\"color\":\"#FFA15A\",\"pattern\":{\"shape\":\"\"}},\"name\":\"2010\",\"offsetgroup\":\"2010\",\"orientation\":\"v\",\"showlegend\":true,\"x\":[235000.0,325000.0,136000.0,125000.0,107000.0,149000.0],\"xaxis\":\"x\",\"yaxis\":\"y\",\"type\":\"histogram\"},{\"alignmentgroup\":\"True\",\"bingroup\":\"x\",\"hovertemplate\":\"Annee_Modele=2012<br>Prices=%{x}<br>count=%{y}<extra></extra>\",\"legendgroup\":\"2012\",\"marker\":{\"color\":\"#19d3f3\",\"pattern\":{\"shape\":\"\"}},\"name\":\"2012\",\"offsetgroup\":\"2012\",\"orientation\":\"v\",\"showlegend\":true,\"x\":[210000.0,117000.0,89000.0,110000.0,119000.0,110000.0],\"xaxis\":\"x\",\"yaxis\":\"y\",\"type\":\"histogram\"},{\"alignmentgroup\":\"True\",\"bingroup\":\"x\",\"hovertemplate\":\"Annee_Modele=2009<br>Prices=%{x}<br>count=%{y}<extra></extra>\",\"legendgroup\":\"2009\",\"marker\":{\"color\":\"#FF6692\",\"pattern\":{\"shape\":\"\"}},\"name\":\"2009\",\"offsetgroup\":\"2009\",\"orientation\":\"v\",\"showlegend\":true,\"x\":[125000.0,150000.0],\"xaxis\":\"x\",\"yaxis\":\"y\",\"type\":\"histogram\"},{\"alignmentgroup\":\"True\",\"bingroup\":\"x\",\"hovertemplate\":\"Annee_Modele=2008<br>Prices=%{x}<br>count=%{y}<extra></extra>\",\"legendgroup\":\"2008\",\"marker\":{\"color\":\"#B6E880\",\"pattern\":{\"shape\":\"\"}},\"name\":\"2008\",\"offsetgroup\":\"2008\",\"orientation\":\"v\",\"showlegend\":true,\"x\":[60000.0,70000.0,105000.0,62000.0,705000.0],\"xaxis\":\"x\",\"yaxis\":\"y\",\"type\":\"histogram\"},{\"alignmentgroup\":\"True\",\"bingroup\":\"x\",\"hovertemplate\":\"Annee_Modele=2011<br>Prices=%{x}<br>count=%{y}<extra></extra>\",\"legendgroup\":\"2011\",\"marker\":{\"color\":\"#FF97FF\",\"pattern\":{\"shape\":\"\"}},\"name\":\"2011\",\"offsetgroup\":\"2011\",\"orientation\":\"v\",\"showlegend\":true,\"x\":[78000.0,70000.0,170000.0,225000.0,150000.0],\"xaxis\":\"x\",\"yaxis\":\"y\",\"type\":\"histogram\"},{\"alignmentgroup\":\"True\",\"bingroup\":\"x\",\"hovertemplate\":\"Annee_Modele=2000<br>Prices=%{x}<br>count=%{y}<extra></extra>\",\"legendgroup\":\"2000\",\"marker\":{\"color\":\"#FECB52\",\"pattern\":{\"shape\":\"\"}},\"name\":\"2000\",\"offsetgroup\":\"2000\",\"orientation\":\"v\",\"showlegend\":true,\"x\":[40000.0],\"xaxis\":\"x\",\"yaxis\":\"y\",\"type\":\"histogram\"},{\"alignmentgroup\":\"True\",\"bingroup\":\"x\",\"hovertemplate\":\"Annee_Modele=2007<br>Prices=%{x}<br>count=%{y}<extra></extra>\",\"legendgroup\":\"2007\",\"marker\":{\"color\":\"#636efa\",\"pattern\":{\"shape\":\"\"}},\"name\":\"2007\",\"offsetgroup\":\"2007\",\"orientation\":\"v\",\"showlegend\":true,\"x\":[98000.0,62000.0,265000.0],\"xaxis\":\"x\",\"yaxis\":\"y\",\"type\":\"histogram\"},{\"alignmentgroup\":\"True\",\"bingroup\":\"x\",\"hovertemplate\":\"Annee_Modele=2003<br>Prices=%{x}<br>count=%{y}<extra></extra>\",\"legendgroup\":\"2003\",\"marker\":{\"color\":\"#EF553B\",\"pattern\":{\"shape\":\"\"}},\"name\":\"2003\",\"offsetgroup\":\"2003\",\"orientation\":\"v\",\"showlegend\":true,\"x\":[380000.0],\"xaxis\":\"x\",\"yaxis\":\"y\",\"type\":\"histogram\"},{\"alignmentgroup\":\"True\",\"bingroup\":\"x\",\"hovertemplate\":\"Annee_Modele=1991<br>Prices=%{x}<br>count=%{y}<extra></extra>\",\"legendgroup\":\"1991\",\"marker\":{\"color\":\"#00cc96\",\"pattern\":{\"shape\":\"\"}},\"name\":\"1991\",\"offsetgroup\":\"1991\",\"orientation\":\"v\",\"showlegend\":true,\"x\":[390000.0,212000.0],\"xaxis\":\"x\",\"yaxis\":\"y\",\"type\":\"histogram\"},{\"alignmentgroup\":\"True\",\"bingroup\":\"x\",\"hovertemplate\":\"Annee_Modele=2006<br>Prices=%{x}<br>count=%{y}<extra></extra>\",\"legendgroup\":\"2006\",\"marker\":{\"color\":\"#ab63fa\",\"pattern\":{\"shape\":\"\"}},\"name\":\"2006\",\"offsetgroup\":\"2006\",\"orientation\":\"v\",\"showlegend\":true,\"x\":[310000.0],\"xaxis\":\"x\",\"yaxis\":\"y\",\"type\":\"histogram\"}],                        {\"template\":{\"data\":{\"histogram2dcontour\":[{\"type\":\"histogram2dcontour\",\"colorbar\":{\"outlinewidth\":0,\"ticks\":\"\"},\"colorscale\":[[0.0,\"#0d0887\"],[0.1111111111111111,\"#46039f\"],[0.2222222222222222,\"#7201a8\"],[0.3333333333333333,\"#9c179e\"],[0.4444444444444444,\"#bd3786\"],[0.5555555555555556,\"#d8576b\"],[0.6666666666666666,\"#ed7953\"],[0.7777777777777778,\"#fb9f3a\"],[0.8888888888888888,\"#fdca26\"],[1.0,\"#f0f921\"]]}],\"choropleth\":[{\"type\":\"choropleth\",\"colorbar\":{\"outlinewidth\":0,\"ticks\":\"\"}}],\"histogram2d\":[{\"type\":\"histogram2d\",\"colorbar\":{\"outlinewidth\":0,\"ticks\":\"\"},\"colorscale\":[[0.0,\"#0d0887\"],[0.1111111111111111,\"#46039f\"],[0.2222222222222222,\"#7201a8\"],[0.3333333333333333,\"#9c179e\"],[0.4444444444444444,\"#bd3786\"],[0.5555555555555556,\"#d8576b\"],[0.6666666666666666,\"#ed7953\"],[0.7777777777777778,\"#fb9f3a\"],[0.8888888888888888,\"#fdca26\"],[1.0,\"#f0f921\"]]}],\"heatmap\":[{\"type\":\"heatmap\",\"colorbar\":{\"outlinewidth\":0,\"ticks\":\"\"},\"colorscale\":[[0.0,\"#0d0887\"],[0.1111111111111111,\"#46039f\"],[0.2222222222222222,\"#7201a8\"],[0.3333333333333333,\"#9c179e\"],[0.4444444444444444,\"#bd3786\"],[0.5555555555555556,\"#d8576b\"],[0.6666666666666666,\"#ed7953\"],[0.7777777777777778,\"#fb9f3a\"],[0.8888888888888888,\"#fdca26\"],[1.0,\"#f0f921\"]]}],\"heatmapgl\":[{\"type\":\"heatmapgl\",\"colorbar\":{\"outlinewidth\":0,\"ticks\":\"\"},\"colorscale\":[[0.0,\"#0d0887\"],[0.1111111111111111,\"#46039f\"],[0.2222222222222222,\"#7201a8\"],[0.3333333333333333,\"#9c179e\"],[0.4444444444444444,\"#bd3786\"],[0.5555555555555556,\"#d8576b\"],[0.6666666666666666,\"#ed7953\"],[0.7777777777777778,\"#fb9f3a\"],[0.8888888888888888,\"#fdca26\"],[1.0,\"#f0f921\"]]}],\"contourcarpet\":[{\"type\":\"contourcarpet\",\"colorbar\":{\"outlinewidth\":0,\"ticks\":\"\"}}],\"contour\":[{\"type\":\"contour\",\"colorbar\":{\"outlinewidth\":0,\"ticks\":\"\"},\"colorscale\":[[0.0,\"#0d0887\"],[0.1111111111111111,\"#46039f\"],[0.2222222222222222,\"#7201a8\"],[0.3333333333333333,\"#9c179e\"],[0.4444444444444444,\"#bd3786\"],[0.5555555555555556,\"#d8576b\"],[0.6666666666666666,\"#ed7953\"],[0.7777777777777778,\"#fb9f3a\"],[0.8888888888888888,\"#fdca26\"],[1.0,\"#f0f921\"]]}],\"surface\":[{\"type\":\"surface\",\"colorbar\":{\"outlinewidth\":0,\"ticks\":\"\"},\"colorscale\":[[0.0,\"#0d0887\"],[0.1111111111111111,\"#46039f\"],[0.2222222222222222,\"#7201a8\"],[0.3333333333333333,\"#9c179e\"],[0.4444444444444444,\"#bd3786\"],[0.5555555555555556,\"#d8576b\"],[0.6666666666666666,\"#ed7953\"],[0.7777777777777778,\"#fb9f3a\"],[0.8888888888888888,\"#fdca26\"],[1.0,\"#f0f921\"]]}],\"mesh3d\":[{\"type\":\"mesh3d\",\"colorbar\":{\"outlinewidth\":0,\"ticks\":\"\"}}],\"scatter\":[{\"fillpattern\":{\"fillmode\":\"overlay\",\"size\":10,\"solidity\":0.2},\"type\":\"scatter\"}],\"parcoords\":[{\"type\":\"parcoords\",\"line\":{\"colorbar\":{\"outlinewidth\":0,\"ticks\":\"\"}}}],\"scatterpolargl\":[{\"type\":\"scatterpolargl\",\"marker\":{\"colorbar\":{\"outlinewidth\":0,\"ticks\":\"\"}}}],\"bar\":[{\"error_x\":{\"color\":\"#2a3f5f\"},\"error_y\":{\"color\":\"#2a3f5f\"},\"marker\":{\"line\":{\"color\":\"#E5ECF6\",\"width\":0.5},\"pattern\":{\"fillmode\":\"overlay\",\"size\":10,\"solidity\":0.2}},\"type\":\"bar\"}],\"scattergeo\":[{\"type\":\"scattergeo\",\"marker\":{\"colorbar\":{\"outlinewidth\":0,\"ticks\":\"\"}}}],\"scatterpolar\":[{\"type\":\"scatterpolar\",\"marker\":{\"colorbar\":{\"outlinewidth\":0,\"ticks\":\"\"}}}],\"histogram\":[{\"marker\":{\"pattern\":{\"fillmode\":\"overlay\",\"size\":10,\"solidity\":0.2}},\"type\":\"histogram\"}],\"scattergl\":[{\"type\":\"scattergl\",\"marker\":{\"colorbar\":{\"outlinewidth\":0,\"ticks\":\"\"}}}],\"scatter3d\":[{\"type\":\"scatter3d\",\"line\":{\"colorbar\":{\"outlinewidth\":0,\"ticks\":\"\"}},\"marker\":{\"colorbar\":{\"outlinewidth\":0,\"ticks\":\"\"}}}],\"scattermapbox\":[{\"type\":\"scattermapbox\",\"marker\":{\"colorbar\":{\"outlinewidth\":0,\"ticks\":\"\"}}}],\"scatterternary\":[{\"type\":\"scatterternary\",\"marker\":{\"colorbar\":{\"outlinewidth\":0,\"ticks\":\"\"}}}],\"scattercarpet\":[{\"type\":\"scattercarpet\",\"marker\":{\"colorbar\":{\"outlinewidth\":0,\"ticks\":\"\"}}}],\"carpet\":[{\"aaxis\":{\"endlinecolor\":\"#2a3f5f\",\"gridcolor\":\"white\",\"linecolor\":\"white\",\"minorgridcolor\":\"white\",\"startlinecolor\":\"#2a3f5f\"},\"baxis\":{\"endlinecolor\":\"#2a3f5f\",\"gridcolor\":\"white\",\"linecolor\":\"white\",\"minorgridcolor\":\"white\",\"startlinecolor\":\"#2a3f5f\"},\"type\":\"carpet\"}],\"table\":[{\"cells\":{\"fill\":{\"color\":\"#EBF0F8\"},\"line\":{\"color\":\"white\"}},\"header\":{\"fill\":{\"color\":\"#C8D4E3\"},\"line\":{\"color\":\"white\"}},\"type\":\"table\"}],\"barpolar\":[{\"marker\":{\"line\":{\"color\":\"#E5ECF6\",\"width\":0.5},\"pattern\":{\"fillmode\":\"overlay\",\"size\":10,\"solidity\":0.2}},\"type\":\"barpolar\"}],\"pie\":[{\"automargin\":true,\"type\":\"pie\"}]},\"layout\":{\"autotypenumbers\":\"strict\",\"colorway\":[\"#636efa\",\"#EF553B\",\"#00cc96\",\"#ab63fa\",\"#FFA15A\",\"#19d3f3\",\"#FF6692\",\"#B6E880\",\"#FF97FF\",\"#FECB52\"],\"font\":{\"color\":\"#2a3f5f\"},\"hovermode\":\"closest\",\"hoverlabel\":{\"align\":\"left\"},\"paper_bgcolor\":\"white\",\"plot_bgcolor\":\"#E5ECF6\",\"polar\":{\"bgcolor\":\"#E5ECF6\",\"angularaxis\":{\"gridcolor\":\"white\",\"linecolor\":\"white\",\"ticks\":\"\"},\"radialaxis\":{\"gridcolor\":\"white\",\"linecolor\":\"white\",\"ticks\":\"\"}},\"ternary\":{\"bgcolor\":\"#E5ECF6\",\"aaxis\":{\"gridcolor\":\"white\",\"linecolor\":\"white\",\"ticks\":\"\"},\"baxis\":{\"gridcolor\":\"white\",\"linecolor\":\"white\",\"ticks\":\"\"},\"caxis\":{\"gridcolor\":\"white\",\"linecolor\":\"white\",\"ticks\":\"\"}},\"coloraxis\":{\"colorbar\":{\"outlinewidth\":0,\"ticks\":\"\"}},\"colorscale\":{\"sequential\":[[0.0,\"#0d0887\"],[0.1111111111111111,\"#46039f\"],[0.2222222222222222,\"#7201a8\"],[0.3333333333333333,\"#9c179e\"],[0.4444444444444444,\"#bd3786\"],[0.5555555555555556,\"#d8576b\"],[0.6666666666666666,\"#ed7953\"],[0.7777777777777778,\"#fb9f3a\"],[0.8888888888888888,\"#fdca26\"],[1.0,\"#f0f921\"]],\"sequentialminus\":[[0.0,\"#0d0887\"],[0.1111111111111111,\"#46039f\"],[0.2222222222222222,\"#7201a8\"],[0.3333333333333333,\"#9c179e\"],[0.4444444444444444,\"#bd3786\"],[0.5555555555555556,\"#d8576b\"],[0.6666666666666666,\"#ed7953\"],[0.7777777777777778,\"#fb9f3a\"],[0.8888888888888888,\"#fdca26\"],[1.0,\"#f0f921\"]],\"diverging\":[[0,\"#8e0152\"],[0.1,\"#c51b7d\"],[0.2,\"#de77ae\"],[0.3,\"#f1b6da\"],[0.4,\"#fde0ef\"],[0.5,\"#f7f7f7\"],[0.6,\"#e6f5d0\"],[0.7,\"#b8e186\"],[0.8,\"#7fbc41\"],[0.9,\"#4d9221\"],[1,\"#276419\"]]},\"xaxis\":{\"gridcolor\":\"white\",\"linecolor\":\"white\",\"ticks\":\"\",\"title\":{\"standoff\":15},\"zerolinecolor\":\"white\",\"automargin\":true,\"zerolinewidth\":2},\"yaxis\":{\"gridcolor\":\"white\",\"linecolor\":\"white\",\"ticks\":\"\",\"title\":{\"standoff\":15},\"zerolinecolor\":\"white\",\"automargin\":true,\"zerolinewidth\":2},\"scene\":{\"xaxis\":{\"backgroundcolor\":\"#E5ECF6\",\"gridcolor\":\"white\",\"linecolor\":\"white\",\"showbackground\":true,\"ticks\":\"\",\"zerolinecolor\":\"white\",\"gridwidth\":2},\"yaxis\":{\"backgroundcolor\":\"#E5ECF6\",\"gridcolor\":\"white\",\"linecolor\":\"white\",\"showbackground\":true,\"ticks\":\"\",\"zerolinecolor\":\"white\",\"gridwidth\":2},\"zaxis\":{\"backgroundcolor\":\"#E5ECF6\",\"gridcolor\":\"white\",\"linecolor\":\"white\",\"showbackground\":true,\"ticks\":\"\",\"zerolinecolor\":\"white\",\"gridwidth\":2}},\"shapedefaults\":{\"line\":{\"color\":\"#2a3f5f\"}},\"annotationdefaults\":{\"arrowcolor\":\"#2a3f5f\",\"arrowhead\":0,\"arrowwidth\":1},\"geo\":{\"bgcolor\":\"white\",\"landcolor\":\"#E5ECF6\",\"subunitcolor\":\"white\",\"showland\":true,\"showlakes\":true,\"lakecolor\":\"white\"},\"title\":{\"x\":0.05},\"mapbox\":{\"style\":\"light\"}}},\"xaxis\":{\"anchor\":\"y\",\"domain\":[0.0,1.0],\"title\":{\"text\":\"Prices\"}},\"yaxis\":{\"anchor\":\"x\",\"domain\":[0.0,1.0],\"title\":{\"text\":\"count\"}},\"legend\":{\"title\":{\"text\":\"Annee_Modele\"},\"tracegroupgap\":0},\"title\":{\"text\":\"la distribution des prix en fonction d annee_Modele\"},\"barmode\":\"group\"},                        {\"responsive\": true}                    ).then(function(){\n",
       "                            \n",
       "var gd = document.getElementById('9b97eb10-b0f1-40a6-9f3e-ef18b0bb9138');\n",
       "var x = new MutationObserver(function (mutations, observer) {{\n",
       "        var display = window.getComputedStyle(gd).display;\n",
       "        if (!display || display === 'none') {{\n",
       "            console.log([gd, 'removed!']);\n",
       "            Plotly.purge(gd);\n",
       "            observer.disconnect();\n",
       "        }}\n",
       "}});\n",
       "\n",
       "// Listen for the removal of the full notebook cells\n",
       "var notebookContainer = gd.closest('#notebook-container');\n",
       "if (notebookContainer) {{\n",
       "    x.observe(notebookContainer, {childList: true});\n",
       "}}\n",
       "\n",
       "// Listen for the clearing of the current output cell\n",
       "var outputEl = gd.closest('.output');\n",
       "if (outputEl) {{\n",
       "    x.observe(outputEl, {childList: true});\n",
       "}}\n",
       "\n",
       "                        })                };                });            </script>        </div>"
      ]
     },
     "metadata": {},
     "output_type": "display_data"
    }
   ],
   "source": [
    "fig=px.histogram(data, \n",
    "                 x=\"Prices\",\n",
    "                 color=\"Annee_Modele\",\n",
    "                 hover_data=data.columns,\n",
    "                 title=\"la distribution des prix en fonction d annee_Modele\",\n",
    "                 barmode=\"group\")\n",
    "fig.show()"
   ]
  },
  {
   "cell_type": "code",
   "execution_count": 349,
   "id": "d1b3712a",
   "metadata": {},
   "outputs": [
    {
     "data": {
      "text/html": [
       "<div>\n",
       "<style scoped>\n",
       "    .dataframe tbody tr th:only-of-type {\n",
       "        vertical-align: middle;\n",
       "    }\n",
       "\n",
       "    .dataframe tbody tr th {\n",
       "        vertical-align: top;\n",
       "    }\n",
       "\n",
       "    .dataframe thead th {\n",
       "        text-align: right;\n",
       "    }\n",
       "</style>\n",
       "<table border=\"1\" class=\"dataframe\">\n",
       "  <thead>\n",
       "    <tr style=\"text-align: right;\">\n",
       "      <th></th>\n",
       "      <th>index</th>\n",
       "      <th>Prices</th>\n",
       "      <th>title</th>\n",
       "      <th>Model</th>\n",
       "      <th>Marque</th>\n",
       "      <th>Etat</th>\n",
       "      <th>Annee_Modele</th>\n",
       "      <th>Nombre_de_portes</th>\n",
       "      <th>Origine</th>\n",
       "      <th>Type_de_Carburant</th>\n",
       "      <th>boite_de_vitesse</th>\n",
       "      <th>Kilometrage_min</th>\n",
       "      <th>Kilometrage_max</th>\n",
       "    </tr>\n",
       "  </thead>\n",
       "  <tbody>\n",
       "    <tr>\n",
       "      <th>0</th>\n",
       "      <td>0</td>\n",
       "      <td>122000.0</td>\n",
       "      <td>Kia Picanto</td>\n",
       "      <td>Picanto</td>\n",
       "      <td>Kia</td>\n",
       "      <td>Excellent</td>\n",
       "      <td>2024</td>\n",
       "      <td>5</td>\n",
       "      <td>WW au Maroc</td>\n",
       "      <td>Essence</td>\n",
       "      <td>Manuelle</td>\n",
       "      <td>25000.0</td>\n",
       "      <td>29999.0</td>\n",
       "    </tr>\n",
       "    <tr>\n",
       "      <th>1</th>\n",
       "      <td>1</td>\n",
       "      <td>75000.0</td>\n",
       "      <td>Citroën 2 cv</td>\n",
       "      <td>2 CV</td>\n",
       "      <td>Citroen</td>\n",
       "      <td>Très bon</td>\n",
       "      <td>1980</td>\n",
       "      <td>5</td>\n",
       "      <td>WW au Maroc</td>\n",
       "      <td>Essence</td>\n",
       "      <td>Manuelle</td>\n",
       "      <td>90000.0</td>\n",
       "      <td>94999.0</td>\n",
       "    </tr>\n",
       "    <tr>\n",
       "      <th>2</th>\n",
       "      <td>2</td>\n",
       "      <td>138000.0</td>\n",
       "      <td>Fiat Fiorino model 2024</td>\n",
       "      <td>Fiorino</td>\n",
       "      <td>Fiat</td>\n",
       "      <td>Excellent</td>\n",
       "      <td>2024</td>\n",
       "      <td>5</td>\n",
       "      <td>WW au Maroc</td>\n",
       "      <td>Diesel</td>\n",
       "      <td>Manuelle</td>\n",
       "      <td>10000.0</td>\n",
       "      <td>14999.0</td>\n",
       "    </tr>\n",
       "    <tr>\n",
       "      <th>3</th>\n",
       "      <td>3</td>\n",
       "      <td>690000.0</td>\n",
       "      <td>Audi A3 Sportback Diesel Automatique 2024 à Ta...</td>\n",
       "      <td>A3</td>\n",
       "      <td>Audi</td>\n",
       "      <td>Neuf</td>\n",
       "      <td>2024</td>\n",
       "      <td>5</td>\n",
       "      <td>Importée neuve</td>\n",
       "      <td>Diesel</td>\n",
       "      <td>Automatique</td>\n",
       "      <td>0.0</td>\n",
       "      <td>4999.0</td>\n",
       "    </tr>\n",
       "    <tr>\n",
       "      <th>4</th>\n",
       "      <td>4</td>\n",
       "      <td>370000.0</td>\n",
       "      <td>Maserati Levante fin 2018</td>\n",
       "      <td>Levante</td>\n",
       "      <td>Maserati</td>\n",
       "      <td>Excellent</td>\n",
       "      <td>2018</td>\n",
       "      <td>5</td>\n",
       "      <td>WW au Maroc</td>\n",
       "      <td>Diesel</td>\n",
       "      <td>Automatique</td>\n",
       "      <td>120000.0</td>\n",
       "      <td>129999.0</td>\n",
       "    </tr>\n",
       "    <tr>\n",
       "      <th>...</th>\n",
       "      <td>...</td>\n",
       "      <td>...</td>\n",
       "      <td>...</td>\n",
       "      <td>...</td>\n",
       "      <td>...</td>\n",
       "      <td>...</td>\n",
       "      <td>...</td>\n",
       "      <td>...</td>\n",
       "      <td>...</td>\n",
       "      <td>...</td>\n",
       "      <td>...</td>\n",
       "      <td>...</td>\n",
       "      <td>...</td>\n",
       "    </tr>\n",
       "    <tr>\n",
       "      <th>296</th>\n",
       "      <td>331</td>\n",
       "      <td>340000.0</td>\n",
       "      <td>Jeep Grand Cherokee Diesel Automatique 2022</td>\n",
       "      <td>Logan</td>\n",
       "      <td>Dacia</td>\n",
       "      <td>Excellent</td>\n",
       "      <td>2021</td>\n",
       "      <td>5</td>\n",
       "      <td>WW au Maroc</td>\n",
       "      <td>Diesel</td>\n",
       "      <td>Manuelle</td>\n",
       "      <td>100000.0</td>\n",
       "      <td>109999.0</td>\n",
       "    </tr>\n",
       "    <tr>\n",
       "      <th>297</th>\n",
       "      <td>332</td>\n",
       "      <td>570000.0</td>\n",
       "      <td>bmw serie 5</td>\n",
       "      <td>Q3</td>\n",
       "      <td>Audi</td>\n",
       "      <td>Excellent</td>\n",
       "      <td>2021</td>\n",
       "      <td>5</td>\n",
       "      <td>Importée neuve</td>\n",
       "      <td>Essence</td>\n",
       "      <td>Automatique</td>\n",
       "      <td>65000.0</td>\n",
       "      <td>69999.0</td>\n",
       "    </tr>\n",
       "    <tr>\n",
       "      <th>298</th>\n",
       "      <td>333</td>\n",
       "      <td>143000.0</td>\n",
       "      <td>Dokker2021 6portes</td>\n",
       "      <td>Express</td>\n",
       "      <td>Renault</td>\n",
       "      <td>Excellent</td>\n",
       "      <td>2019</td>\n",
       "      <td>5</td>\n",
       "      <td>WW au Maroc</td>\n",
       "      <td>Diesel</td>\n",
       "      <td>Manuelle</td>\n",
       "      <td>120000.0</td>\n",
       "      <td>129999.0</td>\n",
       "    </tr>\n",
       "    <tr>\n",
       "      <th>299</th>\n",
       "      <td>334</td>\n",
       "      <td>249000.0</td>\n",
       "      <td>Geely COOLRAY Essence Automatique 2023</td>\n",
       "      <td>Q8</td>\n",
       "      <td>Audi</td>\n",
       "      <td>Neuf</td>\n",
       "      <td>2025</td>\n",
       "      <td>5</td>\n",
       "      <td>Importée neuve</td>\n",
       "      <td>Diesel</td>\n",
       "      <td>Automatique</td>\n",
       "      <td>0.0</td>\n",
       "      <td>4999.0</td>\n",
       "    </tr>\n",
       "    <tr>\n",
       "      <th>300</th>\n",
       "      <td>335</td>\n",
       "      <td>197000.0</td>\n",
       "      <td>Toyota C-HR Essence Automatique 2019 à Casablanca</td>\n",
       "      <td>Classe E</td>\n",
       "      <td>Mercedes-Benz</td>\n",
       "      <td>Excellent</td>\n",
       "      <td>2017</td>\n",
       "      <td>5</td>\n",
       "      <td>WW au Maroc</td>\n",
       "      <td>Diesel</td>\n",
       "      <td>Automatique</td>\n",
       "      <td>110000.0</td>\n",
       "      <td>119999.0</td>\n",
       "    </tr>\n",
       "  </tbody>\n",
       "</table>\n",
       "<p>301 rows × 13 columns</p>\n",
       "</div>"
      ],
      "text/plain": [
       "     index    Prices                                              title  \\\n",
       "0        0  122000.0                                        Kia Picanto   \n",
       "1        1   75000.0                                       Citroën 2 cv   \n",
       "2        2  138000.0                            Fiat Fiorino model 2024   \n",
       "3        3  690000.0  Audi A3 Sportback Diesel Automatique 2024 à Ta...   \n",
       "4        4  370000.0                          Maserati Levante fin 2018   \n",
       "..     ...       ...                                                ...   \n",
       "296    331  340000.0        Jeep Grand Cherokee Diesel Automatique 2022   \n",
       "297    332  570000.0                                        bmw serie 5   \n",
       "298    333  143000.0                                 Dokker2021 6portes   \n",
       "299    334  249000.0             Geely COOLRAY Essence Automatique 2023   \n",
       "300    335  197000.0  Toyota C-HR Essence Automatique 2019 à Casablanca   \n",
       "\n",
       "        Model         Marque       Etat  Annee_Modele Nombre_de_portes  \\\n",
       "0     Picanto            Kia  Excellent          2024                5   \n",
       "1        2 CV        Citroen   Très bon          1980                5   \n",
       "2     Fiorino           Fiat  Excellent          2024                5   \n",
       "3          A3           Audi       Neuf          2024                5   \n",
       "4     Levante       Maserati  Excellent          2018                5   \n",
       "..        ...            ...        ...           ...              ...   \n",
       "296     Logan          Dacia  Excellent          2021                5   \n",
       "297        Q3           Audi  Excellent          2021                5   \n",
       "298   Express        Renault  Excellent          2019                5   \n",
       "299        Q8           Audi       Neuf          2025                5   \n",
       "300  Classe E  Mercedes-Benz  Excellent          2017                5   \n",
       "\n",
       "            Origine Type_de_Carburant boite_de_vitesse  Kilometrage_min  \\\n",
       "0       WW au Maroc           Essence         Manuelle          25000.0   \n",
       "1       WW au Maroc           Essence         Manuelle          90000.0   \n",
       "2       WW au Maroc            Diesel         Manuelle          10000.0   \n",
       "3    Importée neuve            Diesel      Automatique              0.0   \n",
       "4       WW au Maroc            Diesel      Automatique         120000.0   \n",
       "..              ...               ...              ...              ...   \n",
       "296     WW au Maroc            Diesel         Manuelle         100000.0   \n",
       "297  Importée neuve           Essence      Automatique          65000.0   \n",
       "298     WW au Maroc            Diesel         Manuelle         120000.0   \n",
       "299  Importée neuve            Diesel      Automatique              0.0   \n",
       "300     WW au Maroc            Diesel      Automatique         110000.0   \n",
       "\n",
       "     Kilometrage_max  \n",
       "0            29999.0  \n",
       "1            94999.0  \n",
       "2            14999.0  \n",
       "3             4999.0  \n",
       "4           129999.0  \n",
       "..               ...  \n",
       "296         109999.0  \n",
       "297          69999.0  \n",
       "298         129999.0  \n",
       "299           4999.0  \n",
       "300         119999.0  \n",
       "\n",
       "[301 rows x 13 columns]"
      ]
     },
     "execution_count": 349,
     "metadata": {},
     "output_type": "execute_result"
    }
   ],
   "source": [
    "data = data.reset_index()\n",
    "data"
   ]
  },
  {
   "cell_type": "code",
   "execution_count": 350,
   "id": "e09091de",
   "metadata": {
    "scrolled": true
   },
   "outputs": [
    {
     "name": "stdout",
     "output_type": "stream",
     "text": [
      "<class 'pandas.core.frame.DataFrame'>\n",
      "RangeIndex: 301 entries, 0 to 300\n",
      "Data columns (total 13 columns):\n",
      " #   Column             Non-Null Count  Dtype  \n",
      "---  ------             --------------  -----  \n",
      " 0   index              301 non-null    int64  \n",
      " 1   Prices             301 non-null    float64\n",
      " 2   title              301 non-null    string \n",
      " 3   Model              301 non-null    string \n",
      " 4   Marque             301 non-null    string \n",
      " 5   Etat               301 non-null    object \n",
      " 6   Annee_Modele       301 non-null    int32  \n",
      " 7   Nombre_de_portes   301 non-null    object \n",
      " 8   Origine            301 non-null    object \n",
      " 9   Type_de_Carburant  301 non-null    object \n",
      " 10  boite_de_vitesse   301 non-null    object \n",
      " 11  Kilometrage_min    301 non-null    float64\n",
      " 12  Kilometrage_max    301 non-null    float64\n",
      "dtypes: float64(3), int32(1), int64(1), object(5), string(3)\n",
      "memory usage: 29.5+ KB\n"
     ]
    }
   ],
   "source": [
    "data.info()"
   ]
  },
  {
   "cell_type": "code",
   "execution_count": null,
   "id": "e24dc63d",
   "metadata": {},
   "outputs": [],
   "source": []
  },
  {
   "cell_type": "markdown",
   "id": "bc4d0997",
   "metadata": {},
   "source": [
    "## Machine Learning "
   ]
  },
  {
   "cell_type": "code",
   "execution_count": 354,
   "id": "dee00dd8",
   "metadata": {},
   "outputs": [],
   "source": [
    "data = data.drop(['index', 'Type_de_Carburant',\"boite_de_vitesse\"], axis=1)"
   ]
  },
  {
   "cell_type": "code",
   "execution_count": 360,
   "id": "e5cde3fa",
   "metadata": {},
   "outputs": [
    {
     "data": {
      "text/html": [
       "<div>\n",
       "<style scoped>\n",
       "    .dataframe tbody tr th:only-of-type {\n",
       "        vertical-align: middle;\n",
       "    }\n",
       "\n",
       "    .dataframe tbody tr th {\n",
       "        vertical-align: top;\n",
       "    }\n",
       "\n",
       "    .dataframe thead th {\n",
       "        text-align: right;\n",
       "    }\n",
       "</style>\n",
       "<table border=\"1\" class=\"dataframe\">\n",
       "  <thead>\n",
       "    <tr style=\"text-align: right;\">\n",
       "      <th></th>\n",
       "      <th>Prices</th>\n",
       "      <th>Annee_Modele</th>\n",
       "      <th>Nombre_de_portes</th>\n",
       "      <th>Kilometrage_min</th>\n",
       "      <th>Kilometrage_max</th>\n",
       "      <th>title_190 mercedess</th>\n",
       "      <th>title_207 essnace</th>\n",
       "      <th>title_AUDI Q5 Diesel Automatique 2016 à Casablanca</th>\n",
       "      <th>title_AUDI Q8 SLINE</th>\n",
       "      <th>title_Abarth 595 Essence Automatique 2017 à Casablanca</th>\n",
       "      <th>...</th>\n",
       "      <th>Marque_Toyota</th>\n",
       "      <th>Marque_Volkswagen</th>\n",
       "      <th>Marque_Volvo</th>\n",
       "      <th>Etat_Bon</th>\n",
       "      <th>Etat_Excellent</th>\n",
       "      <th>Etat_Neuf</th>\n",
       "      <th>Etat_Très bon</th>\n",
       "      <th>Origine_Dédouanée</th>\n",
       "      <th>Origine_Importée neuve</th>\n",
       "      <th>Origine_WW au Maroc</th>\n",
       "    </tr>\n",
       "  </thead>\n",
       "  <tbody>\n",
       "    <tr>\n",
       "      <th>0</th>\n",
       "      <td>122000.0</td>\n",
       "      <td>2024</td>\n",
       "      <td>5</td>\n",
       "      <td>25000.0</td>\n",
       "      <td>29999.0</td>\n",
       "      <td>0</td>\n",
       "      <td>0</td>\n",
       "      <td>0</td>\n",
       "      <td>0</td>\n",
       "      <td>0</td>\n",
       "      <td>...</td>\n",
       "      <td>0</td>\n",
       "      <td>0</td>\n",
       "      <td>0</td>\n",
       "      <td>0</td>\n",
       "      <td>1</td>\n",
       "      <td>0</td>\n",
       "      <td>0</td>\n",
       "      <td>0</td>\n",
       "      <td>0</td>\n",
       "      <td>1</td>\n",
       "    </tr>\n",
       "    <tr>\n",
       "      <th>1</th>\n",
       "      <td>75000.0</td>\n",
       "      <td>1980</td>\n",
       "      <td>5</td>\n",
       "      <td>90000.0</td>\n",
       "      <td>94999.0</td>\n",
       "      <td>0</td>\n",
       "      <td>0</td>\n",
       "      <td>0</td>\n",
       "      <td>0</td>\n",
       "      <td>0</td>\n",
       "      <td>...</td>\n",
       "      <td>0</td>\n",
       "      <td>0</td>\n",
       "      <td>0</td>\n",
       "      <td>0</td>\n",
       "      <td>0</td>\n",
       "      <td>0</td>\n",
       "      <td>1</td>\n",
       "      <td>0</td>\n",
       "      <td>0</td>\n",
       "      <td>1</td>\n",
       "    </tr>\n",
       "    <tr>\n",
       "      <th>2</th>\n",
       "      <td>138000.0</td>\n",
       "      <td>2024</td>\n",
       "      <td>5</td>\n",
       "      <td>10000.0</td>\n",
       "      <td>14999.0</td>\n",
       "      <td>0</td>\n",
       "      <td>0</td>\n",
       "      <td>0</td>\n",
       "      <td>0</td>\n",
       "      <td>0</td>\n",
       "      <td>...</td>\n",
       "      <td>0</td>\n",
       "      <td>0</td>\n",
       "      <td>0</td>\n",
       "      <td>0</td>\n",
       "      <td>1</td>\n",
       "      <td>0</td>\n",
       "      <td>0</td>\n",
       "      <td>0</td>\n",
       "      <td>0</td>\n",
       "      <td>1</td>\n",
       "    </tr>\n",
       "    <tr>\n",
       "      <th>3</th>\n",
       "      <td>690000.0</td>\n",
       "      <td>2024</td>\n",
       "      <td>5</td>\n",
       "      <td>0.0</td>\n",
       "      <td>4999.0</td>\n",
       "      <td>0</td>\n",
       "      <td>0</td>\n",
       "      <td>0</td>\n",
       "      <td>0</td>\n",
       "      <td>0</td>\n",
       "      <td>...</td>\n",
       "      <td>0</td>\n",
       "      <td>0</td>\n",
       "      <td>0</td>\n",
       "      <td>0</td>\n",
       "      <td>0</td>\n",
       "      <td>1</td>\n",
       "      <td>0</td>\n",
       "      <td>0</td>\n",
       "      <td>1</td>\n",
       "      <td>0</td>\n",
       "    </tr>\n",
       "    <tr>\n",
       "      <th>4</th>\n",
       "      <td>370000.0</td>\n",
       "      <td>2018</td>\n",
       "      <td>5</td>\n",
       "      <td>120000.0</td>\n",
       "      <td>129999.0</td>\n",
       "      <td>0</td>\n",
       "      <td>0</td>\n",
       "      <td>0</td>\n",
       "      <td>0</td>\n",
       "      <td>0</td>\n",
       "      <td>...</td>\n",
       "      <td>0</td>\n",
       "      <td>0</td>\n",
       "      <td>0</td>\n",
       "      <td>0</td>\n",
       "      <td>1</td>\n",
       "      <td>0</td>\n",
       "      <td>0</td>\n",
       "      <td>0</td>\n",
       "      <td>0</td>\n",
       "      <td>1</td>\n",
       "    </tr>\n",
       "    <tr>\n",
       "      <th>...</th>\n",
       "      <td>...</td>\n",
       "      <td>...</td>\n",
       "      <td>...</td>\n",
       "      <td>...</td>\n",
       "      <td>...</td>\n",
       "      <td>...</td>\n",
       "      <td>...</td>\n",
       "      <td>...</td>\n",
       "      <td>...</td>\n",
       "      <td>...</td>\n",
       "      <td>...</td>\n",
       "      <td>...</td>\n",
       "      <td>...</td>\n",
       "      <td>...</td>\n",
       "      <td>...</td>\n",
       "      <td>...</td>\n",
       "      <td>...</td>\n",
       "      <td>...</td>\n",
       "      <td>...</td>\n",
       "      <td>...</td>\n",
       "      <td>...</td>\n",
       "    </tr>\n",
       "    <tr>\n",
       "      <th>296</th>\n",
       "      <td>340000.0</td>\n",
       "      <td>2021</td>\n",
       "      <td>5</td>\n",
       "      <td>100000.0</td>\n",
       "      <td>109999.0</td>\n",
       "      <td>0</td>\n",
       "      <td>0</td>\n",
       "      <td>0</td>\n",
       "      <td>0</td>\n",
       "      <td>0</td>\n",
       "      <td>...</td>\n",
       "      <td>0</td>\n",
       "      <td>0</td>\n",
       "      <td>0</td>\n",
       "      <td>0</td>\n",
       "      <td>1</td>\n",
       "      <td>0</td>\n",
       "      <td>0</td>\n",
       "      <td>0</td>\n",
       "      <td>0</td>\n",
       "      <td>1</td>\n",
       "    </tr>\n",
       "    <tr>\n",
       "      <th>297</th>\n",
       "      <td>570000.0</td>\n",
       "      <td>2021</td>\n",
       "      <td>5</td>\n",
       "      <td>65000.0</td>\n",
       "      <td>69999.0</td>\n",
       "      <td>0</td>\n",
       "      <td>0</td>\n",
       "      <td>0</td>\n",
       "      <td>0</td>\n",
       "      <td>0</td>\n",
       "      <td>...</td>\n",
       "      <td>0</td>\n",
       "      <td>0</td>\n",
       "      <td>0</td>\n",
       "      <td>0</td>\n",
       "      <td>1</td>\n",
       "      <td>0</td>\n",
       "      <td>0</td>\n",
       "      <td>0</td>\n",
       "      <td>1</td>\n",
       "      <td>0</td>\n",
       "    </tr>\n",
       "    <tr>\n",
       "      <th>298</th>\n",
       "      <td>143000.0</td>\n",
       "      <td>2019</td>\n",
       "      <td>5</td>\n",
       "      <td>120000.0</td>\n",
       "      <td>129999.0</td>\n",
       "      <td>0</td>\n",
       "      <td>0</td>\n",
       "      <td>0</td>\n",
       "      <td>0</td>\n",
       "      <td>0</td>\n",
       "      <td>...</td>\n",
       "      <td>0</td>\n",
       "      <td>0</td>\n",
       "      <td>0</td>\n",
       "      <td>0</td>\n",
       "      <td>1</td>\n",
       "      <td>0</td>\n",
       "      <td>0</td>\n",
       "      <td>0</td>\n",
       "      <td>0</td>\n",
       "      <td>1</td>\n",
       "    </tr>\n",
       "    <tr>\n",
       "      <th>299</th>\n",
       "      <td>249000.0</td>\n",
       "      <td>2025</td>\n",
       "      <td>5</td>\n",
       "      <td>0.0</td>\n",
       "      <td>4999.0</td>\n",
       "      <td>0</td>\n",
       "      <td>0</td>\n",
       "      <td>0</td>\n",
       "      <td>0</td>\n",
       "      <td>0</td>\n",
       "      <td>...</td>\n",
       "      <td>0</td>\n",
       "      <td>0</td>\n",
       "      <td>0</td>\n",
       "      <td>0</td>\n",
       "      <td>0</td>\n",
       "      <td>1</td>\n",
       "      <td>0</td>\n",
       "      <td>0</td>\n",
       "      <td>1</td>\n",
       "      <td>0</td>\n",
       "    </tr>\n",
       "    <tr>\n",
       "      <th>300</th>\n",
       "      <td>197000.0</td>\n",
       "      <td>2017</td>\n",
       "      <td>5</td>\n",
       "      <td>110000.0</td>\n",
       "      <td>119999.0</td>\n",
       "      <td>0</td>\n",
       "      <td>0</td>\n",
       "      <td>0</td>\n",
       "      <td>0</td>\n",
       "      <td>0</td>\n",
       "      <td>...</td>\n",
       "      <td>0</td>\n",
       "      <td>0</td>\n",
       "      <td>0</td>\n",
       "      <td>0</td>\n",
       "      <td>1</td>\n",
       "      <td>0</td>\n",
       "      <td>0</td>\n",
       "      <td>0</td>\n",
       "      <td>0</td>\n",
       "      <td>1</td>\n",
       "    </tr>\n",
       "  </tbody>\n",
       "</table>\n",
       "<p>301 rows × 440 columns</p>\n",
       "</div>"
      ],
      "text/plain": [
       "       Prices  Annee_Modele Nombre_de_portes  Kilometrage_min  \\\n",
       "0    122000.0          2024                5          25000.0   \n",
       "1     75000.0          1980                5          90000.0   \n",
       "2    138000.0          2024                5          10000.0   \n",
       "3    690000.0          2024                5              0.0   \n",
       "4    370000.0          2018                5         120000.0   \n",
       "..        ...           ...              ...              ...   \n",
       "296  340000.0          2021                5         100000.0   \n",
       "297  570000.0          2021                5          65000.0   \n",
       "298  143000.0          2019                5         120000.0   \n",
       "299  249000.0          2025                5              0.0   \n",
       "300  197000.0          2017                5         110000.0   \n",
       "\n",
       "     Kilometrage_max  title_190 mercedess  title_207 essnace  \\\n",
       "0            29999.0                    0                  0   \n",
       "1            94999.0                    0                  0   \n",
       "2            14999.0                    0                  0   \n",
       "3             4999.0                    0                  0   \n",
       "4           129999.0                    0                  0   \n",
       "..               ...                  ...                ...   \n",
       "296         109999.0                    0                  0   \n",
       "297          69999.0                    0                  0   \n",
       "298         129999.0                    0                  0   \n",
       "299           4999.0                    0                  0   \n",
       "300         119999.0                    0                  0   \n",
       "\n",
       "     title_AUDI Q5 Diesel Automatique 2016 à Casablanca  title_AUDI Q8 SLINE  \\\n",
       "0                                                    0                     0   \n",
       "1                                                    0                     0   \n",
       "2                                                    0                     0   \n",
       "3                                                    0                     0   \n",
       "4                                                    0                     0   \n",
       "..                                                 ...                   ...   \n",
       "296                                                  0                     0   \n",
       "297                                                  0                     0   \n",
       "298                                                  0                     0   \n",
       "299                                                  0                     0   \n",
       "300                                                  0                     0   \n",
       "\n",
       "     title_Abarth 595 Essence Automatique 2017 à Casablanca  ...  \\\n",
       "0                                                    0       ...   \n",
       "1                                                    0       ...   \n",
       "2                                                    0       ...   \n",
       "3                                                    0       ...   \n",
       "4                                                    0       ...   \n",
       "..                                                 ...       ...   \n",
       "296                                                  0       ...   \n",
       "297                                                  0       ...   \n",
       "298                                                  0       ...   \n",
       "299                                                  0       ...   \n",
       "300                                                  0       ...   \n",
       "\n",
       "     Marque_Toyota  Marque_Volkswagen  Marque_Volvo  Etat_Bon  Etat_Excellent  \\\n",
       "0                0                  0             0         0               1   \n",
       "1                0                  0             0         0               0   \n",
       "2                0                  0             0         0               1   \n",
       "3                0                  0             0         0               0   \n",
       "4                0                  0             0         0               1   \n",
       "..             ...                ...           ...       ...             ...   \n",
       "296              0                  0             0         0               1   \n",
       "297              0                  0             0         0               1   \n",
       "298              0                  0             0         0               1   \n",
       "299              0                  0             0         0               0   \n",
       "300              0                  0             0         0               1   \n",
       "\n",
       "     Etat_Neuf  Etat_Très bon  Origine_Dédouanée  Origine_Importée neuve  \\\n",
       "0            0              0                  0                       0   \n",
       "1            0              1                  0                       0   \n",
       "2            0              0                  0                       0   \n",
       "3            1              0                  0                       1   \n",
       "4            0              0                  0                       0   \n",
       "..         ...            ...                ...                     ...   \n",
       "296          0              0                  0                       0   \n",
       "297          0              0                  0                       1   \n",
       "298          0              0                  0                       0   \n",
       "299          1              0                  0                       1   \n",
       "300          0              0                  0                       0   \n",
       "\n",
       "     Origine_WW au Maroc  \n",
       "0                      1  \n",
       "1                      1  \n",
       "2                      1  \n",
       "3                      0  \n",
       "4                      1  \n",
       "..                   ...  \n",
       "296                    1  \n",
       "297                    0  \n",
       "298                    1  \n",
       "299                    0  \n",
       "300                    1  \n",
       "\n",
       "[301 rows x 440 columns]"
      ]
     },
     "execution_count": 360,
     "metadata": {},
     "output_type": "execute_result"
    }
   ],
   "source": [
    "# encoder les variables catégorielles\n",
    "encoded_data = pd.get_dummies(data, columns=['title', 'Model',\"Marque\",\"Etat\",\"Origine\"])\n",
    "encoded_data"
   ]
  },
  {
   "cell_type": "code",
   "execution_count": 361,
   "id": "3042944d",
   "metadata": {},
   "outputs": [
    {
     "data": {
      "text/plain": [
       "(301, 440)"
      ]
     },
     "execution_count": 361,
     "metadata": {},
     "output_type": "execute_result"
    }
   ],
   "source": [
    "encoded_data.shape"
   ]
  },
  {
   "cell_type": "code",
   "execution_count": 362,
   "id": "71fbee54",
   "metadata": {},
   "outputs": [
    {
     "name": "stderr",
     "output_type": "stream",
     "text": [
      "C:\\Users\\Admin\\AppData\\Local\\Temp\\ipykernel_972\\1785781734.py:2: FutureWarning:\n",
      "\n",
      "The default value of numeric_only in DataFrame.corr is deprecated. In a future version, it will default to False. Select only valid columns or specify the value of numeric_only to silence this warning.\n",
      "\n"
     ]
    },
    {
     "data": {
      "text/html": [
       "<div>\n",
       "<style scoped>\n",
       "    .dataframe tbody tr th:only-of-type {\n",
       "        vertical-align: middle;\n",
       "    }\n",
       "\n",
       "    .dataframe tbody tr th {\n",
       "        vertical-align: top;\n",
       "    }\n",
       "\n",
       "    .dataframe thead th {\n",
       "        text-align: right;\n",
       "    }\n",
       "</style>\n",
       "<table border=\"1\" class=\"dataframe\">\n",
       "  <thead>\n",
       "    <tr style=\"text-align: right;\">\n",
       "      <th></th>\n",
       "      <th>Prices</th>\n",
       "      <th>Annee_Modele</th>\n",
       "      <th>Kilometrage_min</th>\n",
       "      <th>Kilometrage_max</th>\n",
       "    </tr>\n",
       "  </thead>\n",
       "  <tbody>\n",
       "    <tr>\n",
       "      <th>Prices</th>\n",
       "      <td>1.000000</td>\n",
       "      <td>0.107901</td>\n",
       "      <td>-0.042152</td>\n",
       "      <td>-0.051436</td>\n",
       "    </tr>\n",
       "    <tr>\n",
       "      <th>Annee_Modele</th>\n",
       "      <td>0.107901</td>\n",
       "      <td>1.000000</td>\n",
       "      <td>-0.613870</td>\n",
       "      <td>-0.613634</td>\n",
       "    </tr>\n",
       "    <tr>\n",
       "      <th>Kilometrage_min</th>\n",
       "      <td>-0.042152</td>\n",
       "      <td>-0.613870</td>\n",
       "      <td>1.000000</td>\n",
       "      <td>0.993389</td>\n",
       "    </tr>\n",
       "    <tr>\n",
       "      <th>Kilometrage_max</th>\n",
       "      <td>-0.051436</td>\n",
       "      <td>-0.613634</td>\n",
       "      <td>0.993389</td>\n",
       "      <td>1.000000</td>\n",
       "    </tr>\n",
       "  </tbody>\n",
       "</table>\n",
       "</div>"
      ],
      "text/plain": [
       "                   Prices  Annee_Modele  Kilometrage_min  Kilometrage_max\n",
       "Prices           1.000000      0.107901        -0.042152        -0.051436\n",
       "Annee_Modele     0.107901      1.000000        -0.613870        -0.613634\n",
       "Kilometrage_min -0.042152     -0.613870         1.000000         0.993389\n",
       "Kilometrage_max -0.051436     -0.613634         0.993389         1.000000"
      ]
     },
     "execution_count": 362,
     "metadata": {},
     "output_type": "execute_result"
    }
   ],
   "source": [
    "# la correlation entre les variables \n",
    "data.corr()"
   ]
  },
  {
   "cell_type": "code",
   "execution_count": 363,
   "id": "51dee619",
   "metadata": {},
   "outputs": [
    {
     "name": "stderr",
     "output_type": "stream",
     "text": [
      "C:\\Users\\Admin\\AppData\\Local\\Temp\\ipykernel_972\\2653173729.py:2: FutureWarning:\n",
      "\n",
      "The default value of numeric_only in DataFrame.corr is deprecated. In a future version, it will default to False. Select only valid columns or specify the value of numeric_only to silence this warning.\n",
      "\n"
     ]
    },
    {
     "data": {
      "image/png": "[encoded data removed]",
      "text/plain": [
       "<Figure size 640x480 with 2 Axes>"
      ]
     },
     "metadata": {},
     "output_type": "display_data"
    }
   ],
   "source": [
    "import seaborn as sns\n",
    "sns.heatmap(data.corr().abs())\n",
    "plt.show()"
   ]
  },
  {
   "cell_type": "code",
   "execution_count": 364,
   "id": "529a2502",
   "metadata": {},
   "outputs": [],
   "source": [
    "import pandas as pd\n",
    "from sklearn.linear_model import LinearRegression\n",
    "from sklearn.model_selection import train_test_split\n",
    "from sklearn.metrics import r2_score\n",
    "from sklearn.ensemble import RandomForestRegressor\n",
    "from sklearn.metrics import mean_squared_error\n",
    "from sklearn.tree import DecisionTreeRegressor"
   ]
  },
  {
   "cell_type": "code",
   "execution_count": 365,
   "id": "5096ee17",
   "metadata": {},
   "outputs": [],
   "source": [
    "# séparer les variables explicatives (X) et la variable cible (y)  \n",
    "X = encoded_data.iloc[:, :-1].values\n",
    "y = encoded_data.Prices.values"
   ]
  },
  {
   "cell_type": "code",
   "execution_count": 367,
   "id": "f191fce6",
   "metadata": {},
   "outputs": [],
   "source": [
    "x_train, x_test, y_train, y_test = train_test_split(X, y, test_size=0.2, random_state=0)"
   ]
  },
  {
   "cell_type": "code",
   "execution_count": 368,
   "id": "ce46fdee",
   "metadata": {},
   "outputs": [],
   "source": [
    "# Création du model linéaire\n",
    "model = LinearRegression()"
   ]
  },
  {
   "cell_type": "code",
   "execution_count": 369,
   "id": "f0bf31ba",
   "metadata": {},
   "outputs": [
    {
     "data": {
      "text/html": [
       "<style>#sk-container-id-1 {color: black;}#sk-container-id-1 pre{padding: 0;}#sk-container-id-1 div.sk-toggleable {background-color: white;}#sk-container-id-1 label.sk-toggleable__label {cursor: pointer;display: block;width: 100%;margin-bottom: 0;padding: 0.3em;box-sizing: border-box;text-align: center;}#sk-container-id-1 label.sk-toggleable__label-arrow:before {content: \"▸\";float: left;margin-right: 0.25em;color: #696969;}#sk-container-id-1 label.sk-toggleable__label-arrow:hover:before {color: black;}#sk-container-id-1 div.sk-estimator:hover label.sk-toggleable__label-arrow:before {color: black;}#sk-container-id-1 div.sk-toggleable__content {max-height: 0;max-width: 0;overflow: hidden;text-align: left;background-color: #f0f8ff;}#sk-container-id-1 div.sk-toggleable__content pre {margin: 0.2em;color: black;border-radius: 0.25em;background-color: #f0f8ff;}#sk-container-id-1 input.sk-toggleable__control:checked~div.sk-toggleable__content {max-height: 200px;max-width: 100%;overflow: auto;}#sk-container-id-1 input.sk-toggleable__control:checked~label.sk-toggleable__label-arrow:before {content: \"▾\";}#sk-container-id-1 div.sk-estimator input.sk-toggleable__control:checked~label.sk-toggleable__label {background-color: #d4ebff;}#sk-container-id-1 div.sk-label input.sk-toggleable__control:checked~label.sk-toggleable__label {background-color: #d4ebff;}#sk-container-id-1 input.sk-hidden--visually {border: 0;clip: rect(1px 1px 1px 1px);clip: rect(1px, 1px, 1px, 1px);height: 1px;margin: -1px;overflow: hidden;padding: 0;position: absolute;width: 1px;}#sk-container-id-1 div.sk-estimator {font-family: monospace;background-color: #f0f8ff;border: 1px dotted black;border-radius: 0.25em;box-sizing: border-box;margin-bottom: 0.5em;}#sk-container-id-1 div.sk-estimator:hover {background-color: #d4ebff;}#sk-container-id-1 div.sk-parallel-item::after {content: \"\";width: 100%;border-bottom: 1px solid gray;flex-grow: 1;}#sk-container-id-1 div.sk-label:hover label.sk-toggleable__label {background-color: #d4ebff;}#sk-container-id-1 div.sk-serial::before {content: \"\";position: absolute;border-left: 1px solid gray;box-sizing: border-box;top: 0;bottom: 0;left: 50%;z-index: 0;}#sk-container-id-1 div.sk-serial {display: flex;flex-direction: column;align-items: center;background-color: white;padding-right: 0.2em;padding-left: 0.2em;position: relative;}#sk-container-id-1 div.sk-item {position: relative;z-index: 1;}#sk-container-id-1 div.sk-parallel {display: flex;align-items: stretch;justify-content: center;background-color: white;position: relative;}#sk-container-id-1 div.sk-item::before, #sk-container-id-1 div.sk-parallel-item::before {content: \"\";position: absolute;border-left: 1px solid gray;box-sizing: border-box;top: 0;bottom: 0;left: 50%;z-index: -1;}#sk-container-id-1 div.sk-parallel-item {display: flex;flex-direction: column;z-index: 1;position: relative;background-color: white;}#sk-container-id-1 div.sk-parallel-item:first-child::after {align-self: flex-end;width: 50%;}#sk-container-id-1 div.sk-parallel-item:last-child::after {align-self: flex-start;width: 50%;}#sk-container-id-1 div.sk-parallel-item:only-child::after {width: 0;}#sk-container-id-1 div.sk-dashed-wrapped {border: 1px dashed gray;margin: 0 0.4em 0.5em 0.4em;box-sizing: border-box;padding-bottom: 0.4em;background-color: white;}#sk-container-id-1 div.sk-label label {font-family: monospace;font-weight: bold;display: inline-block;line-height: 1.2em;}#sk-container-id-1 div.sk-label-container {text-align: center;}#sk-container-id-1 div.sk-container {/* jupyter's `normalize.less` sets `[hidden] { display: none; }` but bootstrap.min.css set `[hidden] { display: none !important; }` so we also need the `!important` here to be able to override the default hidden behavior on the sphinx rendered scikit-learn.org. See: https://github.com/scikit-learn/scikit-learn/issues/21755 */display: inline-block !important;position: relative;}#sk-container-id-1 div.sk-text-repr-fallback {display: none;}</style><div id=\"sk-container-id-1\" class=\"sk-top-container\"><div class=\"sk-text-repr-fallback\"><pre>LinearRegression()</pre><b>In a Jupyter environment, please rerun this cell to show the HTML representation or trust the notebook. <br />On GitHub, the HTML representation is unable to render, please try loading this page with nbviewer.org.</b></div><div class=\"sk-container\" hidden><div class=\"sk-item\"><div class=\"sk-estimator sk-toggleable\"><input class=\"sk-toggleable__control sk-hidden--visually\" id=\"sk-estimator-id-1\" type=\"checkbox\" checked><label for=\"sk-estimator-id-1\" class=\"sk-toggleable__label sk-toggleable__label-arrow\">LinearRegression</label><div class=\"sk-toggleable__content\"><pre>LinearRegression()</pre></div></div></div></div></div>"
      ],
      "text/plain": [
       "LinearRegression()"
      ]
     },
     "execution_count": 369,
     "metadata": {},
     "output_type": "execute_result"
    }
   ],
   "source": [
    "# entrainement du modéle\n",
    "model.fit(x_train, y_train)"
   ]
  },
  {
   "cell_type": "code",
   "execution_count": 370,
   "id": "52452df7",
   "metadata": {},
   "outputs": [],
   "source": [
    "# on test le modele avec les variable de text\n",
    "predictions = model.predict(x_test)"
   ]
  },
  {
   "cell_type": "code",
   "execution_count": 371,
   "id": "0fc70335",
   "metadata": {},
   "outputs": [
    {
     "name": "stdout",
     "output_type": "stream",
     "text": [
      "Le score r^2 pour la  Regression Linéaire est 1.0\n"
     ]
    }
   ],
   "source": [
    "lescore = r2_score(predictions, y_test)\n",
    "print('Le score r^2 pour la  Regression Linéaire est {}'.format(lescore))"
   ]
  },
  {
   "cell_type": "code",
   "execution_count": 374,
   "id": "7cc40ddf",
   "metadata": {},
   "outputs": [],
   "source": [
    "results = pd.concat([pd.Series(y_test), pd.Series(predictions)], axis=1)\n",
    "results.columns = ['y_test', 'predictions']"
   ]
  },
  {
   "cell_type": "code",
   "execution_count": 375,
   "id": "f9860395",
   "metadata": {},
   "outputs": [
    {
     "name": "stderr",
     "output_type": "stream",
     "text": [
      "C:\\Users\\Admin\\AppData\\Local\\Temp\\ipykernel_972\\1471412303.py:1: UserWarning:\n",
      "\n",
      "\n",
      "\n",
      "`distplot` is a deprecated function and will be removed in seaborn v0.14.0.\n",
      "\n",
      "Please adapt your code to use either `displot` (a figure-level function with\n",
      "similar flexibility) or `kdeplot` (an axes-level function for kernel density plots).\n",
      "\n",
      "For a guide to updating your code to use the new functions, please see\n",
      "https://gist.github.com/mwaskom/de44147ed2974457ad6372750bbe5751\n",
      "\n",
      "\n",
      "C:\\Users\\Admin\\AppData\\Local\\Temp\\ipykernel_972\\1471412303.py:2: UserWarning:\n",
      "\n",
      "\n",
      "\n",
      "`distplot` is a deprecated function and will be removed in seaborn v0.14.0.\n",
      "\n",
      "Please adapt your code to use either `displot` (a figure-level function with\n",
      "similar flexibility) or `kdeplot` (an axes-level function for kernel density plots).\n",
      "\n",
      "For a guide to updating your code to use the new functions, please see\n",
      "https://gist.github.com/mwaskom/de44147ed2974457ad6372750bbe5751\n",
      "\n",
      "\n"
     ]
    },
    {
     "data": {
      "image/png": "[encoded data removed]",
      "text/plain": [
       "<Figure size 640x480 with 1 Axes>"
      ]
     },
     "metadata": {},
     "output_type": "display_data"
    }
   ],
   "source": [
    "sns.distplot(predictions, hist=False, color='r', label='predit')\n",
    "sns.distplot(y_test, hist=False, color='b', label='prix actuel')\n",
    "plt.title(\"Regréssion linéaire\")\n",
    "plt.show()"
   ]
  },
  {
   "cell_type": "code",
   "execution_count": 376,
   "id": "38c30285",
   "metadata": {},
   "outputs": [],
   "source": [
    "# Création a random forest regression model\n",
    "model = RandomForestRegressor(n_estimators=100, random_state=42)"
   ]
  },
  {
   "cell_type": "code",
   "execution_count": 377,
   "id": "8037a086",
   "metadata": {},
   "outputs": [
    {
     "data": {
      "text/html": [
       "<style>#sk-container-id-2 {color: black;}#sk-container-id-2 pre{padding: 0;}#sk-container-id-2 div.sk-toggleable {background-color: white;}#sk-container-id-2 label.sk-toggleable__label {cursor: pointer;display: block;width: 100%;margin-bottom: 0;padding: 0.3em;box-sizing: border-box;text-align: center;}#sk-container-id-2 label.sk-toggleable__label-arrow:before {content: \"▸\";float: left;margin-right: 0.25em;color: #696969;}#sk-container-id-2 label.sk-toggleable__label-arrow:hover:before {color: black;}#sk-container-id-2 div.sk-estimator:hover label.sk-toggleable__label-arrow:before {color: black;}#sk-container-id-2 div.sk-toggleable__content {max-height: 0;max-width: 0;overflow: hidden;text-align: left;background-color: #f0f8ff;}#sk-container-id-2 div.sk-toggleable__content pre {margin: 0.2em;color: black;border-radius: 0.25em;background-color: #f0f8ff;}#sk-container-id-2 input.sk-toggleable__control:checked~div.sk-toggleable__content {max-height: 200px;max-width: 100%;overflow: auto;}#sk-container-id-2 input.sk-toggleable__control:checked~label.sk-toggleable__label-arrow:before {content: \"▾\";}#sk-container-id-2 div.sk-estimator input.sk-toggleable__control:checked~label.sk-toggleable__label {background-color: #d4ebff;}#sk-container-id-2 div.sk-label input.sk-toggleable__control:checked~label.sk-toggleable__label {background-color: #d4ebff;}#sk-container-id-2 input.sk-hidden--visually {border: 0;clip: rect(1px 1px 1px 1px);clip: rect(1px, 1px, 1px, 1px);height: 1px;margin: -1px;overflow: hidden;padding: 0;position: absolute;width: 1px;}#sk-container-id-2 div.sk-estimator {font-family: monospace;background-color: #f0f8ff;border: 1px dotted black;border-radius: 0.25em;box-sizing: border-box;margin-bottom: 0.5em;}#sk-container-id-2 div.sk-estimator:hover {background-color: #d4ebff;}#sk-container-id-2 div.sk-parallel-item::after {content: \"\";width: 100%;border-bottom: 1px solid gray;flex-grow: 1;}#sk-container-id-2 div.sk-label:hover label.sk-toggleable__label {background-color: #d4ebff;}#sk-container-id-2 div.sk-serial::before {content: \"\";position: absolute;border-left: 1px solid gray;box-sizing: border-box;top: 0;bottom: 0;left: 50%;z-index: 0;}#sk-container-id-2 div.sk-serial {display: flex;flex-direction: column;align-items: center;background-color: white;padding-right: 0.2em;padding-left: 0.2em;position: relative;}#sk-container-id-2 div.sk-item {position: relative;z-index: 1;}#sk-container-id-2 div.sk-parallel {display: flex;align-items: stretch;justify-content: center;background-color: white;position: relative;}#sk-container-id-2 div.sk-item::before, #sk-container-id-2 div.sk-parallel-item::before {content: \"\";position: absolute;border-left: 1px solid gray;box-sizing: border-box;top: 0;bottom: 0;left: 50%;z-index: -1;}#sk-container-id-2 div.sk-parallel-item {display: flex;flex-direction: column;z-index: 1;position: relative;background-color: white;}#sk-container-id-2 div.sk-parallel-item:first-child::after {align-self: flex-end;width: 50%;}#sk-container-id-2 div.sk-parallel-item:last-child::after {align-self: flex-start;width: 50%;}#sk-container-id-2 div.sk-parallel-item:only-child::after {width: 0;}#sk-container-id-2 div.sk-dashed-wrapped {border: 1px dashed gray;margin: 0 0.4em 0.5em 0.4em;box-sizing: border-box;padding-bottom: 0.4em;background-color: white;}#sk-container-id-2 div.sk-label label {font-family: monospace;font-weight: bold;display: inline-block;line-height: 1.2em;}#sk-container-id-2 div.sk-label-container {text-align: center;}#sk-container-id-2 div.sk-container {/* jupyter's `normalize.less` sets `[hidden] { display: none; }` but bootstrap.min.css set `[hidden] { display: none !important; }` so we also need the `!important` here to be able to override the default hidden behavior on the sphinx rendered scikit-learn.org. See: https://github.com/scikit-learn/scikit-learn/issues/21755 */display: inline-block !important;position: relative;}#sk-container-id-2 div.sk-text-repr-fallback {display: none;}</style><div id=\"sk-container-id-2\" class=\"sk-top-container\"><div class=\"sk-text-repr-fallback\"><pre>RandomForestRegressor(random_state=42)</pre><b>In a Jupyter environment, please rerun this cell to show the HTML representation or trust the notebook. <br />On GitHub, the HTML representation is unable to render, please try loading this page with nbviewer.org.</b></div><div class=\"sk-container\" hidden><div class=\"sk-item\"><div class=\"sk-estimator sk-toggleable\"><input class=\"sk-toggleable__control sk-hidden--visually\" id=\"sk-estimator-id-2\" type=\"checkbox\" checked><label for=\"sk-estimator-id-2\" class=\"sk-toggleable__label sk-toggleable__label-arrow\">RandomForestRegressor</label><div class=\"sk-toggleable__content\"><pre>RandomForestRegressor(random_state=42)</pre></div></div></div></div></div>"
      ],
      "text/plain": [
       "RandomForestRegressor(random_state=42)"
      ]
     },
     "execution_count": 377,
     "metadata": {},
     "output_type": "execute_result"
    }
   ],
   "source": [
    "#Entrainement du modéle\n",
    "model.fit(x_train, y_train)"
   ]
  },
  {
   "cell_type": "code",
   "execution_count": 378,
   "id": "1db0e206",
   "metadata": {},
   "outputs": [
    {
     "data": {
      "text/plain": [
       "array([149950.  , 147170.  , 158209.97, 342230.  , 322980.  , 437710.  ,\n",
       "       170180.  , 149980.  ,  75900.  , 155449.99, 343840.  , 298570.  ,\n",
       "        97120.  , 660320.  , 114960.  , 174740.  , 228710.  , 220000.  ,\n",
       "        96300.  , 119750.  , 162339.78, 162309.74, 313270.  , 172450.  ,\n",
       "       127400.  , 105410.  , 383250.  , 119660.  , 119570.  , 125180.  ,\n",
       "        35200.  ,  62480.  , 114970.  , 324270.  , 709430.  ,  71090.  ,\n",
       "       111880.  , 198390.  , 155469.99,  60510.  , 189160.  , 168029.95,\n",
       "       460800.  , 189180.  , 427650.  , 109970.  , 680650.  , 144780.  ,\n",
       "       548500.  , 373230.  , 185160.  , 240110.  , 457950.  , 122040.  ,\n",
       "       112570.  , 285090.  ,  38720.  , 138960.  , 122220.  , 149900.  ,\n",
       "       234980.  ])"
      ]
     },
     "execution_count": 378,
     "metadata": {},
     "output_type": "execute_result"
    }
   ],
   "source": [
    "#Création des prédictions\n",
    "predictions = model.predict(x_test)\n",
    "predictions"
   ]
  },
  {
   "cell_type": "code",
   "execution_count": 379,
   "id": "f5043277",
   "metadata": {},
   "outputs": [
    {
     "name": "stdout",
     "output_type": "stream",
     "text": [
      "Mean squared error: 35473047.46425574\n"
     ]
    }
   ],
   "source": [
    "#Évaluation du modèle avec l'erreur quadratique moyenne\n",
    "mse = mean_squared_error(y_test, predictions)\n",
    "print(\"Mean squared error:\", mse)"
   ]
  },
  {
   "cell_type": "code",
   "execution_count": 380,
   "id": "b330cf82",
   "metadata": {},
   "outputs": [
    {
     "name": "stdout",
     "output_type": "stream",
     "text": [
      "Le score r^2 pour la  Random Forest Regressor 0.9985304784766316\n"
     ]
    }
   ],
   "source": [
    "lescoreRFR = r2_score(predictions, y_test)\n",
    "print('Le score r^2 pour la  Random Forest Regressor {}'.format(lescoreRFR))"
   ]
  },
  {
   "cell_type": "code",
   "execution_count": 381,
   "id": "a51bb0c3",
   "metadata": {},
   "outputs": [
    {
     "data": {
      "text/html": [
       "<div>\n",
       "<style scoped>\n",
       "    .dataframe tbody tr th:only-of-type {\n",
       "        vertical-align: middle;\n",
       "    }\n",
       "\n",
       "    .dataframe tbody tr th {\n",
       "        vertical-align: top;\n",
       "    }\n",
       "\n",
       "    .dataframe thead th {\n",
       "        text-align: right;\n",
       "    }\n",
       "</style>\n",
       "<table border=\"1\" class=\"dataframe\">\n",
       "  <thead>\n",
       "    <tr style=\"text-align: right;\">\n",
       "      <th></th>\n",
       "      <th>y_test</th>\n",
       "      <th>predictions</th>\n",
       "    </tr>\n",
       "  </thead>\n",
       "  <tbody>\n",
       "    <tr>\n",
       "      <th>0</th>\n",
       "      <td>150000.0</td>\n",
       "      <td>149950.00</td>\n",
       "    </tr>\n",
       "    <tr>\n",
       "      <th>1</th>\n",
       "      <td>147000.0</td>\n",
       "      <td>147170.00</td>\n",
       "    </tr>\n",
       "    <tr>\n",
       "      <th>2</th>\n",
       "      <td>157000.0</td>\n",
       "      <td>158209.97</td>\n",
       "    </tr>\n",
       "    <tr>\n",
       "      <th>3</th>\n",
       "      <td>340000.0</td>\n",
       "      <td>342230.00</td>\n",
       "    </tr>\n",
       "    <tr>\n",
       "      <th>4</th>\n",
       "      <td>320000.0</td>\n",
       "      <td>322980.00</td>\n",
       "    </tr>\n",
       "    <tr>\n",
       "      <th>...</th>\n",
       "      <td>...</td>\n",
       "      <td>...</td>\n",
       "    </tr>\n",
       "    <tr>\n",
       "      <th>56</th>\n",
       "      <td>40000.0</td>\n",
       "      <td>38720.00</td>\n",
       "    </tr>\n",
       "    <tr>\n",
       "      <th>57</th>\n",
       "      <td>139000.0</td>\n",
       "      <td>138960.00</td>\n",
       "    </tr>\n",
       "    <tr>\n",
       "      <th>58</th>\n",
       "      <td>123000.0</td>\n",
       "      <td>122220.00</td>\n",
       "    </tr>\n",
       "    <tr>\n",
       "      <th>59</th>\n",
       "      <td>150000.0</td>\n",
       "      <td>149900.00</td>\n",
       "    </tr>\n",
       "    <tr>\n",
       "      <th>60</th>\n",
       "      <td>235000.0</td>\n",
       "      <td>234980.00</td>\n",
       "    </tr>\n",
       "  </tbody>\n",
       "</table>\n",
       "<p>61 rows × 2 columns</p>\n",
       "</div>"
      ],
      "text/plain": [
       "      y_test  predictions\n",
       "0   150000.0    149950.00\n",
       "1   147000.0    147170.00\n",
       "2   157000.0    158209.97\n",
       "3   340000.0    342230.00\n",
       "4   320000.0    322980.00\n",
       "..       ...          ...\n",
       "56   40000.0     38720.00\n",
       "57  139000.0    138960.00\n",
       "58  123000.0    122220.00\n",
       "59  150000.0    149900.00\n",
       "60  235000.0    234980.00\n",
       "\n",
       "[61 rows x 2 columns]"
      ]
     },
     "execution_count": 381,
     "metadata": {},
     "output_type": "execute_result"
    }
   ],
   "source": [
    "results = pd.concat([pd.Series(y_test), pd.Series(predictions)], axis=1)\n",
    "results.columns = ['y_test', 'predictions']\n",
    "results"
   ]
  },
  {
   "cell_type": "code",
   "execution_count": 382,
   "id": "94c034b5",
   "metadata": {},
   "outputs": [
    {
     "name": "stderr",
     "output_type": "stream",
     "text": [
      "C:\\Users\\Admin\\AppData\\Local\\Temp\\ipykernel_972\\1471412303.py:1: UserWarning:\n",
      "\n",
      "\n",
      "\n",
      "`distplot` is a deprecated function and will be removed in seaborn v0.14.0.\n",
      "\n",
      "Please adapt your code to use either `displot` (a figure-level function with\n",
      "similar flexibility) or `kdeplot` (an axes-level function for kernel density plots).\n",
      "\n",
      "For a guide to updating your code to use the new functions, please see\n",
      "https://gist.github.com/mwaskom/de44147ed2974457ad6372750bbe5751\n",
      "\n",
      "\n",
      "C:\\Users\\Admin\\AppData\\Local\\Temp\\ipykernel_972\\1471412303.py:2: UserWarning:\n",
      "\n",
      "\n",
      "\n",
      "`distplot` is a deprecated function and will be removed in seaborn v0.14.0.\n",
      "\n",
      "Please adapt your code to use either `displot` (a figure-level function with\n",
      "similar flexibility) or `kdeplot` (an axes-level function for kernel density plots).\n",
      "\n",
      "For a guide to updating your code to use the new functions, please see\n",
      "https://gist.github.com/mwaskom/de44147ed2974457ad6372750bbe5751\n",
      "\n",
      "\n"
     ]
    },
    {
     "data": {
      "image/png": "[encoded data removed]",
      "text/plain": [
       "<Figure size 640x480 with 1 Axes>"
      ]
     },
     "metadata": {},
     "output_type": "display_data"
    }
   ],
   "source": [
    "sns.distplot(predictions, hist=False, color='r', label='predit')\n",
    "sns.distplot(y_test, hist=False, color='b', label='prix actuel')\n",
    "plt.title(\"Regréssion linéaire\")\n",
    "plt.show()"
   ]
  },
  {
   "cell_type": "code",
   "execution_count": null,
   "id": "15e551e2",
   "metadata": {},
   "outputs": [],
   "source": []
  }
 ],
 "metadata": {
  "kernelspec": {
   "display_name": "Python 3 (ipykernel)",
   "language": "python",
   "name": "python3"
  },
  "language_info": {
   "codemirror_mode": {
    "name": "ipython",
    "version": 3
   },
   "file_extension": ".py",
   "mimetype": "text/x-python",
   "name": "python",
   "nbconvert_exporter": "python",
   "pygments_lexer": "ipython3",
   "version": "3.11.4"
  }
 },
 "nbformat": 4,
 "nbformat_minor": 5
}
